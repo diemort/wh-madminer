{
 "cells": [
  {
   "cell_type": "markdown",
   "metadata": {},
   "source": [
    "## Setup"
   ]
  },
  {
   "cell_type": "code",
   "execution_count": 1,
   "metadata": {},
   "outputs": [
    {
     "name": "stdout",
     "output_type": "stream",
     "text": [
      "MadMiner version: 0.4.10\n"
     ]
    }
   ],
   "source": [
    "import sys\n",
    "import os\n",
    "madminer_src_path = \"/home/shomiller/madminer\"\n",
    "sys.path.append(madminer_src_path)\n",
    "\n",
    "from __future__ import absolute_import, division, print_function, unicode_literals\n",
    "import logging\n",
    "\n",
    "import numpy as np\n",
    "import math\n",
    "import matplotlib\n",
    "from matplotlib import pyplot as plt\n",
    "from scipy.optimize import curve_fit\n",
    "% matplotlib inline\n",
    "from matplotlib.patches import Patch\n",
    "from matplotlib.lines import Line2D\n",
    "\n",
    "from madminer.fisherinformation import FisherInformation\n",
    "from madminer.fisherinformation import project_information, profile_information\n",
    "\n",
    "from madminer.sampling import SampleAugmenter\n",
    "\n",
    "from madminer.plotting import plot_distribution_of_information\n",
    "\n",
    "from pandas import DataFrame\n",
    "\n",
    "import madminer.__version__\n",
    "print( 'MadMiner version: {}'.format(madminer.__version__) )"
   ]
  },
  {
   "cell_type": "code",
   "execution_count": 2,
   "metadata": {
    "collapsed": true
   },
   "outputs": [],
   "source": [
    "# MadMiner output\n",
    "logging.basicConfig(\n",
    "    format='%(asctime)-5.5s %(name)-20.20s %(levelname)-7.7s %(message)s',\n",
    "    datefmt='%H:%M',\n",
    "    level=logging.INFO\n",
    ")\n",
    "\n",
    "# Output of all other modules (e.g. matplotlib)\n",
    "for key in logging.Logger.manager.loggerDict:\n",
    "    if \"madminer\" not in key:\n",
    "        logging.getLogger(key).setLevel(logging.WARNING)"
   ]
  },
  {
   "cell_type": "markdown",
   "metadata": {},
   "source": [
    "Formatting Options for Plotting"
   ]
  },
  {
   "cell_type": "code",
   "execution_count": 3,
   "metadata": {
    "collapsed": true
   },
   "outputs": [],
   "source": [
    "import matplotlib as mpl\n",
    "mpl.rcParams['text.usetex'] = True\n",
    "\n",
    "mpl.rcParams['figure.figsize'] = (8,6)\n",
    "mpl.rcParams['axes.labelsize'] = 20\n",
    "mpl.rcParams['xtick.labelsize'] = 16\n",
    "mpl.rcParams['ytick.labelsize'] = 16\n",
    "\n",
    "mpl.rcParams['font.size'] = 14\n",
    "mpl.rcParams['legend.fontsize'] = 14\n",
    "\n",
    "mpl.rcParams['font.family'] = 'serif'\n",
    "mpl.rcParams['font.style'] = 'normal'\n",
    "mpl.rcParams['font.serif'] = 'Times New Roman'\n",
    "\n",
    "mpl.rcParams['savefig.bbox'] = 'tight'\n",
    "\n",
    "mpl.rcParams['mathtext.fontset'] = 'cm'\n",
    "mpl.rcParams['axes.formatter.use_mathtext'] = True"
   ]
  },
  {
   "cell_type": "markdown",
   "metadata": {
    "heading_collapsed": true
   },
   "source": [
    "### Data Files:\n",
    "\n",
    "Saving the paths for all our lhe data files, for easy use later on.\n",
    "\n",
    "Note, lhedata are saved in the format:\n",
    "`data/{channel}_lhedata_{observables}.h5`\n",
    "while the `SALLY` models are saved in:\n",
    "`models/sally_ensemble_{channel}_{observables}/`\n",
    "\n",
    "here `channel` can be e.g, `wph_mu_wbkgs` or `wmh_e_wbkgs` (or take out the backgrounds for the background free runs), while `observables` can be `full`, `met`, `ptw` or `2d`"
   ]
  },
  {
   "cell_type": "markdown",
   "metadata": {
    "hidden": true
   },
   "source": [
    "#### Signal + Backgrounds"
   ]
  },
  {
   "cell_type": "code",
   "execution_count": 4,
   "metadata": {
    "collapsed": true,
    "hidden": true
   },
   "outputs": [],
   "source": [
    "lhedatafile_wph_mu_wbkgs_met = 'data/met/wph_mu_wbkgs_lhedata_met.h5'\n",
    "lhedatafile_wph_e_wbkgs_met = 'data/met/wph_e_wbkgs_lhedata_met.h5'\n",
    "lhedatafile_wmh_mu_wbkgs_met = 'data/met/wmh_mu_wbkgs_lhedata_met.h5'\n",
    "lhedatafile_wmh_e_wbkgs_met = 'data/met/wmh_e_wbkgs_lhedata_met.h5'"
   ]
  },
  {
   "cell_type": "markdown",
   "metadata": {
    "hidden": true
   },
   "source": [
    "#### Signal Only"
   ]
  },
  {
   "cell_type": "code",
   "execution_count": 5,
   "metadata": {
    "collapsed": true,
    "hidden": true
   },
   "outputs": [],
   "source": [
    "lhedatafile_wph_mu_met = 'data/met/signal/wph_mu_smeftsim_lhedata_met.h5'\n",
    "lhedatafile_wph_e_met = 'data/met/signal/wph_e_smeftsim_lhedata_met.h5'\n",
    "lhedatafile_wmh_mu_met = 'data/met/signal/wmh_mu_smeftsim_lhedata_met.h5'\n",
    "lhedatafile_wmh_e_met = 'data/met/signal/wmh_e_smeftsim_lhedata_met.h5'"
   ]
  },
  {
   "cell_type": "markdown",
   "metadata": {
    "hidden": true
   },
   "source": [
    "Set up Fisher Info objects to compute histograms of F.I. in each file."
   ]
  },
  {
   "cell_type": "markdown",
   "metadata": {
    "hidden": true
   },
   "source": [
    "#### F.I. in MET (Signal + Background)"
   ]
  },
  {
   "cell_type": "code",
   "execution_count": 6,
   "metadata": {
    "collapsed": true,
    "hidden": true
   },
   "outputs": [
    {
     "name": "stderr",
     "output_type": "stream",
     "text": [
      "20:26 madminer.analysis    INFO    Loading data from data/met/wph_mu_wbkgs_lhedata_met.h5\n",
      "20:26 madminer.analysis    INFO    Found 4 parameters\n",
      "20:26 madminer.analysis    INFO    Did not find nuisance parameters\n",
      "20:26 madminer.analysis    INFO    Found 15 benchmarks, of which 15 physical\n",
      "20:26 madminer.analysis    INFO    Found 48 observables\n",
      "20:26 madminer.analysis    INFO    Found 5000000 events\n",
      "20:26 madminer.analysis    INFO      1000000 signal events sampled from benchmark sm\n",
      "20:26 madminer.analysis    INFO      4000000 background events\n",
      "20:26 madminer.analysis    INFO    Found morphing setup with 15 components\n",
      "20:26 madminer.analysis    INFO    Did not find nuisance morphing setup\n",
      "20:26 madminer.analysis    INFO    Loading data from data/met/wph_e_wbkgs_lhedata_met.h5\n",
      "20:26 madminer.analysis    INFO    Found 4 parameters\n",
      "20:26 madminer.analysis    INFO    Did not find nuisance parameters\n",
      "20:26 madminer.analysis    INFO    Found 15 benchmarks, of which 15 physical\n",
      "20:26 madminer.analysis    INFO    Found 48 observables\n",
      "20:26 madminer.analysis    INFO    Found 5000000 events\n",
      "20:26 madminer.analysis    INFO      1000000 signal events sampled from benchmark sm\n",
      "20:26 madminer.analysis    INFO      4000000 background events\n",
      "20:26 madminer.analysis    INFO    Found morphing setup with 15 components\n",
      "20:26 madminer.analysis    INFO    Did not find nuisance morphing setup\n",
      "20:26 madminer.analysis    INFO    Loading data from data/met/wmh_mu_wbkgs_lhedata_met.h5\n",
      "20:26 madminer.analysis    INFO    Found 4 parameters\n",
      "20:26 madminer.analysis    INFO    Did not find nuisance parameters\n",
      "20:26 madminer.analysis    INFO    Found 15 benchmarks, of which 15 physical\n",
      "20:26 madminer.analysis    INFO    Found 48 observables\n",
      "20:26 madminer.analysis    INFO    Found 5000000 events\n",
      "20:26 madminer.analysis    INFO      1000000 signal events sampled from benchmark sm\n",
      "20:26 madminer.analysis    INFO      4000000 background events\n",
      "20:26 madminer.analysis    INFO    Found morphing setup with 15 components\n",
      "20:26 madminer.analysis    INFO    Did not find nuisance morphing setup\n",
      "20:26 madminer.analysis    INFO    Loading data from data/met/wmh_e_wbkgs_lhedata_met.h5\n",
      "20:26 madminer.analysis    INFO    Found 4 parameters\n",
      "20:26 madminer.analysis    INFO    Did not find nuisance parameters\n",
      "20:26 madminer.analysis    INFO    Found 15 benchmarks, of which 15 physical\n",
      "20:26 madminer.analysis    INFO    Found 48 observables\n",
      "20:26 madminer.analysis    INFO    Found 5000000 events\n",
      "20:26 madminer.analysis    INFO      1000000 signal events sampled from benchmark sm\n",
      "20:26 madminer.analysis    INFO      4000000 background events\n",
      "20:26 madminer.analysis    INFO    Found morphing setup with 15 components\n",
      "20:26 madminer.analysis    INFO    Did not find nuisance morphing setup\n"
     ]
    }
   ],
   "source": [
    "fisher_wph_mu_wbkgs_met = FisherInformation(lhedatafile_wph_mu_wbkgs_met, include_nuisance_parameters=False)\n",
    "\n",
    "fisher_wph_e_wbkgs_met = FisherInformation(lhedatafile_wph_e_wbkgs_met, include_nuisance_parameters=False)\n",
    "\n",
    "fisher_wmh_mu_wbkgs_met = FisherInformation(lhedatafile_wmh_mu_wbkgs_met, include_nuisance_parameters=False)\n",
    "\n",
    "fisher_wmh_e_wbkgs_met = FisherInformation(lhedatafile_wmh_e_wbkgs_met, include_nuisance_parameters=False)"
   ]
  },
  {
   "cell_type": "markdown",
   "metadata": {
    "hidden": true
   },
   "source": [
    "#### F.I. in MET info (Signal Only)"
   ]
  },
  {
   "cell_type": "code",
   "execution_count": 7,
   "metadata": {
    "collapsed": true,
    "hidden": true
   },
   "outputs": [
    {
     "name": "stderr",
     "output_type": "stream",
     "text": [
      "20:26 madminer.analysis    INFO    Loading data from data/met/signal/wph_mu_smeftsim_lhedata_met.h5\n",
      "20:26 madminer.analysis    INFO    Found 4 parameters\n",
      "20:26 madminer.analysis    INFO    Found 33 nuisance parameters\n",
      "20:26 madminer.analysis    INFO    Found 54 benchmarks, of which 15 physical\n",
      "20:26 madminer.analysis    INFO    Found 48 observables\n",
      "20:26 madminer.analysis    INFO    Found 1000000 events\n",
      "20:26 madminer.analysis    INFO      1000000 signal events sampled from benchmark sm\n",
      "20:26 madminer.analysis    INFO    Found morphing setup with 15 components\n",
      "20:26 madminer.analysis    INFO    Found nuisance morphing setup\n",
      "20:26 madminer.analysis    INFO    Loading data from data/met/signal/wph_e_smeftsim_lhedata_met.h5\n",
      "20:26 madminer.analysis    INFO    Found 4 parameters\n",
      "20:26 madminer.analysis    INFO    Found 33 nuisance parameters\n",
      "20:26 madminer.analysis    INFO    Found 54 benchmarks, of which 15 physical\n",
      "20:26 madminer.analysis    INFO    Found 48 observables\n",
      "20:26 madminer.analysis    INFO    Found 1000000 events\n",
      "20:26 madminer.analysis    INFO      1000000 signal events sampled from benchmark sm\n",
      "20:26 madminer.analysis    INFO    Found morphing setup with 15 components\n",
      "20:26 madminer.analysis    INFO    Found nuisance morphing setup\n",
      "20:26 madminer.analysis    INFO    Loading data from data/met/signal/wmh_mu_smeftsim_lhedata_met.h5\n",
      "20:26 madminer.analysis    INFO    Found 4 parameters\n",
      "20:26 madminer.analysis    INFO    Found 33 nuisance parameters\n",
      "20:26 madminer.analysis    INFO    Found 54 benchmarks, of which 15 physical\n",
      "20:26 madminer.analysis    INFO    Found 48 observables\n",
      "20:26 madminer.analysis    INFO    Found 1000000 events\n",
      "20:26 madminer.analysis    INFO      1000000 signal events sampled from benchmark sm\n",
      "20:26 madminer.analysis    INFO    Found morphing setup with 15 components\n",
      "20:26 madminer.analysis    INFO    Found nuisance morphing setup\n",
      "20:26 madminer.analysis    INFO    Loading data from data/met/signal/wmh_e_smeftsim_lhedata_met.h5\n",
      "20:26 madminer.analysis    INFO    Found 4 parameters\n",
      "20:26 madminer.analysis    INFO    Found 33 nuisance parameters\n",
      "20:26 madminer.analysis    INFO    Found 54 benchmarks, of which 15 physical\n",
      "20:26 madminer.analysis    INFO    Found 48 observables\n",
      "20:26 madminer.analysis    INFO    Found 1000000 events\n",
      "20:26 madminer.analysis    INFO      1000000 signal events sampled from benchmark sm\n",
      "20:26 madminer.analysis    INFO    Found morphing setup with 15 components\n",
      "20:26 madminer.analysis    INFO    Found nuisance morphing setup\n"
     ]
    }
   ],
   "source": [
    "fisher_wph_mu_met = FisherInformation(lhedatafile_wph_mu_met, include_nuisance_parameters=True)\n",
    "\n",
    "fisher_wph_e_met = FisherInformation(lhedatafile_wph_e_met, include_nuisance_parameters=True)\n",
    "\n",
    "fisher_wmh_mu_met = FisherInformation(lhedatafile_wmh_mu_met, include_nuisance_parameters=True)\n",
    "\n",
    "fisher_wmh_e_met = FisherInformation(lhedatafile_wmh_e_met, include_nuisance_parameters=True)"
   ]
  },
  {
   "cell_type": "markdown",
   "metadata": {
    "heading_collapsed": true
   },
   "source": [
    "## 1E. Rotating the Information"
   ]
  },
  {
   "cell_type": "markdown",
   "metadata": {
    "hidden": true
   },
   "source": [
    "The coefficients $c_{H\\square}$ and $c_{HD}$ always enter in the combination $(c_{H\\square} - \\frac{1}{4}c_{HD})$. This implies there is an inherent flat direction, along the axis $c_{H\\square} + 4 c_{HD}$. \n",
    "\n",
    "Before analyzing the information, we want to rotate to a basis where this flat direction is manifest. Then we can profile (or project -- the results should be approximately the same) out the flat direction easily and have a $3 \\times 3$ fisher information matrix to work with in the basis $c_{H\\square} - \\frac{1}{4} c_{HD}$, $c_{HW}$, and $c_{Hq}^{(3)}$."
   ]
  },
  {
   "cell_type": "markdown",
   "metadata": {
    "hidden": true
   },
   "source": [
    "### Function for Rotating:"
   ]
  },
  {
   "cell_type": "markdown",
   "metadata": {
    "hidden": true
   },
   "source": [
    "Function for rotating the fisher information, including the covariance matrix.\n",
    "\n",
    "By default, it takes the rotation angle to be `np.arctan(4)`, which rotates out the flat direction and leaves the direction $c_{H\\square} - \\frac{1}{4} c_{HD}$"
   ]
  },
  {
   "cell_type": "code",
   "execution_count": 8,
   "metadata": {
    "collapsed": true,
    "hidden": true
   },
   "outputs": [],
   "source": [
    "def rotate(\n",
    "    fisher_info, covariance=None, include_flat_direction=False, include_nuisance_params=False, rotation_angle=None, axis1=0, axis2=1,\n",
    "):\n",
    "\n",
    "    # specify an angle (default = arctan(4), which rotates out the flat direction in cHD and cHbox)\n",
    "    if rotation_angle == None:\n",
    "        this_angle = np.arctan(4)\n",
    "    else: \n",
    "        this_angle = rotation_angle\n",
    "    \n",
    "    #define the rotation matrix\n",
    "    dimension = len(fisher_info)\n",
    "    this_rotation_matrix = np.zeros((dimension, dimension))\n",
    "    np.fill_diagonal(this_rotation_matrix, 1)\n",
    "    this_rotation_matrix[axis1,axis1] = np.cos(this_angle)\n",
    "    this_rotation_matrix[axis1,axis2] = -1.*np.sin(this_angle)\n",
    "    this_rotation_matrix[axis2,axis1] =  1.*np.sin(this_angle)\n",
    "    this_rotation_matrix[axis2,axis2] = np.cos(this_angle)\n",
    "    \n",
    "    #get the rotated fisher information\n",
    "    rotated_fisher_info = np.einsum('ki,lj,kl->ij', this_rotation_matrix, this_rotation_matrix, fisher_info)\n",
    "    \n",
    "    #get the rotated covariance of the fisher information\n",
    "    if covariance is None:\n",
    "        rotated_covariance = covariance \n",
    "    else:\n",
    "        rotated_covariance = np.einsum('mi,nj,ok,pl,mnop->ijkl', \n",
    "                                this_rotation_matrix, this_rotation_matrix, this_rotation_matrix, this_rotation_matrix, covariance)\n",
    "\n",
    "    # If not desired, project out the nuisance parameters\n",
    "    if not include_nuisance_params:\n",
    "        if covariance is None:\n",
    "            rotated_fisher_info = project_information(rotated_fisher_info, [0,1,2,3])\n",
    "        else:\n",
    "            rotated_fisher_info, rotated_covariance = project_information(rotated_fisher_info, [0,1,2,3], covariance=rotated_covariance)\n",
    "        \n",
    "    #return either the three physical directions or include the flat direction\n",
    "    if include_flat_direction:\n",
    "        if covariance is None:\n",
    "            return rotated_fisher_info\n",
    "        else:\n",
    "            return rotated_fisher_info, rotated_covariance\n",
    "    else:\n",
    "        return project_information(rotated_fisher_info, np.arange(1,len(rotated_fisher_info)), covariance=rotated_covariance)"
   ]
  },
  {
   "cell_type": "markdown",
   "metadata": {},
   "source": [
    "# 4. Distributions of Information"
   ]
  },
  {
   "cell_type": "markdown",
   "metadata": {},
   "source": [
    "## 4A. Computing the Binned Information"
   ]
  },
  {
   "cell_type": "markdown",
   "metadata": {},
   "source": [
    "### Paths to Model Files"
   ]
  },
  {
   "cell_type": "code",
   "execution_count": 9,
   "metadata": {
    "collapsed": true
   },
   "outputs": [],
   "source": [
    "model_path_wph_mu = 'models/met/ensemble_wph_mu_wbkgs_sigsystonly_lhedata_met'\n",
    "model_path_wph_e = 'models/met/ensemble_wph_e_wbkgs_sigsystonly_lhedata_met'\n",
    "model_path_wmh_mu = 'models/met/ensemble_wmh_mu_wbkgs_sigsystonly_lhedata_met'\n",
    "model_path_wmh_e = 'models/met/ensemble_wmh_e_wbkgs_sigsystonly_lhedata_met'"
   ]
  },
  {
   "cell_type": "markdown",
   "metadata": {
    "heading_collapsed": true
   },
   "source": [
    "### $p_{T,W}$"
   ]
  },
  {
   "cell_type": "code",
   "execution_count": 13,
   "metadata": {
    "collapsed": true,
    "hidden": true
   },
   "outputs": [
    {
     "name": "stderr",
     "output_type": "stream",
     "text": [
      "16:53 madminer.ml          INFO    Found score ensemble with 5 estimators\n",
      "16:53 madminer.ml          INFO    Loading model from models/met/ensemble_wph_mu_wbkgs_sigsystonly_lhedata_met/estimator_0\n",
      "16:53 madminer.ml          INFO    Loading model from models/met/ensemble_wph_mu_wbkgs_sigsystonly_lhedata_met/estimator_1\n",
      "16:53 madminer.ml          INFO    Loading model from models/met/ensemble_wph_mu_wbkgs_sigsystonly_lhedata_met/estimator_2\n",
      "16:53 madminer.ml          INFO    Loading model from models/met/ensemble_wph_mu_wbkgs_sigsystonly_lhedata_met/estimator_3\n",
      "16:53 madminer.ml          INFO    Loading model from models/met/ensemble_wph_mu_wbkgs_sigsystonly_lhedata_met/estimator_4\n",
      "17:00 madminer.fisherinfor INFO    Evaluating kinematic Fisher information on batch 1 / 10\n",
      "17:00 madminer.ml          INFO    Starting score evaluation\n",
      "17:00 madminer.ml          INFO    Starting score evaluation\n",
      "17:00 madminer.ml          INFO    Starting score evaluation\n",
      "17:00 madminer.ml          INFO    Starting score evaluation\n",
      "17:00 madminer.ml          INFO    Starting score evaluation\n",
      "17:00 madminer.fisherinfor INFO    Evaluating kinematic Fisher information on batch 2 / 10\n",
      "17:00 madminer.ml          INFO    Starting score evaluation\n",
      "17:00 madminer.ml          INFO    Starting score evaluation\n",
      "17:00 madminer.ml          INFO    Starting score evaluation\n",
      "17:00 madminer.ml          INFO    Starting score evaluation\n",
      "17:00 madminer.ml          INFO    Starting score evaluation\n",
      "17:00 madminer.fisherinfor INFO    Evaluating kinematic Fisher information on batch 3 / 10\n",
      "17:00 madminer.ml          INFO    Starting score evaluation\n",
      "17:00 madminer.ml          INFO    Starting score evaluation\n",
      "17:00 madminer.ml          INFO    Starting score evaluation\n",
      "17:00 madminer.ml          INFO    Starting score evaluation\n",
      "17:00 madminer.ml          INFO    Starting score evaluation\n",
      "17:00 madminer.fisherinfor INFO    Evaluating kinematic Fisher information on batch 4 / 10\n",
      "17:00 madminer.ml          INFO    Starting score evaluation\n",
      "17:00 madminer.ml          INFO    Starting score evaluation\n",
      "17:00 madminer.ml          INFO    Starting score evaluation\n",
      "17:00 madminer.ml          INFO    Starting score evaluation\n",
      "17:01 madminer.ml          INFO    Starting score evaluation\n",
      "17:01 madminer.fisherinfor INFO    Evaluating kinematic Fisher information on batch 5 / 10\n",
      "17:01 madminer.ml          INFO    Starting score evaluation\n",
      "17:01 madminer.ml          INFO    Starting score evaluation\n",
      "17:01 madminer.ml          INFO    Starting score evaluation\n",
      "17:01 madminer.ml          INFO    Starting score evaluation\n",
      "17:01 madminer.ml          INFO    Starting score evaluation\n",
      "17:01 madminer.fisherinfor INFO    Evaluating kinematic Fisher information on batch 6 / 10\n",
      "17:01 madminer.ml          INFO    Starting score evaluation\n",
      "17:01 madminer.ml          INFO    Starting score evaluation\n",
      "17:01 madminer.ml          INFO    Starting score evaluation\n",
      "17:01 madminer.ml          INFO    Starting score evaluation\n",
      "17:01 madminer.ml          INFO    Starting score evaluation\n",
      "17:01 madminer.fisherinfor INFO    Evaluating kinematic Fisher information on batch 7 / 10\n",
      "17:01 madminer.ml          INFO    Starting score evaluation\n",
      "17:01 madminer.ml          INFO    Starting score evaluation\n",
      "17:01 madminer.ml          INFO    Starting score evaluation\n",
      "17:01 madminer.ml          INFO    Starting score evaluation\n",
      "17:01 madminer.ml          INFO    Starting score evaluation\n",
      "17:01 madminer.fisherinfor INFO    Evaluating kinematic Fisher information on batch 8 / 10\n",
      "17:01 madminer.ml          INFO    Starting score evaluation\n",
      "17:01 madminer.ml          INFO    Starting score evaluation\n",
      "17:01 madminer.ml          INFO    Starting score evaluation\n",
      "17:01 madminer.ml          INFO    Starting score evaluation\n",
      "17:01 madminer.ml          INFO    Starting score evaluation\n",
      "17:02 madminer.fisherinfor INFO    Evaluating kinematic Fisher information on batch 9 / 10\n",
      "17:02 madminer.ml          INFO    Starting score evaluation\n",
      "17:02 madminer.ml          INFO    Starting score evaluation\n",
      "17:02 madminer.ml          INFO    Starting score evaluation\n",
      "17:02 madminer.ml          INFO    Starting score evaluation\n",
      "17:02 madminer.ml          INFO    Starting score evaluation\n",
      "17:02 madminer.fisherinfor INFO    Evaluating kinematic Fisher information on batch 10 / 10\n",
      "17:02 madminer.ml          INFO    Starting score evaluation\n",
      "17:02 madminer.ml          INFO    Starting score evaluation\n",
      "17:02 madminer.ml          INFO    Starting score evaluation\n",
      "17:02 madminer.ml          INFO    Starting score evaluation\n",
      "17:02 madminer.ml          INFO    Starting score evaluation\n",
      "/home/shomiller/.conda/envs/my_root/lib/python2.7/site-packages/madminer-0.4.9-py2.7.egg/madminer/fisherinformation.py:1166: RuntimeWarning: divide by zero encountered in true_divide\n"
     ]
    }
   ],
   "source": [
    "bins_histo_wph_mu_ptw, w_in_histo_wph_mu_ptw, fi_histo_rate_wph_mu_ptw, fi_histo_wph_mu_ptw = fisher_wph_mu_wbkgs_met.histogram_of_fisher_information(\n",
    "    theta=[0.,0.,0.,0.],\n",
    "    luminosity=100*1000.,\n",
    "    observable='pt_w',\n",
    "    nbins=20,\n",
    "    histrange=(0,1000),\n",
    "    model_file=model_path_wph_mu,\n",
    ")"
   ]
  },
  {
   "cell_type": "code",
   "execution_count": 14,
   "metadata": {
    "collapsed": true,
    "hidden": true
   },
   "outputs": [
    {
     "name": "stderr",
     "output_type": "stream",
     "text": [
      "17:11 madminer.ml          INFO    Found score ensemble with 5 estimators\n",
      "17:11 madminer.ml          INFO    Loading model from models/met/ensemble_wph_e_wbkgs_sigsystonly_lhedata_met/estimator_0\n",
      "17:11 madminer.ml          INFO    Loading model from models/met/ensemble_wph_e_wbkgs_sigsystonly_lhedata_met/estimator_1\n",
      "17:11 madminer.ml          INFO    Loading model from models/met/ensemble_wph_e_wbkgs_sigsystonly_lhedata_met/estimator_2\n",
      "17:11 madminer.ml          INFO    Loading model from models/met/ensemble_wph_e_wbkgs_sigsystonly_lhedata_met/estimator_3\n",
      "17:11 madminer.ml          INFO    Loading model from models/met/ensemble_wph_e_wbkgs_sigsystonly_lhedata_met/estimator_4\n",
      "17:17 madminer.fisherinfor INFO    Evaluating kinematic Fisher information on batch 1 / 10\n",
      "17:17 madminer.ml          INFO    Starting score evaluation\n",
      "17:17 madminer.ml          INFO    Starting score evaluation\n",
      "17:17 madminer.ml          INFO    Starting score evaluation\n",
      "17:17 madminer.ml          INFO    Starting score evaluation\n",
      "17:17 madminer.ml          INFO    Starting score evaluation\n",
      "17:17 madminer.fisherinfor INFO    Evaluating kinematic Fisher information on batch 2 / 10\n",
      "17:17 madminer.ml          INFO    Starting score evaluation\n",
      "17:17 madminer.ml          INFO    Starting score evaluation\n",
      "17:17 madminer.ml          INFO    Starting score evaluation\n",
      "17:17 madminer.ml          INFO    Starting score evaluation\n",
      "17:17 madminer.ml          INFO    Starting score evaluation\n",
      "17:18 madminer.fisherinfor INFO    Evaluating kinematic Fisher information on batch 3 / 10\n",
      "17:18 madminer.ml          INFO    Starting score evaluation\n",
      "17:18 madminer.ml          INFO    Starting score evaluation\n",
      "17:18 madminer.ml          INFO    Starting score evaluation\n",
      "17:18 madminer.ml          INFO    Starting score evaluation\n",
      "17:18 madminer.ml          INFO    Starting score evaluation\n",
      "17:18 madminer.fisherinfor INFO    Evaluating kinematic Fisher information on batch 4 / 10\n",
      "17:18 madminer.ml          INFO    Starting score evaluation\n",
      "17:18 madminer.ml          INFO    Starting score evaluation\n",
      "17:18 madminer.ml          INFO    Starting score evaluation\n",
      "17:18 madminer.ml          INFO    Starting score evaluation\n",
      "17:18 madminer.ml          INFO    Starting score evaluation\n",
      "17:18 madminer.fisherinfor INFO    Evaluating kinematic Fisher information on batch 5 / 10\n",
      "17:18 madminer.ml          INFO    Starting score evaluation\n",
      "17:18 madminer.ml          INFO    Starting score evaluation\n",
      "17:18 madminer.ml          INFO    Starting score evaluation\n",
      "17:18 madminer.ml          INFO    Starting score evaluation\n",
      "17:18 madminer.ml          INFO    Starting score evaluation\n",
      "17:18 madminer.fisherinfor INFO    Evaluating kinematic Fisher information on batch 6 / 10\n",
      "17:18 madminer.ml          INFO    Starting score evaluation\n",
      "17:18 madminer.ml          INFO    Starting score evaluation\n",
      "17:18 madminer.ml          INFO    Starting score evaluation\n",
      "17:18 madminer.ml          INFO    Starting score evaluation\n",
      "17:18 madminer.ml          INFO    Starting score evaluation\n",
      "17:19 madminer.fisherinfor INFO    Evaluating kinematic Fisher information on batch 7 / 10\n",
      "17:19 madminer.ml          INFO    Starting score evaluation\n",
      "17:19 madminer.ml          INFO    Starting score evaluation\n",
      "17:19 madminer.ml          INFO    Starting score evaluation\n",
      "17:19 madminer.ml          INFO    Starting score evaluation\n",
      "17:19 madminer.ml          INFO    Starting score evaluation\n",
      "17:19 madminer.fisherinfor INFO    Evaluating kinematic Fisher information on batch 8 / 10\n",
      "17:19 madminer.ml          INFO    Starting score evaluation\n",
      "17:19 madminer.ml          INFO    Starting score evaluation\n",
      "17:19 madminer.ml          INFO    Starting score evaluation\n",
      "17:19 madminer.ml          INFO    Starting score evaluation\n",
      "17:19 madminer.ml          INFO    Starting score evaluation\n",
      "17:19 madminer.fisherinfor INFO    Evaluating kinematic Fisher information on batch 9 / 10\n",
      "17:19 madminer.ml          INFO    Starting score evaluation\n",
      "17:19 madminer.ml          INFO    Starting score evaluation\n",
      "17:19 madminer.ml          INFO    Starting score evaluation\n",
      "17:19 madminer.ml          INFO    Starting score evaluation\n",
      "17:19 madminer.ml          INFO    Starting score evaluation\n",
      "17:19 madminer.fisherinfor INFO    Evaluating kinematic Fisher information on batch 10 / 10\n",
      "17:19 madminer.ml          INFO    Starting score evaluation\n",
      "17:19 madminer.ml          INFO    Starting score evaluation\n",
      "17:19 madminer.ml          INFO    Starting score evaluation\n",
      "17:19 madminer.ml          INFO    Starting score evaluation\n",
      "17:19 madminer.ml          INFO    Starting score evaluation\n"
     ]
    }
   ],
   "source": [
    "bins_histo_wph_e_ptw, w_in_histo_wph_e_ptw, fi_histo_rate_wph_e_ptw, fi_histo_wph_e_ptw = fisher_wph_e_wbkgs_met.histogram_of_fisher_information(\n",
    "    theta=[0.,0.,0.,0.],\n",
    "    luminosity=100*1000.,\n",
    "    observable='pt_w',\n",
    "    nbins=20,\n",
    "    histrange=(0,1000),\n",
    "    model_file=model_path_wph_e,\n",
    ")"
   ]
  },
  {
   "cell_type": "code",
   "execution_count": 15,
   "metadata": {
    "collapsed": true,
    "hidden": true
   },
   "outputs": [
    {
     "name": "stderr",
     "output_type": "stream",
     "text": [
      "17:20 madminer.ml          INFO    Found score ensemble with 5 estimators\n",
      "17:20 madminer.ml          INFO    Loading model from models/met/ensemble_wmh_mu_wbkgs_sigsystonly_lhedata_met/estimator_0\n",
      "17:20 madminer.ml          INFO    Loading model from models/met/ensemble_wmh_mu_wbkgs_sigsystonly_lhedata_met/estimator_1\n",
      "17:20 madminer.ml          INFO    Loading model from models/met/ensemble_wmh_mu_wbkgs_sigsystonly_lhedata_met/estimator_2\n",
      "17:20 madminer.ml          INFO    Loading model from models/met/ensemble_wmh_mu_wbkgs_sigsystonly_lhedata_met/estimator_3\n",
      "17:20 madminer.ml          INFO    Loading model from models/met/ensemble_wmh_mu_wbkgs_sigsystonly_lhedata_met/estimator_4\n",
      "17:25 madminer.fisherinfor INFO    Evaluating kinematic Fisher information on batch 1 / 10\n",
      "17:25 madminer.ml          INFO    Starting score evaluation\n",
      "17:25 madminer.ml          INFO    Starting score evaluation\n",
      "17:25 madminer.ml          INFO    Starting score evaluation\n",
      "17:25 madminer.ml          INFO    Starting score evaluation\n",
      "17:25 madminer.ml          INFO    Starting score evaluation\n",
      "17:25 madminer.fisherinfor INFO    Evaluating kinematic Fisher information on batch 2 / 10\n",
      "17:25 madminer.ml          INFO    Starting score evaluation\n",
      "17:26 madminer.ml          INFO    Starting score evaluation\n",
      "17:26 madminer.ml          INFO    Starting score evaluation\n",
      "17:26 madminer.ml          INFO    Starting score evaluation\n",
      "17:26 madminer.ml          INFO    Starting score evaluation\n",
      "17:26 madminer.fisherinfor INFO    Evaluating kinematic Fisher information on batch 3 / 10\n",
      "17:26 madminer.ml          INFO    Starting score evaluation\n",
      "17:26 madminer.ml          INFO    Starting score evaluation\n",
      "17:26 madminer.ml          INFO    Starting score evaluation\n",
      "17:26 madminer.ml          INFO    Starting score evaluation\n",
      "17:26 madminer.ml          INFO    Starting score evaluation\n",
      "17:26 madminer.fisherinfor INFO    Evaluating kinematic Fisher information on batch 4 / 10\n",
      "17:26 madminer.ml          INFO    Starting score evaluation\n",
      "17:26 madminer.ml          INFO    Starting score evaluation\n",
      "17:26 madminer.ml          INFO    Starting score evaluation\n",
      "17:26 madminer.ml          INFO    Starting score evaluation\n",
      "17:26 madminer.ml          INFO    Starting score evaluation\n",
      "17:26 madminer.fisherinfor INFO    Evaluating kinematic Fisher information on batch 5 / 10\n",
      "17:26 madminer.ml          INFO    Starting score evaluation\n",
      "17:26 madminer.ml          INFO    Starting score evaluation\n",
      "17:26 madminer.ml          INFO    Starting score evaluation\n",
      "17:26 madminer.ml          INFO    Starting score evaluation\n",
      "17:26 madminer.ml          INFO    Starting score evaluation\n",
      "17:26 madminer.fisherinfor INFO    Evaluating kinematic Fisher information on batch 6 / 10\n",
      "17:26 madminer.ml          INFO    Starting score evaluation\n",
      "17:26 madminer.ml          INFO    Starting score evaluation\n",
      "17:26 madminer.ml          INFO    Starting score evaluation\n",
      "17:26 madminer.ml          INFO    Starting score evaluation\n",
      "17:26 madminer.ml          INFO    Starting score evaluation\n",
      "17:27 madminer.fisherinfor INFO    Evaluating kinematic Fisher information on batch 7 / 10\n",
      "17:27 madminer.ml          INFO    Starting score evaluation\n",
      "17:27 madminer.ml          INFO    Starting score evaluation\n",
      "17:27 madminer.ml          INFO    Starting score evaluation\n",
      "17:27 madminer.ml          INFO    Starting score evaluation\n",
      "17:27 madminer.ml          INFO    Starting score evaluation\n",
      "17:27 madminer.fisherinfor INFO    Evaluating kinematic Fisher information on batch 8 / 10\n",
      "17:27 madminer.ml          INFO    Starting score evaluation\n",
      "17:27 madminer.ml          INFO    Starting score evaluation\n",
      "17:27 madminer.ml          INFO    Starting score evaluation\n",
      "17:27 madminer.ml          INFO    Starting score evaluation\n",
      "17:27 madminer.ml          INFO    Starting score evaluation\n",
      "17:27 madminer.fisherinfor INFO    Evaluating kinematic Fisher information on batch 9 / 10\n",
      "17:27 madminer.ml          INFO    Starting score evaluation\n",
      "17:27 madminer.ml          INFO    Starting score evaluation\n",
      "17:27 madminer.ml          INFO    Starting score evaluation\n",
      "17:27 madminer.ml          INFO    Starting score evaluation\n",
      "17:27 madminer.ml          INFO    Starting score evaluation\n",
      "17:27 madminer.fisherinfor INFO    Evaluating kinematic Fisher information on batch 10 / 10\n",
      "17:27 madminer.ml          INFO    Starting score evaluation\n",
      "17:27 madminer.ml          INFO    Starting score evaluation\n",
      "17:27 madminer.ml          INFO    Starting score evaluation\n",
      "17:27 madminer.ml          INFO    Starting score evaluation\n",
      "17:27 madminer.ml          INFO    Starting score evaluation\n"
     ]
    }
   ],
   "source": [
    "bins_histo_wmh_mu_ptw, w_in_histo_wmh_mu_ptw, fi_histo_rate_wmh_mu_ptw, fi_histo_wmh_mu_ptw = fisher_wmh_mu_wbkgs_met.histogram_of_fisher_information(\n",
    "    theta=[0.,0.,0.,0.],\n",
    "    luminosity=100*1000.,\n",
    "    observable='pt_w',\n",
    "    nbins=20,\n",
    "    histrange=(0,1000),\n",
    "    model_file=model_path_wmh_mu,\n",
    ")"
   ]
  },
  {
   "cell_type": "code",
   "execution_count": 16,
   "metadata": {
    "collapsed": true,
    "hidden": true
   },
   "outputs": [
    {
     "name": "stderr",
     "output_type": "stream",
     "text": [
      "17:27 madminer.ml          INFO    Found score ensemble with 5 estimators\n",
      "17:27 madminer.ml          INFO    Loading model from models/met/ensemble_wmh_e_wbkgs_sigsystonly_lhedata_met/estimator_0\n",
      "17:27 madminer.ml          INFO    Loading model from models/met/ensemble_wmh_e_wbkgs_sigsystonly_lhedata_met/estimator_1\n",
      "17:27 madminer.ml          INFO    Loading model from models/met/ensemble_wmh_e_wbkgs_sigsystonly_lhedata_met/estimator_2\n",
      "17:27 madminer.ml          INFO    Loading model from models/met/ensemble_wmh_e_wbkgs_sigsystonly_lhedata_met/estimator_3\n",
      "17:27 madminer.ml          INFO    Loading model from models/met/ensemble_wmh_e_wbkgs_sigsystonly_lhedata_met/estimator_4\n",
      "17:33 madminer.fisherinfor INFO    Evaluating kinematic Fisher information on batch 1 / 10\n",
      "17:33 madminer.ml          INFO    Starting score evaluation\n",
      "17:33 madminer.ml          INFO    Starting score evaluation\n",
      "17:33 madminer.ml          INFO    Starting score evaluation\n",
      "17:33 madminer.ml          INFO    Starting score evaluation\n",
      "17:33 madminer.ml          INFO    Starting score evaluation\n",
      "17:33 madminer.fisherinfor INFO    Evaluating kinematic Fisher information on batch 2 / 10\n",
      "17:33 madminer.ml          INFO    Starting score evaluation\n",
      "17:33 madminer.ml          INFO    Starting score evaluation\n",
      "17:33 madminer.ml          INFO    Starting score evaluation\n",
      "17:33 madminer.ml          INFO    Starting score evaluation\n",
      "17:33 madminer.ml          INFO    Starting score evaluation\n",
      "17:33 madminer.fisherinfor INFO    Evaluating kinematic Fisher information on batch 3 / 10\n",
      "17:33 madminer.ml          INFO    Starting score evaluation\n",
      "17:33 madminer.ml          INFO    Starting score evaluation\n",
      "17:33 madminer.ml          INFO    Starting score evaluation\n",
      "17:33 madminer.ml          INFO    Starting score evaluation\n",
      "17:33 madminer.ml          INFO    Starting score evaluation\n",
      "17:33 madminer.fisherinfor INFO    Evaluating kinematic Fisher information on batch 4 / 10\n",
      "17:33 madminer.ml          INFO    Starting score evaluation\n",
      "17:33 madminer.ml          INFO    Starting score evaluation\n",
      "17:33 madminer.ml          INFO    Starting score evaluation\n",
      "17:33 madminer.ml          INFO    Starting score evaluation\n",
      "17:33 madminer.ml          INFO    Starting score evaluation\n",
      "17:34 madminer.fisherinfor INFO    Evaluating kinematic Fisher information on batch 5 / 10\n",
      "17:34 madminer.ml          INFO    Starting score evaluation\n",
      "17:34 madminer.ml          INFO    Starting score evaluation\n",
      "17:34 madminer.ml          INFO    Starting score evaluation\n",
      "17:34 madminer.ml          INFO    Starting score evaluation\n",
      "17:34 madminer.ml          INFO    Starting score evaluation\n",
      "17:34 madminer.fisherinfor INFO    Evaluating kinematic Fisher information on batch 6 / 10\n",
      "17:34 madminer.ml          INFO    Starting score evaluation\n",
      "17:34 madminer.ml          INFO    Starting score evaluation\n",
      "17:34 madminer.ml          INFO    Starting score evaluation\n",
      "17:34 madminer.ml          INFO    Starting score evaluation\n",
      "17:34 madminer.ml          INFO    Starting score evaluation\n",
      "17:34 madminer.fisherinfor INFO    Evaluating kinematic Fisher information on batch 7 / 10\n",
      "17:34 madminer.ml          INFO    Starting score evaluation\n",
      "17:34 madminer.ml          INFO    Starting score evaluation\n",
      "17:34 madminer.ml          INFO    Starting score evaluation\n",
      "17:34 madminer.ml          INFO    Starting score evaluation\n",
      "17:34 madminer.ml          INFO    Starting score evaluation\n",
      "17:34 madminer.fisherinfor INFO    Evaluating kinematic Fisher information on batch 8 / 10\n",
      "17:34 madminer.ml          INFO    Starting score evaluation\n",
      "17:34 madminer.ml          INFO    Starting score evaluation\n",
      "17:34 madminer.ml          INFO    Starting score evaluation\n",
      "17:34 madminer.ml          INFO    Starting score evaluation\n",
      "17:34 madminer.ml          INFO    Starting score evaluation\n",
      "17:34 madminer.fisherinfor INFO    Evaluating kinematic Fisher information on batch 9 / 10\n",
      "17:34 madminer.ml          INFO    Starting score evaluation\n",
      "17:35 madminer.ml          INFO    Starting score evaluation\n",
      "17:35 madminer.ml          INFO    Starting score evaluation\n",
      "17:35 madminer.ml          INFO    Starting score evaluation\n",
      "17:35 madminer.ml          INFO    Starting score evaluation\n",
      "17:35 madminer.fisherinfor INFO    Evaluating kinematic Fisher information on batch 10 / 10\n",
      "17:35 madminer.ml          INFO    Starting score evaluation\n",
      "17:35 madminer.ml          INFO    Starting score evaluation\n",
      "17:35 madminer.ml          INFO    Starting score evaluation\n",
      "17:35 madminer.ml          INFO    Starting score evaluation\n",
      "17:35 madminer.ml          INFO    Starting score evaluation\n"
     ]
    }
   ],
   "source": [
    "bins_histo_wmh_e_ptw, w_in_histo_wmh_e_ptw, fi_histo_rate_wmh_e_ptw, fi_histo_wmh_e_ptw = fisher_wmh_e_wbkgs_met.histogram_of_fisher_information(\n",
    "    theta=[0.,0.,0.,0.],\n",
    "    luminosity=100*1000.,\n",
    "    observable='pt_w',\n",
    "    nbins=20,\n",
    "    histrange=(0,1000),\n",
    "    model_file=model_path_wmh_e,\n",
    ")"
   ]
  },
  {
   "cell_type": "code",
   "execution_count": 17,
   "metadata": {
    "collapsed": true,
    "hidden": true
   },
   "outputs": [],
   "source": [
    "fi_histo_ptw_outfile = './fisher_info/dists/fi_histo_ptw.npz'\n",
    "\n",
    "fi_histo_ptw_list = [\n",
    "    bins_histo_wph_mu_ptw,\n",
    "    w_in_histo_wph_mu_ptw,\n",
    "    fi_histo_rate_wph_mu_ptw,\n",
    "    fi_histo_wph_mu_ptw,\n",
    "    bins_histo_wph_e_ptw,\n",
    "    w_in_histo_wph_e_ptw,\n",
    "    fi_histo_rate_wph_e_ptw,\n",
    "    fi_histo_wph_e_ptw,\n",
    "    bins_histo_wmh_mu_ptw,\n",
    "    w_in_histo_wmh_mu_ptw,\n",
    "    fi_histo_rate_wmh_mu_ptw,\n",
    "    fi_histo_wmh_mu_ptw,\n",
    "    bins_histo_wmh_e_ptw,\n",
    "    w_in_histo_wmh_e_ptw,\n",
    "    fi_histo_rate_wmh_e_ptw,\n",
    "    fi_histo_wmh_e_ptw,\n",
    "]"
   ]
  },
  {
   "cell_type": "code",
   "execution_count": 18,
   "metadata": {
    "collapsed": true,
    "hidden": true
   },
   "outputs": [],
   "source": [
    "np.savez(fi_histo_ptw_outfile, fi_histo_ptw_list, allow_pickle=False)"
   ]
  },
  {
   "cell_type": "code",
   "execution_count": 19,
   "metadata": {
    "collapsed": true,
    "hidden": true
   },
   "outputs": [],
   "source": [
    "fi_histo_rate_ptw = [ fi_histo_rate_wph_mu_ptw[i]\n",
    "                     + fi_histo_rate_wph_e_ptw[i] \n",
    "                     + fi_histo_rate_wmh_mu_ptw[i] \n",
    "                     + fi_histo_rate_wmh_e_ptw[i] \n",
    "                     for i in range(0, len(fi_histo_rate_wph_mu_ptw)) ]\n",
    "\n",
    "fi_histo_ptw = [ fi_histo_wph_mu_ptw[i]\n",
    "                     + fi_histo_wph_e_ptw[i] \n",
    "                     + fi_histo_wmh_mu_ptw[i] \n",
    "                     + fi_histo_wmh_e_ptw[i] \n",
    "                     for i in range(0, len(fi_histo_wph_mu_ptw)) ]\n",
    "\n",
    "fi_histo_rate_ptw_rot = [ rotate(fi_histo_rate_ptw[i]) for i in range(0, len(fi_histo_rate_ptw)) ]\n",
    "fi_histo_ptw_rot = [ rotate(fi_histo_ptw[i]) for i in range(0, len(fi_histo_ptw)) ]"
   ]
  },
  {
   "cell_type": "markdown",
   "metadata": {},
   "source": [
    "### $m_{T,\\mathrm{tot}}$"
   ]
  },
  {
   "cell_type": "code",
   "execution_count": 29,
   "metadata": {
    "collapsed": true
   },
   "outputs": [
    {
     "name": "stderr",
     "output_type": "stream",
     "text": [
      "17:39 madminer.ml          INFO    Found score ensemble with 5 estimators\n",
      "17:39 madminer.ml          INFO    Loading model from models/met/ensemble_wph_mu_wbkgs_sigsystonly_lhedata_met/estimator_0\n",
      "17:39 madminer.ml          INFO    Loading model from models/met/ensemble_wph_mu_wbkgs_sigsystonly_lhedata_met/estimator_1\n",
      "17:39 madminer.ml          INFO    Loading model from models/met/ensemble_wph_mu_wbkgs_sigsystonly_lhedata_met/estimator_2\n",
      "17:39 madminer.ml          INFO    Loading model from models/met/ensemble_wph_mu_wbkgs_sigsystonly_lhedata_met/estimator_3\n",
      "17:39 madminer.ml          INFO    Loading model from models/met/ensemble_wph_mu_wbkgs_sigsystonly_lhedata_met/estimator_4\n",
      "17:45 madminer.fisherinfor INFO    Evaluating kinematic Fisher information on batch 1 / 10\n",
      "17:45 madminer.ml          INFO    Starting score evaluation\n",
      "17:45 madminer.ml          INFO    Starting score evaluation\n",
      "17:45 madminer.ml          INFO    Starting score evaluation\n",
      "17:45 madminer.ml          INFO    Starting score evaluation\n",
      "17:45 madminer.ml          INFO    Starting score evaluation\n",
      "17:45 madminer.fisherinfor INFO    Evaluating kinematic Fisher information on batch 2 / 10\n",
      "17:45 madminer.ml          INFO    Starting score evaluation\n",
      "17:45 madminer.ml          INFO    Starting score evaluation\n",
      "17:45 madminer.ml          INFO    Starting score evaluation\n",
      "17:45 madminer.ml          INFO    Starting score evaluation\n",
      "17:45 madminer.ml          INFO    Starting score evaluation\n",
      "17:45 madminer.fisherinfor INFO    Evaluating kinematic Fisher information on batch 3 / 10\n",
      "17:45 madminer.ml          INFO    Starting score evaluation\n",
      "17:46 madminer.ml          INFO    Starting score evaluation\n",
      "17:46 madminer.ml          INFO    Starting score evaluation\n",
      "17:46 madminer.ml          INFO    Starting score evaluation\n",
      "17:46 madminer.ml          INFO    Starting score evaluation\n",
      "17:46 madminer.fisherinfor INFO    Evaluating kinematic Fisher information on batch 4 / 10\n",
      "17:46 madminer.ml          INFO    Starting score evaluation\n",
      "17:46 madminer.ml          INFO    Starting score evaluation\n",
      "17:46 madminer.ml          INFO    Starting score evaluation\n",
      "17:46 madminer.ml          INFO    Starting score evaluation\n",
      "17:46 madminer.ml          INFO    Starting score evaluation\n",
      "17:46 madminer.fisherinfor INFO    Evaluating kinematic Fisher information on batch 5 / 10\n",
      "17:46 madminer.ml          INFO    Starting score evaluation\n",
      "17:46 madminer.ml          INFO    Starting score evaluation\n",
      "17:46 madminer.ml          INFO    Starting score evaluation\n",
      "17:46 madminer.ml          INFO    Starting score evaluation\n",
      "17:46 madminer.ml          INFO    Starting score evaluation\n",
      "17:46 madminer.fisherinfor INFO    Evaluating kinematic Fisher information on batch 6 / 10\n",
      "17:46 madminer.ml          INFO    Starting score evaluation\n",
      "17:46 madminer.ml          INFO    Starting score evaluation\n",
      "17:46 madminer.ml          INFO    Starting score evaluation\n",
      "17:46 madminer.ml          INFO    Starting score evaluation\n",
      "17:46 madminer.ml          INFO    Starting score evaluation\n",
      "17:46 madminer.fisherinfor INFO    Evaluating kinematic Fisher information on batch 7 / 10\n",
      "17:46 madminer.ml          INFO    Starting score evaluation\n",
      "17:46 madminer.ml          INFO    Starting score evaluation\n",
      "17:46 madminer.ml          INFO    Starting score evaluation\n",
      "17:46 madminer.ml          INFO    Starting score evaluation\n",
      "17:46 madminer.ml          INFO    Starting score evaluation\n",
      "17:47 madminer.fisherinfor INFO    Evaluating kinematic Fisher information on batch 8 / 10\n",
      "17:47 madminer.ml          INFO    Starting score evaluation\n",
      "17:47 madminer.ml          INFO    Starting score evaluation\n",
      "17:47 madminer.ml          INFO    Starting score evaluation\n",
      "17:47 madminer.ml          INFO    Starting score evaluation\n",
      "17:47 madminer.ml          INFO    Starting score evaluation\n",
      "17:47 madminer.fisherinfor INFO    Evaluating kinematic Fisher information on batch 9 / 10\n",
      "17:47 madminer.ml          INFO    Starting score evaluation\n",
      "17:47 madminer.ml          INFO    Starting score evaluation\n",
      "17:47 madminer.ml          INFO    Starting score evaluation\n",
      "17:47 madminer.ml          INFO    Starting score evaluation\n",
      "17:47 madminer.ml          INFO    Starting score evaluation\n",
      "17:47 madminer.fisherinfor INFO    Evaluating kinematic Fisher information on batch 10 / 10\n",
      "17:47 madminer.ml          INFO    Starting score evaluation\n",
      "17:47 madminer.ml          INFO    Starting score evaluation\n",
      "17:47 madminer.ml          INFO    Starting score evaluation\n",
      "17:47 madminer.ml          INFO    Starting score evaluation\n",
      "17:47 madminer.ml          INFO    Starting score evaluation\n"
     ]
    }
   ],
   "source": [
    "bins_histo_wph_mu_mttot, w_in_histo_wph_mu_mttot, fi_histo_rate_wph_mu_mttot, fi_histo_wph_mu_mttot = fisher_wph_mu_wbkgs_met.histogram_of_fisher_information(\n",
    "    theta=[0.,0.,0.,0.],\n",
    "    luminosity=100*1000.,\n",
    "    observable='mt_tot',\n",
    "    nbins=20,\n",
    "    histrange=(200,2200),\n",
    "    model_file=model_path_wph_mu,\n",
    ")"
   ]
  },
  {
   "cell_type": "code",
   "execution_count": 30,
   "metadata": {
    "collapsed": true
   },
   "outputs": [
    {
     "name": "stderr",
     "output_type": "stream",
     "text": [
      "17:47 madminer.ml          INFO    Found score ensemble with 5 estimators\n",
      "17:47 madminer.ml          INFO    Loading model from models/met/ensemble_wph_e_wbkgs_sigsystonly_lhedata_met/estimator_0\n",
      "17:47 madminer.ml          INFO    Loading model from models/met/ensemble_wph_e_wbkgs_sigsystonly_lhedata_met/estimator_1\n",
      "17:47 madminer.ml          INFO    Loading model from models/met/ensemble_wph_e_wbkgs_sigsystonly_lhedata_met/estimator_2\n",
      "17:47 madminer.ml          INFO    Loading model from models/met/ensemble_wph_e_wbkgs_sigsystonly_lhedata_met/estimator_3\n",
      "17:47 madminer.ml          INFO    Loading model from models/met/ensemble_wph_e_wbkgs_sigsystonly_lhedata_met/estimator_4\n",
      "17:53 madminer.fisherinfor INFO    Evaluating kinematic Fisher information on batch 1 / 10\n",
      "17:53 madminer.ml          INFO    Starting score evaluation\n",
      "17:53 madminer.ml          INFO    Starting score evaluation\n",
      "17:53 madminer.ml          INFO    Starting score evaluation\n",
      "17:53 madminer.ml          INFO    Starting score evaluation\n",
      "17:53 madminer.ml          INFO    Starting score evaluation\n",
      "17:53 madminer.fisherinfor INFO    Evaluating kinematic Fisher information on batch 2 / 10\n",
      "17:53 madminer.ml          INFO    Starting score evaluation\n",
      "17:53 madminer.ml          INFO    Starting score evaluation\n",
      "17:53 madminer.ml          INFO    Starting score evaluation\n",
      "17:53 madminer.ml          INFO    Starting score evaluation\n",
      "17:53 madminer.ml          INFO    Starting score evaluation\n",
      "17:53 madminer.fisherinfor INFO    Evaluating kinematic Fisher information on batch 3 / 10\n",
      "17:54 madminer.ml          INFO    Starting score evaluation\n",
      "17:54 madminer.ml          INFO    Starting score evaluation\n",
      "17:54 madminer.ml          INFO    Starting score evaluation\n",
      "17:54 madminer.ml          INFO    Starting score evaluation\n",
      "17:54 madminer.ml          INFO    Starting score evaluation\n",
      "17:54 madminer.fisherinfor INFO    Evaluating kinematic Fisher information on batch 4 / 10\n",
      "17:54 madminer.ml          INFO    Starting score evaluation\n",
      "17:54 madminer.ml          INFO    Starting score evaluation\n",
      "17:54 madminer.ml          INFO    Starting score evaluation\n",
      "17:54 madminer.ml          INFO    Starting score evaluation\n",
      "17:54 madminer.ml          INFO    Starting score evaluation\n",
      "17:54 madminer.fisherinfor INFO    Evaluating kinematic Fisher information on batch 5 / 10\n",
      "17:54 madminer.ml          INFO    Starting score evaluation\n",
      "17:54 madminer.ml          INFO    Starting score evaluation\n",
      "17:54 madminer.ml          INFO    Starting score evaluation\n",
      "17:54 madminer.ml          INFO    Starting score evaluation\n",
      "17:54 madminer.ml          INFO    Starting score evaluation\n",
      "17:54 madminer.fisherinfor INFO    Evaluating kinematic Fisher information on batch 6 / 10\n",
      "17:54 madminer.ml          INFO    Starting score evaluation\n",
      "17:54 madminer.ml          INFO    Starting score evaluation\n",
      "17:54 madminer.ml          INFO    Starting score evaluation\n",
      "17:54 madminer.ml          INFO    Starting score evaluation\n",
      "17:54 madminer.ml          INFO    Starting score evaluation\n",
      "17:54 madminer.fisherinfor INFO    Evaluating kinematic Fisher information on batch 7 / 10\n",
      "17:54 madminer.ml          INFO    Starting score evaluation\n",
      "17:54 madminer.ml          INFO    Starting score evaluation\n",
      "17:54 madminer.ml          INFO    Starting score evaluation\n",
      "17:54 madminer.ml          INFO    Starting score evaluation\n",
      "17:54 madminer.ml          INFO    Starting score evaluation\n",
      "17:55 madminer.fisherinfor INFO    Evaluating kinematic Fisher information on batch 8 / 10\n",
      "17:55 madminer.ml          INFO    Starting score evaluation\n",
      "17:55 madminer.ml          INFO    Starting score evaluation\n",
      "17:55 madminer.ml          INFO    Starting score evaluation\n",
      "17:55 madminer.ml          INFO    Starting score evaluation\n",
      "17:55 madminer.ml          INFO    Starting score evaluation\n",
      "17:55 madminer.fisherinfor INFO    Evaluating kinematic Fisher information on batch 9 / 10\n",
      "17:55 madminer.ml          INFO    Starting score evaluation\n",
      "17:55 madminer.ml          INFO    Starting score evaluation\n",
      "17:55 madminer.ml          INFO    Starting score evaluation\n",
      "17:55 madminer.ml          INFO    Starting score evaluation\n",
      "17:55 madminer.ml          INFO    Starting score evaluation\n",
      "17:55 madminer.fisherinfor INFO    Evaluating kinematic Fisher information on batch 10 / 10\n",
      "17:55 madminer.ml          INFO    Starting score evaluation\n",
      "17:55 madminer.ml          INFO    Starting score evaluation\n",
      "17:55 madminer.ml          INFO    Starting score evaluation\n",
      "17:55 madminer.ml          INFO    Starting score evaluation\n",
      "17:55 madminer.ml          INFO    Starting score evaluation\n"
     ]
    }
   ],
   "source": [
    "bins_histo_wph_e_mttot, w_in_histo_wph_e_mttot, fi_histo_rate_wph_e_mttot, fi_histo_wph_e_mttot = fisher_wph_e_wbkgs_met.histogram_of_fisher_information(\n",
    "    theta=[0.,0.,0.,0.],\n",
    "    luminosity=100*1000.,\n",
    "    observable='mt_tot',\n",
    "    nbins=20,\n",
    "    histrange=(200,2200),\n",
    "    model_file=model_path_wph_e,\n",
    ")"
   ]
  },
  {
   "cell_type": "code",
   "execution_count": 31,
   "metadata": {
    "collapsed": true
   },
   "outputs": [
    {
     "name": "stderr",
     "output_type": "stream",
     "text": [
      "17:55 madminer.ml          INFO    Found score ensemble with 5 estimators\n",
      "17:55 madminer.ml          INFO    Loading model from models/met/ensemble_wmh_mu_wbkgs_sigsystonly_lhedata_met/estimator_0\n",
      "17:55 madminer.ml          INFO    Loading model from models/met/ensemble_wmh_mu_wbkgs_sigsystonly_lhedata_met/estimator_1\n",
      "17:55 madminer.ml          INFO    Loading model from models/met/ensemble_wmh_mu_wbkgs_sigsystonly_lhedata_met/estimator_2\n",
      "17:55 madminer.ml          INFO    Loading model from models/met/ensemble_wmh_mu_wbkgs_sigsystonly_lhedata_met/estimator_3\n",
      "17:55 madminer.ml          INFO    Loading model from models/met/ensemble_wmh_mu_wbkgs_sigsystonly_lhedata_met/estimator_4\n",
      "18:01 madminer.fisherinfor INFO    Evaluating kinematic Fisher information on batch 1 / 10\n",
      "18:01 madminer.ml          INFO    Starting score evaluation\n",
      "18:01 madminer.ml          INFO    Starting score evaluation\n",
      "18:01 madminer.ml          INFO    Starting score evaluation\n",
      "18:01 madminer.ml          INFO    Starting score evaluation\n",
      "18:01 madminer.ml          INFO    Starting score evaluation\n",
      "18:01 madminer.fisherinfor INFO    Evaluating kinematic Fisher information on batch 2 / 10\n",
      "18:01 madminer.ml          INFO    Starting score evaluation\n",
      "18:01 madminer.ml          INFO    Starting score evaluation\n",
      "18:01 madminer.ml          INFO    Starting score evaluation\n",
      "18:01 madminer.ml          INFO    Starting score evaluation\n",
      "18:01 madminer.ml          INFO    Starting score evaluation\n",
      "18:01 madminer.fisherinfor INFO    Evaluating kinematic Fisher information on batch 3 / 10\n",
      "18:01 madminer.ml          INFO    Starting score evaluation\n",
      "18:01 madminer.ml          INFO    Starting score evaluation\n",
      "18:01 madminer.ml          INFO    Starting score evaluation\n",
      "18:01 madminer.ml          INFO    Starting score evaluation\n",
      "18:01 madminer.ml          INFO    Starting score evaluation\n",
      "18:01 madminer.fisherinfor INFO    Evaluating kinematic Fisher information on batch 4 / 10\n",
      "18:02 madminer.ml          INFO    Starting score evaluation\n",
      "18:02 madminer.ml          INFO    Starting score evaluation\n",
      "18:02 madminer.ml          INFO    Starting score evaluation\n",
      "18:02 madminer.ml          INFO    Starting score evaluation\n",
      "18:02 madminer.ml          INFO    Starting score evaluation\n",
      "18:02 madminer.fisherinfor INFO    Evaluating kinematic Fisher information on batch 5 / 10\n",
      "18:02 madminer.ml          INFO    Starting score evaluation\n",
      "18:02 madminer.ml          INFO    Starting score evaluation\n",
      "18:02 madminer.ml          INFO    Starting score evaluation\n",
      "18:02 madminer.ml          INFO    Starting score evaluation\n",
      "18:02 madminer.ml          INFO    Starting score evaluation\n",
      "18:02 madminer.fisherinfor INFO    Evaluating kinematic Fisher information on batch 6 / 10\n",
      "18:02 madminer.ml          INFO    Starting score evaluation\n",
      "18:02 madminer.ml          INFO    Starting score evaluation\n",
      "18:02 madminer.ml          INFO    Starting score evaluation\n",
      "18:02 madminer.ml          INFO    Starting score evaluation\n",
      "18:02 madminer.ml          INFO    Starting score evaluation\n",
      "18:02 madminer.fisherinfor INFO    Evaluating kinematic Fisher information on batch 7 / 10\n",
      "18:02 madminer.ml          INFO    Starting score evaluation\n",
      "18:02 madminer.ml          INFO    Starting score evaluation\n",
      "18:02 madminer.ml          INFO    Starting score evaluation\n",
      "18:02 madminer.ml          INFO    Starting score evaluation\n",
      "18:02 madminer.ml          INFO    Starting score evaluation\n",
      "18:02 madminer.fisherinfor INFO    Evaluating kinematic Fisher information on batch 8 / 10\n",
      "18:02 madminer.ml          INFO    Starting score evaluation\n",
      "18:02 madminer.ml          INFO    Starting score evaluation\n",
      "18:02 madminer.ml          INFO    Starting score evaluation\n",
      "18:02 madminer.ml          INFO    Starting score evaluation\n",
      "18:02 madminer.ml          INFO    Starting score evaluation\n",
      "18:03 madminer.fisherinfor INFO    Evaluating kinematic Fisher information on batch 9 / 10\n",
      "18:03 madminer.ml          INFO    Starting score evaluation\n",
      "18:03 madminer.ml          INFO    Starting score evaluation\n",
      "18:03 madminer.ml          INFO    Starting score evaluation\n",
      "18:03 madminer.ml          INFO    Starting score evaluation\n",
      "18:03 madminer.ml          INFO    Starting score evaluation\n",
      "18:03 madminer.fisherinfor INFO    Evaluating kinematic Fisher information on batch 10 / 10\n",
      "18:03 madminer.ml          INFO    Starting score evaluation\n",
      "18:03 madminer.ml          INFO    Starting score evaluation\n",
      "18:03 madminer.ml          INFO    Starting score evaluation\n",
      "18:03 madminer.ml          INFO    Starting score evaluation\n",
      "18:03 madminer.ml          INFO    Starting score evaluation\n"
     ]
    }
   ],
   "source": [
    "bins_histo_wmh_mu_mttot, w_in_histo_wmh_mu_mttot, fi_histo_rate_wmh_mu_mttot, fi_histo_wmh_mu_mttot = fisher_wmh_mu_wbkgs_met.histogram_of_fisher_information(\n",
    "    theta=[0.,0.,0.,0.],\n",
    "    luminosity=100*1000.,\n",
    "    observable='mt_tot',\n",
    "    nbins=20,\n",
    "    histrange=(200,2200),\n",
    "    model_file=model_path_wmh_mu,\n",
    ")"
   ]
  },
  {
   "cell_type": "code",
   "execution_count": 32,
   "metadata": {
    "collapsed": true
   },
   "outputs": [
    {
     "name": "stderr",
     "output_type": "stream",
     "text": [
      "18:03 madminer.ml          INFO    Found score ensemble with 5 estimators\n",
      "18:03 madminer.ml          INFO    Loading model from models/met/ensemble_wmh_e_wbkgs_sigsystonly_lhedata_met/estimator_0\n",
      "18:03 madminer.ml          INFO    Loading model from models/met/ensemble_wmh_e_wbkgs_sigsystonly_lhedata_met/estimator_1\n",
      "18:03 madminer.ml          INFO    Loading model from models/met/ensemble_wmh_e_wbkgs_sigsystonly_lhedata_met/estimator_2\n",
      "18:03 madminer.ml          INFO    Loading model from models/met/ensemble_wmh_e_wbkgs_sigsystonly_lhedata_met/estimator_3\n",
      "18:03 madminer.ml          INFO    Loading model from models/met/ensemble_wmh_e_wbkgs_sigsystonly_lhedata_met/estimator_4\n",
      "18:12 madminer.fisherinfor INFO    Evaluating kinematic Fisher information on batch 1 / 10\n",
      "18:12 madminer.ml          INFO    Starting score evaluation\n",
      "18:13 madminer.ml          INFO    Starting score evaluation\n",
      "18:13 madminer.ml          INFO    Starting score evaluation\n",
      "18:13 madminer.ml          INFO    Starting score evaluation\n",
      "18:13 madminer.ml          INFO    Starting score evaluation\n",
      "18:13 madminer.fisherinfor INFO    Evaluating kinematic Fisher information on batch 2 / 10\n",
      "18:13 madminer.ml          INFO    Starting score evaluation\n",
      "18:13 madminer.ml          INFO    Starting score evaluation\n",
      "18:13 madminer.ml          INFO    Starting score evaluation\n",
      "18:13 madminer.ml          INFO    Starting score evaluation\n",
      "18:13 madminer.ml          INFO    Starting score evaluation\n",
      "18:13 madminer.fisherinfor INFO    Evaluating kinematic Fisher information on batch 3 / 10\n",
      "18:13 madminer.ml          INFO    Starting score evaluation\n",
      "18:13 madminer.ml          INFO    Starting score evaluation\n",
      "18:13 madminer.ml          INFO    Starting score evaluation\n",
      "18:13 madminer.ml          INFO    Starting score evaluation\n",
      "18:13 madminer.ml          INFO    Starting score evaluation\n",
      "18:13 madminer.fisherinfor INFO    Evaluating kinematic Fisher information on batch 4 / 10\n",
      "18:13 madminer.ml          INFO    Starting score evaluation\n",
      "18:13 madminer.ml          INFO    Starting score evaluation\n",
      "18:13 madminer.ml          INFO    Starting score evaluation\n",
      "18:13 madminer.ml          INFO    Starting score evaluation\n",
      "18:13 madminer.ml          INFO    Starting score evaluation\n",
      "18:13 madminer.fisherinfor INFO    Evaluating kinematic Fisher information on batch 5 / 10\n",
      "18:13 madminer.ml          INFO    Starting score evaluation\n",
      "18:13 madminer.ml          INFO    Starting score evaluation\n",
      "18:13 madminer.ml          INFO    Starting score evaluation\n",
      "18:13 madminer.ml          INFO    Starting score evaluation\n",
      "18:13 madminer.ml          INFO    Starting score evaluation\n",
      "18:13 madminer.fisherinfor INFO    Evaluating kinematic Fisher information on batch 6 / 10\n",
      "18:14 madminer.ml          INFO    Starting score evaluation\n",
      "18:14 madminer.ml          INFO    Starting score evaluation\n",
      "18:14 madminer.ml          INFO    Starting score evaluation\n",
      "18:14 madminer.ml          INFO    Starting score evaluation\n",
      "18:14 madminer.ml          INFO    Starting score evaluation\n",
      "18:14 madminer.fisherinfor INFO    Evaluating kinematic Fisher information on batch 7 / 10\n",
      "18:14 madminer.ml          INFO    Starting score evaluation\n",
      "18:14 madminer.ml          INFO    Starting score evaluation\n",
      "18:14 madminer.ml          INFO    Starting score evaluation\n",
      "18:14 madminer.ml          INFO    Starting score evaluation\n",
      "18:14 madminer.ml          INFO    Starting score evaluation\n",
      "18:14 madminer.fisherinfor INFO    Evaluating kinematic Fisher information on batch 8 / 10\n",
      "18:14 madminer.ml          INFO    Starting score evaluation\n",
      "18:14 madminer.ml          INFO    Starting score evaluation\n",
      "18:14 madminer.ml          INFO    Starting score evaluation\n",
      "18:14 madminer.ml          INFO    Starting score evaluation\n",
      "18:14 madminer.ml          INFO    Starting score evaluation\n",
      "18:14 madminer.fisherinfor INFO    Evaluating kinematic Fisher information on batch 9 / 10\n",
      "18:14 madminer.ml          INFO    Starting score evaluation\n",
      "18:14 madminer.ml          INFO    Starting score evaluation\n",
      "18:14 madminer.ml          INFO    Starting score evaluation\n",
      "18:14 madminer.ml          INFO    Starting score evaluation\n",
      "18:14 madminer.ml          INFO    Starting score evaluation\n",
      "18:14 madminer.fisherinfor INFO    Evaluating kinematic Fisher information on batch 10 / 10\n",
      "18:14 madminer.ml          INFO    Starting score evaluation\n",
      "18:14 madminer.ml          INFO    Starting score evaluation\n",
      "18:14 madminer.ml          INFO    Starting score evaluation\n",
      "18:14 madminer.ml          INFO    Starting score evaluation\n",
      "18:14 madminer.ml          INFO    Starting score evaluation\n"
     ]
    }
   ],
   "source": [
    "bins_histo_wmh_e_mttot, w_in_histo_wmh_e_mttot, fi_histo_rate_wmh_e_mttot, fi_histo_wmh_e_mttot = fisher_wmh_e_wbkgs_met.histogram_of_fisher_information(\n",
    "    theta=[0.,0.,0.,0.],\n",
    "    luminosity=100*1000.,\n",
    "    observable='mt_tot',\n",
    "    nbins=20,\n",
    "    histrange=(200,2200),\n",
    "    model_file=model_path_wmh_e,\n",
    ")"
   ]
  },
  {
   "cell_type": "code",
   "execution_count": 33,
   "metadata": {
    "collapsed": true
   },
   "outputs": [],
   "source": [
    "fi_histo_mttot_outfile = './fisher_info/dists/fi_histo_mttot.npz'\n",
    "\n",
    "fi_histo_mttot_list = [\n",
    "    bins_histo_wph_mu_mttot,\n",
    "    w_in_histo_wph_mu_mttot,\n",
    "    fi_histo_rate_wph_mu_mttot,\n",
    "    fi_histo_wph_mu_mttot,\n",
    "    bins_histo_wph_e_mttot,\n",
    "    w_in_histo_wph_e_mttot,\n",
    "    fi_histo_rate_wph_e_mttot,\n",
    "    fi_histo_wph_e_mttot,\n",
    "    bins_histo_wmh_mu_mttot,\n",
    "    w_in_histo_wmh_mu_mttot,\n",
    "    fi_histo_rate_wmh_mu_mttot,\n",
    "    fi_histo_wmh_mu_mttot,\n",
    "    bins_histo_wmh_e_mttot,\n",
    "    w_in_histo_wmh_e_mttot,\n",
    "    fi_histo_rate_wmh_e_mttot,\n",
    "    fi_histo_wmh_e_mttot,\n",
    "]"
   ]
  },
  {
   "cell_type": "code",
   "execution_count": 34,
   "metadata": {
    "collapsed": true
   },
   "outputs": [],
   "source": [
    "np.savez(fi_histo_mttot_outfile, fi_histo_mttot_list, allow_pickle=False)"
   ]
  },
  {
   "cell_type": "code",
   "execution_count": 35,
   "metadata": {
    "collapsed": true
   },
   "outputs": [],
   "source": [
    "fi_histo_rate_mttot = [ fi_histo_rate_wph_mu_mttot[i]\n",
    "                     + fi_histo_rate_wph_e_mttot[i] \n",
    "                     + fi_histo_rate_wmh_mu_mttot[i] \n",
    "                     + fi_histo_rate_wmh_e_mttot[i] \n",
    "                     for i in range(0, len(fi_histo_rate_wph_mu_mttot)) ]\n",
    "\n",
    "fi_histo_mttot = [ fi_histo_wph_mu_mttot[i]\n",
    "                     + fi_histo_wph_e_mttot[i] \n",
    "                     + fi_histo_wmh_mu_mttot[i] \n",
    "                     + fi_histo_wmh_e_mttot[i] \n",
    "                     for i in range(0, len(fi_histo_wph_mu_mttot)) ]\n",
    "\n",
    "fi_histo_rate_mttot_rot = [ rotate(fi_histo_rate_mttot[i]) for i in range(0, len(fi_histo_rate_mttot)) ]\n",
    "fi_histo_mttot_rot = [ rotate(fi_histo_mttot[i]) for i in range(0, len(fi_histo_mttot)) ]"
   ]
  },
  {
   "cell_type": "markdown",
   "metadata": {
    "heading_collapsed": true
   },
   "source": [
    "### $m_{T,W}$"
   ]
  },
  {
   "cell_type": "code",
   "execution_count": 88,
   "metadata": {
    "collapsed": true,
    "hidden": true
   },
   "outputs": [
    {
     "name": "stderr",
     "output_type": "stream",
     "text": [
      "23:47 madminer.ml          INFO    Found score ensemble with 5 estimators\n",
      "23:47 madminer.ml          INFO    Loading model from models/met/ensemble_wph_mu_wbkgs_sigsystonly_lhedata_met/estimator_0\n",
      "23:47 madminer.ml          INFO    Loading model from models/met/ensemble_wph_mu_wbkgs_sigsystonly_lhedata_met/estimator_1\n",
      "23:47 madminer.ml          INFO    Loading model from models/met/ensemble_wph_mu_wbkgs_sigsystonly_lhedata_met/estimator_2\n",
      "23:47 madminer.ml          INFO    Loading model from models/met/ensemble_wph_mu_wbkgs_sigsystonly_lhedata_met/estimator_3\n",
      "23:47 madminer.ml          INFO    Loading model from models/met/ensemble_wph_mu_wbkgs_sigsystonly_lhedata_met/estimator_4\n",
      "23:52 madminer.fisherinfor INFO    Evaluating kinematic Fisher information on batch 1 / 10\n",
      "23:52 madminer.ml          INFO    Starting score evaluation\n",
      "23:52 madminer.ml          INFO    Starting score evaluation\n",
      "23:52 madminer.ml          INFO    Starting score evaluation\n",
      "23:52 madminer.ml          INFO    Starting score evaluation\n",
      "23:52 madminer.ml          INFO    Starting score evaluation\n",
      "23:52 madminer.fisherinfor INFO    Evaluating kinematic Fisher information on batch 2 / 10\n",
      "23:52 madminer.ml          INFO    Starting score evaluation\n",
      "23:52 madminer.ml          INFO    Starting score evaluation\n",
      "23:52 madminer.ml          INFO    Starting score evaluation\n",
      "23:52 madminer.ml          INFO    Starting score evaluation\n",
      "23:52 madminer.ml          INFO    Starting score evaluation\n",
      "23:52 madminer.fisherinfor INFO    Evaluating kinematic Fisher information on batch 3 / 10\n",
      "23:52 madminer.ml          INFO    Starting score evaluation\n",
      "23:52 madminer.ml          INFO    Starting score evaluation\n",
      "23:52 madminer.ml          INFO    Starting score evaluation\n",
      "23:52 madminer.ml          INFO    Starting score evaluation\n",
      "23:52 madminer.ml          INFO    Starting score evaluation\n",
      "23:52 madminer.fisherinfor INFO    Evaluating kinematic Fisher information on batch 4 / 10\n",
      "23:53 madminer.ml          INFO    Starting score evaluation\n",
      "23:53 madminer.ml          INFO    Starting score evaluation\n",
      "23:53 madminer.ml          INFO    Starting score evaluation\n",
      "23:53 madminer.ml          INFO    Starting score evaluation\n",
      "23:53 madminer.ml          INFO    Starting score evaluation\n",
      "23:53 madminer.fisherinfor INFO    Evaluating kinematic Fisher information on batch 5 / 10\n",
      "23:53 madminer.ml          INFO    Starting score evaluation\n",
      "23:53 madminer.ml          INFO    Starting score evaluation\n",
      "23:53 madminer.ml          INFO    Starting score evaluation\n",
      "23:53 madminer.ml          INFO    Starting score evaluation\n",
      "23:53 madminer.ml          INFO    Starting score evaluation\n",
      "23:53 madminer.fisherinfor INFO    Evaluating kinematic Fisher information on batch 6 / 10\n",
      "23:53 madminer.ml          INFO    Starting score evaluation\n",
      "23:53 madminer.ml          INFO    Starting score evaluation\n",
      "23:53 madminer.ml          INFO    Starting score evaluation\n",
      "23:53 madminer.ml          INFO    Starting score evaluation\n",
      "23:53 madminer.ml          INFO    Starting score evaluation\n",
      "23:53 madminer.fisherinfor INFO    Evaluating kinematic Fisher information on batch 7 / 10\n",
      "23:53 madminer.ml          INFO    Starting score evaluation\n",
      "23:53 madminer.ml          INFO    Starting score evaluation\n",
      "23:53 madminer.ml          INFO    Starting score evaluation\n",
      "23:53 madminer.ml          INFO    Starting score evaluation\n",
      "23:53 madminer.ml          INFO    Starting score evaluation\n",
      "23:53 madminer.fisherinfor INFO    Evaluating kinematic Fisher information on batch 8 / 10\n",
      "23:53 madminer.ml          INFO    Starting score evaluation\n",
      "23:53 madminer.ml          INFO    Starting score evaluation\n",
      "23:53 madminer.ml          INFO    Starting score evaluation\n",
      "23:53 madminer.ml          INFO    Starting score evaluation\n",
      "23:53 madminer.ml          INFO    Starting score evaluation\n",
      "23:54 madminer.fisherinfor INFO    Evaluating kinematic Fisher information on batch 9 / 10\n",
      "23:54 madminer.ml          INFO    Starting score evaluation\n",
      "23:54 madminer.ml          INFO    Starting score evaluation\n",
      "23:54 madminer.ml          INFO    Starting score evaluation\n",
      "23:54 madminer.ml          INFO    Starting score evaluation\n",
      "23:54 madminer.ml          INFO    Starting score evaluation\n",
      "23:54 madminer.fisherinfor INFO    Evaluating kinematic Fisher information on batch 10 / 10\n",
      "23:54 madminer.ml          INFO    Starting score evaluation\n",
      "23:54 madminer.ml          INFO    Starting score evaluation\n",
      "23:54 madminer.ml          INFO    Starting score evaluation\n",
      "23:54 madminer.ml          INFO    Starting score evaluation\n",
      "23:54 madminer.ml          INFO    Starting score evaluation\n"
     ]
    }
   ],
   "source": [
    "bins_histo_wph_mu_mtlv, w_in_histo_wph_mu_mtlv, fi_histo_rate_wph_mu_mtlv, fi_histo_wph_mu_mtlv = fisher_wph_mu_wbkgs_met.histogram_of_fisher_information(\n",
    "    theta=[0.,0.,0.,0.],\n",
    "    luminosity=100*1000.,\n",
    "    observable='mt_lv',\n",
    "    nbins=20,\n",
    "    histrange=(0,1000),\n",
    "    model_file=model_path_wph_mu,\n",
    ")"
   ]
  },
  {
   "cell_type": "code",
   "execution_count": 89,
   "metadata": {
    "collapsed": true,
    "hidden": true
   },
   "outputs": [
    {
     "name": "stderr",
     "output_type": "stream",
     "text": [
      "23:54 madminer.ml          INFO    Found score ensemble with 5 estimators\n",
      "23:54 madminer.ml          INFO    Loading model from models/met/ensemble_wph_e_wbkgs_sigsystonly_lhedata_met/estimator_0\n",
      "23:54 madminer.ml          INFO    Loading model from models/met/ensemble_wph_e_wbkgs_sigsystonly_lhedata_met/estimator_1\n",
      "23:54 madminer.ml          INFO    Loading model from models/met/ensemble_wph_e_wbkgs_sigsystonly_lhedata_met/estimator_2\n",
      "23:54 madminer.ml          INFO    Loading model from models/met/ensemble_wph_e_wbkgs_sigsystonly_lhedata_met/estimator_3\n",
      "23:54 madminer.ml          INFO    Loading model from models/met/ensemble_wph_e_wbkgs_sigsystonly_lhedata_met/estimator_4\n",
      "23:59 madminer.fisherinfor INFO    Evaluating kinematic Fisher information on batch 1 / 10\n",
      "23:59 madminer.ml          INFO    Starting score evaluation\n",
      "23:59 madminer.ml          INFO    Starting score evaluation\n",
      "23:59 madminer.ml          INFO    Starting score evaluation\n",
      "23:59 madminer.ml          INFO    Starting score evaluation\n",
      "23:59 madminer.ml          INFO    Starting score evaluation\n",
      "23:59 madminer.fisherinfor INFO    Evaluating kinematic Fisher information on batch 2 / 10\n",
      "23:59 madminer.ml          INFO    Starting score evaluation\n",
      "23:59 madminer.ml          INFO    Starting score evaluation\n",
      "23:59 madminer.ml          INFO    Starting score evaluation\n",
      "23:59 madminer.ml          INFO    Starting score evaluation\n",
      "23:59 madminer.ml          INFO    Starting score evaluation\n",
      "00:00 madminer.fisherinfor INFO    Evaluating kinematic Fisher information on batch 3 / 10\n",
      "00:00 madminer.ml          INFO    Starting score evaluation\n",
      "00:00 madminer.ml          INFO    Starting score evaluation\n",
      "00:00 madminer.ml          INFO    Starting score evaluation\n",
      "00:00 madminer.ml          INFO    Starting score evaluation\n",
      "00:00 madminer.ml          INFO    Starting score evaluation\n",
      "00:00 madminer.fisherinfor INFO    Evaluating kinematic Fisher information on batch 4 / 10\n",
      "00:00 madminer.ml          INFO    Starting score evaluation\n",
      "00:00 madminer.ml          INFO    Starting score evaluation\n",
      "00:00 madminer.ml          INFO    Starting score evaluation\n",
      "00:00 madminer.ml          INFO    Starting score evaluation\n",
      "00:00 madminer.ml          INFO    Starting score evaluation\n",
      "00:00 madminer.fisherinfor INFO    Evaluating kinematic Fisher information on batch 5 / 10\n",
      "00:00 madminer.ml          INFO    Starting score evaluation\n",
      "00:00 madminer.ml          INFO    Starting score evaluation\n",
      "00:00 madminer.ml          INFO    Starting score evaluation\n",
      "00:00 madminer.ml          INFO    Starting score evaluation\n",
      "00:00 madminer.ml          INFO    Starting score evaluation\n",
      "00:00 madminer.fisherinfor INFO    Evaluating kinematic Fisher information on batch 6 / 10\n",
      "00:00 madminer.ml          INFO    Starting score evaluation\n",
      "00:00 madminer.ml          INFO    Starting score evaluation\n",
      "00:00 madminer.ml          INFO    Starting score evaluation\n",
      "00:00 madminer.ml          INFO    Starting score evaluation\n",
      "00:00 madminer.ml          INFO    Starting score evaluation\n",
      "00:00 madminer.fisherinfor INFO    Evaluating kinematic Fisher information on batch 7 / 10\n",
      "00:00 madminer.ml          INFO    Starting score evaluation\n",
      "00:00 madminer.ml          INFO    Starting score evaluation\n",
      "00:01 madminer.ml          INFO    Starting score evaluation\n",
      "00:01 madminer.ml          INFO    Starting score evaluation\n",
      "00:01 madminer.ml          INFO    Starting score evaluation\n",
      "00:01 madminer.fisherinfor INFO    Evaluating kinematic Fisher information on batch 8 / 10\n",
      "00:01 madminer.ml          INFO    Starting score evaluation\n",
      "00:01 madminer.ml          INFO    Starting score evaluation\n",
      "00:01 madminer.ml          INFO    Starting score evaluation\n",
      "00:01 madminer.ml          INFO    Starting score evaluation\n",
      "00:01 madminer.ml          INFO    Starting score evaluation\n",
      "00:01 madminer.fisherinfor INFO    Evaluating kinematic Fisher information on batch 9 / 10\n",
      "00:01 madminer.ml          INFO    Starting score evaluation\n",
      "00:01 madminer.ml          INFO    Starting score evaluation\n",
      "00:01 madminer.ml          INFO    Starting score evaluation\n",
      "00:01 madminer.ml          INFO    Starting score evaluation\n",
      "00:01 madminer.ml          INFO    Starting score evaluation\n",
      "00:01 madminer.fisherinfor INFO    Evaluating kinematic Fisher information on batch 10 / 10\n",
      "00:01 madminer.ml          INFO    Starting score evaluation\n",
      "00:01 madminer.ml          INFO    Starting score evaluation\n",
      "00:01 madminer.ml          INFO    Starting score evaluation\n",
      "00:01 madminer.ml          INFO    Starting score evaluation\n",
      "00:01 madminer.ml          INFO    Starting score evaluation\n"
     ]
    }
   ],
   "source": [
    "bins_histo_wph_e_mtlv, w_in_histo_wph_e_mtlv, fi_histo_rate_wph_e_mtlv, fi_histo_wph_e_mtlv = fisher_wph_e_wbkgs_met.histogram_of_fisher_information(\n",
    "    theta=[0.,0.,0.,0.],\n",
    "    luminosity=100*1000.,\n",
    "    observable='mt_lv',\n",
    "    nbins=20,\n",
    "    histrange=(0,1000),\n",
    "    model_file=model_path_wph_e,\n",
    ")"
   ]
  },
  {
   "cell_type": "code",
   "execution_count": 90,
   "metadata": {
    "collapsed": true,
    "hidden": true
   },
   "outputs": [
    {
     "name": "stderr",
     "output_type": "stream",
     "text": [
      "00:01 madminer.ml          INFO    Found score ensemble with 5 estimators\n",
      "00:01 madminer.ml          INFO    Loading model from models/met/ensemble_wmh_mu_wbkgs_sigsystonly_lhedata_met/estimator_0\n",
      "00:01 madminer.ml          INFO    Loading model from models/met/ensemble_wmh_mu_wbkgs_sigsystonly_lhedata_met/estimator_1\n",
      "00:01 madminer.ml          INFO    Loading model from models/met/ensemble_wmh_mu_wbkgs_sigsystonly_lhedata_met/estimator_2\n",
      "00:01 madminer.ml          INFO    Loading model from models/met/ensemble_wmh_mu_wbkgs_sigsystonly_lhedata_met/estimator_3\n",
      "00:01 madminer.ml          INFO    Loading model from models/met/ensemble_wmh_mu_wbkgs_sigsystonly_lhedata_met/estimator_4\n",
      "00:06 madminer.fisherinfor INFO    Evaluating kinematic Fisher information on batch 1 / 10\n",
      "00:06 madminer.ml          INFO    Starting score evaluation\n",
      "00:06 madminer.ml          INFO    Starting score evaluation\n",
      "00:06 madminer.ml          INFO    Starting score evaluation\n",
      "00:06 madminer.ml          INFO    Starting score evaluation\n",
      "00:06 madminer.ml          INFO    Starting score evaluation\n",
      "00:07 madminer.fisherinfor INFO    Evaluating kinematic Fisher information on batch 2 / 10\n",
      "00:07 madminer.ml          INFO    Starting score evaluation\n",
      "00:07 madminer.ml          INFO    Starting score evaluation\n",
      "00:07 madminer.ml          INFO    Starting score evaluation\n",
      "00:07 madminer.ml          INFO    Starting score evaluation\n",
      "00:07 madminer.ml          INFO    Starting score evaluation\n",
      "00:07 madminer.fisherinfor INFO    Evaluating kinematic Fisher information on batch 3 / 10\n",
      "00:07 madminer.ml          INFO    Starting score evaluation\n",
      "00:07 madminer.ml          INFO    Starting score evaluation\n",
      "00:07 madminer.ml          INFO    Starting score evaluation\n",
      "00:07 madminer.ml          INFO    Starting score evaluation\n",
      "00:07 madminer.ml          INFO    Starting score evaluation\n",
      "00:07 madminer.fisherinfor INFO    Evaluating kinematic Fisher information on batch 4 / 10\n",
      "00:07 madminer.ml          INFO    Starting score evaluation\n",
      "00:07 madminer.ml          INFO    Starting score evaluation\n",
      "00:07 madminer.ml          INFO    Starting score evaluation\n",
      "00:07 madminer.ml          INFO    Starting score evaluation\n",
      "00:07 madminer.ml          INFO    Starting score evaluation\n",
      "00:07 madminer.fisherinfor INFO    Evaluating kinematic Fisher information on batch 5 / 10\n",
      "00:07 madminer.ml          INFO    Starting score evaluation\n",
      "00:07 madminer.ml          INFO    Starting score evaluation\n",
      "00:07 madminer.ml          INFO    Starting score evaluation\n",
      "00:07 madminer.ml          INFO    Starting score evaluation\n",
      "00:07 madminer.ml          INFO    Starting score evaluation\n",
      "00:07 madminer.fisherinfor INFO    Evaluating kinematic Fisher information on batch 6 / 10\n",
      "00:07 madminer.ml          INFO    Starting score evaluation\n",
      "00:08 madminer.ml          INFO    Starting score evaluation\n",
      "00:08 madminer.ml          INFO    Starting score evaluation\n",
      "00:08 madminer.ml          INFO    Starting score evaluation\n",
      "00:08 madminer.ml          INFO    Starting score evaluation\n",
      "00:08 madminer.fisherinfor INFO    Evaluating kinematic Fisher information on batch 7 / 10\n",
      "00:08 madminer.ml          INFO    Starting score evaluation\n",
      "00:08 madminer.ml          INFO    Starting score evaluation\n",
      "00:08 madminer.ml          INFO    Starting score evaluation\n",
      "00:08 madminer.ml          INFO    Starting score evaluation\n",
      "00:08 madminer.ml          INFO    Starting score evaluation\n",
      "00:08 madminer.fisherinfor INFO    Evaluating kinematic Fisher information on batch 8 / 10\n",
      "00:08 madminer.ml          INFO    Starting score evaluation\n",
      "00:08 madminer.ml          INFO    Starting score evaluation\n",
      "00:08 madminer.ml          INFO    Starting score evaluation\n",
      "00:08 madminer.ml          INFO    Starting score evaluation\n",
      "00:08 madminer.ml          INFO    Starting score evaluation\n",
      "00:08 madminer.fisherinfor INFO    Evaluating kinematic Fisher information on batch 9 / 10\n",
      "00:08 madminer.ml          INFO    Starting score evaluation\n",
      "00:08 madminer.ml          INFO    Starting score evaluation\n",
      "00:08 madminer.ml          INFO    Starting score evaluation\n",
      "00:08 madminer.ml          INFO    Starting score evaluation\n",
      "00:08 madminer.ml          INFO    Starting score evaluation\n",
      "00:08 madminer.fisherinfor INFO    Evaluating kinematic Fisher information on batch 10 / 10\n",
      "00:08 madminer.ml          INFO    Starting score evaluation\n",
      "00:08 madminer.ml          INFO    Starting score evaluation\n",
      "00:08 madminer.ml          INFO    Starting score evaluation\n",
      "00:08 madminer.ml          INFO    Starting score evaluation\n",
      "00:08 madminer.ml          INFO    Starting score evaluation\n"
     ]
    }
   ],
   "source": [
    "bins_histo_wmh_mu_mtlv, w_in_histo_wmh_mu_mtlv, fi_histo_rate_wmh_mu_mtlv, fi_histo_wmh_mu_mtlv = fisher_wmh_mu_wbkgs_met.histogram_of_fisher_information(\n",
    "    theta=[0.,0.,0.,0.],\n",
    "    luminosity=100*1000.,\n",
    "    observable='mt_lv',\n",
    "    nbins=20,\n",
    "    histrange=(0,1000),\n",
    "    model_file=model_path_wmh_mu,\n",
    ")"
   ]
  },
  {
   "cell_type": "code",
   "execution_count": 91,
   "metadata": {
    "collapsed": true,
    "hidden": true
   },
   "outputs": [
    {
     "name": "stderr",
     "output_type": "stream",
     "text": [
      "00:08 madminer.ml          INFO    Found score ensemble with 5 estimators\n",
      "00:08 madminer.ml          INFO    Loading model from models/met/ensemble_wmh_e_wbkgs_sigsystonly_lhedata_met/estimator_0\n",
      "00:08 madminer.ml          INFO    Loading model from models/met/ensemble_wmh_e_wbkgs_sigsystonly_lhedata_met/estimator_1\n",
      "00:08 madminer.ml          INFO    Loading model from models/met/ensemble_wmh_e_wbkgs_sigsystonly_lhedata_met/estimator_2\n",
      "00:08 madminer.ml          INFO    Loading model from models/met/ensemble_wmh_e_wbkgs_sigsystonly_lhedata_met/estimator_3\n",
      "00:08 madminer.ml          INFO    Loading model from models/met/ensemble_wmh_e_wbkgs_sigsystonly_lhedata_met/estimator_4\n",
      "00:14 madminer.fisherinfor INFO    Evaluating kinematic Fisher information on batch 1 / 10\n",
      "00:14 madminer.ml          INFO    Starting score evaluation\n",
      "00:14 madminer.ml          INFO    Starting score evaluation\n",
      "00:14 madminer.ml          INFO    Starting score evaluation\n",
      "00:14 madminer.ml          INFO    Starting score evaluation\n",
      "00:14 madminer.ml          INFO    Starting score evaluation\n",
      "00:14 madminer.fisherinfor INFO    Evaluating kinematic Fisher information on batch 2 / 10\n",
      "00:14 madminer.ml          INFO    Starting score evaluation\n",
      "00:14 madminer.ml          INFO    Starting score evaluation\n",
      "00:14 madminer.ml          INFO    Starting score evaluation\n",
      "00:14 madminer.ml          INFO    Starting score evaluation\n",
      "00:14 madminer.ml          INFO    Starting score evaluation\n",
      "00:14 madminer.fisherinfor INFO    Evaluating kinematic Fisher information on batch 3 / 10\n",
      "00:14 madminer.ml          INFO    Starting score evaluation\n",
      "00:14 madminer.ml          INFO    Starting score evaluation\n",
      "00:14 madminer.ml          INFO    Starting score evaluation\n",
      "00:14 madminer.ml          INFO    Starting score evaluation\n",
      "00:14 madminer.ml          INFO    Starting score evaluation\n",
      "00:14 madminer.fisherinfor INFO    Evaluating kinematic Fisher information on batch 4 / 10\n",
      "00:14 madminer.ml          INFO    Starting score evaluation\n",
      "00:14 madminer.ml          INFO    Starting score evaluation\n",
      "00:14 madminer.ml          INFO    Starting score evaluation\n",
      "00:14 madminer.ml          INFO    Starting score evaluation\n",
      "00:14 madminer.ml          INFO    Starting score evaluation\n",
      "00:14 madminer.fisherinfor INFO    Evaluating kinematic Fisher information on batch 5 / 10\n",
      "00:15 madminer.ml          INFO    Starting score evaluation\n",
      "00:15 madminer.ml          INFO    Starting score evaluation\n",
      "00:15 madminer.ml          INFO    Starting score evaluation\n",
      "00:15 madminer.ml          INFO    Starting score evaluation\n",
      "00:15 madminer.ml          INFO    Starting score evaluation\n",
      "00:15 madminer.fisherinfor INFO    Evaluating kinematic Fisher information on batch 6 / 10\n",
      "00:15 madminer.ml          INFO    Starting score evaluation\n",
      "00:15 madminer.ml          INFO    Starting score evaluation\n",
      "00:15 madminer.ml          INFO    Starting score evaluation\n",
      "00:15 madminer.ml          INFO    Starting score evaluation\n",
      "00:15 madminer.ml          INFO    Starting score evaluation\n",
      "00:15 madminer.fisherinfor INFO    Evaluating kinematic Fisher information on batch 7 / 10\n",
      "00:15 madminer.ml          INFO    Starting score evaluation\n",
      "00:15 madminer.ml          INFO    Starting score evaluation\n",
      "00:15 madminer.ml          INFO    Starting score evaluation\n",
      "00:15 madminer.ml          INFO    Starting score evaluation\n",
      "00:15 madminer.ml          INFO    Starting score evaluation\n",
      "00:15 madminer.fisherinfor INFO    Evaluating kinematic Fisher information on batch 8 / 10\n",
      "00:15 madminer.ml          INFO    Starting score evaluation\n",
      "00:15 madminer.ml          INFO    Starting score evaluation\n",
      "00:15 madminer.ml          INFO    Starting score evaluation\n",
      "00:15 madminer.ml          INFO    Starting score evaluation\n",
      "00:15 madminer.ml          INFO    Starting score evaluation\n",
      "00:15 madminer.fisherinfor INFO    Evaluating kinematic Fisher information on batch 9 / 10\n",
      "00:15 madminer.ml          INFO    Starting score evaluation\n",
      "00:15 madminer.ml          INFO    Starting score evaluation\n",
      "00:15 madminer.ml          INFO    Starting score evaluation\n",
      "00:15 madminer.ml          INFO    Starting score evaluation\n",
      "00:15 madminer.ml          INFO    Starting score evaluation\n",
      "00:16 madminer.fisherinfor INFO    Evaluating kinematic Fisher information on batch 10 / 10\n",
      "00:16 madminer.ml          INFO    Starting score evaluation\n",
      "00:16 madminer.ml          INFO    Starting score evaluation\n",
      "00:16 madminer.ml          INFO    Starting score evaluation\n",
      "00:16 madminer.ml          INFO    Starting score evaluation\n",
      "00:16 madminer.ml          INFO    Starting score evaluation\n"
     ]
    }
   ],
   "source": [
    "bins_histo_wmh_e_mtlv, w_in_histo_wmh_e_mtlv, fi_histo_rate_wmh_e_mtlv, fi_histo_wmh_e_mtlv = fisher_wmh_e_wbkgs_met.histogram_of_fisher_information(\n",
    "    theta=[0.,0.,0.,0.],\n",
    "    luminosity=100*1000.,\n",
    "    observable='mt_lv',\n",
    "    nbins=20,\n",
    "    histrange=(0,1000),\n",
    "    model_file=model_path_wmh_e,\n",
    ")"
   ]
  },
  {
   "cell_type": "code",
   "execution_count": 92,
   "metadata": {
    "collapsed": true,
    "hidden": true
   },
   "outputs": [],
   "source": [
    "fi_histo_mtlv_outfile = './fisher_info/dists/fi_histo_mtlv.npz'\n",
    "\n",
    "fi_histo_mtlv_list = [\n",
    "    bins_histo_wph_mu_mtlv,\n",
    "    w_in_histo_wph_mu_mtlv,\n",
    "    fi_histo_rate_wph_mu_mtlv,\n",
    "    fi_histo_wph_mu_mtlv,\n",
    "    bins_histo_wph_e_mtlv,\n",
    "    w_in_histo_wph_e_mtlv,\n",
    "    fi_histo_rate_wph_e_mtlv,\n",
    "    fi_histo_wph_e_mtlv,\n",
    "    bins_histo_wmh_mu_mtlv,\n",
    "    w_in_histo_wmh_mu_mtlv,\n",
    "    fi_histo_rate_wmh_mu_mtlv,\n",
    "    fi_histo_wmh_mu_mtlv,\n",
    "    bins_histo_wmh_e_mtlv,\n",
    "    w_in_histo_wmh_e_mtlv,\n",
    "    fi_histo_rate_wmh_e_mtlv,\n",
    "    fi_histo_wmh_e_mtlv,\n",
    "]"
   ]
  },
  {
   "cell_type": "code",
   "execution_count": 93,
   "metadata": {
    "collapsed": true,
    "hidden": true
   },
   "outputs": [],
   "source": [
    "np.savez(fi_histo_mtlv_outfile, fi_histo_mtlv_list, allow_pickle=False)"
   ]
  },
  {
   "cell_type": "code",
   "execution_count": 94,
   "metadata": {
    "collapsed": true,
    "hidden": true
   },
   "outputs": [],
   "source": [
    "fi_histo_rate_mtlv = [ fi_histo_rate_wph_mu_mtlv[i]\n",
    "                     + fi_histo_rate_wph_e_mtlv[i] \n",
    "                     + fi_histo_rate_wmh_mu_mtlv[i] \n",
    "                     + fi_histo_rate_wmh_e_mtlv[i] \n",
    "                     for i in range(0, len(fi_histo_rate_wph_mu_mtlv)) ]\n",
    "\n",
    "fi_histo_mtlv = [ fi_histo_wph_mu_mtlv[i]\n",
    "                     + fi_histo_wph_e_mtlv[i] \n",
    "                     + fi_histo_wmh_mu_mtlv[i] \n",
    "                     + fi_histo_wmh_e_mtlv[i] \n",
    "                     for i in range(0, len(fi_histo_wph_mu_mtlv)) ]\n",
    "\n",
    "fi_histo_rate_mtlv_rot = [ rotate(fi_histo_rate_mtlv[i]) for i in range(0, len(fi_histo_rate_mtlv)) ]\n",
    "fi_histo_mtlv_rot = [ rotate(fi_histo_mtlv[i]) for i in range(0, len(fi_histo_mtlv)) ]"
   ]
  },
  {
   "cell_type": "markdown",
   "metadata": {
    "heading_collapsed": true
   },
   "source": [
    "### $\\eta_H$"
   ]
  },
  {
   "cell_type": "code",
   "execution_count": 60,
   "metadata": {
    "collapsed": true,
    "hidden": true
   },
   "outputs": [
    {
     "name": "stderr",
     "output_type": "stream",
     "text": [
      "21:49 madminer.ml          INFO    Found score ensemble with 5 estimators\n",
      "21:49 madminer.ml          INFO    Loading model from models/met/ensemble_wph_mu_wbkgs_sigsystonly_lhedata_met/estimator_0\n",
      "21:49 madminer.ml          INFO    Loading model from models/met/ensemble_wph_mu_wbkgs_sigsystonly_lhedata_met/estimator_1\n",
      "21:49 madminer.ml          INFO    Loading model from models/met/ensemble_wph_mu_wbkgs_sigsystonly_lhedata_met/estimator_2\n",
      "21:49 madminer.ml          INFO    Loading model from models/met/ensemble_wph_mu_wbkgs_sigsystonly_lhedata_met/estimator_3\n",
      "21:49 madminer.ml          INFO    Loading model from models/met/ensemble_wph_mu_wbkgs_sigsystonly_lhedata_met/estimator_4\n",
      "21:55 madminer.fisherinfor INFO    Evaluating kinematic Fisher information on batch 1 / 10\n",
      "21:55 madminer.ml          INFO    Starting score evaluation\n",
      "21:55 madminer.ml          INFO    Starting score evaluation\n",
      "21:55 madminer.ml          INFO    Starting score evaluation\n",
      "21:55 madminer.ml          INFO    Starting score evaluation\n",
      "21:55 madminer.ml          INFO    Starting score evaluation\n",
      "21:55 madminer.fisherinfor INFO    Evaluating kinematic Fisher information on batch 2 / 10\n",
      "21:55 madminer.ml          INFO    Starting score evaluation\n",
      "21:55 madminer.ml          INFO    Starting score evaluation\n",
      "21:55 madminer.ml          INFO    Starting score evaluation\n",
      "21:55 madminer.ml          INFO    Starting score evaluation\n",
      "21:55 madminer.ml          INFO    Starting score evaluation\n",
      "21:55 madminer.fisherinfor INFO    Evaluating kinematic Fisher information on batch 3 / 10\n",
      "21:55 madminer.ml          INFO    Starting score evaluation\n",
      "21:55 madminer.ml          INFO    Starting score evaluation\n",
      "21:55 madminer.ml          INFO    Starting score evaluation\n",
      "21:55 madminer.ml          INFO    Starting score evaluation\n",
      "21:55 madminer.ml          INFO    Starting score evaluation\n",
      "21:55 madminer.fisherinfor INFO    Evaluating kinematic Fisher information on batch 4 / 10\n",
      "21:55 madminer.ml          INFO    Starting score evaluation\n",
      "21:55 madminer.ml          INFO    Starting score evaluation\n",
      "21:55 madminer.ml          INFO    Starting score evaluation\n",
      "21:56 madminer.ml          INFO    Starting score evaluation\n",
      "21:56 madminer.ml          INFO    Starting score evaluation\n",
      "21:56 madminer.fisherinfor INFO    Evaluating kinematic Fisher information on batch 5 / 10\n",
      "21:56 madminer.ml          INFO    Starting score evaluation\n",
      "21:56 madminer.ml          INFO    Starting score evaluation\n",
      "21:56 madminer.ml          INFO    Starting score evaluation\n",
      "21:56 madminer.ml          INFO    Starting score evaluation\n",
      "21:56 madminer.ml          INFO    Starting score evaluation\n",
      "21:56 madminer.fisherinfor INFO    Evaluating kinematic Fisher information on batch 6 / 10\n",
      "21:56 madminer.ml          INFO    Starting score evaluation\n",
      "21:56 madminer.ml          INFO    Starting score evaluation\n",
      "21:56 madminer.ml          INFO    Starting score evaluation\n",
      "21:56 madminer.ml          INFO    Starting score evaluation\n",
      "21:56 madminer.ml          INFO    Starting score evaluation\n",
      "21:56 madminer.fisherinfor INFO    Evaluating kinematic Fisher information on batch 7 / 10\n",
      "21:56 madminer.ml          INFO    Starting score evaluation\n",
      "21:56 madminer.ml          INFO    Starting score evaluation\n",
      "21:56 madminer.ml          INFO    Starting score evaluation\n",
      "21:56 madminer.ml          INFO    Starting score evaluation\n",
      "21:56 madminer.ml          INFO    Starting score evaluation\n",
      "21:56 madminer.fisherinfor INFO    Evaluating kinematic Fisher information on batch 8 / 10\n",
      "21:56 madminer.ml          INFO    Starting score evaluation\n",
      "21:56 madminer.ml          INFO    Starting score evaluation\n",
      "21:56 madminer.ml          INFO    Starting score evaluation\n",
      "21:56 madminer.ml          INFO    Starting score evaluation\n",
      "21:56 madminer.ml          INFO    Starting score evaluation\n",
      "21:56 madminer.fisherinfor INFO    Evaluating kinematic Fisher information on batch 9 / 10\n",
      "21:57 madminer.ml          INFO    Starting score evaluation\n",
      "21:57 madminer.ml          INFO    Starting score evaluation\n",
      "21:57 madminer.ml          INFO    Starting score evaluation\n",
      "21:57 madminer.ml          INFO    Starting score evaluation\n",
      "21:57 madminer.ml          INFO    Starting score evaluation\n",
      "21:57 madminer.fisherinfor INFO    Evaluating kinematic Fisher information on batch 10 / 10\n",
      "21:57 madminer.ml          INFO    Starting score evaluation\n",
      "21:57 madminer.ml          INFO    Starting score evaluation\n",
      "21:57 madminer.ml          INFO    Starting score evaluation\n",
      "21:57 madminer.ml          INFO    Starting score evaluation\n",
      "21:57 madminer.ml          INFO    Starting score evaluation\n"
     ]
    }
   ],
   "source": [
    "bins_histo_wph_mu_etah, w_in_histo_wph_mu_etah, fi_histo_rate_wph_mu_etah, fi_histo_wph_mu_etah = fisher_wph_mu_wbkgs_met.histogram_of_fisher_information(\n",
    "    theta=[0.,0.,0.,0.],\n",
    "    luminosity=100*1000.,\n",
    "    observable='eta_h',\n",
    "    nbins=20,\n",
    "    histrange=(-5.,5.),\n",
    "    model_file=model_path_wph_mu,\n",
    ")"
   ]
  },
  {
   "cell_type": "code",
   "execution_count": 61,
   "metadata": {
    "collapsed": true,
    "hidden": true
   },
   "outputs": [
    {
     "name": "stderr",
     "output_type": "stream",
     "text": [
      "21:57 madminer.ml          INFO    Found score ensemble with 5 estimators\n",
      "21:57 madminer.ml          INFO    Loading model from models/met/ensemble_wph_e_wbkgs_sigsystonly_lhedata_met/estimator_0\n",
      "21:57 madminer.ml          INFO    Loading model from models/met/ensemble_wph_e_wbkgs_sigsystonly_lhedata_met/estimator_1\n",
      "21:57 madminer.ml          INFO    Loading model from models/met/ensemble_wph_e_wbkgs_sigsystonly_lhedata_met/estimator_2\n",
      "21:57 madminer.ml          INFO    Loading model from models/met/ensemble_wph_e_wbkgs_sigsystonly_lhedata_met/estimator_3\n",
      "21:57 madminer.ml          INFO    Loading model from models/met/ensemble_wph_e_wbkgs_sigsystonly_lhedata_met/estimator_4\n",
      "22:02 madminer.fisherinfor INFO    Evaluating kinematic Fisher information on batch 1 / 10\n",
      "22:02 madminer.ml          INFO    Starting score evaluation\n",
      "22:02 madminer.ml          INFO    Starting score evaluation\n",
      "22:02 madminer.ml          INFO    Starting score evaluation\n",
      "22:02 madminer.ml          INFO    Starting score evaluation\n",
      "22:02 madminer.ml          INFO    Starting score evaluation\n",
      "22:02 madminer.fisherinfor INFO    Evaluating kinematic Fisher information on batch 2 / 10\n",
      "22:03 madminer.ml          INFO    Starting score evaluation\n",
      "22:03 madminer.ml          INFO    Starting score evaluation\n",
      "22:03 madminer.ml          INFO    Starting score evaluation\n",
      "22:03 madminer.ml          INFO    Starting score evaluation\n",
      "22:03 madminer.ml          INFO    Starting score evaluation\n",
      "22:03 madminer.fisherinfor INFO    Evaluating kinematic Fisher information on batch 3 / 10\n",
      "22:03 madminer.ml          INFO    Starting score evaluation\n",
      "22:03 madminer.ml          INFO    Starting score evaluation\n",
      "22:03 madminer.ml          INFO    Starting score evaluation\n",
      "22:03 madminer.ml          INFO    Starting score evaluation\n",
      "22:03 madminer.ml          INFO    Starting score evaluation\n",
      "22:03 madminer.fisherinfor INFO    Evaluating kinematic Fisher information on batch 4 / 10\n",
      "22:03 madminer.ml          INFO    Starting score evaluation\n",
      "22:03 madminer.ml          INFO    Starting score evaluation\n",
      "22:03 madminer.ml          INFO    Starting score evaluation\n",
      "22:03 madminer.ml          INFO    Starting score evaluation\n",
      "22:03 madminer.ml          INFO    Starting score evaluation\n",
      "22:03 madminer.fisherinfor INFO    Evaluating kinematic Fisher information on batch 5 / 10\n",
      "22:03 madminer.ml          INFO    Starting score evaluation\n",
      "22:03 madminer.ml          INFO    Starting score evaluation\n",
      "22:03 madminer.ml          INFO    Starting score evaluation\n",
      "22:03 madminer.ml          INFO    Starting score evaluation\n",
      "22:03 madminer.ml          INFO    Starting score evaluation\n",
      "22:03 madminer.fisherinfor INFO    Evaluating kinematic Fisher information on batch 6 / 10\n",
      "22:03 madminer.ml          INFO    Starting score evaluation\n",
      "22:03 madminer.ml          INFO    Starting score evaluation\n",
      "22:03 madminer.ml          INFO    Starting score evaluation\n",
      "22:03 madminer.ml          INFO    Starting score evaluation\n",
      "22:03 madminer.ml          INFO    Starting score evaluation\n",
      "22:03 madminer.fisherinfor INFO    Evaluating kinematic Fisher information on batch 7 / 10\n",
      "22:04 madminer.ml          INFO    Starting score evaluation\n",
      "22:04 madminer.ml          INFO    Starting score evaluation\n",
      "22:04 madminer.ml          INFO    Starting score evaluation\n",
      "22:04 madminer.ml          INFO    Starting score evaluation\n",
      "22:04 madminer.ml          INFO    Starting score evaluation\n",
      "22:04 madminer.fisherinfor INFO    Evaluating kinematic Fisher information on batch 8 / 10\n",
      "22:04 madminer.ml          INFO    Starting score evaluation\n",
      "22:04 madminer.ml          INFO    Starting score evaluation\n",
      "22:04 madminer.ml          INFO    Starting score evaluation\n",
      "22:04 madminer.ml          INFO    Starting score evaluation\n",
      "22:04 madminer.ml          INFO    Starting score evaluation\n",
      "22:04 madminer.fisherinfor INFO    Evaluating kinematic Fisher information on batch 9 / 10\n",
      "22:04 madminer.ml          INFO    Starting score evaluation\n",
      "22:04 madminer.ml          INFO    Starting score evaluation\n",
      "22:04 madminer.ml          INFO    Starting score evaluation\n",
      "22:04 madminer.ml          INFO    Starting score evaluation\n",
      "22:04 madminer.ml          INFO    Starting score evaluation\n",
      "22:04 madminer.fisherinfor INFO    Evaluating kinematic Fisher information on batch 10 / 10\n",
      "22:04 madminer.ml          INFO    Starting score evaluation\n",
      "22:04 madminer.ml          INFO    Starting score evaluation\n",
      "22:04 madminer.ml          INFO    Starting score evaluation\n",
      "22:04 madminer.ml          INFO    Starting score evaluation\n",
      "22:04 madminer.ml          INFO    Starting score evaluation\n"
     ]
    }
   ],
   "source": [
    "bins_histo_wph_e_etah, w_in_histo_wph_e_etah, fi_histo_rate_wph_e_etah, fi_histo_wph_e_etah = fisher_wph_e_wbkgs_met.histogram_of_fisher_information(\n",
    "    theta=[0.,0.,0.,0.],\n",
    "    luminosity=100*1000.,\n",
    "    observable='eta_h',\n",
    "    nbins=20,\n",
    "    histrange=(-5.,5.),\n",
    "    model_file=model_path_wph_e,\n",
    ")"
   ]
  },
  {
   "cell_type": "code",
   "execution_count": 62,
   "metadata": {
    "collapsed": true,
    "hidden": true
   },
   "outputs": [
    {
     "name": "stderr",
     "output_type": "stream",
     "text": [
      "22:04 madminer.ml          INFO    Found score ensemble with 5 estimators\n",
      "22:04 madminer.ml          INFO    Loading model from models/met/ensemble_wmh_mu_wbkgs_sigsystonly_lhedata_met/estimator_0\n",
      "22:04 madminer.ml          INFO    Loading model from models/met/ensemble_wmh_mu_wbkgs_sigsystonly_lhedata_met/estimator_1\n",
      "22:04 madminer.ml          INFO    Loading model from models/met/ensemble_wmh_mu_wbkgs_sigsystonly_lhedata_met/estimator_2\n",
      "22:04 madminer.ml          INFO    Loading model from models/met/ensemble_wmh_mu_wbkgs_sigsystonly_lhedata_met/estimator_3\n",
      "22:04 madminer.ml          INFO    Loading model from models/met/ensemble_wmh_mu_wbkgs_sigsystonly_lhedata_met/estimator_4\n",
      "22:10 madminer.fisherinfor INFO    Evaluating kinematic Fisher information on batch 1 / 10\n",
      "22:10 madminer.ml          INFO    Starting score evaluation\n",
      "22:10 madminer.ml          INFO    Starting score evaluation\n",
      "22:10 madminer.ml          INFO    Starting score evaluation\n",
      "22:10 madminer.ml          INFO    Starting score evaluation\n",
      "22:10 madminer.ml          INFO    Starting score evaluation\n",
      "22:10 madminer.fisherinfor INFO    Evaluating kinematic Fisher information on batch 2 / 10\n",
      "22:10 madminer.ml          INFO    Starting score evaluation\n",
      "22:10 madminer.ml          INFO    Starting score evaluation\n",
      "22:10 madminer.ml          INFO    Starting score evaluation\n",
      "22:10 madminer.ml          INFO    Starting score evaluation\n",
      "22:10 madminer.ml          INFO    Starting score evaluation\n",
      "22:10 madminer.fisherinfor INFO    Evaluating kinematic Fisher information on batch 3 / 10\n",
      "22:10 madminer.ml          INFO    Starting score evaluation\n",
      "22:10 madminer.ml          INFO    Starting score evaluation\n",
      "22:10 madminer.ml          INFO    Starting score evaluation\n",
      "22:10 madminer.ml          INFO    Starting score evaluation\n",
      "22:10 madminer.ml          INFO    Starting score evaluation\n",
      "22:10 madminer.fisherinfor INFO    Evaluating kinematic Fisher information on batch 4 / 10\n",
      "22:11 madminer.ml          INFO    Starting score evaluation\n",
      "22:11 madminer.ml          INFO    Starting score evaluation\n",
      "22:11 madminer.ml          INFO    Starting score evaluation\n",
      "22:11 madminer.ml          INFO    Starting score evaluation\n",
      "22:11 madminer.ml          INFO    Starting score evaluation\n",
      "22:11 madminer.fisherinfor INFO    Evaluating kinematic Fisher information on batch 5 / 10\n",
      "22:11 madminer.ml          INFO    Starting score evaluation\n",
      "22:11 madminer.ml          INFO    Starting score evaluation\n",
      "22:11 madminer.ml          INFO    Starting score evaluation\n",
      "22:11 madminer.ml          INFO    Starting score evaluation\n",
      "22:11 madminer.ml          INFO    Starting score evaluation\n",
      "22:11 madminer.fisherinfor INFO    Evaluating kinematic Fisher information on batch 6 / 10\n",
      "22:11 madminer.ml          INFO    Starting score evaluation\n",
      "22:11 madminer.ml          INFO    Starting score evaluation\n",
      "22:11 madminer.ml          INFO    Starting score evaluation\n",
      "22:11 madminer.ml          INFO    Starting score evaluation\n",
      "22:11 madminer.ml          INFO    Starting score evaluation\n",
      "22:11 madminer.fisherinfor INFO    Evaluating kinematic Fisher information on batch 7 / 10\n",
      "22:11 madminer.ml          INFO    Starting score evaluation\n",
      "22:11 madminer.ml          INFO    Starting score evaluation\n",
      "22:11 madminer.ml          INFO    Starting score evaluation\n",
      "22:11 madminer.ml          INFO    Starting score evaluation\n",
      "22:11 madminer.ml          INFO    Starting score evaluation\n",
      "22:11 madminer.fisherinfor INFO    Evaluating kinematic Fisher information on batch 8 / 10\n",
      "22:11 madminer.ml          INFO    Starting score evaluation\n",
      "22:11 madminer.ml          INFO    Starting score evaluation\n",
      "22:11 madminer.ml          INFO    Starting score evaluation\n",
      "22:11 madminer.ml          INFO    Starting score evaluation\n",
      "22:11 madminer.ml          INFO    Starting score evaluation\n",
      "22:12 madminer.fisherinfor INFO    Evaluating kinematic Fisher information on batch 9 / 10\n",
      "22:12 madminer.ml          INFO    Starting score evaluation\n",
      "22:12 madminer.ml          INFO    Starting score evaluation\n",
      "22:12 madminer.ml          INFO    Starting score evaluation\n",
      "22:12 madminer.ml          INFO    Starting score evaluation\n",
      "22:12 madminer.ml          INFO    Starting score evaluation\n",
      "22:12 madminer.fisherinfor INFO    Evaluating kinematic Fisher information on batch 10 / 10\n",
      "22:12 madminer.ml          INFO    Starting score evaluation\n",
      "22:12 madminer.ml          INFO    Starting score evaluation\n",
      "22:12 madminer.ml          INFO    Starting score evaluation\n",
      "22:12 madminer.ml          INFO    Starting score evaluation\n",
      "22:12 madminer.ml          INFO    Starting score evaluation\n"
     ]
    }
   ],
   "source": [
    "bins_histo_wmh_mu_etah, w_in_histo_wmh_mu_etah, fi_histo_rate_wmh_mu_etah, fi_histo_wmh_mu_etah = fisher_wmh_mu_wbkgs_met.histogram_of_fisher_information(\n",
    "    theta=[0.,0.,0.,0.],\n",
    "    luminosity=100*1000.,\n",
    "    observable='eta_h',\n",
    "    nbins=20,\n",
    "    histrange=(-5.,5.),\n",
    "    model_file=model_path_wmh_mu,\n",
    ")"
   ]
  },
  {
   "cell_type": "code",
   "execution_count": 63,
   "metadata": {
    "collapsed": true,
    "hidden": true
   },
   "outputs": [
    {
     "name": "stderr",
     "output_type": "stream",
     "text": [
      "22:12 madminer.ml          INFO    Found score ensemble with 5 estimators\n",
      "22:12 madminer.ml          INFO    Loading model from models/met/ensemble_wmh_e_wbkgs_sigsystonly_lhedata_met/estimator_0\n",
      "22:12 madminer.ml          INFO    Loading model from models/met/ensemble_wmh_e_wbkgs_sigsystonly_lhedata_met/estimator_1\n",
      "22:12 madminer.ml          INFO    Loading model from models/met/ensemble_wmh_e_wbkgs_sigsystonly_lhedata_met/estimator_2\n",
      "22:12 madminer.ml          INFO    Loading model from models/met/ensemble_wmh_e_wbkgs_sigsystonly_lhedata_met/estimator_3\n",
      "22:12 madminer.ml          INFO    Loading model from models/met/ensemble_wmh_e_wbkgs_sigsystonly_lhedata_met/estimator_4\n",
      "22:17 madminer.fisherinfor INFO    Evaluating kinematic Fisher information on batch 1 / 10\n",
      "22:17 madminer.ml          INFO    Starting score evaluation\n",
      "22:17 madminer.ml          INFO    Starting score evaluation\n",
      "22:17 madminer.ml          INFO    Starting score evaluation\n",
      "22:17 madminer.ml          INFO    Starting score evaluation\n",
      "22:17 madminer.ml          INFO    Starting score evaluation\n",
      "22:18 madminer.fisherinfor INFO    Evaluating kinematic Fisher information on batch 2 / 10\n",
      "22:18 madminer.ml          INFO    Starting score evaluation\n",
      "22:18 madminer.ml          INFO    Starting score evaluation\n",
      "22:18 madminer.ml          INFO    Starting score evaluation\n",
      "22:18 madminer.ml          INFO    Starting score evaluation\n",
      "22:18 madminer.ml          INFO    Starting score evaluation\n",
      "22:18 madminer.fisherinfor INFO    Evaluating kinematic Fisher information on batch 3 / 10\n",
      "22:18 madminer.ml          INFO    Starting score evaluation\n",
      "22:18 madminer.ml          INFO    Starting score evaluation\n",
      "22:18 madminer.ml          INFO    Starting score evaluation\n",
      "22:18 madminer.ml          INFO    Starting score evaluation\n",
      "22:18 madminer.ml          INFO    Starting score evaluation\n",
      "22:18 madminer.fisherinfor INFO    Evaluating kinematic Fisher information on batch 4 / 10\n",
      "22:18 madminer.ml          INFO    Starting score evaluation\n",
      "22:18 madminer.ml          INFO    Starting score evaluation\n",
      "22:18 madminer.ml          INFO    Starting score evaluation\n",
      "22:18 madminer.ml          INFO    Starting score evaluation\n",
      "22:18 madminer.ml          INFO    Starting score evaluation\n",
      "22:18 madminer.fisherinfor INFO    Evaluating kinematic Fisher information on batch 5 / 10\n",
      "22:18 madminer.ml          INFO    Starting score evaluation\n",
      "22:18 madminer.ml          INFO    Starting score evaluation\n",
      "22:18 madminer.ml          INFO    Starting score evaluation\n",
      "22:18 madminer.ml          INFO    Starting score evaluation\n",
      "22:18 madminer.ml          INFO    Starting score evaluation\n",
      "22:18 madminer.fisherinfor INFO    Evaluating kinematic Fisher information on batch 6 / 10\n",
      "22:18 madminer.ml          INFO    Starting score evaluation\n",
      "22:18 madminer.ml          INFO    Starting score evaluation\n",
      "22:18 madminer.ml          INFO    Starting score evaluation\n",
      "22:18 madminer.ml          INFO    Starting score evaluation\n",
      "22:19 madminer.ml          INFO    Starting score evaluation\n",
      "22:19 madminer.fisherinfor INFO    Evaluating kinematic Fisher information on batch 7 / 10\n",
      "22:19 madminer.ml          INFO    Starting score evaluation\n",
      "22:19 madminer.ml          INFO    Starting score evaluation\n",
      "22:19 madminer.ml          INFO    Starting score evaluation\n",
      "22:19 madminer.ml          INFO    Starting score evaluation\n",
      "22:19 madminer.ml          INFO    Starting score evaluation\n",
      "22:19 madminer.fisherinfor INFO    Evaluating kinematic Fisher information on batch 8 / 10\n",
      "22:19 madminer.ml          INFO    Starting score evaluation\n",
      "22:19 madminer.ml          INFO    Starting score evaluation\n",
      "22:19 madminer.ml          INFO    Starting score evaluation\n",
      "22:19 madminer.ml          INFO    Starting score evaluation\n",
      "22:19 madminer.ml          INFO    Starting score evaluation\n",
      "22:19 madminer.fisherinfor INFO    Evaluating kinematic Fisher information on batch 9 / 10\n",
      "22:19 madminer.ml          INFO    Starting score evaluation\n",
      "22:19 madminer.ml          INFO    Starting score evaluation\n",
      "22:19 madminer.ml          INFO    Starting score evaluation\n",
      "22:19 madminer.ml          INFO    Starting score evaluation\n",
      "22:19 madminer.ml          INFO    Starting score evaluation\n",
      "22:19 madminer.fisherinfor INFO    Evaluating kinematic Fisher information on batch 10 / 10\n",
      "22:19 madminer.ml          INFO    Starting score evaluation\n",
      "22:19 madminer.ml          INFO    Starting score evaluation\n",
      "22:19 madminer.ml          INFO    Starting score evaluation\n",
      "22:19 madminer.ml          INFO    Starting score evaluation\n",
      "22:19 madminer.ml          INFO    Starting score evaluation\n"
     ]
    }
   ],
   "source": [
    "bins_histo_wmh_e_etah, w_in_histo_wmh_e_etah, fi_histo_rate_wmh_e_etah, fi_histo_wmh_e_etah = fisher_wmh_e_wbkgs_met.histogram_of_fisher_information(\n",
    "    theta=[0.,0.,0.,0.],\n",
    "    luminosity=100*1000.,\n",
    "    observable='eta_h',\n",
    "    nbins=20,\n",
    "    histrange=(-5.,5.),\n",
    "    model_file=model_path_wmh_e,\n",
    ")"
   ]
  },
  {
   "cell_type": "code",
   "execution_count": 64,
   "metadata": {
    "collapsed": true,
    "hidden": true
   },
   "outputs": [],
   "source": [
    "fi_histo_etah_outfile = './fisher_info/dists/fi_histo_etah.npz'\n",
    "\n",
    "fi_histo_etah_list = [\n",
    "    bins_histo_wph_mu_etah,\n",
    "    w_in_histo_wph_mu_etah,\n",
    "    fi_histo_rate_wph_mu_etah,\n",
    "    fi_histo_wph_mu_etah,\n",
    "    bins_histo_wph_e_etah,\n",
    "    w_in_histo_wph_e_etah,\n",
    "    fi_histo_rate_wph_e_etah,\n",
    "    fi_histo_wph_e_etah,\n",
    "    bins_histo_wmh_mu_etah,\n",
    "    w_in_histo_wmh_mu_etah,\n",
    "    fi_histo_rate_wmh_mu_etah,\n",
    "    fi_histo_wmh_mu_etah,\n",
    "    bins_histo_wmh_e_etah,\n",
    "    w_in_histo_wmh_e_etah,\n",
    "    fi_histo_rate_wmh_e_etah,\n",
    "    fi_histo_wmh_e_etah,\n",
    "]"
   ]
  },
  {
   "cell_type": "code",
   "execution_count": 65,
   "metadata": {
    "collapsed": true,
    "hidden": true
   },
   "outputs": [],
   "source": [
    "np.savez(fi_histo_etah_outfile, fi_histo_etah_list, allow_pickle=False)"
   ]
  },
  {
   "cell_type": "code",
   "execution_count": 66,
   "metadata": {
    "collapsed": true,
    "hidden": true
   },
   "outputs": [],
   "source": [
    "fi_histo_rate_etah = [ fi_histo_rate_wph_mu_etah[i]\n",
    "                     + fi_histo_rate_wph_e_etah[i] \n",
    "                     + fi_histo_rate_wmh_mu_etah[i] \n",
    "                     + fi_histo_rate_wmh_e_etah[i] \n",
    "                     for i in range(0, len(fi_histo_rate_wph_mu_etah)) ]\n",
    "\n",
    "fi_histo_etah = [ fi_histo_wph_mu_etah[i]\n",
    "                     + fi_histo_wph_e_etah[i] \n",
    "                     + fi_histo_wmh_mu_etah[i] \n",
    "                     + fi_histo_wmh_e_etah[i] \n",
    "                     for i in range(0, len(fi_histo_wph_mu_etah)) ]\n",
    "\n",
    "fi_histo_rate_etah_rot = [ rotate(fi_histo_rate_etah[i]) for i in range(0, len(fi_histo_rate_etah)) ]\n",
    "fi_histo_etah_rot = [ rotate(fi_histo_etah[i]) for i in range(0, len(fi_histo_etah)) ]"
   ]
  },
  {
   "cell_type": "markdown",
   "metadata": {
    "heading_collapsed": true
   },
   "source": [
    "### $\\Delta \\phi_{\\ell \\nu}$"
   ]
  },
  {
   "cell_type": "code",
   "execution_count": 67,
   "metadata": {
    "collapsed": true,
    "hidden": true
   },
   "outputs": [
    {
     "name": "stderr",
     "output_type": "stream",
     "text": [
      "22:19 madminer.ml          INFO    Found score ensemble with 5 estimators\n",
      "22:19 madminer.ml          INFO    Loading model from models/met/ensemble_wph_mu_wbkgs_sigsystonly_lhedata_met/estimator_0\n",
      "22:19 madminer.ml          INFO    Loading model from models/met/ensemble_wph_mu_wbkgs_sigsystonly_lhedata_met/estimator_1\n",
      "22:19 madminer.ml          INFO    Loading model from models/met/ensemble_wph_mu_wbkgs_sigsystonly_lhedata_met/estimator_2\n",
      "22:19 madminer.ml          INFO    Loading model from models/met/ensemble_wph_mu_wbkgs_sigsystonly_lhedata_met/estimator_3\n",
      "22:19 madminer.ml          INFO    Loading model from models/met/ensemble_wph_mu_wbkgs_sigsystonly_lhedata_met/estimator_4\n",
      "22:25 madminer.fisherinfor INFO    Evaluating kinematic Fisher information on batch 1 / 10\n",
      "22:25 madminer.ml          INFO    Starting score evaluation\n",
      "22:25 madminer.ml          INFO    Starting score evaluation\n",
      "22:25 madminer.ml          INFO    Starting score evaluation\n",
      "22:25 madminer.ml          INFO    Starting score evaluation\n",
      "22:25 madminer.ml          INFO    Starting score evaluation\n",
      "22:25 madminer.fisherinfor INFO    Evaluating kinematic Fisher information on batch 2 / 10\n",
      "22:25 madminer.ml          INFO    Starting score evaluation\n",
      "22:25 madminer.ml          INFO    Starting score evaluation\n",
      "22:25 madminer.ml          INFO    Starting score evaluation\n",
      "22:25 madminer.ml          INFO    Starting score evaluation\n",
      "22:25 madminer.ml          INFO    Starting score evaluation\n",
      "22:25 madminer.fisherinfor INFO    Evaluating kinematic Fisher information on batch 3 / 10\n",
      "22:25 madminer.ml          INFO    Starting score evaluation\n",
      "22:25 madminer.ml          INFO    Starting score evaluation\n",
      "22:25 madminer.ml          INFO    Starting score evaluation\n",
      "22:25 madminer.ml          INFO    Starting score evaluation\n",
      "22:25 madminer.ml          INFO    Starting score evaluation\n",
      "22:25 madminer.fisherinfor INFO    Evaluating kinematic Fisher information on batch 4 / 10\n",
      "22:25 madminer.ml          INFO    Starting score evaluation\n",
      "22:25 madminer.ml          INFO    Starting score evaluation\n",
      "22:25 madminer.ml          INFO    Starting score evaluation\n",
      "22:25 madminer.ml          INFO    Starting score evaluation\n",
      "22:25 madminer.ml          INFO    Starting score evaluation\n",
      "22:25 madminer.fisherinfor INFO    Evaluating kinematic Fisher information on batch 5 / 10\n",
      "22:26 madminer.ml          INFO    Starting score evaluation\n",
      "22:26 madminer.ml          INFO    Starting score evaluation\n",
      "22:26 madminer.ml          INFO    Starting score evaluation\n",
      "22:26 madminer.ml          INFO    Starting score evaluation\n",
      "22:26 madminer.ml          INFO    Starting score evaluation\n",
      "22:26 madminer.fisherinfor INFO    Evaluating kinematic Fisher information on batch 6 / 10\n",
      "22:26 madminer.ml          INFO    Starting score evaluation\n",
      "22:26 madminer.ml          INFO    Starting score evaluation\n",
      "22:26 madminer.ml          INFO    Starting score evaluation\n",
      "22:26 madminer.ml          INFO    Starting score evaluation\n",
      "22:26 madminer.ml          INFO    Starting score evaluation\n",
      "22:26 madminer.fisherinfor INFO    Evaluating kinematic Fisher information on batch 7 / 10\n",
      "22:26 madminer.ml          INFO    Starting score evaluation\n",
      "22:26 madminer.ml          INFO    Starting score evaluation\n",
      "22:26 madminer.ml          INFO    Starting score evaluation\n",
      "22:26 madminer.ml          INFO    Starting score evaluation\n",
      "22:26 madminer.ml          INFO    Starting score evaluation\n",
      "22:26 madminer.fisherinfor INFO    Evaluating kinematic Fisher information on batch 8 / 10\n",
      "22:26 madminer.ml          INFO    Starting score evaluation\n",
      "22:26 madminer.ml          INFO    Starting score evaluation\n",
      "22:26 madminer.ml          INFO    Starting score evaluation\n",
      "22:26 madminer.ml          INFO    Starting score evaluation\n",
      "22:26 madminer.ml          INFO    Starting score evaluation\n",
      "22:26 madminer.fisherinfor INFO    Evaluating kinematic Fisher information on batch 9 / 10\n",
      "22:26 madminer.ml          INFO    Starting score evaluation\n",
      "22:26 madminer.ml          INFO    Starting score evaluation\n",
      "22:26 madminer.ml          INFO    Starting score evaluation\n",
      "22:26 madminer.ml          INFO    Starting score evaluation\n",
      "22:26 madminer.ml          INFO    Starting score evaluation\n",
      "22:27 madminer.fisherinfor INFO    Evaluating kinematic Fisher information on batch 10 / 10\n",
      "22:27 madminer.ml          INFO    Starting score evaluation\n",
      "22:27 madminer.ml          INFO    Starting score evaluation\n",
      "22:27 madminer.ml          INFO    Starting score evaluation\n",
      "22:27 madminer.ml          INFO    Starting score evaluation\n",
      "22:27 madminer.ml          INFO    Starting score evaluation\n"
     ]
    }
   ],
   "source": [
    "bins_histo_wph_mu_dphilv, w_in_histo_wph_mu_dphilv, fi_histo_rate_wph_mu_dphilv, fi_histo_wph_mu_dphilv = fisher_wph_mu_wbkgs_met.histogram_of_fisher_information(\n",
    "    theta=[0.,0.,0.,0.],\n",
    "    luminosity=100*1000.,\n",
    "    observable='dphi_lv',\n",
    "    nbins=20,\n",
    "    histrange=(-3.2,3.2),\n",
    "    model_file=model_path_wph_mu,\n",
    ")"
   ]
  },
  {
   "cell_type": "code",
   "execution_count": 68,
   "metadata": {
    "collapsed": true,
    "hidden": true
   },
   "outputs": [
    {
     "name": "stderr",
     "output_type": "stream",
     "text": [
      "22:27 madminer.ml          INFO    Found score ensemble with 5 estimators\n",
      "22:27 madminer.ml          INFO    Loading model from models/met/ensemble_wph_e_wbkgs_sigsystonly_lhedata_met/estimator_0\n",
      "22:27 madminer.ml          INFO    Loading model from models/met/ensemble_wph_e_wbkgs_sigsystonly_lhedata_met/estimator_1\n",
      "22:27 madminer.ml          INFO    Loading model from models/met/ensemble_wph_e_wbkgs_sigsystonly_lhedata_met/estimator_2\n",
      "22:27 madminer.ml          INFO    Loading model from models/met/ensemble_wph_e_wbkgs_sigsystonly_lhedata_met/estimator_3\n",
      "22:27 madminer.ml          INFO    Loading model from models/met/ensemble_wph_e_wbkgs_sigsystonly_lhedata_met/estimator_4\n",
      "22:32 madminer.fisherinfor INFO    Evaluating kinematic Fisher information on batch 1 / 10\n",
      "22:32 madminer.ml          INFO    Starting score evaluation\n",
      "22:32 madminer.ml          INFO    Starting score evaluation\n",
      "22:32 madminer.ml          INFO    Starting score evaluation\n",
      "22:32 madminer.ml          INFO    Starting score evaluation\n",
      "22:32 madminer.ml          INFO    Starting score evaluation\n",
      "22:32 madminer.fisherinfor INFO    Evaluating kinematic Fisher information on batch 2 / 10\n",
      "22:32 madminer.ml          INFO    Starting score evaluation\n",
      "22:32 madminer.ml          INFO    Starting score evaluation\n",
      "22:32 madminer.ml          INFO    Starting score evaluation\n",
      "22:32 madminer.ml          INFO    Starting score evaluation\n",
      "22:32 madminer.ml          INFO    Starting score evaluation\n",
      "22:32 madminer.fisherinfor INFO    Evaluating kinematic Fisher information on batch 3 / 10\n",
      "22:32 madminer.ml          INFO    Starting score evaluation\n",
      "22:32 madminer.ml          INFO    Starting score evaluation\n",
      "22:32 madminer.ml          INFO    Starting score evaluation\n",
      "22:32 madminer.ml          INFO    Starting score evaluation\n",
      "22:32 madminer.ml          INFO    Starting score evaluation\n",
      "22:32 madminer.fisherinfor INFO    Evaluating kinematic Fisher information on batch 4 / 10\n",
      "22:33 madminer.ml          INFO    Starting score evaluation\n",
      "22:33 madminer.ml          INFO    Starting score evaluation\n",
      "22:33 madminer.ml          INFO    Starting score evaluation\n",
      "22:33 madminer.ml          INFO    Starting score evaluation\n",
      "22:33 madminer.ml          INFO    Starting score evaluation\n",
      "22:33 madminer.fisherinfor INFO    Evaluating kinematic Fisher information on batch 5 / 10\n",
      "22:33 madminer.ml          INFO    Starting score evaluation\n",
      "22:33 madminer.ml          INFO    Starting score evaluation\n",
      "22:33 madminer.ml          INFO    Starting score evaluation\n",
      "22:33 madminer.ml          INFO    Starting score evaluation\n",
      "22:33 madminer.ml          INFO    Starting score evaluation\n",
      "22:33 madminer.fisherinfor INFO    Evaluating kinematic Fisher information on batch 6 / 10\n",
      "22:33 madminer.ml          INFO    Starting score evaluation\n",
      "22:33 madminer.ml          INFO    Starting score evaluation\n",
      "22:33 madminer.ml          INFO    Starting score evaluation\n",
      "22:33 madminer.ml          INFO    Starting score evaluation\n",
      "22:33 madminer.ml          INFO    Starting score evaluation\n",
      "22:33 madminer.fisherinfor INFO    Evaluating kinematic Fisher information on batch 7 / 10\n",
      "22:33 madminer.ml          INFO    Starting score evaluation\n",
      "22:33 madminer.ml          INFO    Starting score evaluation\n",
      "22:33 madminer.ml          INFO    Starting score evaluation\n",
      "22:33 madminer.ml          INFO    Starting score evaluation\n",
      "22:33 madminer.ml          INFO    Starting score evaluation\n",
      "22:33 madminer.fisherinfor INFO    Evaluating kinematic Fisher information on batch 8 / 10\n",
      "22:33 madminer.ml          INFO    Starting score evaluation\n",
      "22:33 madminer.ml          INFO    Starting score evaluation\n",
      "22:33 madminer.ml          INFO    Starting score evaluation\n",
      "22:33 madminer.ml          INFO    Starting score evaluation\n",
      "22:33 madminer.ml          INFO    Starting score evaluation\n",
      "22:34 madminer.fisherinfor INFO    Evaluating kinematic Fisher information on batch 9 / 10\n",
      "22:34 madminer.ml          INFO    Starting score evaluation\n",
      "22:34 madminer.ml          INFO    Starting score evaluation\n",
      "22:34 madminer.ml          INFO    Starting score evaluation\n",
      "22:34 madminer.ml          INFO    Starting score evaluation\n",
      "22:34 madminer.ml          INFO    Starting score evaluation\n",
      "22:34 madminer.fisherinfor INFO    Evaluating kinematic Fisher information on batch 10 / 10\n",
      "22:34 madminer.ml          INFO    Starting score evaluation\n",
      "22:34 madminer.ml          INFO    Starting score evaluation\n",
      "22:34 madminer.ml          INFO    Starting score evaluation\n",
      "22:34 madminer.ml          INFO    Starting score evaluation\n",
      "22:34 madminer.ml          INFO    Starting score evaluation\n"
     ]
    }
   ],
   "source": [
    "bins_histo_wph_e_dphilv, w_in_histo_wph_e_dphilv, fi_histo_rate_wph_e_dphilv, fi_histo_wph_e_dphilv = fisher_wph_e_wbkgs_met.histogram_of_fisher_information(\n",
    "    theta=[0.,0.,0.,0.],\n",
    "    luminosity=100*1000.,\n",
    "    observable='dphi_lv',\n",
    "    nbins=20,\n",
    "    histrange=(-3.2,3.2),\n",
    "    model_file=model_path_wph_e,\n",
    ")"
   ]
  },
  {
   "cell_type": "code",
   "execution_count": 69,
   "metadata": {
    "collapsed": true,
    "hidden": true
   },
   "outputs": [
    {
     "name": "stderr",
     "output_type": "stream",
     "text": [
      "22:34 madminer.ml          INFO    Found score ensemble with 5 estimators\n",
      "22:34 madminer.ml          INFO    Loading model from models/met/ensemble_wmh_mu_wbkgs_sigsystonly_lhedata_met/estimator_0\n",
      "22:34 madminer.ml          INFO    Loading model from models/met/ensemble_wmh_mu_wbkgs_sigsystonly_lhedata_met/estimator_1\n",
      "22:34 madminer.ml          INFO    Loading model from models/met/ensemble_wmh_mu_wbkgs_sigsystonly_lhedata_met/estimator_2\n",
      "22:34 madminer.ml          INFO    Loading model from models/met/ensemble_wmh_mu_wbkgs_sigsystonly_lhedata_met/estimator_3\n",
      "22:34 madminer.ml          INFO    Loading model from models/met/ensemble_wmh_mu_wbkgs_sigsystonly_lhedata_met/estimator_4\n",
      "22:39 madminer.fisherinfor INFO    Evaluating kinematic Fisher information on batch 1 / 10\n",
      "22:39 madminer.ml          INFO    Starting score evaluation\n",
      "22:39 madminer.ml          INFO    Starting score evaluation\n",
      "22:39 madminer.ml          INFO    Starting score evaluation\n",
      "22:39 madminer.ml          INFO    Starting score evaluation\n",
      "22:39 madminer.ml          INFO    Starting score evaluation\n",
      "22:39 madminer.fisherinfor INFO    Evaluating kinematic Fisher information on batch 2 / 10\n",
      "22:39 madminer.ml          INFO    Starting score evaluation\n",
      "22:39 madminer.ml          INFO    Starting score evaluation\n",
      "22:39 madminer.ml          INFO    Starting score evaluation\n",
      "22:39 madminer.ml          INFO    Starting score evaluation\n",
      "22:39 madminer.ml          INFO    Starting score evaluation\n",
      "22:40 madminer.fisherinfor INFO    Evaluating kinematic Fisher information on batch 3 / 10\n",
      "22:40 madminer.ml          INFO    Starting score evaluation\n",
      "22:40 madminer.ml          INFO    Starting score evaluation\n",
      "22:40 madminer.ml          INFO    Starting score evaluation\n",
      "22:40 madminer.ml          INFO    Starting score evaluation\n",
      "22:40 madminer.ml          INFO    Starting score evaluation\n",
      "22:40 madminer.fisherinfor INFO    Evaluating kinematic Fisher information on batch 4 / 10\n",
      "22:40 madminer.ml          INFO    Starting score evaluation\n",
      "22:40 madminer.ml          INFO    Starting score evaluation\n",
      "22:40 madminer.ml          INFO    Starting score evaluation\n",
      "22:40 madminer.ml          INFO    Starting score evaluation\n",
      "22:40 madminer.ml          INFO    Starting score evaluation\n",
      "22:40 madminer.fisherinfor INFO    Evaluating kinematic Fisher information on batch 5 / 10\n",
      "22:40 madminer.ml          INFO    Starting score evaluation\n",
      "22:40 madminer.ml          INFO    Starting score evaluation\n",
      "22:40 madminer.ml          INFO    Starting score evaluation\n",
      "22:40 madminer.ml          INFO    Starting score evaluation\n",
      "22:40 madminer.ml          INFO    Starting score evaluation\n",
      "22:40 madminer.fisherinfor INFO    Evaluating kinematic Fisher information on batch 6 / 10\n",
      "22:40 madminer.ml          INFO    Starting score evaluation\n",
      "22:40 madminer.ml          INFO    Starting score evaluation\n",
      "22:40 madminer.ml          INFO    Starting score evaluation\n",
      "22:40 madminer.ml          INFO    Starting score evaluation\n",
      "22:40 madminer.ml          INFO    Starting score evaluation\n",
      "22:40 madminer.fisherinfor INFO    Evaluating kinematic Fisher information on batch 7 / 10\n",
      "22:40 madminer.ml          INFO    Starting score evaluation\n",
      "22:41 madminer.ml          INFO    Starting score evaluation\n",
      "22:41 madminer.ml          INFO    Starting score evaluation\n",
      "22:41 madminer.ml          INFO    Starting score evaluation\n",
      "22:41 madminer.ml          INFO    Starting score evaluation\n",
      "22:41 madminer.fisherinfor INFO    Evaluating kinematic Fisher information on batch 8 / 10\n",
      "22:41 madminer.ml          INFO    Starting score evaluation\n",
      "22:41 madminer.ml          INFO    Starting score evaluation\n",
      "22:41 madminer.ml          INFO    Starting score evaluation\n",
      "22:41 madminer.ml          INFO    Starting score evaluation\n",
      "22:41 madminer.ml          INFO    Starting score evaluation\n",
      "22:41 madminer.fisherinfor INFO    Evaluating kinematic Fisher information on batch 9 / 10\n",
      "22:41 madminer.ml          INFO    Starting score evaluation\n",
      "22:41 madminer.ml          INFO    Starting score evaluation\n",
      "22:41 madminer.ml          INFO    Starting score evaluation\n",
      "22:41 madminer.ml          INFO    Starting score evaluation\n",
      "22:41 madminer.ml          INFO    Starting score evaluation\n",
      "22:41 madminer.fisherinfor INFO    Evaluating kinematic Fisher information on batch 10 / 10\n",
      "22:41 madminer.ml          INFO    Starting score evaluation\n",
      "22:41 madminer.ml          INFO    Starting score evaluation\n",
      "22:41 madminer.ml          INFO    Starting score evaluation\n",
      "22:41 madminer.ml          INFO    Starting score evaluation\n",
      "22:41 madminer.ml          INFO    Starting score evaluation\n"
     ]
    }
   ],
   "source": [
    "bins_histo_wmh_mu_dphilv, w_in_histo_wmh_mu_dphilv, fi_histo_rate_wmh_mu_dphilv, fi_histo_wmh_mu_dphilv = fisher_wmh_mu_wbkgs_met.histogram_of_fisher_information(\n",
    "    theta=[0.,0.,0.,0.],\n",
    "    luminosity=100*1000.,\n",
    "    observable='dphi_lv',\n",
    "    nbins=20,\n",
    "    histrange=(-3.2,3.2),\n",
    "    model_file=model_path_wmh_mu,\n",
    ")"
   ]
  },
  {
   "cell_type": "code",
   "execution_count": 70,
   "metadata": {
    "collapsed": true,
    "hidden": true
   },
   "outputs": [
    {
     "name": "stderr",
     "output_type": "stream",
     "text": [
      "22:41 madminer.ml          INFO    Found score ensemble with 5 estimators\n",
      "22:41 madminer.ml          INFO    Loading model from models/met/ensemble_wmh_e_wbkgs_sigsystonly_lhedata_met/estimator_0\n",
      "22:41 madminer.ml          INFO    Loading model from models/met/ensemble_wmh_e_wbkgs_sigsystonly_lhedata_met/estimator_1\n",
      "22:41 madminer.ml          INFO    Loading model from models/met/ensemble_wmh_e_wbkgs_sigsystonly_lhedata_met/estimator_2\n",
      "22:41 madminer.ml          INFO    Loading model from models/met/ensemble_wmh_e_wbkgs_sigsystonly_lhedata_met/estimator_3\n",
      "22:41 madminer.ml          INFO    Loading model from models/met/ensemble_wmh_e_wbkgs_sigsystonly_lhedata_met/estimator_4\n",
      "22:46 madminer.fisherinfor INFO    Evaluating kinematic Fisher information on batch 1 / 10\n",
      "22:46 madminer.ml          INFO    Starting score evaluation\n",
      "22:46 madminer.ml          INFO    Starting score evaluation\n",
      "22:47 madminer.ml          INFO    Starting score evaluation\n",
      "22:47 madminer.ml          INFO    Starting score evaluation\n",
      "22:47 madminer.ml          INFO    Starting score evaluation\n",
      "22:47 madminer.fisherinfor INFO    Evaluating kinematic Fisher information on batch 2 / 10\n",
      "22:47 madminer.ml          INFO    Starting score evaluation\n",
      "22:47 madminer.ml          INFO    Starting score evaluation\n",
      "22:47 madminer.ml          INFO    Starting score evaluation\n",
      "22:47 madminer.ml          INFO    Starting score evaluation\n",
      "22:47 madminer.ml          INFO    Starting score evaluation\n",
      "22:47 madminer.fisherinfor INFO    Evaluating kinematic Fisher information on batch 3 / 10\n",
      "22:47 madminer.ml          INFO    Starting score evaluation\n",
      "22:47 madminer.ml          INFO    Starting score evaluation\n",
      "22:47 madminer.ml          INFO    Starting score evaluation\n",
      "22:47 madminer.ml          INFO    Starting score evaluation\n",
      "22:47 madminer.ml          INFO    Starting score evaluation\n",
      "22:47 madminer.fisherinfor INFO    Evaluating kinematic Fisher information on batch 4 / 10\n",
      "22:47 madminer.ml          INFO    Starting score evaluation\n",
      "22:47 madminer.ml          INFO    Starting score evaluation\n",
      "22:47 madminer.ml          INFO    Starting score evaluation\n",
      "22:47 madminer.ml          INFO    Starting score evaluation\n",
      "22:47 madminer.ml          INFO    Starting score evaluation\n",
      "22:47 madminer.fisherinfor INFO    Evaluating kinematic Fisher information on batch 5 / 10\n",
      "22:47 madminer.ml          INFO    Starting score evaluation\n",
      "22:47 madminer.ml          INFO    Starting score evaluation\n",
      "22:47 madminer.ml          INFO    Starting score evaluation\n",
      "22:47 madminer.ml          INFO    Starting score evaluation\n",
      "22:47 madminer.ml          INFO    Starting score evaluation\n",
      "22:47 madminer.fisherinfor INFO    Evaluating kinematic Fisher information on batch 6 / 10\n",
      "22:48 madminer.ml          INFO    Starting score evaluation\n",
      "22:48 madminer.ml          INFO    Starting score evaluation\n",
      "22:48 madminer.ml          INFO    Starting score evaluation\n",
      "22:48 madminer.ml          INFO    Starting score evaluation\n",
      "22:48 madminer.ml          INFO    Starting score evaluation\n",
      "22:48 madminer.fisherinfor INFO    Evaluating kinematic Fisher information on batch 7 / 10\n",
      "22:48 madminer.ml          INFO    Starting score evaluation\n",
      "22:48 madminer.ml          INFO    Starting score evaluation\n",
      "22:48 madminer.ml          INFO    Starting score evaluation\n",
      "22:48 madminer.ml          INFO    Starting score evaluation\n",
      "22:48 madminer.ml          INFO    Starting score evaluation\n",
      "22:48 madminer.fisherinfor INFO    Evaluating kinematic Fisher information on batch 8 / 10\n",
      "22:48 madminer.ml          INFO    Starting score evaluation\n",
      "22:48 madminer.ml          INFO    Starting score evaluation\n",
      "22:48 madminer.ml          INFO    Starting score evaluation\n",
      "22:48 madminer.ml          INFO    Starting score evaluation\n",
      "22:48 madminer.ml          INFO    Starting score evaluation\n",
      "22:48 madminer.fisherinfor INFO    Evaluating kinematic Fisher information on batch 9 / 10\n",
      "22:48 madminer.ml          INFO    Starting score evaluation\n",
      "22:48 madminer.ml          INFO    Starting score evaluation\n",
      "22:48 madminer.ml          INFO    Starting score evaluation\n",
      "22:48 madminer.ml          INFO    Starting score evaluation\n",
      "22:48 madminer.ml          INFO    Starting score evaluation\n",
      "22:48 madminer.fisherinfor INFO    Evaluating kinematic Fisher information on batch 10 / 10\n",
      "22:48 madminer.ml          INFO    Starting score evaluation\n",
      "22:48 madminer.ml          INFO    Starting score evaluation\n",
      "22:48 madminer.ml          INFO    Starting score evaluation\n",
      "22:48 madminer.ml          INFO    Starting score evaluation\n",
      "22:48 madminer.ml          INFO    Starting score evaluation\n"
     ]
    }
   ],
   "source": [
    "bins_histo_wmh_e_dphilv, w_in_histo_wmh_e_dphilv, fi_histo_rate_wmh_e_dphilv, fi_histo_wmh_e_dphilv = fisher_wmh_e_wbkgs_met.histogram_of_fisher_information(\n",
    "    theta=[0.,0.,0.,0.],\n",
    "    luminosity=100*1000.,\n",
    "    observable='dphi_lv',\n",
    "    nbins=20,\n",
    "    histrange=(-3.2,3.2),\n",
    "    model_file=model_path_wmh_e,\n",
    ")"
   ]
  },
  {
   "cell_type": "code",
   "execution_count": 71,
   "metadata": {
    "collapsed": true,
    "hidden": true
   },
   "outputs": [],
   "source": [
    "fi_histo_dphilv_outfile = './fisher_info/dists/fi_histo_dphilv.npz'\n",
    "\n",
    "fi_histo_dphilv_list = [\n",
    "    bins_histo_wph_mu_dphilv,\n",
    "    w_in_histo_wph_mu_dphilv,\n",
    "    fi_histo_rate_wph_mu_dphilv,\n",
    "    fi_histo_wph_mu_dphilv,\n",
    "    bins_histo_wph_e_dphilv,\n",
    "    w_in_histo_wph_e_dphilv,\n",
    "    fi_histo_rate_wph_e_dphilv,\n",
    "    fi_histo_wph_e_dphilv,\n",
    "    bins_histo_wmh_mu_dphilv,\n",
    "    w_in_histo_wmh_mu_dphilv,\n",
    "    fi_histo_rate_wmh_mu_dphilv,\n",
    "    fi_histo_wmh_mu_dphilv,\n",
    "    bins_histo_wmh_e_dphilv,\n",
    "    w_in_histo_wmh_e_dphilv,\n",
    "    fi_histo_rate_wmh_e_dphilv,\n",
    "    fi_histo_wmh_e_dphilv,\n",
    "]"
   ]
  },
  {
   "cell_type": "code",
   "execution_count": 72,
   "metadata": {
    "collapsed": true,
    "hidden": true
   },
   "outputs": [],
   "source": [
    "np.savez(fi_histo_dphilv_outfile, fi_histo_dphilv_list, allow_pickle=False)"
   ]
  },
  {
   "cell_type": "code",
   "execution_count": 73,
   "metadata": {
    "collapsed": true,
    "hidden": true
   },
   "outputs": [],
   "source": [
    "fi_histo_rate_dphilv = [ fi_histo_rate_wph_mu_dphilv[i]\n",
    "                     + fi_histo_rate_wph_e_dphilv[i] \n",
    "                     + fi_histo_rate_wmh_mu_dphilv[i] \n",
    "                     + fi_histo_rate_wmh_e_dphilv[i] \n",
    "                     for i in range(0, len(fi_histo_rate_wph_mu_dphilv)) ]\n",
    "\n",
    "fi_histo_dphilv = [ fi_histo_wph_mu_dphilv[i]\n",
    "                     + fi_histo_wph_e_dphilv[i] \n",
    "                     + fi_histo_wmh_mu_dphilv[i] \n",
    "                     + fi_histo_wmh_e_dphilv[i] \n",
    "                     for i in range(0, len(fi_histo_wph_mu_dphilv)) ]\n",
    "\n",
    "fi_histo_rate_dphilv_rot = [ rotate(fi_histo_rate_dphilv[i]) for i in range(0, len(fi_histo_rate_dphilv)) ]\n",
    "fi_histo_dphilv_rot = [ rotate(fi_histo_dphilv[i]) for i in range(0, len(fi_histo_dphilv)) ]"
   ]
  },
  {
   "cell_type": "markdown",
   "metadata": {
    "heading_collapsed": true
   },
   "source": [
    "### $\\Delta R_{\\ell b_1}$"
   ]
  },
  {
   "cell_type": "code",
   "execution_count": 74,
   "metadata": {
    "collapsed": true,
    "hidden": true
   },
   "outputs": [
    {
     "name": "stderr",
     "output_type": "stream",
     "text": [
      "22:48 madminer.ml          INFO    Found score ensemble with 5 estimators\n",
      "22:48 madminer.ml          INFO    Loading model from models/met/ensemble_wph_mu_wbkgs_sigsystonly_lhedata_met/estimator_0\n",
      "22:48 madminer.ml          INFO    Loading model from models/met/ensemble_wph_mu_wbkgs_sigsystonly_lhedata_met/estimator_1\n",
      "22:48 madminer.ml          INFO    Loading model from models/met/ensemble_wph_mu_wbkgs_sigsystonly_lhedata_met/estimator_2\n",
      "22:48 madminer.ml          INFO    Loading model from models/met/ensemble_wph_mu_wbkgs_sigsystonly_lhedata_met/estimator_3\n",
      "22:48 madminer.ml          INFO    Loading model from models/met/ensemble_wph_mu_wbkgs_sigsystonly_lhedata_met/estimator_4\n",
      "22:54 madminer.fisherinfor INFO    Evaluating kinematic Fisher information on batch 1 / 10\n",
      "22:54 madminer.ml          INFO    Starting score evaluation\n",
      "22:54 madminer.ml          INFO    Starting score evaluation\n",
      "22:54 madminer.ml          INFO    Starting score evaluation\n",
      "22:54 madminer.ml          INFO    Starting score evaluation\n",
      "22:54 madminer.ml          INFO    Starting score evaluation\n",
      "22:54 madminer.fisherinfor INFO    Evaluating kinematic Fisher information on batch 2 / 10\n",
      "22:54 madminer.ml          INFO    Starting score evaluation\n",
      "22:54 madminer.ml          INFO    Starting score evaluation\n",
      "22:54 madminer.ml          INFO    Starting score evaluation\n",
      "22:54 madminer.ml          INFO    Starting score evaluation\n",
      "22:54 madminer.ml          INFO    Starting score evaluation\n",
      "22:54 madminer.fisherinfor INFO    Evaluating kinematic Fisher information on batch 3 / 10\n",
      "22:54 madminer.ml          INFO    Starting score evaluation\n",
      "22:54 madminer.ml          INFO    Starting score evaluation\n",
      "22:54 madminer.ml          INFO    Starting score evaluation\n",
      "22:54 madminer.ml          INFO    Starting score evaluation\n",
      "22:54 madminer.ml          INFO    Starting score evaluation\n",
      "22:54 madminer.fisherinfor INFO    Evaluating kinematic Fisher information on batch 4 / 10\n",
      "22:54 madminer.ml          INFO    Starting score evaluation\n",
      "22:54 madminer.ml          INFO    Starting score evaluation\n",
      "22:54 madminer.ml          INFO    Starting score evaluation\n",
      "22:54 madminer.ml          INFO    Starting score evaluation\n",
      "22:54 madminer.ml          INFO    Starting score evaluation\n",
      "22:55 madminer.fisherinfor INFO    Evaluating kinematic Fisher information on batch 5 / 10\n",
      "22:55 madminer.ml          INFO    Starting score evaluation\n",
      "22:55 madminer.ml          INFO    Starting score evaluation\n",
      "22:55 madminer.ml          INFO    Starting score evaluation\n",
      "22:55 madminer.ml          INFO    Starting score evaluation\n",
      "22:55 madminer.ml          INFO    Starting score evaluation\n",
      "22:55 madminer.fisherinfor INFO    Evaluating kinematic Fisher information on batch 6 / 10\n",
      "22:55 madminer.ml          INFO    Starting score evaluation\n",
      "22:55 madminer.ml          INFO    Starting score evaluation\n",
      "22:55 madminer.ml          INFO    Starting score evaluation\n",
      "22:55 madminer.ml          INFO    Starting score evaluation\n",
      "22:55 madminer.ml          INFO    Starting score evaluation\n",
      "22:55 madminer.fisherinfor INFO    Evaluating kinematic Fisher information on batch 7 / 10\n",
      "22:55 madminer.ml          INFO    Starting score evaluation\n",
      "22:55 madminer.ml          INFO    Starting score evaluation\n",
      "22:55 madminer.ml          INFO    Starting score evaluation\n",
      "22:55 madminer.ml          INFO    Starting score evaluation\n",
      "22:55 madminer.ml          INFO    Starting score evaluation\n",
      "22:55 madminer.fisherinfor INFO    Evaluating kinematic Fisher information on batch 8 / 10\n",
      "22:55 madminer.ml          INFO    Starting score evaluation\n",
      "22:55 madminer.ml          INFO    Starting score evaluation\n",
      "22:55 madminer.ml          INFO    Starting score evaluation\n",
      "22:55 madminer.ml          INFO    Starting score evaluation\n",
      "22:55 madminer.ml          INFO    Starting score evaluation\n",
      "22:55 madminer.fisherinfor INFO    Evaluating kinematic Fisher information on batch 9 / 10\n",
      "22:55 madminer.ml          INFO    Starting score evaluation\n",
      "22:55 madminer.ml          INFO    Starting score evaluation\n",
      "22:55 madminer.ml          INFO    Starting score evaluation\n",
      "22:55 madminer.ml          INFO    Starting score evaluation\n",
      "22:55 madminer.ml          INFO    Starting score evaluation\n",
      "22:56 madminer.fisherinfor INFO    Evaluating kinematic Fisher information on batch 10 / 10\n",
      "22:56 madminer.ml          INFO    Starting score evaluation\n",
      "22:56 madminer.ml          INFO    Starting score evaluation\n",
      "22:56 madminer.ml          INFO    Starting score evaluation\n",
      "22:56 madminer.ml          INFO    Starting score evaluation\n",
      "22:56 madminer.ml          INFO    Starting score evaluation\n"
     ]
    }
   ],
   "source": [
    "bins_histo_wph_mu_drlb1, w_in_histo_wph_mu_drlb1, fi_histo_rate_wph_mu_drlb1, fi_histo_wph_mu_drlb1 = fisher_wph_mu_wbkgs_met.histogram_of_fisher_information(\n",
    "    theta=[0.,0.,0.,0.],\n",
    "    luminosity=100*1000.,\n",
    "    observable='dR_lb1',\n",
    "    nbins=20,\n",
    "    histrange=(0.,5.),\n",
    "    model_file=model_path_wph_mu,\n",
    ")"
   ]
  },
  {
   "cell_type": "code",
   "execution_count": 75,
   "metadata": {
    "collapsed": true,
    "hidden": true
   },
   "outputs": [
    {
     "name": "stderr",
     "output_type": "stream",
     "text": [
      "22:56 madminer.ml          INFO    Found score ensemble with 5 estimators\n",
      "22:56 madminer.ml          INFO    Loading model from models/met/ensemble_wph_e_wbkgs_sigsystonly_lhedata_met/estimator_0\n",
      "22:56 madminer.ml          INFO    Loading model from models/met/ensemble_wph_e_wbkgs_sigsystonly_lhedata_met/estimator_1\n",
      "22:56 madminer.ml          INFO    Loading model from models/met/ensemble_wph_e_wbkgs_sigsystonly_lhedata_met/estimator_2\n",
      "22:56 madminer.ml          INFO    Loading model from models/met/ensemble_wph_e_wbkgs_sigsystonly_lhedata_met/estimator_3\n",
      "22:56 madminer.ml          INFO    Loading model from models/met/ensemble_wph_e_wbkgs_sigsystonly_lhedata_met/estimator_4\n",
      "23:01 madminer.fisherinfor INFO    Evaluating kinematic Fisher information on batch 1 / 10\n",
      "23:01 madminer.ml          INFO    Starting score evaluation\n",
      "23:01 madminer.ml          INFO    Starting score evaluation\n",
      "23:01 madminer.ml          INFO    Starting score evaluation\n",
      "23:01 madminer.ml          INFO    Starting score evaluation\n",
      "23:01 madminer.ml          INFO    Starting score evaluation\n",
      "23:01 madminer.fisherinfor INFO    Evaluating kinematic Fisher information on batch 2 / 10\n",
      "23:01 madminer.ml          INFO    Starting score evaluation\n",
      "23:01 madminer.ml          INFO    Starting score evaluation\n",
      "23:01 madminer.ml          INFO    Starting score evaluation\n",
      "23:01 madminer.ml          INFO    Starting score evaluation\n",
      "23:01 madminer.ml          INFO    Starting score evaluation\n",
      "23:01 madminer.fisherinfor INFO    Evaluating kinematic Fisher information on batch 3 / 10\n",
      "23:01 madminer.ml          INFO    Starting score evaluation\n",
      "23:01 madminer.ml          INFO    Starting score evaluation\n",
      "23:01 madminer.ml          INFO    Starting score evaluation\n",
      "23:01 madminer.ml          INFO    Starting score evaluation\n",
      "23:02 madminer.ml          INFO    Starting score evaluation\n",
      "23:02 madminer.fisherinfor INFO    Evaluating kinematic Fisher information on batch 4 / 10\n",
      "23:02 madminer.ml          INFO    Starting score evaluation\n",
      "23:02 madminer.ml          INFO    Starting score evaluation\n",
      "23:02 madminer.ml          INFO    Starting score evaluation\n",
      "23:02 madminer.ml          INFO    Starting score evaluation\n",
      "23:02 madminer.ml          INFO    Starting score evaluation\n",
      "23:02 madminer.fisherinfor INFO    Evaluating kinematic Fisher information on batch 5 / 10\n",
      "23:02 madminer.ml          INFO    Starting score evaluation\n",
      "23:02 madminer.ml          INFO    Starting score evaluation\n",
      "23:02 madminer.ml          INFO    Starting score evaluation\n",
      "23:02 madminer.ml          INFO    Starting score evaluation\n",
      "23:02 madminer.ml          INFO    Starting score evaluation\n",
      "23:02 madminer.fisherinfor INFO    Evaluating kinematic Fisher information on batch 6 / 10\n",
      "23:02 madminer.ml          INFO    Starting score evaluation\n",
      "23:02 madminer.ml          INFO    Starting score evaluation\n",
      "23:02 madminer.ml          INFO    Starting score evaluation\n",
      "23:02 madminer.ml          INFO    Starting score evaluation\n",
      "23:02 madminer.ml          INFO    Starting score evaluation\n",
      "23:02 madminer.fisherinfor INFO    Evaluating kinematic Fisher information on batch 7 / 10\n",
      "23:02 madminer.ml          INFO    Starting score evaluation\n",
      "23:02 madminer.ml          INFO    Starting score evaluation\n",
      "23:02 madminer.ml          INFO    Starting score evaluation\n",
      "23:02 madminer.ml          INFO    Starting score evaluation\n",
      "23:02 madminer.ml          INFO    Starting score evaluation\n",
      "23:02 madminer.fisherinfor INFO    Evaluating kinematic Fisher information on batch 8 / 10\n",
      "23:02 madminer.ml          INFO    Starting score evaluation\n",
      "23:03 madminer.ml          INFO    Starting score evaluation\n",
      "23:03 madminer.ml          INFO    Starting score evaluation\n",
      "23:03 madminer.ml          INFO    Starting score evaluation\n",
      "23:03 madminer.ml          INFO    Starting score evaluation\n",
      "23:03 madminer.fisherinfor INFO    Evaluating kinematic Fisher information on batch 9 / 10\n",
      "23:03 madminer.ml          INFO    Starting score evaluation\n",
      "23:03 madminer.ml          INFO    Starting score evaluation\n",
      "23:03 madminer.ml          INFO    Starting score evaluation\n",
      "23:03 madminer.ml          INFO    Starting score evaluation\n",
      "23:03 madminer.ml          INFO    Starting score evaluation\n",
      "23:03 madminer.fisherinfor INFO    Evaluating kinematic Fisher information on batch 10 / 10\n",
      "23:03 madminer.ml          INFO    Starting score evaluation\n",
      "23:03 madminer.ml          INFO    Starting score evaluation\n",
      "23:03 madminer.ml          INFO    Starting score evaluation\n",
      "23:03 madminer.ml          INFO    Starting score evaluation\n",
      "23:03 madminer.ml          INFO    Starting score evaluation\n"
     ]
    }
   ],
   "source": [
    "bins_histo_wph_e_drlb1, w_in_histo_wph_e_drlb1, fi_histo_rate_wph_e_drlb1, fi_histo_wph_e_drlb1 = fisher_wph_e_wbkgs_met.histogram_of_fisher_information(\n",
    "    theta=[0.,0.,0.,0.],\n",
    "    luminosity=100*1000.,\n",
    "    observable='dR_lb1',\n",
    "    nbins=20,\n",
    "    histrange=(0.,5.),\n",
    "    model_file=model_path_wph_e,\n",
    ")"
   ]
  },
  {
   "cell_type": "code",
   "execution_count": 76,
   "metadata": {
    "collapsed": true,
    "hidden": true
   },
   "outputs": [
    {
     "name": "stderr",
     "output_type": "stream",
     "text": [
      "23:03 madminer.ml          INFO    Found score ensemble with 5 estimators\n",
      "23:03 madminer.ml          INFO    Loading model from models/met/ensemble_wmh_mu_wbkgs_sigsystonly_lhedata_met/estimator_0\n",
      "23:03 madminer.ml          INFO    Loading model from models/met/ensemble_wmh_mu_wbkgs_sigsystonly_lhedata_met/estimator_1\n",
      "23:03 madminer.ml          INFO    Loading model from models/met/ensemble_wmh_mu_wbkgs_sigsystonly_lhedata_met/estimator_2\n",
      "23:03 madminer.ml          INFO    Loading model from models/met/ensemble_wmh_mu_wbkgs_sigsystonly_lhedata_met/estimator_3\n",
      "23:03 madminer.ml          INFO    Loading model from models/met/ensemble_wmh_mu_wbkgs_sigsystonly_lhedata_met/estimator_4\n",
      "23:08 madminer.fisherinfor INFO    Evaluating kinematic Fisher information on batch 1 / 10\n",
      "23:08 madminer.ml          INFO    Starting score evaluation\n",
      "23:08 madminer.ml          INFO    Starting score evaluation\n",
      "23:08 madminer.ml          INFO    Starting score evaluation\n",
      "23:08 madminer.ml          INFO    Starting score evaluation\n",
      "23:08 madminer.ml          INFO    Starting score evaluation\n",
      "23:08 madminer.fisherinfor INFO    Evaluating kinematic Fisher information on batch 2 / 10\n",
      "23:09 madminer.ml          INFO    Starting score evaluation\n",
      "23:09 madminer.ml          INFO    Starting score evaluation\n",
      "23:09 madminer.ml          INFO    Starting score evaluation\n",
      "23:09 madminer.ml          INFO    Starting score evaluation\n",
      "23:09 madminer.ml          INFO    Starting score evaluation\n",
      "23:09 madminer.fisherinfor INFO    Evaluating kinematic Fisher information on batch 3 / 10\n",
      "23:09 madminer.ml          INFO    Starting score evaluation\n",
      "23:09 madminer.ml          INFO    Starting score evaluation\n",
      "23:09 madminer.ml          INFO    Starting score evaluation\n",
      "23:09 madminer.ml          INFO    Starting score evaluation\n",
      "23:09 madminer.ml          INFO    Starting score evaluation\n",
      "23:09 madminer.fisherinfor INFO    Evaluating kinematic Fisher information on batch 4 / 10\n",
      "23:09 madminer.ml          INFO    Starting score evaluation\n",
      "23:09 madminer.ml          INFO    Starting score evaluation\n",
      "23:09 madminer.ml          INFO    Starting score evaluation\n",
      "23:09 madminer.ml          INFO    Starting score evaluation\n",
      "23:09 madminer.ml          INFO    Starting score evaluation\n",
      "23:09 madminer.fisherinfor INFO    Evaluating kinematic Fisher information on batch 5 / 10\n",
      "23:09 madminer.ml          INFO    Starting score evaluation\n",
      "23:09 madminer.ml          INFO    Starting score evaluation\n",
      "23:09 madminer.ml          INFO    Starting score evaluation\n",
      "23:09 madminer.ml          INFO    Starting score evaluation\n",
      "23:09 madminer.ml          INFO    Starting score evaluation\n",
      "23:09 madminer.fisherinfor INFO    Evaluating kinematic Fisher information on batch 6 / 10\n",
      "23:09 madminer.ml          INFO    Starting score evaluation\n",
      "23:09 madminer.ml          INFO    Starting score evaluation\n",
      "23:09 madminer.ml          INFO    Starting score evaluation\n",
      "23:09 madminer.ml          INFO    Starting score evaluation\n",
      "23:09 madminer.ml          INFO    Starting score evaluation\n",
      "23:09 madminer.fisherinfor INFO    Evaluating kinematic Fisher information on batch 7 / 10\n",
      "23:10 madminer.ml          INFO    Starting score evaluation\n",
      "23:10 madminer.ml          INFO    Starting score evaluation\n",
      "23:10 madminer.ml          INFO    Starting score evaluation\n",
      "23:10 madminer.ml          INFO    Starting score evaluation\n",
      "23:10 madminer.ml          INFO    Starting score evaluation\n",
      "23:10 madminer.fisherinfor INFO    Evaluating kinematic Fisher information on batch 8 / 10\n",
      "23:10 madminer.ml          INFO    Starting score evaluation\n",
      "23:10 madminer.ml          INFO    Starting score evaluation\n",
      "23:10 madminer.ml          INFO    Starting score evaluation\n",
      "23:10 madminer.ml          INFO    Starting score evaluation\n",
      "23:10 madminer.ml          INFO    Starting score evaluation\n",
      "23:10 madminer.fisherinfor INFO    Evaluating kinematic Fisher information on batch 9 / 10\n",
      "23:10 madminer.ml          INFO    Starting score evaluation\n",
      "23:10 madminer.ml          INFO    Starting score evaluation\n",
      "23:10 madminer.ml          INFO    Starting score evaluation\n",
      "23:10 madminer.ml          INFO    Starting score evaluation\n",
      "23:10 madminer.ml          INFO    Starting score evaluation\n",
      "23:10 madminer.fisherinfor INFO    Evaluating kinematic Fisher information on batch 10 / 10\n",
      "23:10 madminer.ml          INFO    Starting score evaluation\n",
      "23:10 madminer.ml          INFO    Starting score evaluation\n",
      "23:10 madminer.ml          INFO    Starting score evaluation\n",
      "23:10 madminer.ml          INFO    Starting score evaluation\n",
      "23:10 madminer.ml          INFO    Starting score evaluation\n"
     ]
    }
   ],
   "source": [
    "bins_histo_wmh_mu_drlb1, w_in_histo_wmh_mu_drlb1, fi_histo_rate_wmh_mu_drlb1, fi_histo_wmh_mu_drlb1 = fisher_wmh_mu_wbkgs_met.histogram_of_fisher_information(\n",
    "    theta=[0.,0.,0.,0.],\n",
    "    luminosity=100*1000.,\n",
    "    observable='dR_lb1',\n",
    "    nbins=20,\n",
    "    histrange=(0.,5.),\n",
    "    model_file=model_path_wmh_mu,\n",
    ")"
   ]
  },
  {
   "cell_type": "code",
   "execution_count": 77,
   "metadata": {
    "collapsed": true,
    "hidden": true
   },
   "outputs": [
    {
     "name": "stderr",
     "output_type": "stream",
     "text": [
      "23:10 madminer.ml          INFO    Found score ensemble with 5 estimators\n",
      "23:10 madminer.ml          INFO    Loading model from models/met/ensemble_wmh_e_wbkgs_sigsystonly_lhedata_met/estimator_0\n",
      "23:10 madminer.ml          INFO    Loading model from models/met/ensemble_wmh_e_wbkgs_sigsystonly_lhedata_met/estimator_1\n",
      "23:10 madminer.ml          INFO    Loading model from models/met/ensemble_wmh_e_wbkgs_sigsystonly_lhedata_met/estimator_2\n",
      "23:10 madminer.ml          INFO    Loading model from models/met/ensemble_wmh_e_wbkgs_sigsystonly_lhedata_met/estimator_3\n",
      "23:10 madminer.ml          INFO    Loading model from models/met/ensemble_wmh_e_wbkgs_sigsystonly_lhedata_met/estimator_4\n",
      "23:15 madminer.fisherinfor INFO    Evaluating kinematic Fisher information on batch 1 / 10\n",
      "23:16 madminer.ml          INFO    Starting score evaluation\n",
      "23:16 madminer.ml          INFO    Starting score evaluation\n",
      "23:16 madminer.ml          INFO    Starting score evaluation\n",
      "23:16 madminer.ml          INFO    Starting score evaluation\n",
      "23:16 madminer.ml          INFO    Starting score evaluation\n",
      "23:16 madminer.fisherinfor INFO    Evaluating kinematic Fisher information on batch 2 / 10\n",
      "23:16 madminer.ml          INFO    Starting score evaluation\n",
      "23:16 madminer.ml          INFO    Starting score evaluation\n",
      "23:16 madminer.ml          INFO    Starting score evaluation\n",
      "23:16 madminer.ml          INFO    Starting score evaluation\n",
      "23:16 madminer.ml          INFO    Starting score evaluation\n",
      "23:16 madminer.fisherinfor INFO    Evaluating kinematic Fisher information on batch 3 / 10\n",
      "23:16 madminer.ml          INFO    Starting score evaluation\n",
      "23:16 madminer.ml          INFO    Starting score evaluation\n",
      "23:16 madminer.ml          INFO    Starting score evaluation\n",
      "23:16 madminer.ml          INFO    Starting score evaluation\n",
      "23:16 madminer.ml          INFO    Starting score evaluation\n",
      "23:16 madminer.fisherinfor INFO    Evaluating kinematic Fisher information on batch 4 / 10\n",
      "23:16 madminer.ml          INFO    Starting score evaluation\n",
      "23:16 madminer.ml          INFO    Starting score evaluation\n",
      "23:16 madminer.ml          INFO    Starting score evaluation\n",
      "23:16 madminer.ml          INFO    Starting score evaluation\n",
      "23:16 madminer.ml          INFO    Starting score evaluation\n",
      "23:16 madminer.fisherinfor INFO    Evaluating kinematic Fisher information on batch 5 / 10\n",
      "23:16 madminer.ml          INFO    Starting score evaluation\n",
      "23:16 madminer.ml          INFO    Starting score evaluation\n",
      "23:16 madminer.ml          INFO    Starting score evaluation\n",
      "23:16 madminer.ml          INFO    Starting score evaluation\n",
      "23:16 madminer.ml          INFO    Starting score evaluation\n",
      "23:17 madminer.fisherinfor INFO    Evaluating kinematic Fisher information on batch 6 / 10\n",
      "23:17 madminer.ml          INFO    Starting score evaluation\n",
      "23:17 madminer.ml          INFO    Starting score evaluation\n",
      "23:17 madminer.ml          INFO    Starting score evaluation\n",
      "23:17 madminer.ml          INFO    Starting score evaluation\n",
      "23:17 madminer.ml          INFO    Starting score evaluation\n",
      "23:17 madminer.fisherinfor INFO    Evaluating kinematic Fisher information on batch 7 / 10\n",
      "23:17 madminer.ml          INFO    Starting score evaluation\n",
      "23:17 madminer.ml          INFO    Starting score evaluation\n",
      "23:17 madminer.ml          INFO    Starting score evaluation\n",
      "23:17 madminer.ml          INFO    Starting score evaluation\n",
      "23:17 madminer.ml          INFO    Starting score evaluation\n",
      "23:17 madminer.fisherinfor INFO    Evaluating kinematic Fisher information on batch 8 / 10\n",
      "23:17 madminer.ml          INFO    Starting score evaluation\n",
      "23:17 madminer.ml          INFO    Starting score evaluation\n",
      "23:17 madminer.ml          INFO    Starting score evaluation\n",
      "23:17 madminer.ml          INFO    Starting score evaluation\n",
      "23:17 madminer.ml          INFO    Starting score evaluation\n",
      "23:17 madminer.fisherinfor INFO    Evaluating kinematic Fisher information on batch 9 / 10\n",
      "23:17 madminer.ml          INFO    Starting score evaluation\n",
      "23:17 madminer.ml          INFO    Starting score evaluation\n",
      "23:17 madminer.ml          INFO    Starting score evaluation\n",
      "23:17 madminer.ml          INFO    Starting score evaluation\n",
      "23:17 madminer.ml          INFO    Starting score evaluation\n",
      "23:17 madminer.fisherinfor INFO    Evaluating kinematic Fisher information on batch 10 / 10\n",
      "23:17 madminer.ml          INFO    Starting score evaluation\n",
      "23:17 madminer.ml          INFO    Starting score evaluation\n",
      "23:18 madminer.ml          INFO    Starting score evaluation\n",
      "23:18 madminer.ml          INFO    Starting score evaluation\n",
      "23:18 madminer.ml          INFO    Starting score evaluation\n"
     ]
    }
   ],
   "source": [
    "bins_histo_wmh_e_drlb1, w_in_histo_wmh_e_drlb1, fi_histo_rate_wmh_e_drlb1, fi_histo_wmh_e_drlb1 = fisher_wmh_e_wbkgs_met.histogram_of_fisher_information(\n",
    "    theta=[0.,0.,0.,0.],\n",
    "    luminosity=100*1000.,\n",
    "    observable='dR_lb1',\n",
    "    nbins=20,\n",
    "    histrange=(0.,5.),\n",
    "    model_file=model_path_wmh_e,\n",
    ")"
   ]
  },
  {
   "cell_type": "code",
   "execution_count": 78,
   "metadata": {
    "collapsed": true,
    "hidden": true
   },
   "outputs": [],
   "source": [
    "fi_histo_drlb1_outfile = './fisher_info/dists/fi_histo_drlb1.npz'\n",
    "\n",
    "fi_histo_drlb1_list = [\n",
    "    bins_histo_wph_mu_drlb1,\n",
    "    w_in_histo_wph_mu_drlb1,\n",
    "    fi_histo_rate_wph_mu_drlb1,\n",
    "    fi_histo_wph_mu_drlb1,\n",
    "    bins_histo_wph_e_drlb1,\n",
    "    w_in_histo_wph_e_drlb1,\n",
    "    fi_histo_rate_wph_e_drlb1,\n",
    "    fi_histo_wph_e_drlb1,\n",
    "    bins_histo_wmh_mu_drlb1,\n",
    "    w_in_histo_wmh_mu_drlb1,\n",
    "    fi_histo_rate_wmh_mu_drlb1,\n",
    "    fi_histo_wmh_mu_drlb1,\n",
    "    bins_histo_wmh_e_drlb1,\n",
    "    w_in_histo_wmh_e_drlb1,\n",
    "    fi_histo_rate_wmh_e_drlb1,\n",
    "    fi_histo_wmh_e_drlb1,\n",
    "]"
   ]
  },
  {
   "cell_type": "code",
   "execution_count": 79,
   "metadata": {
    "collapsed": true,
    "hidden": true
   },
   "outputs": [],
   "source": [
    "np.savez(fi_histo_drlb1_outfile, fi_histo_drlb1_list, allow_pickle=False)"
   ]
  },
  {
   "cell_type": "code",
   "execution_count": 80,
   "metadata": {
    "collapsed": true,
    "hidden": true
   },
   "outputs": [],
   "source": [
    "fi_histo_rate_drlb1 = [ fi_histo_rate_wph_mu_drlb1[i]\n",
    "                     + fi_histo_rate_wph_e_drlb1[i] \n",
    "                     + fi_histo_rate_wmh_mu_drlb1[i] \n",
    "                     + fi_histo_rate_wmh_e_drlb1[i] \n",
    "                     for i in range(0, len(fi_histo_rate_wph_mu_drlb1)) ]\n",
    "\n",
    "fi_histo_drlb1 = [ fi_histo_wph_mu_drlb1[i]\n",
    "                     + fi_histo_wph_e_drlb1[i] \n",
    "                     + fi_histo_wmh_mu_drlb1[i] \n",
    "                     + fi_histo_wmh_e_drlb1[i] \n",
    "                     for i in range(0, len(fi_histo_wph_mu_drlb1)) ]\n",
    "\n",
    "fi_histo_rate_drlb1_rot = [ rotate(fi_histo_rate_drlb1[i]) for i in range(0, len(fi_histo_rate_drlb1)) ]\n",
    "fi_histo_drlb1_rot = [ rotate(fi_histo_drlb1[i]) for i in range(0, len(fi_histo_drlb1)) ]"
   ]
  },
  {
   "cell_type": "markdown",
   "metadata": {
    "heading_collapsed": true
   },
   "source": [
    "### $m_{b\\bar{b}}$"
   ]
  },
  {
   "cell_type": "code",
   "execution_count": 81,
   "metadata": {
    "collapsed": true,
    "hidden": true
   },
   "outputs": [
    {
     "name": "stderr",
     "output_type": "stream",
     "text": [
      "23:18 madminer.ml          INFO    Found score ensemble with 5 estimators\n",
      "23:18 madminer.ml          INFO    Loading model from models/met/ensemble_wph_mu_wbkgs_sigsystonly_lhedata_met/estimator_0\n",
      "23:18 madminer.ml          INFO    Loading model from models/met/ensemble_wph_mu_wbkgs_sigsystonly_lhedata_met/estimator_1\n",
      "23:18 madminer.ml          INFO    Loading model from models/met/ensemble_wph_mu_wbkgs_sigsystonly_lhedata_met/estimator_2\n",
      "23:18 madminer.ml          INFO    Loading model from models/met/ensemble_wph_mu_wbkgs_sigsystonly_lhedata_met/estimator_3\n",
      "23:18 madminer.ml          INFO    Loading model from models/met/ensemble_wph_mu_wbkgs_sigsystonly_lhedata_met/estimator_4\n",
      "23:23 madminer.fisherinfor INFO    Evaluating kinematic Fisher information on batch 1 / 10\n",
      "23:23 madminer.ml          INFO    Starting score evaluation\n",
      "23:23 madminer.ml          INFO    Starting score evaluation\n",
      "23:23 madminer.ml          INFO    Starting score evaluation\n",
      "23:23 madminer.ml          INFO    Starting score evaluation\n",
      "23:23 madminer.ml          INFO    Starting score evaluation\n",
      "23:23 madminer.fisherinfor INFO    Evaluating kinematic Fisher information on batch 2 / 10\n",
      "23:23 madminer.ml          INFO    Starting score evaluation\n",
      "23:23 madminer.ml          INFO    Starting score evaluation\n",
      "23:23 madminer.ml          INFO    Starting score evaluation\n",
      "23:23 madminer.ml          INFO    Starting score evaluation\n",
      "23:23 madminer.ml          INFO    Starting score evaluation\n",
      "23:23 madminer.fisherinfor INFO    Evaluating kinematic Fisher information on batch 3 / 10\n",
      "23:23 madminer.ml          INFO    Starting score evaluation\n",
      "23:23 madminer.ml          INFO    Starting score evaluation\n",
      "23:23 madminer.ml          INFO    Starting score evaluation\n",
      "23:23 madminer.ml          INFO    Starting score evaluation\n",
      "23:23 madminer.ml          INFO    Starting score evaluation\n",
      "23:23 madminer.fisherinfor INFO    Evaluating kinematic Fisher information on batch 4 / 10\n",
      "23:24 madminer.ml          INFO    Starting score evaluation\n",
      "23:24 madminer.ml          INFO    Starting score evaluation\n",
      "23:24 madminer.ml          INFO    Starting score evaluation\n",
      "23:24 madminer.ml          INFO    Starting score evaluation\n",
      "23:24 madminer.ml          INFO    Starting score evaluation\n",
      "23:24 madminer.fisherinfor INFO    Evaluating kinematic Fisher information on batch 5 / 10\n",
      "23:24 madminer.ml          INFO    Starting score evaluation\n",
      "23:24 madminer.ml          INFO    Starting score evaluation\n",
      "23:24 madminer.ml          INFO    Starting score evaluation\n",
      "23:24 madminer.ml          INFO    Starting score evaluation\n",
      "23:24 madminer.ml          INFO    Starting score evaluation\n",
      "23:24 madminer.fisherinfor INFO    Evaluating kinematic Fisher information on batch 6 / 10\n",
      "23:24 madminer.ml          INFO    Starting score evaluation\n",
      "23:24 madminer.ml          INFO    Starting score evaluation\n",
      "23:24 madminer.ml          INFO    Starting score evaluation\n",
      "23:24 madminer.ml          INFO    Starting score evaluation\n",
      "23:24 madminer.ml          INFO    Starting score evaluation\n",
      "23:24 madminer.fisherinfor INFO    Evaluating kinematic Fisher information on batch 7 / 10\n",
      "23:24 madminer.ml          INFO    Starting score evaluation\n",
      "23:24 madminer.ml          INFO    Starting score evaluation\n",
      "23:24 madminer.ml          INFO    Starting score evaluation\n",
      "23:24 madminer.ml          INFO    Starting score evaluation\n",
      "23:24 madminer.ml          INFO    Starting score evaluation\n",
      "23:24 madminer.fisherinfor INFO    Evaluating kinematic Fisher information on batch 8 / 10\n",
      "23:24 madminer.ml          INFO    Starting score evaluation\n",
      "23:24 madminer.ml          INFO    Starting score evaluation\n",
      "23:24 madminer.ml          INFO    Starting score evaluation\n",
      "23:24 madminer.ml          INFO    Starting score evaluation\n",
      "23:24 madminer.ml          INFO    Starting score evaluation\n",
      "23:25 madminer.fisherinfor INFO    Evaluating kinematic Fisher information on batch 9 / 10\n",
      "23:25 madminer.ml          INFO    Starting score evaluation\n",
      "23:25 madminer.ml          INFO    Starting score evaluation\n",
      "23:25 madminer.ml          INFO    Starting score evaluation\n",
      "23:25 madminer.ml          INFO    Starting score evaluation\n",
      "23:25 madminer.ml          INFO    Starting score evaluation\n",
      "23:25 madminer.fisherinfor INFO    Evaluating kinematic Fisher information on batch 10 / 10\n",
      "23:25 madminer.ml          INFO    Starting score evaluation\n",
      "23:25 madminer.ml          INFO    Starting score evaluation\n",
      "23:25 madminer.ml          INFO    Starting score evaluation\n",
      "23:25 madminer.ml          INFO    Starting score evaluation\n",
      "23:25 madminer.ml          INFO    Starting score evaluation\n"
     ]
    }
   ],
   "source": [
    "bins_histo_wph_mu_mbb, w_in_histo_wph_mu_mbb, fi_histo_rate_wph_mu_mbb, fi_histo_wph_mu_mbb = fisher_wph_mu_wbkgs_met.histogram_of_fisher_information(\n",
    "    theta=[0.,0.,0.,0.],\n",
    "    luminosity=100*1000.,\n",
    "    observable='m_bb',\n",
    "    nbins=20,\n",
    "    histrange=(80,160),\n",
    "    model_file=model_path_wph_mu,\n",
    ")"
   ]
  },
  {
   "cell_type": "code",
   "execution_count": 82,
   "metadata": {
    "collapsed": true,
    "hidden": true
   },
   "outputs": [
    {
     "name": "stderr",
     "output_type": "stream",
     "text": [
      "23:25 madminer.ml          INFO    Found score ensemble with 5 estimators\n",
      "23:25 madminer.ml          INFO    Loading model from models/met/ensemble_wph_e_wbkgs_sigsystonly_lhedata_met/estimator_0\n",
      "23:25 madminer.ml          INFO    Loading model from models/met/ensemble_wph_e_wbkgs_sigsystonly_lhedata_met/estimator_1\n",
      "23:25 madminer.ml          INFO    Loading model from models/met/ensemble_wph_e_wbkgs_sigsystonly_lhedata_met/estimator_2\n",
      "23:25 madminer.ml          INFO    Loading model from models/met/ensemble_wph_e_wbkgs_sigsystonly_lhedata_met/estimator_3\n",
      "23:25 madminer.ml          INFO    Loading model from models/met/ensemble_wph_e_wbkgs_sigsystonly_lhedata_met/estimator_4\n",
      "23:30 madminer.fisherinfor INFO    Evaluating kinematic Fisher information on batch 1 / 10\n",
      "23:30 madminer.ml          INFO    Starting score evaluation\n",
      "23:30 madminer.ml          INFO    Starting score evaluation\n",
      "23:30 madminer.ml          INFO    Starting score evaluation\n",
      "23:30 madminer.ml          INFO    Starting score evaluation\n",
      "23:30 madminer.ml          INFO    Starting score evaluation\n",
      "23:30 madminer.fisherinfor INFO    Evaluating kinematic Fisher information on batch 2 / 10\n",
      "23:30 madminer.ml          INFO    Starting score evaluation\n",
      "23:30 madminer.ml          INFO    Starting score evaluation\n",
      "23:30 madminer.ml          INFO    Starting score evaluation\n",
      "23:30 madminer.ml          INFO    Starting score evaluation\n",
      "23:30 madminer.ml          INFO    Starting score evaluation\n",
      "23:31 madminer.fisherinfor INFO    Evaluating kinematic Fisher information on batch 3 / 10\n",
      "23:31 madminer.ml          INFO    Starting score evaluation\n",
      "23:31 madminer.ml          INFO    Starting score evaluation\n",
      "23:31 madminer.ml          INFO    Starting score evaluation\n",
      "23:31 madminer.ml          INFO    Starting score evaluation\n",
      "23:31 madminer.ml          INFO    Starting score evaluation\n",
      "23:31 madminer.fisherinfor INFO    Evaluating kinematic Fisher information on batch 4 / 10\n",
      "23:31 madminer.ml          INFO    Starting score evaluation\n",
      "23:31 madminer.ml          INFO    Starting score evaluation\n",
      "23:31 madminer.ml          INFO    Starting score evaluation\n",
      "23:31 madminer.ml          INFO    Starting score evaluation\n",
      "23:31 madminer.ml          INFO    Starting score evaluation\n",
      "23:31 madminer.fisherinfor INFO    Evaluating kinematic Fisher information on batch 5 / 10\n",
      "23:31 madminer.ml          INFO    Starting score evaluation\n",
      "23:31 madminer.ml          INFO    Starting score evaluation\n",
      "23:31 madminer.ml          INFO    Starting score evaluation\n",
      "23:31 madminer.ml          INFO    Starting score evaluation\n",
      "23:31 madminer.ml          INFO    Starting score evaluation\n",
      "23:31 madminer.fisherinfor INFO    Evaluating kinematic Fisher information on batch 6 / 10\n",
      "23:31 madminer.ml          INFO    Starting score evaluation\n",
      "23:31 madminer.ml          INFO    Starting score evaluation\n",
      "23:31 madminer.ml          INFO    Starting score evaluation\n",
      "23:31 madminer.ml          INFO    Starting score evaluation\n",
      "23:31 madminer.ml          INFO    Starting score evaluation\n",
      "23:31 madminer.fisherinfor INFO    Evaluating kinematic Fisher information on batch 7 / 10\n",
      "23:31 madminer.ml          INFO    Starting score evaluation\n",
      "23:31 madminer.ml          INFO    Starting score evaluation\n",
      "23:31 madminer.ml          INFO    Starting score evaluation\n",
      "23:32 madminer.ml          INFO    Starting score evaluation\n",
      "23:32 madminer.ml          INFO    Starting score evaluation\n",
      "23:32 madminer.fisherinfor INFO    Evaluating kinematic Fisher information on batch 8 / 10\n",
      "23:32 madminer.ml          INFO    Starting score evaluation\n",
      "23:32 madminer.ml          INFO    Starting score evaluation\n",
      "23:32 madminer.ml          INFO    Starting score evaluation\n",
      "23:32 madminer.ml          INFO    Starting score evaluation\n",
      "23:32 madminer.ml          INFO    Starting score evaluation\n",
      "23:32 madminer.fisherinfor INFO    Evaluating kinematic Fisher information on batch 9 / 10\n",
      "23:32 madminer.ml          INFO    Starting score evaluation\n",
      "23:32 madminer.ml          INFO    Starting score evaluation\n",
      "23:32 madminer.ml          INFO    Starting score evaluation\n",
      "23:32 madminer.ml          INFO    Starting score evaluation\n",
      "23:32 madminer.ml          INFO    Starting score evaluation\n",
      "23:32 madminer.fisherinfor INFO    Evaluating kinematic Fisher information on batch 10 / 10\n",
      "23:32 madminer.ml          INFO    Starting score evaluation\n",
      "23:32 madminer.ml          INFO    Starting score evaluation\n",
      "23:32 madminer.ml          INFO    Starting score evaluation\n",
      "23:32 madminer.ml          INFO    Starting score evaluation\n",
      "23:32 madminer.ml          INFO    Starting score evaluation\n"
     ]
    }
   ],
   "source": [
    "bins_histo_wph_e_mbb, w_in_histo_wph_e_mbb, fi_histo_rate_wph_e_mbb, fi_histo_wph_e_mbb = fisher_wph_e_wbkgs_met.histogram_of_fisher_information(\n",
    "    theta=[0.,0.,0.,0.],\n",
    "    luminosity=100*1000.,\n",
    "    observable='m_bb',\n",
    "    nbins=20,\n",
    "    histrange=(80,160),\n",
    "    model_file=model_path_wph_e,\n",
    ")"
   ]
  },
  {
   "cell_type": "code",
   "execution_count": 83,
   "metadata": {
    "collapsed": true,
    "hidden": true
   },
   "outputs": [
    {
     "name": "stderr",
     "output_type": "stream",
     "text": [
      "23:32 madminer.ml          INFO    Found score ensemble with 5 estimators\n",
      "23:32 madminer.ml          INFO    Loading model from models/met/ensemble_wmh_mu_wbkgs_sigsystonly_lhedata_met/estimator_0\n",
      "23:32 madminer.ml          INFO    Loading model from models/met/ensemble_wmh_mu_wbkgs_sigsystonly_lhedata_met/estimator_1\n",
      "23:32 madminer.ml          INFO    Loading model from models/met/ensemble_wmh_mu_wbkgs_sigsystonly_lhedata_met/estimator_2\n",
      "23:32 madminer.ml          INFO    Loading model from models/met/ensemble_wmh_mu_wbkgs_sigsystonly_lhedata_met/estimator_3\n",
      "23:32 madminer.ml          INFO    Loading model from models/met/ensemble_wmh_mu_wbkgs_sigsystonly_lhedata_met/estimator_4\n",
      "23:37 madminer.fisherinfor INFO    Evaluating kinematic Fisher information on batch 1 / 10\n",
      "23:37 madminer.ml          INFO    Starting score evaluation\n",
      "23:37 madminer.ml          INFO    Starting score evaluation\n",
      "23:37 madminer.ml          INFO    Starting score evaluation\n",
      "23:37 madminer.ml          INFO    Starting score evaluation\n",
      "23:38 madminer.ml          INFO    Starting score evaluation\n",
      "23:38 madminer.fisherinfor INFO    Evaluating kinematic Fisher information on batch 2 / 10\n",
      "23:38 madminer.ml          INFO    Starting score evaluation\n",
      "23:38 madminer.ml          INFO    Starting score evaluation\n",
      "23:38 madminer.ml          INFO    Starting score evaluation\n",
      "23:38 madminer.ml          INFO    Starting score evaluation\n",
      "23:38 madminer.ml          INFO    Starting score evaluation\n",
      "23:38 madminer.fisherinfor INFO    Evaluating kinematic Fisher information on batch 3 / 10\n",
      "23:38 madminer.ml          INFO    Starting score evaluation\n",
      "23:38 madminer.ml          INFO    Starting score evaluation\n",
      "23:38 madminer.ml          INFO    Starting score evaluation\n",
      "23:38 madminer.ml          INFO    Starting score evaluation\n",
      "23:38 madminer.ml          INFO    Starting score evaluation\n",
      "23:38 madminer.fisherinfor INFO    Evaluating kinematic Fisher information on batch 4 / 10\n",
      "23:38 madminer.ml          INFO    Starting score evaluation\n",
      "23:38 madminer.ml          INFO    Starting score evaluation\n",
      "23:38 madminer.ml          INFO    Starting score evaluation\n",
      "23:38 madminer.ml          INFO    Starting score evaluation\n",
      "23:38 madminer.ml          INFO    Starting score evaluation\n",
      "23:38 madminer.fisherinfor INFO    Evaluating kinematic Fisher information on batch 5 / 10\n",
      "23:38 madminer.ml          INFO    Starting score evaluation\n",
      "23:38 madminer.ml          INFO    Starting score evaluation\n",
      "23:38 madminer.ml          INFO    Starting score evaluation\n",
      "23:38 madminer.ml          INFO    Starting score evaluation\n",
      "23:38 madminer.ml          INFO    Starting score evaluation\n",
      "23:38 madminer.fisherinfor INFO    Evaluating kinematic Fisher information on batch 6 / 10\n",
      "23:38 madminer.ml          INFO    Starting score evaluation\n",
      "23:39 madminer.ml          INFO    Starting score evaluation\n",
      "23:39 madminer.ml          INFO    Starting score evaluation\n",
      "23:39 madminer.ml          INFO    Starting score evaluation\n",
      "23:39 madminer.ml          INFO    Starting score evaluation\n",
      "23:39 madminer.fisherinfor INFO    Evaluating kinematic Fisher information on batch 7 / 10\n",
      "23:39 madminer.ml          INFO    Starting score evaluation\n",
      "23:39 madminer.ml          INFO    Starting score evaluation\n",
      "23:39 madminer.ml          INFO    Starting score evaluation\n",
      "23:39 madminer.ml          INFO    Starting score evaluation\n",
      "23:39 madminer.ml          INFO    Starting score evaluation\n",
      "23:39 madminer.fisherinfor INFO    Evaluating kinematic Fisher information on batch 8 / 10\n",
      "23:39 madminer.ml          INFO    Starting score evaluation\n",
      "23:39 madminer.ml          INFO    Starting score evaluation\n",
      "23:39 madminer.ml          INFO    Starting score evaluation\n",
      "23:39 madminer.ml          INFO    Starting score evaluation\n",
      "23:39 madminer.ml          INFO    Starting score evaluation\n",
      "23:39 madminer.fisherinfor INFO    Evaluating kinematic Fisher information on batch 9 / 10\n",
      "23:39 madminer.ml          INFO    Starting score evaluation\n",
      "23:39 madminer.ml          INFO    Starting score evaluation\n",
      "23:39 madminer.ml          INFO    Starting score evaluation\n",
      "23:39 madminer.ml          INFO    Starting score evaluation\n",
      "23:39 madminer.ml          INFO    Starting score evaluation\n",
      "23:39 madminer.fisherinfor INFO    Evaluating kinematic Fisher information on batch 10 / 10\n",
      "23:39 madminer.ml          INFO    Starting score evaluation\n",
      "23:39 madminer.ml          INFO    Starting score evaluation\n",
      "23:39 madminer.ml          INFO    Starting score evaluation\n",
      "23:39 madminer.ml          INFO    Starting score evaluation\n",
      "23:39 madminer.ml          INFO    Starting score evaluation\n"
     ]
    }
   ],
   "source": [
    "bins_histo_wmh_mu_mbb, w_in_histo_wmh_mu_mbb, fi_histo_rate_wmh_mu_mbb, fi_histo_wmh_mu_mbb = fisher_wmh_mu_wbkgs_met.histogram_of_fisher_information(\n",
    "    theta=[0.,0.,0.,0.],\n",
    "    luminosity=100*1000.,\n",
    "    observable='m_bb',\n",
    "    nbins=20,\n",
    "    histrange=(80,160),\n",
    "    model_file=model_path_wmh_mu,\n",
    ")"
   ]
  },
  {
   "cell_type": "code",
   "execution_count": 84,
   "metadata": {
    "collapsed": true,
    "hidden": true
   },
   "outputs": [
    {
     "name": "stderr",
     "output_type": "stream",
     "text": [
      "23:39 madminer.ml          INFO    Found score ensemble with 5 estimators\n",
      "23:39 madminer.ml          INFO    Loading model from models/met/ensemble_wmh_e_wbkgs_sigsystonly_lhedata_met/estimator_0\n",
      "23:39 madminer.ml          INFO    Loading model from models/met/ensemble_wmh_e_wbkgs_sigsystonly_lhedata_met/estimator_1\n",
      "23:39 madminer.ml          INFO    Loading model from models/met/ensemble_wmh_e_wbkgs_sigsystonly_lhedata_met/estimator_2\n",
      "23:39 madminer.ml          INFO    Loading model from models/met/ensemble_wmh_e_wbkgs_sigsystonly_lhedata_met/estimator_3\n",
      "23:39 madminer.ml          INFO    Loading model from models/met/ensemble_wmh_e_wbkgs_sigsystonly_lhedata_met/estimator_4\n",
      "23:45 madminer.fisherinfor INFO    Evaluating kinematic Fisher information on batch 1 / 10\n",
      "23:45 madminer.ml          INFO    Starting score evaluation\n",
      "23:45 madminer.ml          INFO    Starting score evaluation\n",
      "23:45 madminer.ml          INFO    Starting score evaluation\n",
      "23:45 madminer.ml          INFO    Starting score evaluation\n",
      "23:45 madminer.ml          INFO    Starting score evaluation\n",
      "23:45 madminer.fisherinfor INFO    Evaluating kinematic Fisher information on batch 2 / 10\n",
      "23:45 madminer.ml          INFO    Starting score evaluation\n",
      "23:45 madminer.ml          INFO    Starting score evaluation\n",
      "23:45 madminer.ml          INFO    Starting score evaluation\n",
      "23:45 madminer.ml          INFO    Starting score evaluation\n",
      "23:45 madminer.ml          INFO    Starting score evaluation\n",
      "23:45 madminer.fisherinfor INFO    Evaluating kinematic Fisher information on batch 3 / 10\n",
      "23:45 madminer.ml          INFO    Starting score evaluation\n",
      "23:45 madminer.ml          INFO    Starting score evaluation\n",
      "23:45 madminer.ml          INFO    Starting score evaluation\n",
      "23:45 madminer.ml          INFO    Starting score evaluation\n",
      "23:45 madminer.ml          INFO    Starting score evaluation\n",
      "23:45 madminer.fisherinfor INFO    Evaluating kinematic Fisher information on batch 4 / 10\n",
      "23:45 madminer.ml          INFO    Starting score evaluation\n",
      "23:45 madminer.ml          INFO    Starting score evaluation\n",
      "23:45 madminer.ml          INFO    Starting score evaluation\n",
      "23:45 madminer.ml          INFO    Starting score evaluation\n",
      "23:45 madminer.ml          INFO    Starting score evaluation\n",
      "23:45 madminer.fisherinfor INFO    Evaluating kinematic Fisher information on batch 5 / 10\n",
      "23:46 madminer.ml          INFO    Starting score evaluation\n",
      "23:46 madminer.ml          INFO    Starting score evaluation\n",
      "23:46 madminer.ml          INFO    Starting score evaluation\n",
      "23:46 madminer.ml          INFO    Starting score evaluation\n",
      "23:46 madminer.ml          INFO    Starting score evaluation\n",
      "23:46 madminer.fisherinfor INFO    Evaluating kinematic Fisher information on batch 6 / 10\n",
      "23:46 madminer.ml          INFO    Starting score evaluation\n",
      "23:46 madminer.ml          INFO    Starting score evaluation\n",
      "23:46 madminer.ml          INFO    Starting score evaluation\n",
      "23:46 madminer.ml          INFO    Starting score evaluation\n",
      "23:46 madminer.ml          INFO    Starting score evaluation\n",
      "23:46 madminer.fisherinfor INFO    Evaluating kinematic Fisher information on batch 7 / 10\n",
      "23:46 madminer.ml          INFO    Starting score evaluation\n",
      "23:46 madminer.ml          INFO    Starting score evaluation\n",
      "23:46 madminer.ml          INFO    Starting score evaluation\n",
      "23:46 madminer.ml          INFO    Starting score evaluation\n",
      "23:46 madminer.ml          INFO    Starting score evaluation\n",
      "23:46 madminer.fisherinfor INFO    Evaluating kinematic Fisher information on batch 8 / 10\n",
      "23:46 madminer.ml          INFO    Starting score evaluation\n",
      "23:46 madminer.ml          INFO    Starting score evaluation\n",
      "23:46 madminer.ml          INFO    Starting score evaluation\n",
      "23:46 madminer.ml          INFO    Starting score evaluation\n",
      "23:46 madminer.ml          INFO    Starting score evaluation\n",
      "23:46 madminer.fisherinfor INFO    Evaluating kinematic Fisher information on batch 9 / 10\n",
      "23:46 madminer.ml          INFO    Starting score evaluation\n",
      "23:46 madminer.ml          INFO    Starting score evaluation\n",
      "23:46 madminer.ml          INFO    Starting score evaluation\n",
      "23:46 madminer.ml          INFO    Starting score evaluation\n",
      "23:46 madminer.ml          INFO    Starting score evaluation\n",
      "23:46 madminer.fisherinfor INFO    Evaluating kinematic Fisher information on batch 10 / 10\n",
      "23:47 madminer.ml          INFO    Starting score evaluation\n",
      "23:47 madminer.ml          INFO    Starting score evaluation\n",
      "23:47 madminer.ml          INFO    Starting score evaluation\n",
      "23:47 madminer.ml          INFO    Starting score evaluation\n",
      "23:47 madminer.ml          INFO    Starting score evaluation\n"
     ]
    }
   ],
   "source": [
    "bins_histo_wmh_e_mbb, w_in_histo_wmh_e_mbb, fi_histo_rate_wmh_e_mbb, fi_histo_wmh_e_mbb = fisher_wmh_e_wbkgs_met.histogram_of_fisher_information(\n",
    "    theta=[0.,0.,0.,0.],\n",
    "    luminosity=100*1000.,\n",
    "    observable='m_bb',\n",
    "    nbins=20,\n",
    "    histrange=(80,160),\n",
    "    model_file=model_path_wmh_e,\n",
    ")"
   ]
  },
  {
   "cell_type": "code",
   "execution_count": 85,
   "metadata": {
    "collapsed": true,
    "hidden": true
   },
   "outputs": [],
   "source": [
    "fi_histo_mbb_outfile = './fisher_info/dists/fi_histo_mbb.npz'\n",
    "\n",
    "fi_histo_mbb_list = [\n",
    "    bins_histo_wph_mu_mbb,\n",
    "    w_in_histo_wph_mu_mbb,\n",
    "    fi_histo_rate_wph_mu_mbb,\n",
    "    fi_histo_wph_mu_mbb,\n",
    "    bins_histo_wph_e_mbb,\n",
    "    w_in_histo_wph_e_mbb,\n",
    "    fi_histo_rate_wph_e_mbb,\n",
    "    fi_histo_wph_e_mbb,\n",
    "    bins_histo_wmh_mu_mbb,\n",
    "    w_in_histo_wmh_mu_mbb,\n",
    "    fi_histo_rate_wmh_mu_mbb,\n",
    "    fi_histo_wmh_mu_mbb,\n",
    "    bins_histo_wmh_e_mbb,\n",
    "    w_in_histo_wmh_e_mbb,\n",
    "    fi_histo_rate_wmh_e_mbb,\n",
    "    fi_histo_wmh_e_mbb,\n",
    "]"
   ]
  },
  {
   "cell_type": "code",
   "execution_count": 86,
   "metadata": {
    "collapsed": true,
    "hidden": true
   },
   "outputs": [],
   "source": [
    "np.savez(fi_histo_mbb_outfile, fi_histo_mbb_list, allow_pickle=False)"
   ]
  },
  {
   "cell_type": "code",
   "execution_count": 87,
   "metadata": {
    "collapsed": true,
    "hidden": true
   },
   "outputs": [],
   "source": [
    "fi_histo_rate_mbb = [ fi_histo_rate_wph_mu_mbb[i]\n",
    "                     + fi_histo_rate_wph_e_mbb[i] \n",
    "                     + fi_histo_rate_wmh_mu_mbb[i] \n",
    "                     + fi_histo_rate_wmh_e_mbb[i] \n",
    "                     for i in range(0, len(fi_histo_rate_wph_mu_mbb)) ]\n",
    "\n",
    "fi_histo_mbb = [ fi_histo_wph_mu_mbb[i]\n",
    "                     + fi_histo_wph_e_mbb[i] \n",
    "                     + fi_histo_wmh_mu_mbb[i] \n",
    "                     + fi_histo_wmh_e_mbb[i] \n",
    "                     for i in range(0, len(fi_histo_wph_mu_mbb)) ]\n",
    "\n",
    "fi_histo_rate_mbb_rot = [ rotate(fi_histo_rate_mbb[i]) for i in range(0, len(fi_histo_rate_mbb)) ]\n",
    "fi_histo_mbb_rot = [ rotate(fi_histo_mbb[i]) for i in range(0, len(fi_histo_mbb)) ]"
   ]
  },
  {
   "cell_type": "markdown",
   "metadata": {
    "heading_collapsed": true
   },
   "source": [
    "### $p_{T,b_1}$"
   ]
  },
  {
   "cell_type": "code",
   "execution_count": 100,
   "metadata": {
    "collapsed": true,
    "hidden": true
   },
   "outputs": [
    {
     "name": "stderr",
     "output_type": "stream",
     "text": [
      "07:28 madminer.ml          INFO    Found score ensemble with 5 estimators\n",
      "07:28 madminer.ml          INFO    Loading model from models/met/ensemble_wph_mu_wbkgs_sigsystonly_lhedata_met/estimator_0\n",
      "07:28 madminer.ml          INFO    Loading model from models/met/ensemble_wph_mu_wbkgs_sigsystonly_lhedata_met/estimator_1\n",
      "07:28 madminer.ml          INFO    Loading model from models/met/ensemble_wph_mu_wbkgs_sigsystonly_lhedata_met/estimator_2\n",
      "07:28 madminer.ml          INFO    Loading model from models/met/ensemble_wph_mu_wbkgs_sigsystonly_lhedata_met/estimator_3\n",
      "07:28 madminer.ml          INFO    Loading model from models/met/ensemble_wph_mu_wbkgs_sigsystonly_lhedata_met/estimator_4\n",
      "07:33 madminer.fisherinfor INFO    Evaluating kinematic Fisher information on batch 1 / 10\n",
      "07:33 madminer.ml          INFO    Starting score evaluation\n",
      "07:33 madminer.ml          INFO    Starting score evaluation\n",
      "07:33 madminer.ml          INFO    Starting score evaluation\n",
      "07:33 madminer.ml          INFO    Starting score evaluation\n",
      "07:33 madminer.ml          INFO    Starting score evaluation\n",
      "07:33 madminer.fisherinfor INFO    Evaluating kinematic Fisher information on batch 2 / 10\n",
      "07:33 madminer.ml          INFO    Starting score evaluation\n",
      "07:33 madminer.ml          INFO    Starting score evaluation\n",
      "07:33 madminer.ml          INFO    Starting score evaluation\n",
      "07:33 madminer.ml          INFO    Starting score evaluation\n",
      "07:33 madminer.ml          INFO    Starting score evaluation\n",
      "07:33 madminer.fisherinfor INFO    Evaluating kinematic Fisher information on batch 3 / 10\n",
      "07:33 madminer.ml          INFO    Starting score evaluation\n",
      "07:33 madminer.ml          INFO    Starting score evaluation\n",
      "07:33 madminer.ml          INFO    Starting score evaluation\n",
      "07:33 madminer.ml          INFO    Starting score evaluation\n",
      "07:33 madminer.ml          INFO    Starting score evaluation\n",
      "07:34 madminer.fisherinfor INFO    Evaluating kinematic Fisher information on batch 4 / 10\n",
      "07:34 madminer.ml          INFO    Starting score evaluation\n",
      "07:34 madminer.ml          INFO    Starting score evaluation\n",
      "07:34 madminer.ml          INFO    Starting score evaluation\n",
      "07:34 madminer.ml          INFO    Starting score evaluation\n",
      "07:34 madminer.ml          INFO    Starting score evaluation\n",
      "07:34 madminer.fisherinfor INFO    Evaluating kinematic Fisher information on batch 5 / 10\n",
      "07:34 madminer.ml          INFO    Starting score evaluation\n",
      "07:34 madminer.ml          INFO    Starting score evaluation\n",
      "07:34 madminer.ml          INFO    Starting score evaluation\n",
      "07:34 madminer.ml          INFO    Starting score evaluation\n",
      "07:34 madminer.ml          INFO    Starting score evaluation\n",
      "07:34 madminer.fisherinfor INFO    Evaluating kinematic Fisher information on batch 6 / 10\n",
      "07:34 madminer.ml          INFO    Starting score evaluation\n",
      "07:34 madminer.ml          INFO    Starting score evaluation\n",
      "07:34 madminer.ml          INFO    Starting score evaluation\n",
      "07:34 madminer.ml          INFO    Starting score evaluation\n",
      "07:34 madminer.ml          INFO    Starting score evaluation\n",
      "07:34 madminer.fisherinfor INFO    Evaluating kinematic Fisher information on batch 7 / 10\n",
      "07:34 madminer.ml          INFO    Starting score evaluation\n",
      "07:34 madminer.ml          INFO    Starting score evaluation\n",
      "07:34 madminer.ml          INFO    Starting score evaluation\n",
      "07:34 madminer.ml          INFO    Starting score evaluation\n",
      "07:34 madminer.ml          INFO    Starting score evaluation\n",
      "07:34 madminer.fisherinfor INFO    Evaluating kinematic Fisher information on batch 8 / 10\n",
      "07:34 madminer.ml          INFO    Starting score evaluation\n",
      "07:34 madminer.ml          INFO    Starting score evaluation\n",
      "07:34 madminer.ml          INFO    Starting score evaluation\n",
      "07:34 madminer.ml          INFO    Starting score evaluation\n",
      "07:34 madminer.ml          INFO    Starting score evaluation\n",
      "07:35 madminer.fisherinfor INFO    Evaluating kinematic Fisher information on batch 9 / 10\n",
      "07:35 madminer.ml          INFO    Starting score evaluation\n",
      "07:35 madminer.ml          INFO    Starting score evaluation\n",
      "07:35 madminer.ml          INFO    Starting score evaluation\n",
      "07:35 madminer.ml          INFO    Starting score evaluation\n",
      "07:35 madminer.ml          INFO    Starting score evaluation\n",
      "07:35 madminer.fisherinfor INFO    Evaluating kinematic Fisher information on batch 10 / 10\n",
      "07:35 madminer.ml          INFO    Starting score evaluation\n",
      "07:35 madminer.ml          INFO    Starting score evaluation\n",
      "07:35 madminer.ml          INFO    Starting score evaluation\n",
      "07:35 madminer.ml          INFO    Starting score evaluation\n",
      "07:35 madminer.ml          INFO    Starting score evaluation\n"
     ]
    }
   ],
   "source": [
    "bins_histo_wph_mu_ptb1, w_in_histo_wph_mu_ptb1, fi_histo_rate_wph_mu_ptb1, fi_histo_wph_mu_ptb1 = fisher_wph_mu_wbkgs_met.histogram_of_fisher_information(\n",
    "    theta=[0.,0.,0.,0.],\n",
    "    luminosity=100*1000.,\n",
    "    observable='pt_b1',\n",
    "    nbins=20,\n",
    "    histrange=(0,800),\n",
    "    model_file=model_path_wph_mu,\n",
    ")"
   ]
  },
  {
   "cell_type": "code",
   "execution_count": 101,
   "metadata": {
    "collapsed": true,
    "hidden": true
   },
   "outputs": [
    {
     "name": "stderr",
     "output_type": "stream",
     "text": [
      "07:35 madminer.ml          INFO    Found score ensemble with 5 estimators\n",
      "07:35 madminer.ml          INFO    Loading model from models/met/ensemble_wph_e_wbkgs_sigsystonly_lhedata_met/estimator_0\n",
      "07:35 madminer.ml          INFO    Loading model from models/met/ensemble_wph_e_wbkgs_sigsystonly_lhedata_met/estimator_1\n",
      "07:35 madminer.ml          INFO    Loading model from models/met/ensemble_wph_e_wbkgs_sigsystonly_lhedata_met/estimator_2\n",
      "07:35 madminer.ml          INFO    Loading model from models/met/ensemble_wph_e_wbkgs_sigsystonly_lhedata_met/estimator_3\n",
      "07:35 madminer.ml          INFO    Loading model from models/met/ensemble_wph_e_wbkgs_sigsystonly_lhedata_met/estimator_4\n",
      "07:40 madminer.fisherinfor INFO    Evaluating kinematic Fisher information on batch 1 / 10\n",
      "07:40 madminer.ml          INFO    Starting score evaluation\n",
      "07:40 madminer.ml          INFO    Starting score evaluation\n",
      "07:40 madminer.ml          INFO    Starting score evaluation\n",
      "07:40 madminer.ml          INFO    Starting score evaluation\n",
      "07:40 madminer.ml          INFO    Starting score evaluation\n",
      "07:40 madminer.fisherinfor INFO    Evaluating kinematic Fisher information on batch 2 / 10\n",
      "07:41 madminer.ml          INFO    Starting score evaluation\n",
      "07:41 madminer.ml          INFO    Starting score evaluation\n",
      "07:41 madminer.ml          INFO    Starting score evaluation\n",
      "07:41 madminer.ml          INFO    Starting score evaluation\n",
      "07:41 madminer.ml          INFO    Starting score evaluation\n",
      "07:41 madminer.fisherinfor INFO    Evaluating kinematic Fisher information on batch 3 / 10\n",
      "07:41 madminer.ml          INFO    Starting score evaluation\n",
      "07:41 madminer.ml          INFO    Starting score evaluation\n",
      "07:41 madminer.ml          INFO    Starting score evaluation\n",
      "07:41 madminer.ml          INFO    Starting score evaluation\n",
      "07:41 madminer.ml          INFO    Starting score evaluation\n",
      "07:41 madminer.fisherinfor INFO    Evaluating kinematic Fisher information on batch 4 / 10\n",
      "07:41 madminer.ml          INFO    Starting score evaluation\n",
      "07:41 madminer.ml          INFO    Starting score evaluation\n",
      "07:41 madminer.ml          INFO    Starting score evaluation\n",
      "07:41 madminer.ml          INFO    Starting score evaluation\n",
      "07:41 madminer.ml          INFO    Starting score evaluation\n",
      "07:41 madminer.fisherinfor INFO    Evaluating kinematic Fisher information on batch 5 / 10\n",
      "07:41 madminer.ml          INFO    Starting score evaluation\n",
      "07:41 madminer.ml          INFO    Starting score evaluation\n",
      "07:41 madminer.ml          INFO    Starting score evaluation\n",
      "07:41 madminer.ml          INFO    Starting score evaluation\n",
      "07:41 madminer.ml          INFO    Starting score evaluation\n",
      "07:41 madminer.fisherinfor INFO    Evaluating kinematic Fisher information on batch 6 / 10\n",
      "07:41 madminer.ml          INFO    Starting score evaluation\n",
      "07:41 madminer.ml          INFO    Starting score evaluation\n",
      "07:41 madminer.ml          INFO    Starting score evaluation\n",
      "07:41 madminer.ml          INFO    Starting score evaluation\n",
      "07:41 madminer.ml          INFO    Starting score evaluation\n",
      "07:41 madminer.fisherinfor INFO    Evaluating kinematic Fisher information on batch 7 / 10\n",
      "07:42 madminer.ml          INFO    Starting score evaluation\n",
      "07:42 madminer.ml          INFO    Starting score evaluation\n",
      "07:42 madminer.ml          INFO    Starting score evaluation\n",
      "07:42 madminer.ml          INFO    Starting score evaluation\n",
      "07:42 madminer.ml          INFO    Starting score evaluation\n",
      "07:42 madminer.fisherinfor INFO    Evaluating kinematic Fisher information on batch 8 / 10\n",
      "07:42 madminer.ml          INFO    Starting score evaluation\n",
      "07:42 madminer.ml          INFO    Starting score evaluation\n",
      "07:42 madminer.ml          INFO    Starting score evaluation\n",
      "07:42 madminer.ml          INFO    Starting score evaluation\n",
      "07:42 madminer.ml          INFO    Starting score evaluation\n",
      "07:42 madminer.fisherinfor INFO    Evaluating kinematic Fisher information on batch 9 / 10\n",
      "07:42 madminer.ml          INFO    Starting score evaluation\n",
      "07:42 madminer.ml          INFO    Starting score evaluation\n",
      "07:42 madminer.ml          INFO    Starting score evaluation\n",
      "07:42 madminer.ml          INFO    Starting score evaluation\n",
      "07:42 madminer.ml          INFO    Starting score evaluation\n",
      "07:42 madminer.fisherinfor INFO    Evaluating kinematic Fisher information on batch 10 / 10\n",
      "07:42 madminer.ml          INFO    Starting score evaluation\n",
      "07:42 madminer.ml          INFO    Starting score evaluation\n",
      "07:42 madminer.ml          INFO    Starting score evaluation\n",
      "07:42 madminer.ml          INFO    Starting score evaluation\n",
      "07:42 madminer.ml          INFO    Starting score evaluation\n"
     ]
    }
   ],
   "source": [
    "bins_histo_wph_e_ptb1, w_in_histo_wph_e_ptb1, fi_histo_rate_wph_e_ptb1, fi_histo_wph_e_ptb1 = fisher_wph_e_wbkgs_met.histogram_of_fisher_information(\n",
    "    theta=[0.,0.,0.,0.],\n",
    "    luminosity=100*1000.,\n",
    "    observable='pt_b1',\n",
    "    nbins=20,\n",
    "    histrange=(0,800),\n",
    "    model_file=model_path_wph_e,\n",
    ")"
   ]
  },
  {
   "cell_type": "code",
   "execution_count": 102,
   "metadata": {
    "collapsed": true,
    "hidden": true
   },
   "outputs": [
    {
     "name": "stderr",
     "output_type": "stream",
     "text": [
      "07:42 madminer.ml          INFO    Found score ensemble with 5 estimators\n",
      "07:42 madminer.ml          INFO    Loading model from models/met/ensemble_wmh_mu_wbkgs_sigsystonly_lhedata_met/estimator_0\n",
      "07:42 madminer.ml          INFO    Loading model from models/met/ensemble_wmh_mu_wbkgs_sigsystonly_lhedata_met/estimator_1\n",
      "07:42 madminer.ml          INFO    Loading model from models/met/ensemble_wmh_mu_wbkgs_sigsystonly_lhedata_met/estimator_2\n",
      "07:42 madminer.ml          INFO    Loading model from models/met/ensemble_wmh_mu_wbkgs_sigsystonly_lhedata_met/estimator_3\n",
      "07:42 madminer.ml          INFO    Loading model from models/met/ensemble_wmh_mu_wbkgs_sigsystonly_lhedata_met/estimator_4\n",
      "07:48 madminer.fisherinfor INFO    Evaluating kinematic Fisher information on batch 1 / 10\n",
      "07:48 madminer.ml          INFO    Starting score evaluation\n",
      "07:48 madminer.ml          INFO    Starting score evaluation\n",
      "07:48 madminer.ml          INFO    Starting score evaluation\n",
      "07:48 madminer.ml          INFO    Starting score evaluation\n",
      "07:48 madminer.ml          INFO    Starting score evaluation\n",
      "07:48 madminer.fisherinfor INFO    Evaluating kinematic Fisher information on batch 2 / 10\n",
      "07:48 madminer.ml          INFO    Starting score evaluation\n",
      "07:48 madminer.ml          INFO    Starting score evaluation\n",
      "07:48 madminer.ml          INFO    Starting score evaluation\n",
      "07:48 madminer.ml          INFO    Starting score evaluation\n",
      "07:48 madminer.ml          INFO    Starting score evaluation\n",
      "07:48 madminer.fisherinfor INFO    Evaluating kinematic Fisher information on batch 3 / 10\n",
      "07:48 madminer.ml          INFO    Starting score evaluation\n",
      "07:48 madminer.ml          INFO    Starting score evaluation\n",
      "07:48 madminer.ml          INFO    Starting score evaluation\n",
      "07:48 madminer.ml          INFO    Starting score evaluation\n",
      "07:48 madminer.ml          INFO    Starting score evaluation\n",
      "07:48 madminer.fisherinfor INFO    Evaluating kinematic Fisher information on batch 4 / 10\n",
      "07:48 madminer.ml          INFO    Starting score evaluation\n",
      "07:48 madminer.ml          INFO    Starting score evaluation\n",
      "07:48 madminer.ml          INFO    Starting score evaluation\n",
      "07:48 madminer.ml          INFO    Starting score evaluation\n",
      "07:48 madminer.ml          INFO    Starting score evaluation\n",
      "07:48 madminer.fisherinfor INFO    Evaluating kinematic Fisher information on batch 5 / 10\n",
      "07:49 madminer.ml          INFO    Starting score evaluation\n",
      "07:49 madminer.ml          INFO    Starting score evaluation\n",
      "07:49 madminer.ml          INFO    Starting score evaluation\n",
      "07:49 madminer.ml          INFO    Starting score evaluation\n",
      "07:49 madminer.ml          INFO    Starting score evaluation\n",
      "07:49 madminer.fisherinfor INFO    Evaluating kinematic Fisher information on batch 6 / 10\n",
      "07:49 madminer.ml          INFO    Starting score evaluation\n",
      "07:49 madminer.ml          INFO    Starting score evaluation\n",
      "07:49 madminer.ml          INFO    Starting score evaluation\n",
      "07:49 madminer.ml          INFO    Starting score evaluation\n",
      "07:49 madminer.ml          INFO    Starting score evaluation\n",
      "07:49 madminer.fisherinfor INFO    Evaluating kinematic Fisher information on batch 7 / 10\n",
      "07:49 madminer.ml          INFO    Starting score evaluation\n",
      "07:49 madminer.ml          INFO    Starting score evaluation\n",
      "07:49 madminer.ml          INFO    Starting score evaluation\n",
      "07:49 madminer.ml          INFO    Starting score evaluation\n",
      "07:49 madminer.ml          INFO    Starting score evaluation\n",
      "07:49 madminer.fisherinfor INFO    Evaluating kinematic Fisher information on batch 8 / 10\n",
      "07:49 madminer.ml          INFO    Starting score evaluation\n",
      "07:49 madminer.ml          INFO    Starting score evaluation\n",
      "07:49 madminer.ml          INFO    Starting score evaluation\n",
      "07:49 madminer.ml          INFO    Starting score evaluation\n",
      "07:49 madminer.ml          INFO    Starting score evaluation\n",
      "07:49 madminer.fisherinfor INFO    Evaluating kinematic Fisher information on batch 9 / 10\n",
      "07:49 madminer.ml          INFO    Starting score evaluation\n",
      "07:49 madminer.ml          INFO    Starting score evaluation\n",
      "07:49 madminer.ml          INFO    Starting score evaluation\n",
      "07:49 madminer.ml          INFO    Starting score evaluation\n",
      "07:49 madminer.ml          INFO    Starting score evaluation\n",
      "07:50 madminer.fisherinfor INFO    Evaluating kinematic Fisher information on batch 10 / 10\n",
      "07:50 madminer.ml          INFO    Starting score evaluation\n",
      "07:50 madminer.ml          INFO    Starting score evaluation\n",
      "07:50 madminer.ml          INFO    Starting score evaluation\n",
      "07:50 madminer.ml          INFO    Starting score evaluation\n",
      "07:50 madminer.ml          INFO    Starting score evaluation\n"
     ]
    }
   ],
   "source": [
    "bins_histo_wmh_mu_ptb1, w_in_histo_wmh_mu_ptb1, fi_histo_rate_wmh_mu_ptb1, fi_histo_wmh_mu_ptb1 = fisher_wmh_mu_wbkgs_met.histogram_of_fisher_information(\n",
    "    theta=[0.,0.,0.,0.],\n",
    "    luminosity=100*1000.,\n",
    "    observable='pt_b1',\n",
    "    nbins=20,\n",
    "    histrange=(0,800),\n",
    "    model_file=model_path_wmh_mu,\n",
    ")"
   ]
  },
  {
   "cell_type": "code",
   "execution_count": 103,
   "metadata": {
    "collapsed": true,
    "hidden": true
   },
   "outputs": [
    {
     "name": "stderr",
     "output_type": "stream",
     "text": [
      "07:50 madminer.ml          INFO    Found score ensemble with 5 estimators\n",
      "07:50 madminer.ml          INFO    Loading model from models/met/ensemble_wmh_e_wbkgs_sigsystonly_lhedata_met/estimator_0\n",
      "07:50 madminer.ml          INFO    Loading model from models/met/ensemble_wmh_e_wbkgs_sigsystonly_lhedata_met/estimator_1\n",
      "07:50 madminer.ml          INFO    Loading model from models/met/ensemble_wmh_e_wbkgs_sigsystonly_lhedata_met/estimator_2\n",
      "07:50 madminer.ml          INFO    Loading model from models/met/ensemble_wmh_e_wbkgs_sigsystonly_lhedata_met/estimator_3\n",
      "07:50 madminer.ml          INFO    Loading model from models/met/ensemble_wmh_e_wbkgs_sigsystonly_lhedata_met/estimator_4\n",
      "07:55 madminer.fisherinfor INFO    Evaluating kinematic Fisher information on batch 1 / 10\n",
      "07:55 madminer.ml          INFO    Starting score evaluation\n",
      "07:55 madminer.ml          INFO    Starting score evaluation\n",
      "07:55 madminer.ml          INFO    Starting score evaluation\n",
      "07:55 madminer.ml          INFO    Starting score evaluation\n",
      "07:55 madminer.ml          INFO    Starting score evaluation\n",
      "07:55 madminer.fisherinfor INFO    Evaluating kinematic Fisher information on batch 2 / 10\n",
      "07:56 madminer.ml          INFO    Starting score evaluation\n",
      "07:56 madminer.ml          INFO    Starting score evaluation\n",
      "07:56 madminer.ml          INFO    Starting score evaluation\n",
      "07:56 madminer.ml          INFO    Starting score evaluation\n",
      "07:56 madminer.ml          INFO    Starting score evaluation\n",
      "07:56 madminer.fisherinfor INFO    Evaluating kinematic Fisher information on batch 3 / 10\n",
      "07:56 madminer.ml          INFO    Starting score evaluation\n",
      "07:56 madminer.ml          INFO    Starting score evaluation\n",
      "07:56 madminer.ml          INFO    Starting score evaluation\n",
      "07:56 madminer.ml          INFO    Starting score evaluation\n",
      "07:56 madminer.ml          INFO    Starting score evaluation\n",
      "07:56 madminer.fisherinfor INFO    Evaluating kinematic Fisher information on batch 4 / 10\n",
      "07:56 madminer.ml          INFO    Starting score evaluation\n",
      "07:56 madminer.ml          INFO    Starting score evaluation\n",
      "07:56 madminer.ml          INFO    Starting score evaluation\n",
      "07:56 madminer.ml          INFO    Starting score evaluation\n",
      "07:56 madminer.ml          INFO    Starting score evaluation\n",
      "07:56 madminer.fisherinfor INFO    Evaluating kinematic Fisher information on batch 5 / 10\n",
      "07:56 madminer.ml          INFO    Starting score evaluation\n",
      "07:56 madminer.ml          INFO    Starting score evaluation\n",
      "07:56 madminer.ml          INFO    Starting score evaluation\n",
      "07:56 madminer.ml          INFO    Starting score evaluation\n",
      "07:56 madminer.ml          INFO    Starting score evaluation\n",
      "07:56 madminer.fisherinfor INFO    Evaluating kinematic Fisher information on batch 6 / 10\n",
      "07:56 madminer.ml          INFO    Starting score evaluation\n",
      "07:56 madminer.ml          INFO    Starting score evaluation\n",
      "07:56 madminer.ml          INFO    Starting score evaluation\n",
      "07:56 madminer.ml          INFO    Starting score evaluation\n",
      "07:56 madminer.ml          INFO    Starting score evaluation\n",
      "07:57 madminer.fisherinfor INFO    Evaluating kinematic Fisher information on batch 7 / 10\n",
      "07:57 madminer.ml          INFO    Starting score evaluation\n",
      "07:57 madminer.ml          INFO    Starting score evaluation\n",
      "07:57 madminer.ml          INFO    Starting score evaluation\n",
      "07:57 madminer.ml          INFO    Starting score evaluation\n",
      "07:57 madminer.ml          INFO    Starting score evaluation\n",
      "07:57 madminer.fisherinfor INFO    Evaluating kinematic Fisher information on batch 8 / 10\n",
      "07:57 madminer.ml          INFO    Starting score evaluation\n",
      "07:57 madminer.ml          INFO    Starting score evaluation\n",
      "07:57 madminer.ml          INFO    Starting score evaluation\n",
      "07:57 madminer.ml          INFO    Starting score evaluation\n",
      "07:57 madminer.ml          INFO    Starting score evaluation\n",
      "07:57 madminer.fisherinfor INFO    Evaluating kinematic Fisher information on batch 9 / 10\n",
      "07:57 madminer.ml          INFO    Starting score evaluation\n",
      "07:57 madminer.ml          INFO    Starting score evaluation\n",
      "07:57 madminer.ml          INFO    Starting score evaluation\n",
      "07:57 madminer.ml          INFO    Starting score evaluation\n",
      "07:57 madminer.ml          INFO    Starting score evaluation\n",
      "07:57 madminer.fisherinfor INFO    Evaluating kinematic Fisher information on batch 10 / 10\n",
      "07:57 madminer.ml          INFO    Starting score evaluation\n",
      "07:57 madminer.ml          INFO    Starting score evaluation\n",
      "07:57 madminer.ml          INFO    Starting score evaluation\n",
      "07:57 madminer.ml          INFO    Starting score evaluation\n",
      "07:57 madminer.ml          INFO    Starting score evaluation\n"
     ]
    }
   ],
   "source": [
    "bins_histo_wmh_e_ptb1, w_in_histo_wmh_e_ptb1, fi_histo_rate_wmh_e_ptb1, fi_histo_wmh_e_ptb1 = fisher_wmh_e_wbkgs_met.histogram_of_fisher_information(\n",
    "    theta=[0.,0.,0.,0.],\n",
    "    luminosity=100*1000.,\n",
    "    observable='pt_b1',\n",
    "    nbins=20,\n",
    "    histrange=(0,800),\n",
    "    model_file=model_path_wmh_e,\n",
    ")"
   ]
  },
  {
   "cell_type": "code",
   "execution_count": 104,
   "metadata": {
    "collapsed": true,
    "hidden": true
   },
   "outputs": [],
   "source": [
    "fi_histo_ptb1_outfile = './fisher_info/dists/fi_histo_ptb1.npz'\n",
    "\n",
    "fi_histo_ptb1_list = [\n",
    "    bins_histo_wph_mu_ptb1,\n",
    "    w_in_histo_wph_mu_ptb1,\n",
    "    fi_histo_rate_wph_mu_ptb1,\n",
    "    fi_histo_wph_mu_ptb1,\n",
    "    bins_histo_wph_e_ptb1,\n",
    "    w_in_histo_wph_e_ptb1,\n",
    "    fi_histo_rate_wph_e_ptb1,\n",
    "    fi_histo_wph_e_ptb1,\n",
    "    bins_histo_wmh_mu_ptb1,\n",
    "    w_in_histo_wmh_mu_ptb1,\n",
    "    fi_histo_rate_wmh_mu_ptb1,\n",
    "    fi_histo_wmh_mu_ptb1,\n",
    "    bins_histo_wmh_e_ptb1,\n",
    "    w_in_histo_wmh_e_ptb1,\n",
    "    fi_histo_rate_wmh_e_ptb1,\n",
    "    fi_histo_wmh_e_ptb1,\n",
    "]"
   ]
  },
  {
   "cell_type": "code",
   "execution_count": 105,
   "metadata": {
    "collapsed": true,
    "hidden": true
   },
   "outputs": [],
   "source": [
    "np.savez(fi_histo_ptb1_outfile, fi_histo_ptb1_list, allow_pickle=False)"
   ]
  },
  {
   "cell_type": "code",
   "execution_count": 106,
   "metadata": {
    "collapsed": true,
    "hidden": true
   },
   "outputs": [],
   "source": [
    "fi_histo_rate_ptb1 = [ fi_histo_rate_wph_mu_ptb1[i]\n",
    "                     + fi_histo_rate_wph_e_ptb1[i] \n",
    "                     + fi_histo_rate_wmh_mu_ptb1[i] \n",
    "                     + fi_histo_rate_wmh_e_ptb1[i] \n",
    "                     for i in range(0, len(fi_histo_rate_wph_mu_ptb1)) ]\n",
    "\n",
    "fi_histo_ptb1 = [ fi_histo_wph_mu_ptb1[i]\n",
    "                     + fi_histo_wph_e_ptb1[i] \n",
    "                     + fi_histo_wmh_mu_ptb1[i] \n",
    "                     + fi_histo_wmh_e_ptb1[i] \n",
    "                     for i in range(0, len(fi_histo_wph_mu_ptb1)) ]\n",
    "\n",
    "fi_histo_rate_ptb1_rot = [ rotate(fi_histo_rate_ptb1[i]) for i in range(0, len(fi_histo_rate_ptb1)) ]\n",
    "fi_histo_ptb1_rot = [ rotate(fi_histo_ptb1[i]) for i in range(0, len(fi_histo_ptb1)) ]"
   ]
  },
  {
   "cell_type": "markdown",
   "metadata": {
    "heading_collapsed": true
   },
   "source": [
    "### $p_{T,b_2}$"
   ]
  },
  {
   "cell_type": "code",
   "execution_count": 108,
   "metadata": {
    "collapsed": true,
    "hidden": true
   },
   "outputs": [
    {
     "name": "stderr",
     "output_type": "stream",
     "text": [
      "07:57 madminer.ml          INFO    Found score ensemble with 5 estimators\n",
      "07:57 madminer.ml          INFO    Loading model from models/met/ensemble_wph_mu_wbkgs_sigsystonly_lhedata_met/estimator_0\n",
      "07:57 madminer.ml          INFO    Loading model from models/met/ensemble_wph_mu_wbkgs_sigsystonly_lhedata_met/estimator_1\n",
      "07:57 madminer.ml          INFO    Loading model from models/met/ensemble_wph_mu_wbkgs_sigsystonly_lhedata_met/estimator_2\n",
      "07:57 madminer.ml          INFO    Loading model from models/met/ensemble_wph_mu_wbkgs_sigsystonly_lhedata_met/estimator_3\n",
      "07:57 madminer.ml          INFO    Loading model from models/met/ensemble_wph_mu_wbkgs_sigsystonly_lhedata_met/estimator_4\n",
      "08:03 madminer.fisherinfor INFO    Evaluating kinematic Fisher information on batch 1 / 10\n",
      "08:03 madminer.ml          INFO    Starting score evaluation\n",
      "08:03 madminer.ml          INFO    Starting score evaluation\n",
      "08:03 madminer.ml          INFO    Starting score evaluation\n",
      "08:03 madminer.ml          INFO    Starting score evaluation\n",
      "08:03 madminer.ml          INFO    Starting score evaluation\n",
      "08:03 madminer.fisherinfor INFO    Evaluating kinematic Fisher information on batch 2 / 10\n",
      "08:03 madminer.ml          INFO    Starting score evaluation\n",
      "08:03 madminer.ml          INFO    Starting score evaluation\n",
      "08:03 madminer.ml          INFO    Starting score evaluation\n",
      "08:03 madminer.ml          INFO    Starting score evaluation\n",
      "08:03 madminer.ml          INFO    Starting score evaluation\n",
      "08:03 madminer.fisherinfor INFO    Evaluating kinematic Fisher information on batch 3 / 10\n",
      "08:03 madminer.ml          INFO    Starting score evaluation\n",
      "08:03 madminer.ml          INFO    Starting score evaluation\n",
      "08:03 madminer.ml          INFO    Starting score evaluation\n",
      "08:03 madminer.ml          INFO    Starting score evaluation\n",
      "08:03 madminer.ml          INFO    Starting score evaluation\n",
      "08:03 madminer.fisherinfor INFO    Evaluating kinematic Fisher information on batch 4 / 10\n",
      "08:03 madminer.ml          INFO    Starting score evaluation\n",
      "08:03 madminer.ml          INFO    Starting score evaluation\n",
      "08:03 madminer.ml          INFO    Starting score evaluation\n",
      "08:03 madminer.ml          INFO    Starting score evaluation\n",
      "08:03 madminer.ml          INFO    Starting score evaluation\n",
      "08:04 madminer.fisherinfor INFO    Evaluating kinematic Fisher information on batch 5 / 10\n",
      "08:04 madminer.ml          INFO    Starting score evaluation\n",
      "08:04 madminer.ml          INFO    Starting score evaluation\n",
      "08:04 madminer.ml          INFO    Starting score evaluation\n",
      "08:04 madminer.ml          INFO    Starting score evaluation\n",
      "08:04 madminer.ml          INFO    Starting score evaluation\n",
      "08:04 madminer.fisherinfor INFO    Evaluating kinematic Fisher information on batch 6 / 10\n",
      "08:04 madminer.ml          INFO    Starting score evaluation\n",
      "08:04 madminer.ml          INFO    Starting score evaluation\n",
      "08:04 madminer.ml          INFO    Starting score evaluation\n",
      "08:04 madminer.ml          INFO    Starting score evaluation\n",
      "08:04 madminer.ml          INFO    Starting score evaluation\n",
      "08:04 madminer.fisherinfor INFO    Evaluating kinematic Fisher information on batch 7 / 10\n",
      "08:04 madminer.ml          INFO    Starting score evaluation\n",
      "08:04 madminer.ml          INFO    Starting score evaluation\n",
      "08:04 madminer.ml          INFO    Starting score evaluation\n",
      "08:04 madminer.ml          INFO    Starting score evaluation\n",
      "08:04 madminer.ml          INFO    Starting score evaluation\n",
      "08:04 madminer.fisherinfor INFO    Evaluating kinematic Fisher information on batch 8 / 10\n",
      "08:04 madminer.ml          INFO    Starting score evaluation\n",
      "08:04 madminer.ml          INFO    Starting score evaluation\n",
      "08:04 madminer.ml          INFO    Starting score evaluation\n",
      "08:04 madminer.ml          INFO    Starting score evaluation\n",
      "08:04 madminer.ml          INFO    Starting score evaluation\n",
      "08:04 madminer.fisherinfor INFO    Evaluating kinematic Fisher information on batch 9 / 10\n",
      "08:04 madminer.ml          INFO    Starting score evaluation\n",
      "08:04 madminer.ml          INFO    Starting score evaluation\n",
      "08:04 madminer.ml          INFO    Starting score evaluation\n",
      "08:04 madminer.ml          INFO    Starting score evaluation\n",
      "08:05 madminer.ml          INFO    Starting score evaluation\n",
      "08:05 madminer.fisherinfor INFO    Evaluating kinematic Fisher information on batch 10 / 10\n",
      "08:05 madminer.ml          INFO    Starting score evaluation\n",
      "08:05 madminer.ml          INFO    Starting score evaluation\n",
      "08:05 madminer.ml          INFO    Starting score evaluation\n",
      "08:05 madminer.ml          INFO    Starting score evaluation\n",
      "08:05 madminer.ml          INFO    Starting score evaluation\n"
     ]
    }
   ],
   "source": [
    "bins_histo_wph_mu_ptb2, w_in_histo_wph_mu_ptb2, fi_histo_rate_wph_mu_ptb2, fi_histo_wph_mu_ptb2 = fisher_wph_mu_wbkgs_met.histogram_of_fisher_information(\n",
    "    theta=[0.,0.,0.,0.],\n",
    "    luminosity=100*1000.,\n",
    "    observable='pt_b2',\n",
    "    nbins=20,\n",
    "    histrange=(0,800),\n",
    "    model_file=model_path_wph_mu,\n",
    ")"
   ]
  },
  {
   "cell_type": "code",
   "execution_count": 109,
   "metadata": {
    "collapsed": true,
    "hidden": true
   },
   "outputs": [
    {
     "name": "stderr",
     "output_type": "stream",
     "text": [
      "08:05 madminer.ml          INFO    Found score ensemble with 5 estimators\n",
      "08:05 madminer.ml          INFO    Loading model from models/met/ensemble_wph_e_wbkgs_sigsystonly_lhedata_met/estimator_0\n",
      "08:05 madminer.ml          INFO    Loading model from models/met/ensemble_wph_e_wbkgs_sigsystonly_lhedata_met/estimator_1\n",
      "08:05 madminer.ml          INFO    Loading model from models/met/ensemble_wph_e_wbkgs_sigsystonly_lhedata_met/estimator_2\n",
      "08:05 madminer.ml          INFO    Loading model from models/met/ensemble_wph_e_wbkgs_sigsystonly_lhedata_met/estimator_3\n",
      "08:05 madminer.ml          INFO    Loading model from models/met/ensemble_wph_e_wbkgs_sigsystonly_lhedata_met/estimator_4\n",
      "08:10 madminer.fisherinfor INFO    Evaluating kinematic Fisher information on batch 1 / 10\n",
      "08:10 madminer.ml          INFO    Starting score evaluation\n",
      "08:10 madminer.ml          INFO    Starting score evaluation\n",
      "08:10 madminer.ml          INFO    Starting score evaluation\n",
      "08:10 madminer.ml          INFO    Starting score evaluation\n",
      "08:10 madminer.ml          INFO    Starting score evaluation\n",
      "08:10 madminer.fisherinfor INFO    Evaluating kinematic Fisher information on batch 2 / 10\n",
      "08:10 madminer.ml          INFO    Starting score evaluation\n",
      "08:10 madminer.ml          INFO    Starting score evaluation\n",
      "08:10 madminer.ml          INFO    Starting score evaluation\n",
      "08:10 madminer.ml          INFO    Starting score evaluation\n",
      "08:10 madminer.ml          INFO    Starting score evaluation\n",
      "08:10 madminer.fisherinfor INFO    Evaluating kinematic Fisher information on batch 3 / 10\n",
      "08:11 madminer.ml          INFO    Starting score evaluation\n",
      "08:11 madminer.ml          INFO    Starting score evaluation\n",
      "08:11 madminer.ml          INFO    Starting score evaluation\n",
      "08:11 madminer.ml          INFO    Starting score evaluation\n",
      "08:11 madminer.ml          INFO    Starting score evaluation\n",
      "08:11 madminer.fisherinfor INFO    Evaluating kinematic Fisher information on batch 4 / 10\n",
      "08:11 madminer.ml          INFO    Starting score evaluation\n",
      "08:11 madminer.ml          INFO    Starting score evaluation\n",
      "08:11 madminer.ml          INFO    Starting score evaluation\n",
      "08:11 madminer.ml          INFO    Starting score evaluation\n",
      "08:11 madminer.ml          INFO    Starting score evaluation\n",
      "08:11 madminer.fisherinfor INFO    Evaluating kinematic Fisher information on batch 5 / 10\n",
      "08:11 madminer.ml          INFO    Starting score evaluation\n",
      "08:11 madminer.ml          INFO    Starting score evaluation\n",
      "08:11 madminer.ml          INFO    Starting score evaluation\n",
      "08:11 madminer.ml          INFO    Starting score evaluation\n",
      "08:11 madminer.ml          INFO    Starting score evaluation\n",
      "08:11 madminer.fisherinfor INFO    Evaluating kinematic Fisher information on batch 6 / 10\n",
      "08:11 madminer.ml          INFO    Starting score evaluation\n",
      "08:11 madminer.ml          INFO    Starting score evaluation\n",
      "08:11 madminer.ml          INFO    Starting score evaluation\n",
      "08:11 madminer.ml          INFO    Starting score evaluation\n",
      "08:11 madminer.ml          INFO    Starting score evaluation\n",
      "08:11 madminer.fisherinfor INFO    Evaluating kinematic Fisher information on batch 7 / 10\n",
      "08:11 madminer.ml          INFO    Starting score evaluation\n",
      "08:11 madminer.ml          INFO    Starting score evaluation\n",
      "08:11 madminer.ml          INFO    Starting score evaluation\n",
      "08:11 madminer.ml          INFO    Starting score evaluation\n",
      "08:11 madminer.ml          INFO    Starting score evaluation\n",
      "08:11 madminer.fisherinfor INFO    Evaluating kinematic Fisher information on batch 8 / 10\n",
      "08:12 madminer.ml          INFO    Starting score evaluation\n",
      "08:12 madminer.ml          INFO    Starting score evaluation\n",
      "08:12 madminer.ml          INFO    Starting score evaluation\n",
      "08:12 madminer.ml          INFO    Starting score evaluation\n",
      "08:12 madminer.ml          INFO    Starting score evaluation\n",
      "08:12 madminer.fisherinfor INFO    Evaluating kinematic Fisher information on batch 9 / 10\n",
      "08:12 madminer.ml          INFO    Starting score evaluation\n",
      "08:12 madminer.ml          INFO    Starting score evaluation\n",
      "08:12 madminer.ml          INFO    Starting score evaluation\n",
      "08:12 madminer.ml          INFO    Starting score evaluation\n",
      "08:12 madminer.ml          INFO    Starting score evaluation\n",
      "08:12 madminer.fisherinfor INFO    Evaluating kinematic Fisher information on batch 10 / 10\n",
      "08:12 madminer.ml          INFO    Starting score evaluation\n",
      "08:12 madminer.ml          INFO    Starting score evaluation\n",
      "08:12 madminer.ml          INFO    Starting score evaluation\n",
      "08:12 madminer.ml          INFO    Starting score evaluation\n",
      "08:12 madminer.ml          INFO    Starting score evaluation\n"
     ]
    }
   ],
   "source": [
    "bins_histo_wph_e_ptb2, w_in_histo_wph_e_ptb2, fi_histo_rate_wph_e_ptb2, fi_histo_wph_e_ptb2 = fisher_wph_e_wbkgs_met.histogram_of_fisher_information(\n",
    "    theta=[0.,0.,0.,0.],\n",
    "    luminosity=100*1000.,\n",
    "    observable='pt_b2',\n",
    "    nbins=20,\n",
    "    histrange=(0,800),\n",
    "    model_file=model_path_wph_e,\n",
    ")"
   ]
  },
  {
   "cell_type": "code",
   "execution_count": 110,
   "metadata": {
    "collapsed": true,
    "hidden": true
   },
   "outputs": [
    {
     "name": "stderr",
     "output_type": "stream",
     "text": [
      "08:12 madminer.ml          INFO    Found score ensemble with 5 estimators\n",
      "08:12 madminer.ml          INFO    Loading model from models/met/ensemble_wmh_mu_wbkgs_sigsystonly_lhedata_met/estimator_0\n",
      "08:12 madminer.ml          INFO    Loading model from models/met/ensemble_wmh_mu_wbkgs_sigsystonly_lhedata_met/estimator_1\n",
      "08:12 madminer.ml          INFO    Loading model from models/met/ensemble_wmh_mu_wbkgs_sigsystonly_lhedata_met/estimator_2\n",
      "08:12 madminer.ml          INFO    Loading model from models/met/ensemble_wmh_mu_wbkgs_sigsystonly_lhedata_met/estimator_3\n",
      "08:12 madminer.ml          INFO    Loading model from models/met/ensemble_wmh_mu_wbkgs_sigsystonly_lhedata_met/estimator_4\n",
      "08:17 madminer.fisherinfor INFO    Evaluating kinematic Fisher information on batch 1 / 10\n",
      "08:18 madminer.ml          INFO    Starting score evaluation\n",
      "08:18 madminer.ml          INFO    Starting score evaluation\n",
      "08:18 madminer.ml          INFO    Starting score evaluation\n",
      "08:18 madminer.ml          INFO    Starting score evaluation\n",
      "08:18 madminer.ml          INFO    Starting score evaluation\n",
      "08:18 madminer.fisherinfor INFO    Evaluating kinematic Fisher information on batch 2 / 10\n",
      "08:18 madminer.ml          INFO    Starting score evaluation\n",
      "08:18 madminer.ml          INFO    Starting score evaluation\n",
      "08:18 madminer.ml          INFO    Starting score evaluation\n",
      "08:18 madminer.ml          INFO    Starting score evaluation\n",
      "08:18 madminer.ml          INFO    Starting score evaluation\n",
      "08:18 madminer.fisherinfor INFO    Evaluating kinematic Fisher information on batch 3 / 10\n",
      "08:18 madminer.ml          INFO    Starting score evaluation\n",
      "08:18 madminer.ml          INFO    Starting score evaluation\n",
      "08:18 madminer.ml          INFO    Starting score evaluation\n",
      "08:18 madminer.ml          INFO    Starting score evaluation\n",
      "08:18 madminer.ml          INFO    Starting score evaluation\n",
      "08:18 madminer.fisherinfor INFO    Evaluating kinematic Fisher information on batch 4 / 10\n",
      "08:18 madminer.ml          INFO    Starting score evaluation\n",
      "08:18 madminer.ml          INFO    Starting score evaluation\n",
      "08:18 madminer.ml          INFO    Starting score evaluation\n",
      "08:18 madminer.ml          INFO    Starting score evaluation\n",
      "08:18 madminer.ml          INFO    Starting score evaluation\n",
      "08:18 madminer.fisherinfor INFO    Evaluating kinematic Fisher information on batch 5 / 10\n",
      "08:18 madminer.ml          INFO    Starting score evaluation\n",
      "08:18 madminer.ml          INFO    Starting score evaluation\n",
      "08:18 madminer.ml          INFO    Starting score evaluation\n",
      "08:18 madminer.ml          INFO    Starting score evaluation\n",
      "08:18 madminer.ml          INFO    Starting score evaluation\n",
      "08:19 madminer.fisherinfor INFO    Evaluating kinematic Fisher information on batch 6 / 10\n",
      "08:19 madminer.ml          INFO    Starting score evaluation\n",
      "08:19 madminer.ml          INFO    Starting score evaluation\n",
      "08:19 madminer.ml          INFO    Starting score evaluation\n",
      "08:19 madminer.ml          INFO    Starting score evaluation\n",
      "08:19 madminer.ml          INFO    Starting score evaluation\n",
      "08:19 madminer.fisherinfor INFO    Evaluating kinematic Fisher information on batch 7 / 10\n",
      "08:19 madminer.ml          INFO    Starting score evaluation\n",
      "08:19 madminer.ml          INFO    Starting score evaluation\n",
      "08:19 madminer.ml          INFO    Starting score evaluation\n",
      "08:19 madminer.ml          INFO    Starting score evaluation\n",
      "08:19 madminer.ml          INFO    Starting score evaluation\n",
      "08:19 madminer.fisherinfor INFO    Evaluating kinematic Fisher information on batch 8 / 10\n",
      "08:19 madminer.ml          INFO    Starting score evaluation\n",
      "08:19 madminer.ml          INFO    Starting score evaluation\n",
      "08:19 madminer.ml          INFO    Starting score evaluation\n",
      "08:19 madminer.ml          INFO    Starting score evaluation\n",
      "08:19 madminer.ml          INFO    Starting score evaluation\n",
      "08:19 madminer.fisherinfor INFO    Evaluating kinematic Fisher information on batch 9 / 10\n",
      "08:19 madminer.ml          INFO    Starting score evaluation\n",
      "08:19 madminer.ml          INFO    Starting score evaluation\n",
      "08:19 madminer.ml          INFO    Starting score evaluation\n",
      "08:19 madminer.ml          INFO    Starting score evaluation\n",
      "08:19 madminer.ml          INFO    Starting score evaluation\n",
      "08:19 madminer.fisherinfor INFO    Evaluating kinematic Fisher information on batch 10 / 10\n",
      "08:19 madminer.ml          INFO    Starting score evaluation\n",
      "08:19 madminer.ml          INFO    Starting score evaluation\n",
      "08:19 madminer.ml          INFO    Starting score evaluation\n",
      "08:19 madminer.ml          INFO    Starting score evaluation\n",
      "08:20 madminer.ml          INFO    Starting score evaluation\n"
     ]
    }
   ],
   "source": [
    "bins_histo_wmh_mu_ptb2, w_in_histo_wmh_mu_ptb2, fi_histo_rate_wmh_mu_ptb2, fi_histo_wmh_mu_ptb2 = fisher_wmh_mu_wbkgs_met.histogram_of_fisher_information(\n",
    "    theta=[0.,0.,0.,0.],\n",
    "    luminosity=100*1000.,\n",
    "    observable='pt_b2',\n",
    "    nbins=20,\n",
    "    histrange=(0,800),\n",
    "    model_file=model_path_wmh_mu,\n",
    ")"
   ]
  },
  {
   "cell_type": "code",
   "execution_count": 111,
   "metadata": {
    "collapsed": true,
    "hidden": true
   },
   "outputs": [
    {
     "name": "stderr",
     "output_type": "stream",
     "text": [
      "08:20 madminer.ml          INFO    Found score ensemble with 5 estimators\n",
      "08:20 madminer.ml          INFO    Loading model from models/met/ensemble_wmh_e_wbkgs_sigsystonly_lhedata_met/estimator_0\n",
      "08:20 madminer.ml          INFO    Loading model from models/met/ensemble_wmh_e_wbkgs_sigsystonly_lhedata_met/estimator_1\n",
      "08:20 madminer.ml          INFO    Loading model from models/met/ensemble_wmh_e_wbkgs_sigsystonly_lhedata_met/estimator_2\n",
      "08:20 madminer.ml          INFO    Loading model from models/met/ensemble_wmh_e_wbkgs_sigsystonly_lhedata_met/estimator_3\n",
      "08:20 madminer.ml          INFO    Loading model from models/met/ensemble_wmh_e_wbkgs_sigsystonly_lhedata_met/estimator_4\n",
      "08:25 madminer.fisherinfor INFO    Evaluating kinematic Fisher information on batch 1 / 10\n",
      "08:25 madminer.ml          INFO    Starting score evaluation\n",
      "08:25 madminer.ml          INFO    Starting score evaluation\n",
      "08:25 madminer.ml          INFO    Starting score evaluation\n",
      "08:25 madminer.ml          INFO    Starting score evaluation\n",
      "08:25 madminer.ml          INFO    Starting score evaluation\n",
      "08:25 madminer.fisherinfor INFO    Evaluating kinematic Fisher information on batch 2 / 10\n",
      "08:25 madminer.ml          INFO    Starting score evaluation\n",
      "08:25 madminer.ml          INFO    Starting score evaluation\n",
      "08:25 madminer.ml          INFO    Starting score evaluation\n",
      "08:25 madminer.ml          INFO    Starting score evaluation\n",
      "08:25 madminer.ml          INFO    Starting score evaluation\n",
      "08:25 madminer.fisherinfor INFO    Evaluating kinematic Fisher information on batch 3 / 10\n",
      "08:25 madminer.ml          INFO    Starting score evaluation\n",
      "08:25 madminer.ml          INFO    Starting score evaluation\n",
      "08:25 madminer.ml          INFO    Starting score evaluation\n",
      "08:25 madminer.ml          INFO    Starting score evaluation\n",
      "08:25 madminer.ml          INFO    Starting score evaluation\n",
      "08:25 madminer.fisherinfor INFO    Evaluating kinematic Fisher information on batch 4 / 10\n",
      "08:26 madminer.ml          INFO    Starting score evaluation\n",
      "08:26 madminer.ml          INFO    Starting score evaluation\n",
      "08:26 madminer.ml          INFO    Starting score evaluation\n",
      "08:26 madminer.ml          INFO    Starting score evaluation\n",
      "08:26 madminer.ml          INFO    Starting score evaluation\n",
      "08:26 madminer.fisherinfor INFO    Evaluating kinematic Fisher information on batch 5 / 10\n",
      "08:26 madminer.ml          INFO    Starting score evaluation\n",
      "08:26 madminer.ml          INFO    Starting score evaluation\n",
      "08:26 madminer.ml          INFO    Starting score evaluation\n",
      "08:26 madminer.ml          INFO    Starting score evaluation\n",
      "08:26 madminer.ml          INFO    Starting score evaluation\n",
      "08:26 madminer.fisherinfor INFO    Evaluating kinematic Fisher information on batch 6 / 10\n",
      "08:26 madminer.ml          INFO    Starting score evaluation\n",
      "08:26 madminer.ml          INFO    Starting score evaluation\n",
      "08:26 madminer.ml          INFO    Starting score evaluation\n",
      "08:26 madminer.ml          INFO    Starting score evaluation\n",
      "08:26 madminer.ml          INFO    Starting score evaluation\n",
      "08:26 madminer.fisherinfor INFO    Evaluating kinematic Fisher information on batch 7 / 10\n",
      "08:26 madminer.ml          INFO    Starting score evaluation\n",
      "08:26 madminer.ml          INFO    Starting score evaluation\n",
      "08:26 madminer.ml          INFO    Starting score evaluation\n",
      "08:26 madminer.ml          INFO    Starting score evaluation\n",
      "08:26 madminer.ml          INFO    Starting score evaluation\n",
      "08:26 madminer.fisherinfor INFO    Evaluating kinematic Fisher information on batch 8 / 10\n",
      "08:26 madminer.ml          INFO    Starting score evaluation\n",
      "08:26 madminer.ml          INFO    Starting score evaluation\n",
      "08:26 madminer.ml          INFO    Starting score evaluation\n",
      "08:26 madminer.ml          INFO    Starting score evaluation\n",
      "08:26 madminer.ml          INFO    Starting score evaluation\n",
      "08:27 madminer.fisherinfor INFO    Evaluating kinematic Fisher information on batch 9 / 10\n",
      "08:27 madminer.ml          INFO    Starting score evaluation\n",
      "08:27 madminer.ml          INFO    Starting score evaluation\n",
      "08:27 madminer.ml          INFO    Starting score evaluation\n",
      "08:27 madminer.ml          INFO    Starting score evaluation\n",
      "08:27 madminer.ml          INFO    Starting score evaluation\n",
      "08:27 madminer.fisherinfor INFO    Evaluating kinematic Fisher information on batch 10 / 10\n",
      "08:27 madminer.ml          INFO    Starting score evaluation\n",
      "08:27 madminer.ml          INFO    Starting score evaluation\n",
      "08:27 madminer.ml          INFO    Starting score evaluation\n",
      "08:27 madminer.ml          INFO    Starting score evaluation\n",
      "08:27 madminer.ml          INFO    Starting score evaluation\n"
     ]
    }
   ],
   "source": [
    "bins_histo_wmh_e_ptb2, w_in_histo_wmh_e_ptb2, fi_histo_rate_wmh_e_ptb2, fi_histo_wmh_e_ptb2 = fisher_wmh_e_wbkgs_met.histogram_of_fisher_information(\n",
    "    theta=[0.,0.,0.,0.],\n",
    "    luminosity=100*1000.,\n",
    "    observable='pt_b2',\n",
    "    nbins=20,\n",
    "    histrange=(0,800),\n",
    "    model_file=model_path_wmh_e,\n",
    ")"
   ]
  },
  {
   "cell_type": "code",
   "execution_count": 112,
   "metadata": {
    "collapsed": true,
    "hidden": true
   },
   "outputs": [],
   "source": [
    "fi_histo_ptb2_outfile = './fisher_info/dists/fi_histo_ptb2.npz'\n",
    "\n",
    "fi_histo_ptb2_list = [\n",
    "    bins_histo_wph_mu_ptb2,\n",
    "    w_in_histo_wph_mu_ptb2,\n",
    "    fi_histo_rate_wph_mu_ptb2,\n",
    "    fi_histo_wph_mu_ptb2,\n",
    "    bins_histo_wph_e_ptb2,\n",
    "    w_in_histo_wph_e_ptb2,\n",
    "    fi_histo_rate_wph_e_ptb2,\n",
    "    fi_histo_wph_e_ptb2,\n",
    "    bins_histo_wmh_mu_ptb2,\n",
    "    w_in_histo_wmh_mu_ptb2,\n",
    "    fi_histo_rate_wmh_mu_ptb2,\n",
    "    fi_histo_wmh_mu_ptb2,\n",
    "    bins_histo_wmh_e_ptb2,\n",
    "    w_in_histo_wmh_e_ptb2,\n",
    "    fi_histo_rate_wmh_e_ptb2,\n",
    "    fi_histo_wmh_e_ptb2,\n",
    "]"
   ]
  },
  {
   "cell_type": "code",
   "execution_count": 113,
   "metadata": {
    "collapsed": true,
    "hidden": true
   },
   "outputs": [],
   "source": [
    "np.savez(fi_histo_ptb2_outfile, fi_histo_ptb2_list, allow_pickle=False)"
   ]
  },
  {
   "cell_type": "code",
   "execution_count": 114,
   "metadata": {
    "collapsed": true,
    "hidden": true
   },
   "outputs": [],
   "source": [
    "fi_histo_rate_ptb2 = [ fi_histo_rate_wph_mu_ptb2[i]\n",
    "                     + fi_histo_rate_wph_e_ptb2[i] \n",
    "                     + fi_histo_rate_wmh_mu_ptb2[i] \n",
    "                     + fi_histo_rate_wmh_e_ptb2[i] \n",
    "                     for i in range(0, len(fi_histo_rate_wph_mu_ptb2)) ]\n",
    "\n",
    "fi_histo_ptb2 = [ fi_histo_wph_mu_ptb2[i]\n",
    "                     + fi_histo_wph_e_ptb2[i] \n",
    "                     + fi_histo_wmh_mu_ptb2[i] \n",
    "                     + fi_histo_wmh_e_ptb2[i] \n",
    "                     for i in range(0, len(fi_histo_wph_mu_ptb2)) ]\n",
    "\n",
    "fi_histo_rate_ptb2_rot = [ rotate(fi_histo_rate_ptb2[i]) for i in range(0, len(fi_histo_rate_ptb2)) ]\n",
    "fi_histo_ptb2_rot = [ rotate(fi_histo_ptb2[i]) for i in range(0, len(fi_histo_ptb2)) ]"
   ]
  },
  {
   "cell_type": "markdown",
   "metadata": {
    "heading_collapsed": true
   },
   "source": [
    "### MET"
   ]
  },
  {
   "cell_type": "code",
   "execution_count": 116,
   "metadata": {
    "collapsed": true,
    "hidden": true
   },
   "outputs": [
    {
     "name": "stderr",
     "output_type": "stream",
     "text": [
      "08:27 madminer.ml          INFO    Found score ensemble with 5 estimators\n",
      "08:27 madminer.ml          INFO    Loading model from models/met/ensemble_wph_mu_wbkgs_sigsystonly_lhedata_met/estimator_0\n",
      "08:27 madminer.ml          INFO    Loading model from models/met/ensemble_wph_mu_wbkgs_sigsystonly_lhedata_met/estimator_1\n",
      "08:27 madminer.ml          INFO    Loading model from models/met/ensemble_wph_mu_wbkgs_sigsystonly_lhedata_met/estimator_2\n",
      "08:27 madminer.ml          INFO    Loading model from models/met/ensemble_wph_mu_wbkgs_sigsystonly_lhedata_met/estimator_3\n",
      "08:27 madminer.ml          INFO    Loading model from models/met/ensemble_wph_mu_wbkgs_sigsystonly_lhedata_met/estimator_4\n",
      "08:32 madminer.fisherinfor INFO    Evaluating kinematic Fisher information on batch 1 / 10\n",
      "08:32 madminer.ml          INFO    Starting score evaluation\n",
      "08:32 madminer.ml          INFO    Starting score evaluation\n",
      "08:32 madminer.ml          INFO    Starting score evaluation\n",
      "08:32 madminer.ml          INFO    Starting score evaluation\n",
      "08:32 madminer.ml          INFO    Starting score evaluation\n",
      "08:32 madminer.fisherinfor INFO    Evaluating kinematic Fisher information on batch 2 / 10\n",
      "08:33 madminer.ml          INFO    Starting score evaluation\n",
      "08:33 madminer.ml          INFO    Starting score evaluation\n",
      "08:33 madminer.ml          INFO    Starting score evaluation\n",
      "08:33 madminer.ml          INFO    Starting score evaluation\n",
      "08:33 madminer.ml          INFO    Starting score evaluation\n",
      "08:33 madminer.fisherinfor INFO    Evaluating kinematic Fisher information on batch 3 / 10\n",
      "08:33 madminer.ml          INFO    Starting score evaluation\n",
      "08:33 madminer.ml          INFO    Starting score evaluation\n",
      "08:33 madminer.ml          INFO    Starting score evaluation\n",
      "08:33 madminer.ml          INFO    Starting score evaluation\n",
      "08:33 madminer.ml          INFO    Starting score evaluation\n",
      "08:33 madminer.fisherinfor INFO    Evaluating kinematic Fisher information on batch 4 / 10\n",
      "08:33 madminer.ml          INFO    Starting score evaluation\n",
      "08:33 madminer.ml          INFO    Starting score evaluation\n",
      "08:33 madminer.ml          INFO    Starting score evaluation\n",
      "08:33 madminer.ml          INFO    Starting score evaluation\n",
      "08:33 madminer.ml          INFO    Starting score evaluation\n",
      "08:33 madminer.fisherinfor INFO    Evaluating kinematic Fisher information on batch 5 / 10\n",
      "08:33 madminer.ml          INFO    Starting score evaluation\n",
      "08:33 madminer.ml          INFO    Starting score evaluation\n",
      "08:33 madminer.ml          INFO    Starting score evaluation\n",
      "08:33 madminer.ml          INFO    Starting score evaluation\n",
      "08:33 madminer.ml          INFO    Starting score evaluation\n",
      "08:33 madminer.fisherinfor INFO    Evaluating kinematic Fisher information on batch 6 / 10\n",
      "08:33 madminer.ml          INFO    Starting score evaluation\n",
      "08:33 madminer.ml          INFO    Starting score evaluation\n",
      "08:33 madminer.ml          INFO    Starting score evaluation\n",
      "08:33 madminer.ml          INFO    Starting score evaluation\n",
      "08:33 madminer.ml          INFO    Starting score evaluation\n",
      "08:34 madminer.fisherinfor INFO    Evaluating kinematic Fisher information on batch 7 / 10\n",
      "08:34 madminer.ml          INFO    Starting score evaluation\n",
      "08:34 madminer.ml          INFO    Starting score evaluation\n",
      "08:34 madminer.ml          INFO    Starting score evaluation\n",
      "08:34 madminer.ml          INFO    Starting score evaluation\n",
      "08:34 madminer.ml          INFO    Starting score evaluation\n",
      "08:34 madminer.fisherinfor INFO    Evaluating kinematic Fisher information on batch 8 / 10\n",
      "08:34 madminer.ml          INFO    Starting score evaluation\n",
      "08:34 madminer.ml          INFO    Starting score evaluation\n",
      "08:34 madminer.ml          INFO    Starting score evaluation\n",
      "08:34 madminer.ml          INFO    Starting score evaluation\n",
      "08:34 madminer.ml          INFO    Starting score evaluation\n",
      "08:34 madminer.fisherinfor INFO    Evaluating kinematic Fisher information on batch 9 / 10\n",
      "08:34 madminer.ml          INFO    Starting score evaluation\n",
      "08:34 madminer.ml          INFO    Starting score evaluation\n",
      "08:34 madminer.ml          INFO    Starting score evaluation\n",
      "08:34 madminer.ml          INFO    Starting score evaluation\n",
      "08:34 madminer.ml          INFO    Starting score evaluation\n",
      "08:34 madminer.fisherinfor INFO    Evaluating kinematic Fisher information on batch 10 / 10\n",
      "08:34 madminer.ml          INFO    Starting score evaluation\n",
      "08:34 madminer.ml          INFO    Starting score evaluation\n",
      "08:34 madminer.ml          INFO    Starting score evaluation\n",
      "08:34 madminer.ml          INFO    Starting score evaluation\n",
      "08:34 madminer.ml          INFO    Starting score evaluation\n"
     ]
    }
   ],
   "source": [
    "bins_histo_wph_mu_met, w_in_histo_wph_mu_met, fi_histo_rate_wph_mu_met, fi_histo_wph_mu_met = fisher_wph_mu_wbkgs_met.histogram_of_fisher_information(\n",
    "    theta=[0.,0.,0.,0.],\n",
    "    luminosity=100*1000.,\n",
    "    observable='met',\n",
    "    nbins=20,\n",
    "    histrange=(0,800),\n",
    "    model_file=model_path_wph_mu,\n",
    ")"
   ]
  },
  {
   "cell_type": "code",
   "execution_count": 117,
   "metadata": {
    "collapsed": true,
    "hidden": true
   },
   "outputs": [
    {
     "name": "stderr",
     "output_type": "stream",
     "text": [
      "08:34 madminer.ml          INFO    Found score ensemble with 5 estimators\n",
      "08:34 madminer.ml          INFO    Loading model from models/met/ensemble_wph_e_wbkgs_sigsystonly_lhedata_met/estimator_0\n",
      "08:34 madminer.ml          INFO    Loading model from models/met/ensemble_wph_e_wbkgs_sigsystonly_lhedata_met/estimator_1\n",
      "08:34 madminer.ml          INFO    Loading model from models/met/ensemble_wph_e_wbkgs_sigsystonly_lhedata_met/estimator_2\n",
      "08:34 madminer.ml          INFO    Loading model from models/met/ensemble_wph_e_wbkgs_sigsystonly_lhedata_met/estimator_3\n",
      "08:34 madminer.ml          INFO    Loading model from models/met/ensemble_wph_e_wbkgs_sigsystonly_lhedata_met/estimator_4\n",
      "08:40 madminer.fisherinfor INFO    Evaluating kinematic Fisher information on batch 1 / 10\n",
      "08:40 madminer.ml          INFO    Starting score evaluation\n",
      "08:40 madminer.ml          INFO    Starting score evaluation\n",
      "08:40 madminer.ml          INFO    Starting score evaluation\n",
      "08:40 madminer.ml          INFO    Starting score evaluation\n",
      "08:40 madminer.ml          INFO    Starting score evaluation\n",
      "08:40 madminer.fisherinfor INFO    Evaluating kinematic Fisher information on batch 2 / 10\n",
      "08:40 madminer.ml          INFO    Starting score evaluation\n",
      "08:40 madminer.ml          INFO    Starting score evaluation\n",
      "08:40 madminer.ml          INFO    Starting score evaluation\n",
      "08:40 madminer.ml          INFO    Starting score evaluation\n",
      "08:40 madminer.ml          INFO    Starting score evaluation\n",
      "08:40 madminer.fisherinfor INFO    Evaluating kinematic Fisher information on batch 3 / 10\n",
      "08:40 madminer.ml          INFO    Starting score evaluation\n",
      "08:40 madminer.ml          INFO    Starting score evaluation\n",
      "08:40 madminer.ml          INFO    Starting score evaluation\n",
      "08:40 madminer.ml          INFO    Starting score evaluation\n",
      "08:40 madminer.ml          INFO    Starting score evaluation\n",
      "08:40 madminer.fisherinfor INFO    Evaluating kinematic Fisher information on batch 4 / 10\n",
      "08:40 madminer.ml          INFO    Starting score evaluation\n",
      "08:40 madminer.ml          INFO    Starting score evaluation\n",
      "08:40 madminer.ml          INFO    Starting score evaluation\n",
      "08:40 madminer.ml          INFO    Starting score evaluation\n",
      "08:40 madminer.ml          INFO    Starting score evaluation\n",
      "08:40 madminer.fisherinfor INFO    Evaluating kinematic Fisher information on batch 5 / 10\n",
      "08:40 madminer.ml          INFO    Starting score evaluation\n",
      "08:40 madminer.ml          INFO    Starting score evaluation\n",
      "08:41 madminer.ml          INFO    Starting score evaluation\n",
      "08:41 madminer.ml          INFO    Starting score evaluation\n",
      "08:41 madminer.ml          INFO    Starting score evaluation\n",
      "08:41 madminer.fisherinfor INFO    Evaluating kinematic Fisher information on batch 6 / 10\n",
      "08:41 madminer.ml          INFO    Starting score evaluation\n",
      "08:41 madminer.ml          INFO    Starting score evaluation\n",
      "08:41 madminer.ml          INFO    Starting score evaluation\n",
      "08:41 madminer.ml          INFO    Starting score evaluation\n",
      "08:41 madminer.ml          INFO    Starting score evaluation\n",
      "08:41 madminer.fisherinfor INFO    Evaluating kinematic Fisher information on batch 7 / 10\n",
      "08:41 madminer.ml          INFO    Starting score evaluation\n",
      "08:41 madminer.ml          INFO    Starting score evaluation\n",
      "08:41 madminer.ml          INFO    Starting score evaluation\n",
      "08:41 madminer.ml          INFO    Starting score evaluation\n",
      "08:41 madminer.ml          INFO    Starting score evaluation\n",
      "08:41 madminer.fisherinfor INFO    Evaluating kinematic Fisher information on batch 8 / 10\n",
      "08:41 madminer.ml          INFO    Starting score evaluation\n",
      "08:41 madminer.ml          INFO    Starting score evaluation\n",
      "08:41 madminer.ml          INFO    Starting score evaluation\n",
      "08:41 madminer.ml          INFO    Starting score evaluation\n",
      "08:41 madminer.ml          INFO    Starting score evaluation\n",
      "08:41 madminer.fisherinfor INFO    Evaluating kinematic Fisher information on batch 9 / 10\n",
      "08:41 madminer.ml          INFO    Starting score evaluation\n",
      "08:41 madminer.ml          INFO    Starting score evaluation\n",
      "08:41 madminer.ml          INFO    Starting score evaluation\n",
      "08:41 madminer.ml          INFO    Starting score evaluation\n",
      "08:41 madminer.ml          INFO    Starting score evaluation\n",
      "08:41 madminer.fisherinfor INFO    Evaluating kinematic Fisher information on batch 10 / 10\n",
      "08:42 madminer.ml          INFO    Starting score evaluation\n",
      "08:42 madminer.ml          INFO    Starting score evaluation\n",
      "08:42 madminer.ml          INFO    Starting score evaluation\n",
      "08:42 madminer.ml          INFO    Starting score evaluation\n",
      "08:42 madminer.ml          INFO    Starting score evaluation\n"
     ]
    }
   ],
   "source": [
    "bins_histo_wph_e_met, w_in_histo_wph_e_met, fi_histo_rate_wph_e_met, fi_histo_wph_e_met = fisher_wph_e_wbkgs_met.histogram_of_fisher_information(\n",
    "    theta=[0.,0.,0.,0.],\n",
    "    luminosity=100*1000.,\n",
    "    observable='met',\n",
    "    nbins=20,\n",
    "    histrange=(0,800),\n",
    "    model_file=model_path_wph_e,\n",
    ")"
   ]
  },
  {
   "cell_type": "code",
   "execution_count": 118,
   "metadata": {
    "collapsed": true,
    "hidden": true
   },
   "outputs": [
    {
     "name": "stderr",
     "output_type": "stream",
     "text": [
      "08:42 madminer.ml          INFO    Found score ensemble with 5 estimators\n",
      "08:42 madminer.ml          INFO    Loading model from models/met/ensemble_wmh_mu_wbkgs_sigsystonly_lhedata_met/estimator_0\n",
      "08:42 madminer.ml          INFO    Loading model from models/met/ensemble_wmh_mu_wbkgs_sigsystonly_lhedata_met/estimator_1\n",
      "08:42 madminer.ml          INFO    Loading model from models/met/ensemble_wmh_mu_wbkgs_sigsystonly_lhedata_met/estimator_2\n",
      "08:42 madminer.ml          INFO    Loading model from models/met/ensemble_wmh_mu_wbkgs_sigsystonly_lhedata_met/estimator_3\n",
      "08:42 madminer.ml          INFO    Loading model from models/met/ensemble_wmh_mu_wbkgs_sigsystonly_lhedata_met/estimator_4\n",
      "08:47 madminer.fisherinfor INFO    Evaluating kinematic Fisher information on batch 1 / 10\n",
      "08:47 madminer.ml          INFO    Starting score evaluation\n",
      "08:47 madminer.ml          INFO    Starting score evaluation\n",
      "08:47 madminer.ml          INFO    Starting score evaluation\n",
      "08:47 madminer.ml          INFO    Starting score evaluation\n",
      "08:47 madminer.ml          INFO    Starting score evaluation\n",
      "08:47 madminer.fisherinfor INFO    Evaluating kinematic Fisher information on batch 2 / 10\n",
      "08:47 madminer.ml          INFO    Starting score evaluation\n",
      "08:47 madminer.ml          INFO    Starting score evaluation\n",
      "08:47 madminer.ml          INFO    Starting score evaluation\n",
      "08:47 madminer.ml          INFO    Starting score evaluation\n",
      "08:47 madminer.ml          INFO    Starting score evaluation\n",
      "08:47 madminer.fisherinfor INFO    Evaluating kinematic Fisher information on batch 3 / 10\n",
      "08:48 madminer.ml          INFO    Starting score evaluation\n",
      "08:48 madminer.ml          INFO    Starting score evaluation\n",
      "08:48 madminer.ml          INFO    Starting score evaluation\n",
      "08:48 madminer.ml          INFO    Starting score evaluation\n",
      "08:48 madminer.ml          INFO    Starting score evaluation\n",
      "08:48 madminer.fisherinfor INFO    Evaluating kinematic Fisher information on batch 4 / 10\n",
      "08:48 madminer.ml          INFO    Starting score evaluation\n",
      "08:48 madminer.ml          INFO    Starting score evaluation\n",
      "08:48 madminer.ml          INFO    Starting score evaluation\n",
      "08:48 madminer.ml          INFO    Starting score evaluation\n",
      "08:48 madminer.ml          INFO    Starting score evaluation\n",
      "08:48 madminer.fisherinfor INFO    Evaluating kinematic Fisher information on batch 5 / 10\n",
      "08:48 madminer.ml          INFO    Starting score evaluation\n",
      "08:48 madminer.ml          INFO    Starting score evaluation\n",
      "08:48 madminer.ml          INFO    Starting score evaluation\n",
      "08:48 madminer.ml          INFO    Starting score evaluation\n",
      "08:48 madminer.ml          INFO    Starting score evaluation\n",
      "08:48 madminer.fisherinfor INFO    Evaluating kinematic Fisher information on batch 6 / 10\n",
      "08:48 madminer.ml          INFO    Starting score evaluation\n",
      "08:48 madminer.ml          INFO    Starting score evaluation\n",
      "08:48 madminer.ml          INFO    Starting score evaluation\n",
      "08:48 madminer.ml          INFO    Starting score evaluation\n",
      "08:48 madminer.ml          INFO    Starting score evaluation\n",
      "08:48 madminer.fisherinfor INFO    Evaluating kinematic Fisher information on batch 7 / 10\n",
      "08:48 madminer.ml          INFO    Starting score evaluation\n",
      "08:48 madminer.ml          INFO    Starting score evaluation\n",
      "08:48 madminer.ml          INFO    Starting score evaluation\n",
      "08:48 madminer.ml          INFO    Starting score evaluation\n",
      "08:48 madminer.ml          INFO    Starting score evaluation\n",
      "08:48 madminer.fisherinfor INFO    Evaluating kinematic Fisher information on batch 8 / 10\n",
      "08:49 madminer.ml          INFO    Starting score evaluation\n",
      "08:49 madminer.ml          INFO    Starting score evaluation\n",
      "08:49 madminer.ml          INFO    Starting score evaluation\n",
      "08:49 madminer.ml          INFO    Starting score evaluation\n",
      "08:49 madminer.ml          INFO    Starting score evaluation\n",
      "08:49 madminer.fisherinfor INFO    Evaluating kinematic Fisher information on batch 9 / 10\n",
      "08:49 madminer.ml          INFO    Starting score evaluation\n",
      "08:49 madminer.ml          INFO    Starting score evaluation\n",
      "08:49 madminer.ml          INFO    Starting score evaluation\n",
      "08:49 madminer.ml          INFO    Starting score evaluation\n",
      "08:49 madminer.ml          INFO    Starting score evaluation\n",
      "08:49 madminer.fisherinfor INFO    Evaluating kinematic Fisher information on batch 10 / 10\n",
      "08:49 madminer.ml          INFO    Starting score evaluation\n",
      "08:49 madminer.ml          INFO    Starting score evaluation\n",
      "08:49 madminer.ml          INFO    Starting score evaluation\n",
      "08:49 madminer.ml          INFO    Starting score evaluation\n",
      "08:49 madminer.ml          INFO    Starting score evaluation\n"
     ]
    }
   ],
   "source": [
    "bins_histo_wmh_mu_met, w_in_histo_wmh_mu_met, fi_histo_rate_wmh_mu_met, fi_histo_wmh_mu_met = fisher_wmh_mu_wbkgs_met.histogram_of_fisher_information(\n",
    "    theta=[0.,0.,0.,0.],\n",
    "    luminosity=100*1000.,\n",
    "    observable='met',\n",
    "    nbins=20,\n",
    "    histrange=(0,800),\n",
    "    model_file=model_path_wmh_mu,\n",
    ")"
   ]
  },
  {
   "cell_type": "code",
   "execution_count": 119,
   "metadata": {
    "collapsed": true,
    "hidden": true
   },
   "outputs": [
    {
     "name": "stderr",
     "output_type": "stream",
     "text": [
      "08:49 madminer.ml          INFO    Found score ensemble with 5 estimators\n",
      "08:49 madminer.ml          INFO    Loading model from models/met/ensemble_wmh_e_wbkgs_sigsystonly_lhedata_met/estimator_0\n",
      "08:49 madminer.ml          INFO    Loading model from models/met/ensemble_wmh_e_wbkgs_sigsystonly_lhedata_met/estimator_1\n",
      "08:49 madminer.ml          INFO    Loading model from models/met/ensemble_wmh_e_wbkgs_sigsystonly_lhedata_met/estimator_2\n",
      "08:49 madminer.ml          INFO    Loading model from models/met/ensemble_wmh_e_wbkgs_sigsystonly_lhedata_met/estimator_3\n",
      "08:49 madminer.ml          INFO    Loading model from models/met/ensemble_wmh_e_wbkgs_sigsystonly_lhedata_met/estimator_4\n",
      "08:55 madminer.fisherinfor INFO    Evaluating kinematic Fisher information on batch 1 / 10\n",
      "08:55 madminer.ml          INFO    Starting score evaluation\n",
      "08:55 madminer.ml          INFO    Starting score evaluation\n",
      "08:55 madminer.ml          INFO    Starting score evaluation\n",
      "08:55 madminer.ml          INFO    Starting score evaluation\n",
      "08:55 madminer.ml          INFO    Starting score evaluation\n",
      "08:55 madminer.fisherinfor INFO    Evaluating kinematic Fisher information on batch 2 / 10\n",
      "08:55 madminer.ml          INFO    Starting score evaluation\n",
      "08:55 madminer.ml          INFO    Starting score evaluation\n",
      "08:55 madminer.ml          INFO    Starting score evaluation\n",
      "08:55 madminer.ml          INFO    Starting score evaluation\n",
      "08:55 madminer.ml          INFO    Starting score evaluation\n",
      "08:55 madminer.fisherinfor INFO    Evaluating kinematic Fisher information on batch 3 / 10\n",
      "08:55 madminer.ml          INFO    Starting score evaluation\n",
      "08:55 madminer.ml          INFO    Starting score evaluation\n",
      "08:55 madminer.ml          INFO    Starting score evaluation\n",
      "08:55 madminer.ml          INFO    Starting score evaluation\n",
      "08:55 madminer.ml          INFO    Starting score evaluation\n",
      "08:55 madminer.fisherinfor INFO    Evaluating kinematic Fisher information on batch 4 / 10\n",
      "08:55 madminer.ml          INFO    Starting score evaluation\n",
      "08:55 madminer.ml          INFO    Starting score evaluation\n",
      "08:55 madminer.ml          INFO    Starting score evaluation\n",
      "08:55 madminer.ml          INFO    Starting score evaluation\n",
      "08:55 madminer.ml          INFO    Starting score evaluation\n",
      "08:55 madminer.fisherinfor INFO    Evaluating kinematic Fisher information on batch 5 / 10\n",
      "08:56 madminer.ml          INFO    Starting score evaluation\n",
      "08:56 madminer.ml          INFO    Starting score evaluation\n",
      "08:56 madminer.ml          INFO    Starting score evaluation\n",
      "08:56 madminer.ml          INFO    Starting score evaluation\n",
      "08:56 madminer.ml          INFO    Starting score evaluation\n",
      "08:56 madminer.fisherinfor INFO    Evaluating kinematic Fisher information on batch 6 / 10\n",
      "08:56 madminer.ml          INFO    Starting score evaluation\n",
      "08:56 madminer.ml          INFO    Starting score evaluation\n",
      "08:56 madminer.ml          INFO    Starting score evaluation\n",
      "08:56 madminer.ml          INFO    Starting score evaluation\n",
      "08:56 madminer.ml          INFO    Starting score evaluation\n",
      "08:56 madminer.fisherinfor INFO    Evaluating kinematic Fisher information on batch 7 / 10\n",
      "08:56 madminer.ml          INFO    Starting score evaluation\n",
      "08:56 madminer.ml          INFO    Starting score evaluation\n",
      "08:56 madminer.ml          INFO    Starting score evaluation\n",
      "08:56 madminer.ml          INFO    Starting score evaluation\n",
      "08:56 madminer.ml          INFO    Starting score evaluation\n",
      "08:56 madminer.fisherinfor INFO    Evaluating kinematic Fisher information on batch 8 / 10\n",
      "08:56 madminer.ml          INFO    Starting score evaluation\n",
      "08:56 madminer.ml          INFO    Starting score evaluation\n",
      "08:56 madminer.ml          INFO    Starting score evaluation\n",
      "08:56 madminer.ml          INFO    Starting score evaluation\n",
      "08:56 madminer.ml          INFO    Starting score evaluation\n",
      "08:56 madminer.fisherinfor INFO    Evaluating kinematic Fisher information on batch 9 / 10\n",
      "08:56 madminer.ml          INFO    Starting score evaluation\n",
      "08:56 madminer.ml          INFO    Starting score evaluation\n",
      "08:56 madminer.ml          INFO    Starting score evaluation\n",
      "08:56 madminer.ml          INFO    Starting score evaluation\n",
      "08:56 madminer.ml          INFO    Starting score evaluation\n",
      "08:56 madminer.fisherinfor INFO    Evaluating kinematic Fisher information on batch 10 / 10\n",
      "08:57 madminer.ml          INFO    Starting score evaluation\n",
      "08:57 madminer.ml          INFO    Starting score evaluation\n",
      "08:57 madminer.ml          INFO    Starting score evaluation\n",
      "08:57 madminer.ml          INFO    Starting score evaluation\n",
      "08:57 madminer.ml          INFO    Starting score evaluation\n"
     ]
    }
   ],
   "source": [
    "bins_histo_wmh_e_met, w_in_histo_wmh_e_met, fi_histo_rate_wmh_e_met, fi_histo_wmh_e_met = fisher_wmh_e_wbkgs_met.histogram_of_fisher_information(\n",
    "    theta=[0.,0.,0.,0.],\n",
    "    luminosity=100*1000.,\n",
    "    observable='met',\n",
    "    nbins=20,\n",
    "    histrange=(0,800),\n",
    "    model_file=model_path_wmh_e,\n",
    ")"
   ]
  },
  {
   "cell_type": "code",
   "execution_count": 120,
   "metadata": {
    "collapsed": true,
    "hidden": true
   },
   "outputs": [],
   "source": [
    "fi_histo_met_outfile = './fisher_info/dists/fi_histo_met.npz'\n",
    "\n",
    "fi_histo_met_list = [\n",
    "    bins_histo_wph_mu_met,\n",
    "    w_in_histo_wph_mu_met,\n",
    "    fi_histo_rate_wph_mu_met,\n",
    "    fi_histo_wph_mu_met,\n",
    "    bins_histo_wph_e_met,\n",
    "    w_in_histo_wph_e_met,\n",
    "    fi_histo_rate_wph_e_met,\n",
    "    fi_histo_wph_e_met,\n",
    "    bins_histo_wmh_mu_met,\n",
    "    w_in_histo_wmh_mu_met,\n",
    "    fi_histo_rate_wmh_mu_met,\n",
    "    fi_histo_wmh_mu_met,\n",
    "    bins_histo_wmh_e_met,\n",
    "    w_in_histo_wmh_e_met,\n",
    "    fi_histo_rate_wmh_e_met,\n",
    "    fi_histo_wmh_e_met,\n",
    "]"
   ]
  },
  {
   "cell_type": "code",
   "execution_count": 121,
   "metadata": {
    "collapsed": true,
    "hidden": true
   },
   "outputs": [],
   "source": [
    "np.savez(fi_histo_met_outfile, fi_histo_met_list, allow_pickle=False)"
   ]
  },
  {
   "cell_type": "code",
   "execution_count": 122,
   "metadata": {
    "collapsed": true,
    "hidden": true
   },
   "outputs": [],
   "source": [
    "fi_histo_rate_met = [ fi_histo_rate_wph_mu_met[i]\n",
    "                     + fi_histo_rate_wph_e_met[i] \n",
    "                     + fi_histo_rate_wmh_mu_met[i] \n",
    "                     + fi_histo_rate_wmh_e_met[i] \n",
    "                     for i in range(0, len(fi_histo_rate_wph_mu_met)) ]\n",
    "\n",
    "fi_histo_met = [ fi_histo_wph_mu_met[i]\n",
    "                     + fi_histo_wph_e_met[i] \n",
    "                     + fi_histo_wmh_mu_met[i] \n",
    "                     + fi_histo_wmh_e_met[i] \n",
    "                     for i in range(0, len(fi_histo_wph_mu_met)) ]\n",
    "\n",
    "fi_histo_rate_met_rot = [ rotate(fi_histo_rate_met[i]) for i in range(0, len(fi_histo_rate_met)) ]\n",
    "fi_histo_met_rot = [ rotate(fi_histo_met[i]) for i in range(0, len(fi_histo_met)) ]"
   ]
  },
  {
   "cell_type": "markdown",
   "metadata": {
    "heading_collapsed": true
   },
   "source": [
    "### $p_{T,\\ell}$"
   ]
  },
  {
   "cell_type": "code",
   "execution_count": 124,
   "metadata": {
    "collapsed": true,
    "hidden": true
   },
   "outputs": [
    {
     "name": "stderr",
     "output_type": "stream",
     "text": [
      "08:57 madminer.ml          INFO    Found score ensemble with 5 estimators\n",
      "08:57 madminer.ml          INFO    Loading model from models/met/ensemble_wph_mu_wbkgs_sigsystonly_lhedata_met/estimator_0\n",
      "08:57 madminer.ml          INFO    Loading model from models/met/ensemble_wph_mu_wbkgs_sigsystonly_lhedata_met/estimator_1\n",
      "08:57 madminer.ml          INFO    Loading model from models/met/ensemble_wph_mu_wbkgs_sigsystonly_lhedata_met/estimator_2\n",
      "08:57 madminer.ml          INFO    Loading model from models/met/ensemble_wph_mu_wbkgs_sigsystonly_lhedata_met/estimator_3\n",
      "08:57 madminer.ml          INFO    Loading model from models/met/ensemble_wph_mu_wbkgs_sigsystonly_lhedata_met/estimator_4\n",
      "09:02 madminer.fisherinfor INFO    Evaluating kinematic Fisher information on batch 1 / 10\n",
      "09:02 madminer.ml          INFO    Starting score evaluation\n",
      "09:02 madminer.ml          INFO    Starting score evaluation\n",
      "09:02 madminer.ml          INFO    Starting score evaluation\n",
      "09:02 madminer.ml          INFO    Starting score evaluation\n",
      "09:02 madminer.ml          INFO    Starting score evaluation\n",
      "09:02 madminer.fisherinfor INFO    Evaluating kinematic Fisher information on batch 2 / 10\n",
      "09:02 madminer.ml          INFO    Starting score evaluation\n",
      "09:02 madminer.ml          INFO    Starting score evaluation\n",
      "09:02 madminer.ml          INFO    Starting score evaluation\n",
      "09:02 madminer.ml          INFO    Starting score evaluation\n",
      "09:02 madminer.ml          INFO    Starting score evaluation\n",
      "09:02 madminer.fisherinfor INFO    Evaluating kinematic Fisher information on batch 3 / 10\n",
      "09:02 madminer.ml          INFO    Starting score evaluation\n",
      "09:03 madminer.ml          INFO    Starting score evaluation\n",
      "09:03 madminer.ml          INFO    Starting score evaluation\n",
      "09:03 madminer.ml          INFO    Starting score evaluation\n",
      "09:03 madminer.ml          INFO    Starting score evaluation\n",
      "09:03 madminer.fisherinfor INFO    Evaluating kinematic Fisher information on batch 4 / 10\n",
      "09:03 madminer.ml          INFO    Starting score evaluation\n",
      "09:03 madminer.ml          INFO    Starting score evaluation\n",
      "09:03 madminer.ml          INFO    Starting score evaluation\n",
      "09:03 madminer.ml          INFO    Starting score evaluation\n",
      "09:03 madminer.ml          INFO    Starting score evaluation\n",
      "09:03 madminer.fisherinfor INFO    Evaluating kinematic Fisher information on batch 5 / 10\n",
      "09:03 madminer.ml          INFO    Starting score evaluation\n",
      "09:03 madminer.ml          INFO    Starting score evaluation\n",
      "09:03 madminer.ml          INFO    Starting score evaluation\n",
      "09:03 madminer.ml          INFO    Starting score evaluation\n",
      "09:03 madminer.ml          INFO    Starting score evaluation\n",
      "09:03 madminer.fisherinfor INFO    Evaluating kinematic Fisher information on batch 6 / 10\n",
      "09:03 madminer.ml          INFO    Starting score evaluation\n",
      "09:03 madminer.ml          INFO    Starting score evaluation\n",
      "09:03 madminer.ml          INFO    Starting score evaluation\n",
      "09:03 madminer.ml          INFO    Starting score evaluation\n",
      "09:03 madminer.ml          INFO    Starting score evaluation\n",
      "09:03 madminer.fisherinfor INFO    Evaluating kinematic Fisher information on batch 7 / 10\n",
      "09:03 madminer.ml          INFO    Starting score evaluation\n",
      "09:03 madminer.ml          INFO    Starting score evaluation\n",
      "09:03 madminer.ml          INFO    Starting score evaluation\n",
      "09:03 madminer.ml          INFO    Starting score evaluation\n",
      "09:03 madminer.ml          INFO    Starting score evaluation\n",
      "09:04 madminer.fisherinfor INFO    Evaluating kinematic Fisher information on batch 8 / 10\n",
      "09:04 madminer.ml          INFO    Starting score evaluation\n",
      "09:04 madminer.ml          INFO    Starting score evaluation\n",
      "09:04 madminer.ml          INFO    Starting score evaluation\n",
      "09:04 madminer.ml          INFO    Starting score evaluation\n",
      "09:04 madminer.ml          INFO    Starting score evaluation\n",
      "09:04 madminer.fisherinfor INFO    Evaluating kinematic Fisher information on batch 9 / 10\n",
      "09:04 madminer.ml          INFO    Starting score evaluation\n",
      "09:04 madminer.ml          INFO    Starting score evaluation\n",
      "09:04 madminer.ml          INFO    Starting score evaluation\n",
      "09:04 madminer.ml          INFO    Starting score evaluation\n",
      "09:04 madminer.ml          INFO    Starting score evaluation\n",
      "09:04 madminer.fisherinfor INFO    Evaluating kinematic Fisher information on batch 10 / 10\n",
      "09:04 madminer.ml          INFO    Starting score evaluation\n",
      "09:04 madminer.ml          INFO    Starting score evaluation\n",
      "09:04 madminer.ml          INFO    Starting score evaluation\n",
      "09:04 madminer.ml          INFO    Starting score evaluation\n",
      "09:04 madminer.ml          INFO    Starting score evaluation\n"
     ]
    }
   ],
   "source": [
    "bins_histo_wph_mu_ptl, w_in_histo_wph_mu_ptl, fi_histo_rate_wph_mu_ptl, fi_histo_wph_mu_ptl = fisher_wph_mu_wbkgs_met.histogram_of_fisher_information(\n",
    "    theta=[0.,0.,0.,0.],\n",
    "    luminosity=100*1000.,\n",
    "    observable='pt_l',\n",
    "    nbins=20,\n",
    "    histrange=(0,800),\n",
    "    model_file=model_path_wph_mu,\n",
    ")"
   ]
  },
  {
   "cell_type": "code",
   "execution_count": 125,
   "metadata": {
    "collapsed": true,
    "hidden": true
   },
   "outputs": [
    {
     "name": "stderr",
     "output_type": "stream",
     "text": [
      "09:04 madminer.ml          INFO    Found score ensemble with 5 estimators\n",
      "09:04 madminer.ml          INFO    Loading model from models/met/ensemble_wph_e_wbkgs_sigsystonly_lhedata_met/estimator_0\n",
      "09:04 madminer.ml          INFO    Loading model from models/met/ensemble_wph_e_wbkgs_sigsystonly_lhedata_met/estimator_1\n",
      "09:04 madminer.ml          INFO    Loading model from models/met/ensemble_wph_e_wbkgs_sigsystonly_lhedata_met/estimator_2\n",
      "09:04 madminer.ml          INFO    Loading model from models/met/ensemble_wph_e_wbkgs_sigsystonly_lhedata_met/estimator_3\n",
      "09:04 madminer.ml          INFO    Loading model from models/met/ensemble_wph_e_wbkgs_sigsystonly_lhedata_met/estimator_4\n",
      "09:10 madminer.fisherinfor INFO    Evaluating kinematic Fisher information on batch 1 / 10\n",
      "09:10 madminer.ml          INFO    Starting score evaluation\n",
      "09:10 madminer.ml          INFO    Starting score evaluation\n",
      "09:10 madminer.ml          INFO    Starting score evaluation\n",
      "09:10 madminer.ml          INFO    Starting score evaluation\n",
      "09:10 madminer.ml          INFO    Starting score evaluation\n",
      "09:10 madminer.fisherinfor INFO    Evaluating kinematic Fisher information on batch 2 / 10\n",
      "09:10 madminer.ml          INFO    Starting score evaluation\n",
      "09:10 madminer.ml          INFO    Starting score evaluation\n",
      "09:10 madminer.ml          INFO    Starting score evaluation\n",
      "09:10 madminer.ml          INFO    Starting score evaluation\n",
      "09:10 madminer.ml          INFO    Starting score evaluation\n",
      "09:10 madminer.fisherinfor INFO    Evaluating kinematic Fisher information on batch 3 / 10\n",
      "09:10 madminer.ml          INFO    Starting score evaluation\n",
      "09:11 madminer.ml          INFO    Starting score evaluation\n",
      "09:11 madminer.ml          INFO    Starting score evaluation\n",
      "09:11 madminer.ml          INFO    Starting score evaluation\n",
      "09:11 madminer.ml          INFO    Starting score evaluation\n",
      "09:11 madminer.fisherinfor INFO    Evaluating kinematic Fisher information on batch 4 / 10\n",
      "09:11 madminer.ml          INFO    Starting score evaluation\n",
      "09:11 madminer.ml          INFO    Starting score evaluation\n",
      "09:11 madminer.ml          INFO    Starting score evaluation\n",
      "09:11 madminer.ml          INFO    Starting score evaluation\n",
      "09:11 madminer.ml          INFO    Starting score evaluation\n",
      "09:11 madminer.fisherinfor INFO    Evaluating kinematic Fisher information on batch 5 / 10\n",
      "09:11 madminer.ml          INFO    Starting score evaluation\n",
      "09:11 madminer.ml          INFO    Starting score evaluation\n",
      "09:11 madminer.ml          INFO    Starting score evaluation\n",
      "09:11 madminer.ml          INFO    Starting score evaluation\n",
      "09:11 madminer.ml          INFO    Starting score evaluation\n",
      "09:11 madminer.fisherinfor INFO    Evaluating kinematic Fisher information on batch 6 / 10\n",
      "09:11 madminer.ml          INFO    Starting score evaluation\n",
      "09:11 madminer.ml          INFO    Starting score evaluation\n",
      "09:11 madminer.ml          INFO    Starting score evaluation\n",
      "09:11 madminer.ml          INFO    Starting score evaluation\n",
      "09:11 madminer.ml          INFO    Starting score evaluation\n",
      "09:11 madminer.fisherinfor INFO    Evaluating kinematic Fisher information on batch 7 / 10\n",
      "09:11 madminer.ml          INFO    Starting score evaluation\n",
      "09:11 madminer.ml          INFO    Starting score evaluation\n",
      "09:11 madminer.ml          INFO    Starting score evaluation\n",
      "09:11 madminer.ml          INFO    Starting score evaluation\n",
      "09:12 madminer.ml          INFO    Starting score evaluation\n",
      "09:12 madminer.fisherinfor INFO    Evaluating kinematic Fisher information on batch 8 / 10\n",
      "09:12 madminer.ml          INFO    Starting score evaluation\n",
      "09:12 madminer.ml          INFO    Starting score evaluation\n",
      "09:12 madminer.ml          INFO    Starting score evaluation\n",
      "09:12 madminer.ml          INFO    Starting score evaluation\n",
      "09:12 madminer.ml          INFO    Starting score evaluation\n",
      "09:12 madminer.fisherinfor INFO    Evaluating kinematic Fisher information on batch 9 / 10\n",
      "09:12 madminer.ml          INFO    Starting score evaluation\n",
      "09:12 madminer.ml          INFO    Starting score evaluation\n",
      "09:12 madminer.ml          INFO    Starting score evaluation\n",
      "09:12 madminer.ml          INFO    Starting score evaluation\n",
      "09:12 madminer.ml          INFO    Starting score evaluation\n",
      "09:12 madminer.fisherinfor INFO    Evaluating kinematic Fisher information on batch 10 / 10\n",
      "09:12 madminer.ml          INFO    Starting score evaluation\n",
      "09:12 madminer.ml          INFO    Starting score evaluation\n",
      "09:12 madminer.ml          INFO    Starting score evaluation\n",
      "09:12 madminer.ml          INFO    Starting score evaluation\n",
      "09:12 madminer.ml          INFO    Starting score evaluation\n"
     ]
    }
   ],
   "source": [
    "bins_histo_wph_e_ptl, w_in_histo_wph_e_ptl, fi_histo_rate_wph_e_ptl, fi_histo_wph_e_ptl = fisher_wph_e_wbkgs_met.histogram_of_fisher_information(\n",
    "    theta=[0.,0.,0.,0.],\n",
    "    luminosity=100*1000.,\n",
    "    observable='pt_l',\n",
    "    nbins=20,\n",
    "    histrange=(0,800),\n",
    "    model_file=model_path_wph_e,\n",
    ")"
   ]
  },
  {
   "cell_type": "code",
   "execution_count": 126,
   "metadata": {
    "collapsed": true,
    "hidden": true
   },
   "outputs": [
    {
     "name": "stderr",
     "output_type": "stream",
     "text": [
      "09:12 madminer.ml          INFO    Found score ensemble with 5 estimators\n",
      "09:12 madminer.ml          INFO    Loading model from models/met/ensemble_wmh_mu_wbkgs_sigsystonly_lhedata_met/estimator_0\n",
      "09:12 madminer.ml          INFO    Loading model from models/met/ensemble_wmh_mu_wbkgs_sigsystonly_lhedata_met/estimator_1\n",
      "09:12 madminer.ml          INFO    Loading model from models/met/ensemble_wmh_mu_wbkgs_sigsystonly_lhedata_met/estimator_2\n",
      "09:12 madminer.ml          INFO    Loading model from models/met/ensemble_wmh_mu_wbkgs_sigsystonly_lhedata_met/estimator_3\n",
      "09:12 madminer.ml          INFO    Loading model from models/met/ensemble_wmh_mu_wbkgs_sigsystonly_lhedata_met/estimator_4\n",
      "09:18 madminer.fisherinfor INFO    Evaluating kinematic Fisher information on batch 1 / 10\n",
      "09:18 madminer.ml          INFO    Starting score evaluation\n",
      "09:18 madminer.ml          INFO    Starting score evaluation\n",
      "09:18 madminer.ml          INFO    Starting score evaluation\n",
      "09:18 madminer.ml          INFO    Starting score evaluation\n",
      "09:18 madminer.ml          INFO    Starting score evaluation\n",
      "09:18 madminer.fisherinfor INFO    Evaluating kinematic Fisher information on batch 2 / 10\n",
      "09:18 madminer.ml          INFO    Starting score evaluation\n",
      "09:18 madminer.ml          INFO    Starting score evaluation\n",
      "09:18 madminer.ml          INFO    Starting score evaluation\n",
      "09:18 madminer.ml          INFO    Starting score evaluation\n",
      "09:18 madminer.ml          INFO    Starting score evaluation\n",
      "09:18 madminer.fisherinfor INFO    Evaluating kinematic Fisher information on batch 3 / 10\n",
      "09:18 madminer.ml          INFO    Starting score evaluation\n",
      "09:19 madminer.ml          INFO    Starting score evaluation\n",
      "09:19 madminer.ml          INFO    Starting score evaluation\n",
      "09:19 madminer.ml          INFO    Starting score evaluation\n",
      "09:19 madminer.ml          INFO    Starting score evaluation\n",
      "09:19 madminer.fisherinfor INFO    Evaluating kinematic Fisher information on batch 4 / 10\n",
      "09:19 madminer.ml          INFO    Starting score evaluation\n",
      "09:19 madminer.ml          INFO    Starting score evaluation\n",
      "09:19 madminer.ml          INFO    Starting score evaluation\n",
      "09:19 madminer.ml          INFO    Starting score evaluation\n",
      "09:19 madminer.ml          INFO    Starting score evaluation\n",
      "09:19 madminer.fisherinfor INFO    Evaluating kinematic Fisher information on batch 5 / 10\n",
      "09:19 madminer.ml          INFO    Starting score evaluation\n",
      "09:19 madminer.ml          INFO    Starting score evaluation\n",
      "09:19 madminer.ml          INFO    Starting score evaluation\n",
      "09:19 madminer.ml          INFO    Starting score evaluation\n",
      "09:19 madminer.ml          INFO    Starting score evaluation\n",
      "09:19 madminer.fisherinfor INFO    Evaluating kinematic Fisher information on batch 6 / 10\n",
      "09:19 madminer.ml          INFO    Starting score evaluation\n",
      "09:19 madminer.ml          INFO    Starting score evaluation\n",
      "09:19 madminer.ml          INFO    Starting score evaluation\n",
      "09:19 madminer.ml          INFO    Starting score evaluation\n",
      "09:19 madminer.ml          INFO    Starting score evaluation\n",
      "09:19 madminer.fisherinfor INFO    Evaluating kinematic Fisher information on batch 7 / 10\n",
      "09:19 madminer.ml          INFO    Starting score evaluation\n",
      "09:19 madminer.ml          INFO    Starting score evaluation\n",
      "09:19 madminer.ml          INFO    Starting score evaluation\n",
      "09:19 madminer.ml          INFO    Starting score evaluation\n",
      "09:19 madminer.ml          INFO    Starting score evaluation\n",
      "09:20 madminer.fisherinfor INFO    Evaluating kinematic Fisher information on batch 8 / 10\n",
      "09:20 madminer.ml          INFO    Starting score evaluation\n",
      "09:20 madminer.ml          INFO    Starting score evaluation\n",
      "09:20 madminer.ml          INFO    Starting score evaluation\n",
      "09:20 madminer.ml          INFO    Starting score evaluation\n",
      "09:20 madminer.ml          INFO    Starting score evaluation\n",
      "09:20 madminer.fisherinfor INFO    Evaluating kinematic Fisher information on batch 9 / 10\n",
      "09:20 madminer.ml          INFO    Starting score evaluation\n",
      "09:20 madminer.ml          INFO    Starting score evaluation\n",
      "09:20 madminer.ml          INFO    Starting score evaluation\n",
      "09:20 madminer.ml          INFO    Starting score evaluation\n",
      "09:20 madminer.ml          INFO    Starting score evaluation\n",
      "09:20 madminer.fisherinfor INFO    Evaluating kinematic Fisher information on batch 10 / 10\n",
      "09:20 madminer.ml          INFO    Starting score evaluation\n",
      "09:20 madminer.ml          INFO    Starting score evaluation\n",
      "09:20 madminer.ml          INFO    Starting score evaluation\n",
      "09:20 madminer.ml          INFO    Starting score evaluation\n",
      "09:20 madminer.ml          INFO    Starting score evaluation\n"
     ]
    }
   ],
   "source": [
    "bins_histo_wmh_mu_ptl, w_in_histo_wmh_mu_ptl, fi_histo_rate_wmh_mu_ptl, fi_histo_wmh_mu_ptl = fisher_wmh_mu_wbkgs_met.histogram_of_fisher_information(\n",
    "    theta=[0.,0.,0.,0.],\n",
    "    luminosity=100*1000.,\n",
    "    observable='pt_l',\n",
    "    nbins=20,\n",
    "    histrange=(0,800),\n",
    "    model_file=model_path_wmh_mu,\n",
    ")"
   ]
  },
  {
   "cell_type": "code",
   "execution_count": 127,
   "metadata": {
    "collapsed": true,
    "hidden": true
   },
   "outputs": [
    {
     "name": "stderr",
     "output_type": "stream",
     "text": [
      "09:20 madminer.ml          INFO    Found score ensemble with 5 estimators\n",
      "09:20 madminer.ml          INFO    Loading model from models/met/ensemble_wmh_e_wbkgs_sigsystonly_lhedata_met/estimator_0\n",
      "09:20 madminer.ml          INFO    Loading model from models/met/ensemble_wmh_e_wbkgs_sigsystonly_lhedata_met/estimator_1\n",
      "09:20 madminer.ml          INFO    Loading model from models/met/ensemble_wmh_e_wbkgs_sigsystonly_lhedata_met/estimator_2\n",
      "09:20 madminer.ml          INFO    Loading model from models/met/ensemble_wmh_e_wbkgs_sigsystonly_lhedata_met/estimator_3\n",
      "09:20 madminer.ml          INFO    Loading model from models/met/ensemble_wmh_e_wbkgs_sigsystonly_lhedata_met/estimator_4\n",
      "09:26 madminer.fisherinfor INFO    Evaluating kinematic Fisher information on batch 1 / 10\n",
      "09:26 madminer.ml          INFO    Starting score evaluation\n",
      "09:26 madminer.ml          INFO    Starting score evaluation\n",
      "09:26 madminer.ml          INFO    Starting score evaluation\n",
      "09:26 madminer.ml          INFO    Starting score evaluation\n",
      "09:26 madminer.ml          INFO    Starting score evaluation\n",
      "09:26 madminer.fisherinfor INFO    Evaluating kinematic Fisher information on batch 2 / 10\n",
      "09:26 madminer.ml          INFO    Starting score evaluation\n",
      "09:26 madminer.ml          INFO    Starting score evaluation\n",
      "09:26 madminer.ml          INFO    Starting score evaluation\n",
      "09:26 madminer.ml          INFO    Starting score evaluation\n",
      "09:26 madminer.ml          INFO    Starting score evaluation\n",
      "09:26 madminer.fisherinfor INFO    Evaluating kinematic Fisher information on batch 3 / 10\n",
      "09:26 madminer.ml          INFO    Starting score evaluation\n",
      "09:26 madminer.ml          INFO    Starting score evaluation\n",
      "09:26 madminer.ml          INFO    Starting score evaluation\n",
      "09:26 madminer.ml          INFO    Starting score evaluation\n",
      "09:26 madminer.ml          INFO    Starting score evaluation\n",
      "09:26 madminer.fisherinfor INFO    Evaluating kinematic Fisher information on batch 4 / 10\n",
      "09:26 madminer.ml          INFO    Starting score evaluation\n",
      "09:26 madminer.ml          INFO    Starting score evaluation\n",
      "09:26 madminer.ml          INFO    Starting score evaluation\n",
      "09:26 madminer.ml          INFO    Starting score evaluation\n",
      "09:26 madminer.ml          INFO    Starting score evaluation\n",
      "09:26 madminer.fisherinfor INFO    Evaluating kinematic Fisher information on batch 5 / 10\n",
      "09:27 madminer.ml          INFO    Starting score evaluation\n",
      "09:27 madminer.ml          INFO    Starting score evaluation\n",
      "09:27 madminer.ml          INFO    Starting score evaluation\n",
      "09:27 madminer.ml          INFO    Starting score evaluation\n",
      "09:27 madminer.ml          INFO    Starting score evaluation\n",
      "09:27 madminer.fisherinfor INFO    Evaluating kinematic Fisher information on batch 6 / 10\n",
      "09:27 madminer.ml          INFO    Starting score evaluation\n",
      "09:27 madminer.ml          INFO    Starting score evaluation\n",
      "09:27 madminer.ml          INFO    Starting score evaluation\n",
      "09:27 madminer.ml          INFO    Starting score evaluation\n",
      "09:27 madminer.ml          INFO    Starting score evaluation\n",
      "09:27 madminer.fisherinfor INFO    Evaluating kinematic Fisher information on batch 7 / 10\n",
      "09:27 madminer.ml          INFO    Starting score evaluation\n",
      "09:27 madminer.ml          INFO    Starting score evaluation\n",
      "09:27 madminer.ml          INFO    Starting score evaluation\n",
      "09:27 madminer.ml          INFO    Starting score evaluation\n",
      "09:27 madminer.ml          INFO    Starting score evaluation\n",
      "09:27 madminer.fisherinfor INFO    Evaluating kinematic Fisher information on batch 8 / 10\n",
      "09:27 madminer.ml          INFO    Starting score evaluation\n",
      "09:27 madminer.ml          INFO    Starting score evaluation\n",
      "09:27 madminer.ml          INFO    Starting score evaluation\n",
      "09:27 madminer.ml          INFO    Starting score evaluation\n",
      "09:27 madminer.ml          INFO    Starting score evaluation\n",
      "09:27 madminer.fisherinfor INFO    Evaluating kinematic Fisher information on batch 9 / 10\n",
      "09:27 madminer.ml          INFO    Starting score evaluation\n",
      "09:27 madminer.ml          INFO    Starting score evaluation\n",
      "09:27 madminer.ml          INFO    Starting score evaluation\n",
      "09:27 madminer.ml          INFO    Starting score evaluation\n",
      "09:27 madminer.ml          INFO    Starting score evaluation\n",
      "09:27 madminer.fisherinfor INFO    Evaluating kinematic Fisher information on batch 10 / 10\n",
      "09:28 madminer.ml          INFO    Starting score evaluation\n",
      "09:28 madminer.ml          INFO    Starting score evaluation\n",
      "09:28 madminer.ml          INFO    Starting score evaluation\n",
      "09:28 madminer.ml          INFO    Starting score evaluation\n",
      "09:28 madminer.ml          INFO    Starting score evaluation\n"
     ]
    }
   ],
   "source": [
    "bins_histo_wmh_e_ptl, w_in_histo_wmh_e_ptl, fi_histo_rate_wmh_e_ptl, fi_histo_wmh_e_ptl = fisher_wmh_e_wbkgs_met.histogram_of_fisher_information(\n",
    "    theta=[0.,0.,0.,0.],\n",
    "    luminosity=100*1000.,\n",
    "    observable='pt_l',\n",
    "    nbins=20,\n",
    "    histrange=(0,800),\n",
    "    model_file=model_path_wmh_e,\n",
    ")"
   ]
  },
  {
   "cell_type": "code",
   "execution_count": 128,
   "metadata": {
    "collapsed": true,
    "hidden": true
   },
   "outputs": [],
   "source": [
    "fi_histo_ptl_outfile = './fisher_info/dists/fi_histo_ptl.npz'\n",
    "\n",
    "fi_histo_ptl_list = [\n",
    "    bins_histo_wph_mu_ptl,\n",
    "    w_in_histo_wph_mu_ptl,\n",
    "    fi_histo_rate_wph_mu_ptl,\n",
    "    fi_histo_wph_mu_ptl,\n",
    "    bins_histo_wph_e_ptl,\n",
    "    w_in_histo_wph_e_ptl,\n",
    "    fi_histo_rate_wph_e_ptl,\n",
    "    fi_histo_wph_e_ptl,\n",
    "    bins_histo_wmh_mu_ptl,\n",
    "    w_in_histo_wmh_mu_ptl,\n",
    "    fi_histo_rate_wmh_mu_ptl,\n",
    "    fi_histo_wmh_mu_ptl,\n",
    "    bins_histo_wmh_e_ptl,\n",
    "    w_in_histo_wmh_e_ptl,\n",
    "    fi_histo_rate_wmh_e_ptl,\n",
    "    fi_histo_wmh_e_ptl,\n",
    "]"
   ]
  },
  {
   "cell_type": "code",
   "execution_count": 129,
   "metadata": {
    "collapsed": true,
    "hidden": true
   },
   "outputs": [],
   "source": [
    "np.savez(fi_histo_ptl_outfile, fi_histo_ptl_list, allow_pickle=False)"
   ]
  },
  {
   "cell_type": "code",
   "execution_count": 130,
   "metadata": {
    "collapsed": true,
    "hidden": true
   },
   "outputs": [],
   "source": [
    "fi_histo_rate_ptl = [ fi_histo_rate_wph_mu_ptl[i]\n",
    "                     + fi_histo_rate_wph_e_ptl[i] \n",
    "                     + fi_histo_rate_wmh_mu_ptl[i] \n",
    "                     + fi_histo_rate_wmh_e_ptl[i] \n",
    "                     for i in range(0, len(fi_histo_rate_wph_mu_ptl)) ]\n",
    "\n",
    "fi_histo_ptl = [ fi_histo_wph_mu_ptl[i]\n",
    "                     + fi_histo_wph_e_ptl[i] \n",
    "                     + fi_histo_wmh_mu_ptl[i] \n",
    "                     + fi_histo_wmh_e_ptl[i] \n",
    "                     for i in range(0, len(fi_histo_wph_mu_ptl)) ]\n",
    "\n",
    "fi_histo_rate_ptl_rot = [ rotate(fi_histo_rate_ptl[i]) for i in range(0, len(fi_histo_rate_ptl)) ]\n",
    "fi_histo_ptl_rot = [ rotate(fi_histo_ptl[i]) for i in range(0, len(fi_histo_ptl)) ]"
   ]
  },
  {
   "cell_type": "markdown",
   "metadata": {
    "heading_collapsed": true
   },
   "source": [
    "### $p_{T,b\\bar{b}}$"
   ]
  },
  {
   "cell_type": "code",
   "execution_count": 132,
   "metadata": {
    "collapsed": true,
    "hidden": true
   },
   "outputs": [
    {
     "name": "stderr",
     "output_type": "stream",
     "text": [
      "09:28 madminer.ml          INFO    Found score ensemble with 5 estimators\n",
      "09:28 madminer.ml          INFO    Loading model from models/met/ensemble_wph_mu_wbkgs_sigsystonly_lhedata_met/estimator_0\n",
      "09:28 madminer.ml          INFO    Loading model from models/met/ensemble_wph_mu_wbkgs_sigsystonly_lhedata_met/estimator_1\n",
      "09:28 madminer.ml          INFO    Loading model from models/met/ensemble_wph_mu_wbkgs_sigsystonly_lhedata_met/estimator_2\n",
      "09:28 madminer.ml          INFO    Loading model from models/met/ensemble_wph_mu_wbkgs_sigsystonly_lhedata_met/estimator_3\n",
      "09:28 madminer.ml          INFO    Loading model from models/met/ensemble_wph_mu_wbkgs_sigsystonly_lhedata_met/estimator_4\n",
      "09:33 madminer.fisherinfor INFO    Evaluating kinematic Fisher information on batch 1 / 10\n",
      "09:33 madminer.ml          INFO    Starting score evaluation\n",
      "09:33 madminer.ml          INFO    Starting score evaluation\n",
      "09:33 madminer.ml          INFO    Starting score evaluation\n",
      "09:33 madminer.ml          INFO    Starting score evaluation\n",
      "09:33 madminer.ml          INFO    Starting score evaluation\n",
      "09:33 madminer.fisherinfor INFO    Evaluating kinematic Fisher information on batch 2 / 10\n",
      "09:34 madminer.ml          INFO    Starting score evaluation\n",
      "09:34 madminer.ml          INFO    Starting score evaluation\n",
      "09:34 madminer.ml          INFO    Starting score evaluation\n",
      "09:34 madminer.ml          INFO    Starting score evaluation\n",
      "09:34 madminer.ml          INFO    Starting score evaluation\n",
      "09:34 madminer.fisherinfor INFO    Evaluating kinematic Fisher information on batch 3 / 10\n",
      "09:34 madminer.ml          INFO    Starting score evaluation\n",
      "09:34 madminer.ml          INFO    Starting score evaluation\n",
      "09:34 madminer.ml          INFO    Starting score evaluation\n",
      "09:34 madminer.ml          INFO    Starting score evaluation\n",
      "09:34 madminer.ml          INFO    Starting score evaluation\n",
      "09:34 madminer.fisherinfor INFO    Evaluating kinematic Fisher information on batch 4 / 10\n",
      "09:34 madminer.ml          INFO    Starting score evaluation\n",
      "09:34 madminer.ml          INFO    Starting score evaluation\n",
      "09:34 madminer.ml          INFO    Starting score evaluation\n",
      "09:34 madminer.ml          INFO    Starting score evaluation\n",
      "09:34 madminer.ml          INFO    Starting score evaluation\n",
      "09:34 madminer.fisherinfor INFO    Evaluating kinematic Fisher information on batch 5 / 10\n",
      "09:34 madminer.ml          INFO    Starting score evaluation\n",
      "09:34 madminer.ml          INFO    Starting score evaluation\n",
      "09:34 madminer.ml          INFO    Starting score evaluation\n",
      "09:34 madminer.ml          INFO    Starting score evaluation\n",
      "09:34 madminer.ml          INFO    Starting score evaluation\n",
      "09:34 madminer.fisherinfor INFO    Evaluating kinematic Fisher information on batch 6 / 10\n",
      "09:34 madminer.ml          INFO    Starting score evaluation\n",
      "09:34 madminer.ml          INFO    Starting score evaluation\n",
      "09:34 madminer.ml          INFO    Starting score evaluation\n",
      "09:35 madminer.ml          INFO    Starting score evaluation\n",
      "09:35 madminer.ml          INFO    Starting score evaluation\n",
      "09:35 madminer.fisherinfor INFO    Evaluating kinematic Fisher information on batch 7 / 10\n",
      "09:35 madminer.ml          INFO    Starting score evaluation\n",
      "09:35 madminer.ml          INFO    Starting score evaluation\n",
      "09:35 madminer.ml          INFO    Starting score evaluation\n",
      "09:35 madminer.ml          INFO    Starting score evaluation\n",
      "09:35 madminer.ml          INFO    Starting score evaluation\n",
      "09:35 madminer.fisherinfor INFO    Evaluating kinematic Fisher information on batch 8 / 10\n",
      "09:35 madminer.ml          INFO    Starting score evaluation\n",
      "09:35 madminer.ml          INFO    Starting score evaluation\n",
      "09:35 madminer.ml          INFO    Starting score evaluation\n",
      "09:35 madminer.ml          INFO    Starting score evaluation\n",
      "09:35 madminer.ml          INFO    Starting score evaluation\n",
      "09:35 madminer.fisherinfor INFO    Evaluating kinematic Fisher information on batch 9 / 10\n",
      "09:35 madminer.ml          INFO    Starting score evaluation\n",
      "09:35 madminer.ml          INFO    Starting score evaluation\n",
      "09:35 madminer.ml          INFO    Starting score evaluation\n",
      "09:35 madminer.ml          INFO    Starting score evaluation\n",
      "09:35 madminer.ml          INFO    Starting score evaluation\n",
      "09:35 madminer.fisherinfor INFO    Evaluating kinematic Fisher information on batch 10 / 10\n",
      "09:35 madminer.ml          INFO    Starting score evaluation\n",
      "09:35 madminer.ml          INFO    Starting score evaluation\n",
      "09:35 madminer.ml          INFO    Starting score evaluation\n",
      "09:35 madminer.ml          INFO    Starting score evaluation\n",
      "09:35 madminer.ml          INFO    Starting score evaluation\n"
     ]
    }
   ],
   "source": [
    "bins_histo_wph_mu_ptbb, w_in_histo_wph_mu_ptbb, fi_histo_rate_wph_mu_ptbb, fi_histo_wph_mu_ptbb = fisher_wph_mu_wbkgs_met.histogram_of_fisher_information(\n",
    "    theta=[0.,0.,0.,0.],\n",
    "    luminosity=100*1000.,\n",
    "    observable='pt_h',\n",
    "    nbins=20,\n",
    "    histrange=(0,1000),\n",
    "    model_file=model_path_wph_mu,\n",
    ")"
   ]
  },
  {
   "cell_type": "code",
   "execution_count": 133,
   "metadata": {
    "collapsed": true,
    "hidden": true
   },
   "outputs": [
    {
     "name": "stderr",
     "output_type": "stream",
     "text": [
      "09:35 madminer.ml          INFO    Found score ensemble with 5 estimators\n",
      "09:35 madminer.ml          INFO    Loading model from models/met/ensemble_wph_e_wbkgs_sigsystonly_lhedata_met/estimator_0\n",
      "09:35 madminer.ml          INFO    Loading model from models/met/ensemble_wph_e_wbkgs_sigsystonly_lhedata_met/estimator_1\n",
      "09:35 madminer.ml          INFO    Loading model from models/met/ensemble_wph_e_wbkgs_sigsystonly_lhedata_met/estimator_2\n",
      "09:35 madminer.ml          INFO    Loading model from models/met/ensemble_wph_e_wbkgs_sigsystonly_lhedata_met/estimator_3\n",
      "09:35 madminer.ml          INFO    Loading model from models/met/ensemble_wph_e_wbkgs_sigsystonly_lhedata_met/estimator_4\n",
      "09:41 madminer.fisherinfor INFO    Evaluating kinematic Fisher information on batch 1 / 10\n",
      "09:41 madminer.ml          INFO    Starting score evaluation\n",
      "09:41 madminer.ml          INFO    Starting score evaluation\n",
      "09:41 madminer.ml          INFO    Starting score evaluation\n",
      "09:41 madminer.ml          INFO    Starting score evaluation\n",
      "09:41 madminer.ml          INFO    Starting score evaluation\n",
      "09:41 madminer.fisherinfor INFO    Evaluating kinematic Fisher information on batch 2 / 10\n",
      "09:41 madminer.ml          INFO    Starting score evaluation\n",
      "09:41 madminer.ml          INFO    Starting score evaluation\n",
      "09:41 madminer.ml          INFO    Starting score evaluation\n",
      "09:41 madminer.ml          INFO    Starting score evaluation\n",
      "09:41 madminer.ml          INFO    Starting score evaluation\n",
      "09:41 madminer.fisherinfor INFO    Evaluating kinematic Fisher information on batch 3 / 10\n",
      "09:41 madminer.ml          INFO    Starting score evaluation\n",
      "09:41 madminer.ml          INFO    Starting score evaluation\n",
      "09:41 madminer.ml          INFO    Starting score evaluation\n",
      "09:41 madminer.ml          INFO    Starting score evaluation\n",
      "09:41 madminer.ml          INFO    Starting score evaluation\n",
      "09:41 madminer.fisherinfor INFO    Evaluating kinematic Fisher information on batch 4 / 10\n",
      "09:42 madminer.ml          INFO    Starting score evaluation\n",
      "09:42 madminer.ml          INFO    Starting score evaluation\n",
      "09:42 madminer.ml          INFO    Starting score evaluation\n",
      "09:42 madminer.ml          INFO    Starting score evaluation\n",
      "09:42 madminer.ml          INFO    Starting score evaluation\n",
      "09:42 madminer.fisherinfor INFO    Evaluating kinematic Fisher information on batch 5 / 10\n",
      "09:42 madminer.ml          INFO    Starting score evaluation\n",
      "09:42 madminer.ml          INFO    Starting score evaluation\n",
      "09:42 madminer.ml          INFO    Starting score evaluation\n",
      "09:42 madminer.ml          INFO    Starting score evaluation\n",
      "09:42 madminer.ml          INFO    Starting score evaluation\n",
      "09:42 madminer.fisherinfor INFO    Evaluating kinematic Fisher information on batch 6 / 10\n",
      "09:42 madminer.ml          INFO    Starting score evaluation\n",
      "09:42 madminer.ml          INFO    Starting score evaluation\n",
      "09:42 madminer.ml          INFO    Starting score evaluation\n",
      "09:42 madminer.ml          INFO    Starting score evaluation\n",
      "09:42 madminer.ml          INFO    Starting score evaluation\n",
      "09:42 madminer.fisherinfor INFO    Evaluating kinematic Fisher information on batch 7 / 10\n",
      "09:42 madminer.ml          INFO    Starting score evaluation\n",
      "09:42 madminer.ml          INFO    Starting score evaluation\n",
      "09:42 madminer.ml          INFO    Starting score evaluation\n",
      "09:42 madminer.ml          INFO    Starting score evaluation\n",
      "09:42 madminer.ml          INFO    Starting score evaluation\n",
      "09:42 madminer.fisherinfor INFO    Evaluating kinematic Fisher information on batch 8 / 10\n",
      "09:42 madminer.ml          INFO    Starting score evaluation\n",
      "09:42 madminer.ml          INFO    Starting score evaluation\n",
      "09:42 madminer.ml          INFO    Starting score evaluation\n",
      "09:42 madminer.ml          INFO    Starting score evaluation\n",
      "09:42 madminer.ml          INFO    Starting score evaluation\n",
      "09:42 madminer.fisherinfor INFO    Evaluating kinematic Fisher information on batch 9 / 10\n",
      "09:43 madminer.ml          INFO    Starting score evaluation\n",
      "09:43 madminer.ml          INFO    Starting score evaluation\n",
      "09:43 madminer.ml          INFO    Starting score evaluation\n",
      "09:43 madminer.ml          INFO    Starting score evaluation\n",
      "09:43 madminer.ml          INFO    Starting score evaluation\n",
      "09:43 madminer.fisherinfor INFO    Evaluating kinematic Fisher information on batch 10 / 10\n",
      "09:43 madminer.ml          INFO    Starting score evaluation\n",
      "09:43 madminer.ml          INFO    Starting score evaluation\n",
      "09:43 madminer.ml          INFO    Starting score evaluation\n",
      "09:43 madminer.ml          INFO    Starting score evaluation\n",
      "09:43 madminer.ml          INFO    Starting score evaluation\n"
     ]
    }
   ],
   "source": [
    "bins_histo_wph_e_ptbb, w_in_histo_wph_e_ptbb, fi_histo_rate_wph_e_ptbb, fi_histo_wph_e_ptbb = fisher_wph_e_wbkgs_met.histogram_of_fisher_information(\n",
    "    theta=[0.,0.,0.,0.],\n",
    "    luminosity=100*1000.,\n",
    "    observable='pt_h',\n",
    "    nbins=20,\n",
    "    histrange=(0,1000),\n",
    "    model_file=model_path_wph_e,\n",
    ")"
   ]
  },
  {
   "cell_type": "code",
   "execution_count": 134,
   "metadata": {
    "collapsed": true,
    "hidden": true
   },
   "outputs": [
    {
     "name": "stderr",
     "output_type": "stream",
     "text": [
      "09:43 madminer.ml          INFO    Found score ensemble with 5 estimators\n",
      "09:43 madminer.ml          INFO    Loading model from models/met/ensemble_wmh_mu_wbkgs_sigsystonly_lhedata_met/estimator_0\n",
      "09:43 madminer.ml          INFO    Loading model from models/met/ensemble_wmh_mu_wbkgs_sigsystonly_lhedata_met/estimator_1\n",
      "09:43 madminer.ml          INFO    Loading model from models/met/ensemble_wmh_mu_wbkgs_sigsystonly_lhedata_met/estimator_2\n",
      "09:43 madminer.ml          INFO    Loading model from models/met/ensemble_wmh_mu_wbkgs_sigsystonly_lhedata_met/estimator_3\n",
      "09:43 madminer.ml          INFO    Loading model from models/met/ensemble_wmh_mu_wbkgs_sigsystonly_lhedata_met/estimator_4\n",
      "09:48 madminer.fisherinfor INFO    Evaluating kinematic Fisher information on batch 1 / 10\n",
      "09:48 madminer.ml          INFO    Starting score evaluation\n",
      "09:48 madminer.ml          INFO    Starting score evaluation\n",
      "09:48 madminer.ml          INFO    Starting score evaluation\n",
      "09:48 madminer.ml          INFO    Starting score evaluation\n",
      "09:48 madminer.ml          INFO    Starting score evaluation\n",
      "09:48 madminer.fisherinfor INFO    Evaluating kinematic Fisher information on batch 2 / 10\n",
      "09:48 madminer.ml          INFO    Starting score evaluation\n",
      "09:49 madminer.ml          INFO    Starting score evaluation\n",
      "09:49 madminer.ml          INFO    Starting score evaluation\n",
      "09:49 madminer.ml          INFO    Starting score evaluation\n",
      "09:49 madminer.ml          INFO    Starting score evaluation\n",
      "09:49 madminer.fisherinfor INFO    Evaluating kinematic Fisher information on batch 3 / 10\n",
      "09:49 madminer.ml          INFO    Starting score evaluation\n",
      "09:49 madminer.ml          INFO    Starting score evaluation\n",
      "09:49 madminer.ml          INFO    Starting score evaluation\n",
      "09:49 madminer.ml          INFO    Starting score evaluation\n",
      "09:49 madminer.ml          INFO    Starting score evaluation\n",
      "09:49 madminer.fisherinfor INFO    Evaluating kinematic Fisher information on batch 4 / 10\n",
      "09:49 madminer.ml          INFO    Starting score evaluation\n",
      "09:49 madminer.ml          INFO    Starting score evaluation\n",
      "09:49 madminer.ml          INFO    Starting score evaluation\n",
      "09:49 madminer.ml          INFO    Starting score evaluation\n",
      "09:49 madminer.ml          INFO    Starting score evaluation\n",
      "09:49 madminer.fisherinfor INFO    Evaluating kinematic Fisher information on batch 5 / 10\n",
      "09:49 madminer.ml          INFO    Starting score evaluation\n",
      "09:49 madminer.ml          INFO    Starting score evaluation\n",
      "09:49 madminer.ml          INFO    Starting score evaluation\n",
      "09:49 madminer.ml          INFO    Starting score evaluation\n",
      "09:49 madminer.ml          INFO    Starting score evaluation\n",
      "09:49 madminer.fisherinfor INFO    Evaluating kinematic Fisher information on batch 6 / 10\n",
      "09:49 madminer.ml          INFO    Starting score evaluation\n",
      "09:49 madminer.ml          INFO    Starting score evaluation\n",
      "09:49 madminer.ml          INFO    Starting score evaluation\n",
      "09:49 madminer.ml          INFO    Starting score evaluation\n",
      "09:49 madminer.ml          INFO    Starting score evaluation\n",
      "09:49 madminer.fisherinfor INFO    Evaluating kinematic Fisher information on batch 7 / 10\n",
      "09:50 madminer.ml          INFO    Starting score evaluation\n",
      "09:50 madminer.ml          INFO    Starting score evaluation\n",
      "09:50 madminer.ml          INFO    Starting score evaluation\n",
      "09:50 madminer.ml          INFO    Starting score evaluation\n",
      "09:50 madminer.ml          INFO    Starting score evaluation\n",
      "09:50 madminer.fisherinfor INFO    Evaluating kinematic Fisher information on batch 8 / 10\n",
      "09:50 madminer.ml          INFO    Starting score evaluation\n",
      "09:50 madminer.ml          INFO    Starting score evaluation\n",
      "09:50 madminer.ml          INFO    Starting score evaluation\n",
      "09:50 madminer.ml          INFO    Starting score evaluation\n",
      "09:50 madminer.ml          INFO    Starting score evaluation\n",
      "09:50 madminer.fisherinfor INFO    Evaluating kinematic Fisher information on batch 9 / 10\n",
      "09:50 madminer.ml          INFO    Starting score evaluation\n",
      "09:50 madminer.ml          INFO    Starting score evaluation\n",
      "09:50 madminer.ml          INFO    Starting score evaluation\n",
      "09:50 madminer.ml          INFO    Starting score evaluation\n",
      "09:50 madminer.ml          INFO    Starting score evaluation\n",
      "09:50 madminer.fisherinfor INFO    Evaluating kinematic Fisher information on batch 10 / 10\n",
      "09:50 madminer.ml          INFO    Starting score evaluation\n",
      "09:50 madminer.ml          INFO    Starting score evaluation\n",
      "09:50 madminer.ml          INFO    Starting score evaluation\n",
      "09:50 madminer.ml          INFO    Starting score evaluation\n",
      "09:50 madminer.ml          INFO    Starting score evaluation\n"
     ]
    }
   ],
   "source": [
    "bins_histo_wmh_mu_ptbb, w_in_histo_wmh_mu_ptbb, fi_histo_rate_wmh_mu_ptbb, fi_histo_wmh_mu_ptbb = fisher_wmh_mu_wbkgs_met.histogram_of_fisher_information(\n",
    "    theta=[0.,0.,0.,0.],\n",
    "    luminosity=100*1000.,\n",
    "    observable='pt_h',\n",
    "    nbins=20,\n",
    "    histrange=(0,1000),\n",
    "    model_file=model_path_wmh_mu,\n",
    ")"
   ]
  },
  {
   "cell_type": "code",
   "execution_count": 135,
   "metadata": {
    "collapsed": true,
    "hidden": true
   },
   "outputs": [
    {
     "name": "stderr",
     "output_type": "stream",
     "text": [
      "09:50 madminer.ml          INFO    Found score ensemble with 5 estimators\n",
      "09:50 madminer.ml          INFO    Loading model from models/met/ensemble_wmh_e_wbkgs_sigsystonly_lhedata_met/estimator_0\n",
      "09:50 madminer.ml          INFO    Loading model from models/met/ensemble_wmh_e_wbkgs_sigsystonly_lhedata_met/estimator_1\n",
      "09:50 madminer.ml          INFO    Loading model from models/met/ensemble_wmh_e_wbkgs_sigsystonly_lhedata_met/estimator_2\n",
      "09:50 madminer.ml          INFO    Loading model from models/met/ensemble_wmh_e_wbkgs_sigsystonly_lhedata_met/estimator_3\n",
      "09:50 madminer.ml          INFO    Loading model from models/met/ensemble_wmh_e_wbkgs_sigsystonly_lhedata_met/estimator_4\n",
      "09:56 madminer.fisherinfor INFO    Evaluating kinematic Fisher information on batch 1 / 10\n",
      "09:56 madminer.ml          INFO    Starting score evaluation\n",
      "09:56 madminer.ml          INFO    Starting score evaluation\n",
      "09:56 madminer.ml          INFO    Starting score evaluation\n",
      "09:56 madminer.ml          INFO    Starting score evaluation\n",
      "09:56 madminer.ml          INFO    Starting score evaluation\n",
      "09:56 madminer.fisherinfor INFO    Evaluating kinematic Fisher information on batch 2 / 10\n",
      "09:56 madminer.ml          INFO    Starting score evaluation\n",
      "09:56 madminer.ml          INFO    Starting score evaluation\n",
      "09:56 madminer.ml          INFO    Starting score evaluation\n",
      "09:56 madminer.ml          INFO    Starting score evaluation\n",
      "09:56 madminer.ml          INFO    Starting score evaluation\n",
      "09:56 madminer.fisherinfor INFO    Evaluating kinematic Fisher information on batch 3 / 10\n",
      "09:56 madminer.ml          INFO    Starting score evaluation\n",
      "09:56 madminer.ml          INFO    Starting score evaluation\n",
      "09:56 madminer.ml          INFO    Starting score evaluation\n",
      "09:56 madminer.ml          INFO    Starting score evaluation\n",
      "09:56 madminer.ml          INFO    Starting score evaluation\n",
      "09:56 madminer.fisherinfor INFO    Evaluating kinematic Fisher information on batch 4 / 10\n",
      "09:56 madminer.ml          INFO    Starting score evaluation\n",
      "09:56 madminer.ml          INFO    Starting score evaluation\n",
      "09:56 madminer.ml          INFO    Starting score evaluation\n",
      "09:56 madminer.ml          INFO    Starting score evaluation\n",
      "09:56 madminer.ml          INFO    Starting score evaluation\n",
      "09:56 madminer.fisherinfor INFO    Evaluating kinematic Fisher information on batch 5 / 10\n",
      "09:57 madminer.ml          INFO    Starting score evaluation\n",
      "09:57 madminer.ml          INFO    Starting score evaluation\n",
      "09:57 madminer.ml          INFO    Starting score evaluation\n",
      "09:57 madminer.ml          INFO    Starting score evaluation\n",
      "09:57 madminer.ml          INFO    Starting score evaluation\n",
      "09:57 madminer.fisherinfor INFO    Evaluating kinematic Fisher information on batch 6 / 10\n",
      "09:57 madminer.ml          INFO    Starting score evaluation\n",
      "09:57 madminer.ml          INFO    Starting score evaluation\n",
      "09:57 madminer.ml          INFO    Starting score evaluation\n",
      "09:57 madminer.ml          INFO    Starting score evaluation\n",
      "09:57 madminer.ml          INFO    Starting score evaluation\n",
      "09:57 madminer.fisherinfor INFO    Evaluating kinematic Fisher information on batch 7 / 10\n",
      "09:57 madminer.ml          INFO    Starting score evaluation\n",
      "09:57 madminer.ml          INFO    Starting score evaluation\n",
      "09:57 madminer.ml          INFO    Starting score evaluation\n",
      "09:57 madminer.ml          INFO    Starting score evaluation\n",
      "09:57 madminer.ml          INFO    Starting score evaluation\n",
      "09:57 madminer.fisherinfor INFO    Evaluating kinematic Fisher information on batch 8 / 10\n",
      "09:57 madminer.ml          INFO    Starting score evaluation\n",
      "09:57 madminer.ml          INFO    Starting score evaluation\n",
      "09:57 madminer.ml          INFO    Starting score evaluation\n",
      "09:57 madminer.ml          INFO    Starting score evaluation\n",
      "09:57 madminer.ml          INFO    Starting score evaluation\n",
      "09:57 madminer.fisherinfor INFO    Evaluating kinematic Fisher information on batch 9 / 10\n",
      "09:57 madminer.ml          INFO    Starting score evaluation\n",
      "09:57 madminer.ml          INFO    Starting score evaluation\n",
      "09:57 madminer.ml          INFO    Starting score evaluation\n",
      "09:57 madminer.ml          INFO    Starting score evaluation\n",
      "09:57 madminer.ml          INFO    Starting score evaluation\n",
      "09:58 madminer.fisherinfor INFO    Evaluating kinematic Fisher information on batch 10 / 10\n",
      "09:58 madminer.ml          INFO    Starting score evaluation\n",
      "09:58 madminer.ml          INFO    Starting score evaluation\n",
      "09:58 madminer.ml          INFO    Starting score evaluation\n",
      "09:58 madminer.ml          INFO    Starting score evaluation\n",
      "09:58 madminer.ml          INFO    Starting score evaluation\n"
     ]
    }
   ],
   "source": [
    "bins_histo_wmh_e_ptbb, w_in_histo_wmh_e_ptbb, fi_histo_rate_wmh_e_ptbb, fi_histo_wmh_e_ptbb = fisher_wmh_e_wbkgs_met.histogram_of_fisher_information(\n",
    "    theta=[0.,0.,0.,0.],\n",
    "    luminosity=100*1000.,\n",
    "    observable='pt_h',\n",
    "    nbins=20,\n",
    "    histrange=(0,1000),\n",
    "    model_file=model_path_wmh_e,\n",
    ")"
   ]
  },
  {
   "cell_type": "code",
   "execution_count": 136,
   "metadata": {
    "collapsed": true,
    "hidden": true
   },
   "outputs": [],
   "source": [
    "fi_histo_ptbb_outfile = './fisher_info/dists/fi_histo_ptbb.npz'\n",
    "\n",
    "fi_histo_ptbb_list = [\n",
    "    bins_histo_wph_mu_ptbb,\n",
    "    w_in_histo_wph_mu_ptbb,\n",
    "    fi_histo_rate_wph_mu_ptbb,\n",
    "    fi_histo_wph_mu_ptbb,\n",
    "    bins_histo_wph_e_ptbb,\n",
    "    w_in_histo_wph_e_ptbb,\n",
    "    fi_histo_rate_wph_e_ptbb,\n",
    "    fi_histo_wph_e_ptbb,\n",
    "    bins_histo_wmh_mu_ptbb,\n",
    "    w_in_histo_wmh_mu_ptbb,\n",
    "    fi_histo_rate_wmh_mu_ptbb,\n",
    "    fi_histo_wmh_mu_ptbb,\n",
    "    bins_histo_wmh_e_ptbb,\n",
    "    w_in_histo_wmh_e_ptbb,\n",
    "    fi_histo_rate_wmh_e_ptbb,\n",
    "    fi_histo_wmh_e_ptbb,\n",
    "]"
   ]
  },
  {
   "cell_type": "code",
   "execution_count": 137,
   "metadata": {
    "collapsed": true,
    "hidden": true
   },
   "outputs": [],
   "source": [
    "np.savez(fi_histo_ptbb_outfile, fi_histo_ptbb_list, allow_pickle=False)"
   ]
  },
  {
   "cell_type": "code",
   "execution_count": 138,
   "metadata": {
    "collapsed": true,
    "hidden": true
   },
   "outputs": [],
   "source": [
    "fi_histo_rate_ptbb = [ fi_histo_rate_wph_mu_ptbb[i]\n",
    "                     + fi_histo_rate_wph_e_ptbb[i] \n",
    "                     + fi_histo_rate_wmh_mu_ptbb[i] \n",
    "                     + fi_histo_rate_wmh_e_ptbb[i] \n",
    "                     for i in range(0, len(fi_histo_rate_wph_mu_ptbb)) ]\n",
    "\n",
    "fi_histo_ptbb = [ fi_histo_wph_mu_ptbb[i]\n",
    "                     + fi_histo_wph_e_ptbb[i] \n",
    "                     + fi_histo_wmh_mu_ptbb[i] \n",
    "                     + fi_histo_wmh_e_ptbb[i] \n",
    "                     for i in range(0, len(fi_histo_wph_mu_ptbb)) ]\n",
    "\n",
    "fi_histo_rate_ptbb_rot = [ rotate(fi_histo_rate_ptbb[i]) for i in range(0, len(fi_histo_rate_ptbb)) ]\n",
    "fi_histo_ptbb_rot = [ rotate(fi_histo_ptbb[i]) for i in range(0, len(fi_histo_ptbb)) ]"
   ]
  },
  {
   "cell_type": "markdown",
   "metadata": {},
   "source": [
    "## 4B. Plot Distributions"
   ]
  },
  {
   "cell_type": "markdown",
   "metadata": {
    "heading_collapsed": true
   },
   "source": [
    "#### Get the Signal and Background Distributions (for Plotting)"
   ]
  },
  {
   "cell_type": "code",
   "execution_count": 20,
   "metadata": {
    "hidden": true
   },
   "outputs": [
    {
     "name": "stderr",
     "output_type": "stream",
     "text": [
      "17:35 madminer.analysis    INFO    Loading data from data/met/signal/wph_mu_smeftsim_lhedata_met.h5\n",
      "17:35 madminer.analysis    INFO    Found 4 parameters\n",
      "17:35 madminer.analysis    INFO    Found 33 nuisance parameters\n",
      "17:35 madminer.analysis    INFO    Found 54 benchmarks, of which 15 physical\n",
      "17:35 madminer.analysis    INFO    Found 48 observables\n",
      "17:35 madminer.analysis    INFO    Found 1000000 events\n",
      "17:35 madminer.analysis    INFO      1000000 signal events sampled from benchmark sm\n",
      "17:35 madminer.analysis    INFO    Found morphing setup with 15 components\n",
      "17:35 madminer.analysis    INFO    Found nuisance morphing setup\n",
      "17:35 madminer.analysis    INFO    Loading data from data/met/wph_mu_backgrounds_only_lhedata_met.h5\n",
      "17:35 madminer.analysis    INFO    Found 4 parameters\n",
      "17:35 madminer.analysis    INFO    Found 33 nuisance parameters\n",
      "17:35 madminer.analysis    INFO    Found 54 benchmarks, of which 15 physical\n",
      "17:35 madminer.analysis    INFO    Found 48 observables\n",
      "17:35 madminer.analysis    INFO    Found 4000000 events\n",
      "17:35 madminer.analysis    INFO      4000000 background events\n",
      "17:35 madminer.analysis    INFO    Found morphing setup with 15 components\n",
      "17:35 madminer.analysis    INFO    Found nuisance morphing setup\n",
      "/home/shomiller/.conda/envs/my_root/lib/python2.7/site-packages/madminer-0.4.9-py2.7.egg/madminer/analysis.py:811: RuntimeWarning: invalid value encountered in true_divide\n"
     ]
    }
   ],
   "source": [
    "sa_sig_wph_mu = SampleAugmenter('data/met/signal/wph_mu_smeftsim_lhedata_met.h5')\n",
    "x_weighted_sig_wph_mu, weights_sig_wph_mu = sa_sig_wph_mu.weighted_events(theta=[0.,0.,0.,0.])\n",
    "\n",
    "sa_bkgs_wph_mu = SampleAugmenter('data/met/wph_mu_backgrounds_only_lhedata_met.h5')\n",
    "x_weighted_bkg_wph_mu, weights_bkg_wph_mu = sa_bkgs_wph_mu.weighted_events(theta=[0.,0.,0.,0.])"
   ]
  },
  {
   "cell_type": "code",
   "execution_count": 21,
   "metadata": {
    "hidden": true
   },
   "outputs": [
    {
     "name": "stderr",
     "output_type": "stream",
     "text": [
      "17:35 madminer.analysis    INFO    Loading data from data/met/signal/wph_e_smeftsim_lhedata_met.h5\n",
      "17:35 madminer.analysis    INFO    Found 4 parameters\n",
      "17:35 madminer.analysis    INFO    Found 33 nuisance parameters\n",
      "17:35 madminer.analysis    INFO    Found 54 benchmarks, of which 15 physical\n",
      "17:35 madminer.analysis    INFO    Found 48 observables\n",
      "17:35 madminer.analysis    INFO    Found 1000000 events\n",
      "17:35 madminer.analysis    INFO      1000000 signal events sampled from benchmark sm\n",
      "17:35 madminer.analysis    INFO    Found morphing setup with 15 components\n",
      "17:35 madminer.analysis    INFO    Found nuisance morphing setup\n",
      "17:36 madminer.analysis    INFO    Loading data from data/met/wph_e_backgrounds_only_lhedata_met.h5\n",
      "17:36 madminer.analysis    INFO    Found 4 parameters\n",
      "17:36 madminer.analysis    INFO    Found 33 nuisance parameters\n",
      "17:36 madminer.analysis    INFO    Found 54 benchmarks, of which 15 physical\n",
      "17:36 madminer.analysis    INFO    Found 48 observables\n",
      "17:36 madminer.analysis    INFO    Found 4000000 events\n",
      "17:36 madminer.analysis    INFO      4000000 background events\n",
      "17:36 madminer.analysis    INFO    Found morphing setup with 15 components\n",
      "17:36 madminer.analysis    INFO    Found nuisance morphing setup\n"
     ]
    }
   ],
   "source": [
    "sa_sig_wph_e = SampleAugmenter('data/met/signal/wph_e_smeftsim_lhedata_met.h5')\n",
    "x_weighted_sig_wph_e, weights_sig_wph_e = sa_sig_wph_e.weighted_events(theta=[0.,0.,0.,0.])\n",
    "\n",
    "sa_bkgs_wph_e = SampleAugmenter('data/met/wph_e_backgrounds_only_lhedata_met.h5')\n",
    "x_weighted_bkg_wph_e, weights_bkg_wph_e = sa_bkgs_wph_e.weighted_events(theta=[0.,0.,0.,0.])"
   ]
  },
  {
   "cell_type": "code",
   "execution_count": 22,
   "metadata": {
    "hidden": true
   },
   "outputs": [
    {
     "name": "stderr",
     "output_type": "stream",
     "text": [
      "17:36 madminer.analysis    INFO    Loading data from data/met/signal/wmh_mu_smeftsim_lhedata_met.h5\n",
      "17:36 madminer.analysis    INFO    Found 4 parameters\n",
      "17:36 madminer.analysis    INFO    Found 33 nuisance parameters\n",
      "17:36 madminer.analysis    INFO    Found 54 benchmarks, of which 15 physical\n",
      "17:36 madminer.analysis    INFO    Found 48 observables\n",
      "17:36 madminer.analysis    INFO    Found 1000000 events\n",
      "17:36 madminer.analysis    INFO      1000000 signal events sampled from benchmark sm\n",
      "17:36 madminer.analysis    INFO    Found morphing setup with 15 components\n",
      "17:36 madminer.analysis    INFO    Found nuisance morphing setup\n",
      "17:36 madminer.analysis    INFO    Loading data from data/met/wmh_mu_backgrounds_only_lhedata_met.h5\n",
      "17:36 madminer.analysis    INFO    Found 4 parameters\n",
      "17:36 madminer.analysis    INFO    Found 33 nuisance parameters\n",
      "17:36 madminer.analysis    INFO    Found 54 benchmarks, of which 15 physical\n",
      "17:36 madminer.analysis    INFO    Found 48 observables\n",
      "17:36 madminer.analysis    INFO    Found 4000000 events\n",
      "17:36 madminer.analysis    INFO      4000000 background events\n",
      "17:36 madminer.analysis    INFO    Found morphing setup with 15 components\n",
      "17:36 madminer.analysis    INFO    Found nuisance morphing setup\n"
     ]
    }
   ],
   "source": [
    "sa_sig_wmh_mu = SampleAugmenter('data/met/signal/wmh_mu_smeftsim_lhedata_met.h5')\n",
    "x_weighted_sig_wmh_mu, weights_sig_wmh_mu = sa_sig_wmh_mu.weighted_events(theta=[0.,0.,0.,0.])\n",
    "\n",
    "sa_bkgs_wmh_mu = SampleAugmenter('data/met/wmh_mu_backgrounds_only_lhedata_met.h5')\n",
    "x_weighted_bkg_wmh_mu, weights_bkg_wmh_mu = sa_bkgs_wmh_mu.weighted_events(theta=[0.,0.,0.,0.])"
   ]
  },
  {
   "cell_type": "code",
   "execution_count": 23,
   "metadata": {
    "hidden": true
   },
   "outputs": [
    {
     "name": "stderr",
     "output_type": "stream",
     "text": [
      "17:36 madminer.analysis    INFO    Loading data from data/met/signal/wmh_e_smeftsim_lhedata_met.h5\n",
      "17:36 madminer.analysis    INFO    Found 4 parameters\n",
      "17:36 madminer.analysis    INFO    Found 33 nuisance parameters\n",
      "17:36 madminer.analysis    INFO    Found 54 benchmarks, of which 15 physical\n",
      "17:36 madminer.analysis    INFO    Found 48 observables\n",
      "17:36 madminer.analysis    INFO    Found 1000000 events\n",
      "17:36 madminer.analysis    INFO      1000000 signal events sampled from benchmark sm\n",
      "17:36 madminer.analysis    INFO    Found morphing setup with 15 components\n",
      "17:36 madminer.analysis    INFO    Found nuisance morphing setup\n",
      "17:37 madminer.analysis    INFO    Loading data from data/met/wmh_e_backgrounds_only_lhedata_met.h5\n",
      "17:37 madminer.analysis    INFO    Found 4 parameters\n",
      "17:37 madminer.analysis    INFO    Found 33 nuisance parameters\n",
      "17:37 madminer.analysis    INFO    Found 54 benchmarks, of which 15 physical\n",
      "17:37 madminer.analysis    INFO    Found 48 observables\n",
      "17:37 madminer.analysis    INFO    Found 4000000 events\n",
      "17:37 madminer.analysis    INFO      4000000 background events\n",
      "17:37 madminer.analysis    INFO    Found morphing setup with 15 components\n",
      "17:37 madminer.analysis    INFO    Found nuisance morphing setup\n"
     ]
    }
   ],
   "source": [
    "sa_sig_wmh_e = SampleAugmenter('data/met/signal/wmh_e_smeftsim_lhedata_met.h5')\n",
    "x_weighted_sig_wmh_e, weights_sig_wmh_e = sa_sig_wmh_e.weighted_events(theta=[0.,0.,0.,0.])\n",
    "\n",
    "sa_bkgs_wmh_e = SampleAugmenter('data/met/wmh_e_backgrounds_only_lhedata_met.h5')\n",
    "x_weighted_bkg_wmh_e, weights_bkg_wmh_e = sa_bkgs_wmh_e.weighted_events(theta=[0.,0.,0.,0.])"
   ]
  },
  {
   "cell_type": "markdown",
   "metadata": {
    "hidden": true
   },
   "source": [
    "Combine the different channels to plot distributions together"
   ]
  },
  {
   "cell_type": "code",
   "execution_count": 24,
   "metadata": {
    "collapsed": true,
    "hidden": true
   },
   "outputs": [],
   "source": [
    "x_weighted_sig = np.concatenate((x_weighted_sig_wph_mu, x_weighted_sig_wph_e, x_weighted_sig_wmh_mu, x_weighted_sig_wmh_e))\n",
    "weights_sig = np.concatenate((weights_sig_wph_mu, weights_sig_wph_e, weights_sig_wmh_mu, weights_sig_wmh_e))\n",
    "x_weighted_bkg = np.concatenate((x_weighted_bkg_wph_mu, x_weighted_bkg_wph_e, x_weighted_bkg_wmh_mu, x_weighted_bkg_wmh_e))\n",
    "weights_bkg = np.concatenate((weights_bkg_wph_mu, weights_bkg_wph_e, weights_bkg_wmh_mu, weights_bkg_wmh_e))"
   ]
  },
  {
   "cell_type": "markdown",
   "metadata": {
    "heading_collapsed": true
   },
   "source": [
    "#### Plot Elements"
   ]
  },
  {
   "cell_type": "code",
   "execution_count": 25,
   "metadata": {
    "collapsed": true,
    "hidden": true
   },
   "outputs": [],
   "source": [
    "color_sig = 'gold'\n",
    "color_bkg = '#DCDCDC'\n",
    "\n",
    "fi_dist_color1 = 'blue'\n",
    "fi_dist_linestyle1 = 'solid'\n",
    "fi_dist_color2 = 'red'\n",
    "fi_dist_linestyle2 = 'dotted'\n",
    "fi_dist_color3 = 'green'\n",
    "fi_dist_linestyle3 = 'dashed'\n",
    "\n",
    "fi_dist_linewidth = 2"
   ]
  },
  {
   "cell_type": "code",
   "execution_count": 26,
   "metadata": {
    "collapsed": true,
    "hidden": true
   },
   "outputs": [],
   "source": [
    "legend_elements = [\n",
    "        Line2D([0],[0],color=fi_dist_color1, lw=fi_dist_linewidth,ls=fi_dist_linestyle1,\n",
    "           label=r'$\\tilde{C}_{HD}$'),\n",
    "        Line2D([0],[0],color=fi_dist_color2, lw=fi_dist_linewidth,ls=fi_dist_linestyle2,\n",
    "           label=r'$C_{HW}$'),\n",
    "        Line2D([0],[0],color=fi_dist_color3, lw=fi_dist_linewidth,ls=fi_dist_linestyle3,\n",
    "           label=r'$C_{Hq}^{(3)}$'),\n",
    "        Patch(facecolor=color_sig, label='SM Signal'),\n",
    "        Patch(facecolor=color_bkg, label='Background')\n",
    "    ]"
   ]
  },
  {
   "cell_type": "markdown",
   "metadata": {
    "heading_collapsed": true
   },
   "source": [
    "### Function for Plotting"
   ]
  },
  {
   "cell_type": "code",
   "execution_count": null,
   "metadata": {
    "collapsed": true,
    "hidden": true
   },
   "outputs": [],
   "source": [
    "def distribution_plot(bins, observable, xlabel, fi_list, outfilename, log_y_axis=True, include_legend=True, legend_loc='upper right', my_xrange=None):\n",
    "\n",
    "#    bins_ptw = bins_histo_wph_mu_ptw\n",
    "    xvals = [ (bins[i] + bins[i+1]) / 2 for i in range(0, len(bins) - 1)]\n",
    "    xvals = [ bins[0] - 1e-9 ] + xvals + [bins[len(bins) - 1] + 1e-9]\n",
    "    \n",
    "    if my_xrange is not None:\n",
    "        thisrange = my_xrange\n",
    "    else:\n",
    "        thisrange = (bins[0], bins[-1])\n",
    "\n",
    "    index = sa_bkgs_wph_mu.observables.keys().index(observable)\n",
    "    #x_weighted_bkg[:,thisindex]\n",
    "\n",
    "    fig = plt.figure(figsize=(8,6))\n",
    "    ax1 = plt.subplot(111)\n",
    "    fig.subplots_adjust(left=0.1667, right=0.8333, bottom=0.17, top=0.97)\n",
    "\n",
    "    ax1.set_ylabel('Events (arb.)', color='black',fontsize=22)\n",
    "    ax1.set_xlabel(xlabel, color='black',fontsize=22)\n",
    "    \n",
    "    ax1.set_xlim(my_xrange)\n",
    "    \n",
    "    ax1.hist(\n",
    "        [ x_weighted_bkg[:,index], x_weighted_sig[:,index] ],\n",
    "        weights = [ weights_bkg, weights_sig ],\n",
    "        bins = bins,\n",
    "        range = thisrange,\n",
    "        histtype='stepfilled',\n",
    "        stacked=True,\n",
    "        color=[color_bkg, color_sig],\n",
    "        alpha=1.0\n",
    "    )\n",
    "\n",
    "    if log_y_axis:\n",
    "        ax1.set_yscale('log')\n",
    "\n",
    "    ## Second Axis for F.I.\n",
    "\n",
    "    ax2 = ax1.twinx()\n",
    "    ax2.set_ylabel(r'Normalized Distribution of F.I.', color='black',fontsize=22)\n",
    "\n",
    "    fi1_norm = sum([fi[0,0] for fi in fi_list])\n",
    "    fi2_norm = sum([fi[1,1] for fi in fi_list])\n",
    "    fi3_norm = sum([fi[2,2] for fi in fi_list])\n",
    "\n",
    "    ax2.hist(\n",
    "        xvals,\n",
    "        weights = [ 1./(fi1_norm)*fi[0,0] for fi in fi_list ],\n",
    "        bins = bins,\n",
    "        range = thisrange,\n",
    "        histtype = 'step',\n",
    "        color = fi_dist_color1,\n",
    "        linewidth = fi_dist_linewidth,\n",
    "        linestyle = fi_dist_linestyle1,\n",
    "        label=r'$c_{H\\boxdot} - \\frac{1}{4}c_{HD}$'\n",
    "    )\n",
    "\n",
    "    ax2.hist(\n",
    "        xvals,\n",
    "        weights = [ 1./(fi2_norm)*fi[1,1] for fi in fi_list ],\n",
    "        bins = bins,\n",
    "        range = thisrange,\n",
    "        histtype = 'step',\n",
    "        color = fi_dist_color2,\n",
    "        linewidth = fi_dist_linewidth,\n",
    "        linestyle = fi_dist_linestyle2,\n",
    "        label=r'$c_{HW}$'\n",
    "    )\n",
    "\n",
    "    ax2.hist(\n",
    "        xvals,\n",
    "        weights = [ 1./(fi3_norm)*fi[2,2] for fi in fi_list ],\n",
    "        bins = bins,\n",
    "        range = thisrange,\n",
    "        histtype = 'step',\n",
    "        color = fi_dist_color3,\n",
    "        linewidth = fi_dist_linewidth,\n",
    "        linestyle = fi_dist_linestyle3,\n",
    "        label=r'$c_{Hq}^{(3)}$'\n",
    "    )\n",
    "\n",
    "    if include_legend:\n",
    "        ax2.legend(handles=legend_elements, loc=legend_loc, fontsize=16, frameon=False)\n",
    "        \n",
    "    plt.tight_layout()\n",
    "    plt.savefig('plots/dists/{}.pdf'.format(outfilename))\n",
    "    plt.show()"
   ]
  },
  {
   "cell_type": "markdown",
   "metadata": {
    "heading_collapsed": true
   },
   "source": [
    "### Make the Plots:"
   ]
  },
  {
   "cell_type": "markdown",
   "metadata": {
    "hidden": true
   },
   "source": [
    "#### $p_{T,W}$"
   ]
  },
  {
   "cell_type": "code",
   "execution_count": 28,
   "metadata": {
    "hidden": true
   },
   "outputs": [
    {
     "data": {
      "image/png": "[encoded data removed]",
      "text/plain": [
       "<matplotlib.figure.Figure at 0x7f8f710f3590>"
      ]
     },
     "metadata": {},
     "output_type": "display_data"
    }
   ],
   "source": [
    "distribution_plot(bins_histo_wph_mu_ptw, 'pt_w', r'$p_{T,W}$ (GeV)', fi_histo_ptw_rot, 'info_dist_ptw')"
   ]
  },
  {
   "cell_type": "code",
   "execution_count": 37,
   "metadata": {
    "hidden": true
   },
   "outputs": [
    {
     "data": {
      "image/png": "[encoded data removed]",
      "text/plain": [
       "<matplotlib.figure.Figure at 0x7f8f68744d10>"
      ]
     },
     "metadata": {},
     "output_type": "display_data"
    }
   ],
   "source": [
    "distribution_plot(bins_histo_wph_mu_mttot, 'mt_tot',r'$m_{T,\\mathrm{tot}}$ (GeV)', fi_histo_mttot_rot, 'info_dist_mttot')"
   ]
  },
  {
   "cell_type": "code",
   "execution_count": 99,
   "metadata": {
    "hidden": true
   },
   "outputs": [
    {
     "data": {
      "image/png": "[encoded data removed]",
      "text/plain": [
       "<matplotlib.figure.Figure at 0x7f8f6adf74d0>"
      ]
     },
     "metadata": {},
     "output_type": "display_data"
    }
   ],
   "source": [
    "distribution_plot(bins_histo_wph_mu_mtlv, 'mt_lv', r'$m_{T,W}$ (GeV)', fi_histo_mtlv_rot, 'info_dist_mtlv')"
   ]
  },
  {
   "cell_type": "code",
   "execution_count": 95,
   "metadata": {
    "hidden": true
   },
   "outputs": [
    {
     "data": {
      "image/png": "[encoded data removed]",
      "text/plain": [
       "<matplotlib.figure.Figure at 0x7f8f6ae72510>"
      ]
     },
     "metadata": {},
     "output_type": "display_data"
    }
   ],
   "source": [
    "distribution_plot(bins_histo_wph_mu_etah, 'eta_h', r'$\\eta_{H}$', fi_histo_etah_rot, 'info_dist_etah', log_y_axis=False, include_legend=False)"
   ]
  },
  {
   "cell_type": "code",
   "execution_count": 96,
   "metadata": {
    "hidden": true
   },
   "outputs": [
    {
     "data": {
      "image/png": "[encoded data removed]",
      "text/plain": [
       "<matplotlib.figure.Figure at 0x7f8f68740090>"
      ]
     },
     "metadata": {},
     "output_type": "display_data"
    }
   ],
   "source": [
    "distribution_plot(bins_histo_wph_mu_dphilv, 'dphi_lv', r'$\\Delta \\phi_{\\ell\\nu}$', fi_histo_dphilv_rot, 'info_dist_dphilv', log_y_axis=False, include_legend=False)"
   ]
  },
  {
   "cell_type": "code",
   "execution_count": 97,
   "metadata": {
    "hidden": true
   },
   "outputs": [
    {
     "data": {
      "image/png": "[encoded data removed]",
      "text/plain": [
       "<matplotlib.figure.Figure at 0x7f8f6ae0f190>"
      ]
     },
     "metadata": {},
     "output_type": "display_data"
    }
   ],
   "source": [
    "distribution_plot(bins_histo_wph_mu_drlb1, 'dR_lb1', r'$\\Delta R_{\\ell b_1}$', fi_histo_drlb1_rot, 'info_dist_drlb1', log_y_axis=False, legend_loc='upper left')"
   ]
  },
  {
   "cell_type": "code",
   "execution_count": 98,
   "metadata": {
    "hidden": true
   },
   "outputs": [
    {
     "data": {
      "image/png": "[encoded data removed]",
      "text/plain": [
       "<matplotlib.figure.Figure at 0x7f8f68786390>"
      ]
     },
     "metadata": {},
     "output_type": "display_data"
    }
   ],
   "source": [
    "distribution_plot(bins_histo_wph_mu_mbb, 'm_bb', r'$m_{b\\bar{b}}$', fi_histo_mbb_rot, 'info_dist_mbb', log_y_axis=False, legend_loc='upper left')"
   ]
  },
  {
   "cell_type": "code",
   "execution_count": 107,
   "metadata": {
    "hidden": true
   },
   "outputs": [
    {
     "data": {
      "image/png": "[encoded data removed]",
      "text/plain": [
       "<matplotlib.figure.Figure at 0x7f8f6ae57ed0>"
      ]
     },
     "metadata": {},
     "output_type": "display_data"
    }
   ],
   "source": [
    "distribution_plot(bins_histo_wph_mu_ptb1, 'pt_b1', r'$p_{T,b}^{\\mathrm{lead}}$', fi_histo_ptb1_rot, 'info_dist_ptb1', log_y_axis=False, legend_loc='upper right')"
   ]
  },
  {
   "cell_type": "code",
   "execution_count": 115,
   "metadata": {
    "hidden": true
   },
   "outputs": [
    {
     "data": {
      "image/png": "[encoded data removed]",
      "text/plain": [
       "<matplotlib.figure.Figure at 0x7f8f6add2a10>"
      ]
     },
     "metadata": {},
     "output_type": "display_data"
    }
   ],
   "source": [
    "distribution_plot(bins_histo_wph_mu_ptb2, 'pt_b2', r'$p_{T,b}^{\\mathrm{sub}}$', fi_histo_ptb2_rot, 'info_dist_ptb2', log_y_axis=False, legend_loc='upper right')"
   ]
  },
  {
   "cell_type": "code",
   "execution_count": 123,
   "metadata": {
    "hidden": true
   },
   "outputs": [
    {
     "data": {
      "image/png": "[encoded data removed]",
      "text/plain": [
       "<matplotlib.figure.Figure at 0x7f8f6adec210>"
      ]
     },
     "metadata": {},
     "output_type": "display_data"
    }
   ],
   "source": [
    "distribution_plot(bins_histo_wph_mu_met, 'met', r'$\\mathrm{MET}$', fi_histo_met_rot, 'info_dist_met', log_y_axis=False, legend_loc='upper right')"
   ]
  },
  {
   "cell_type": "code",
   "execution_count": 131,
   "metadata": {
    "hidden": true
   },
   "outputs": [
    {
     "data": {
      "image/png": "[encoded data removed]",
      "text/plain": [
       "<matplotlib.figure.Figure at 0x7f8f689c2c90>"
      ]
     },
     "metadata": {},
     "output_type": "display_data"
    }
   ],
   "source": [
    "distribution_plot(bins_histo_wph_mu_ptl, 'pt_l', r'$p_{T,\\ell}$', fi_histo_ptl_rot, 'info_dist_ptl', log_y_axis=False, legend_loc='upper right')"
   ]
  },
  {
   "cell_type": "code",
   "execution_count": 141,
   "metadata": {
    "hidden": true
   },
   "outputs": [
    {
     "data": {
      "image/png": "[encoded data removed]",
      "text/plain": [
       "<matplotlib.figure.Figure at 0x7f8f6ac11090>"
      ]
     },
     "metadata": {},
     "output_type": "display_data"
    }
   ],
   "source": [
    "distribution_plot(bins_histo_wph_mu_ptbb, 'pt_h', r'$p_{T,b\\bar{b}}$', fi_histo_ptbb_rot, 'info_dist_ptbb', log_y_axis=True, legend_loc='upper right')"
   ]
  },
  {
   "cell_type": "markdown",
   "metadata": {
    "heading_collapsed": true
   },
   "source": [
    "## Alternative Distributions"
   ]
  },
  {
   "cell_type": "markdown",
   "metadata": {
    "hidden": true
   },
   "source": [
    "We're also going to plot a few other things:\n",
    "* The distributions of the _kinematic only_ information (with backgrounds)\n",
    "* The same, but _without_ backgrounds\n",
    "* The distribution of the diagonalized information\n",
    "\n",
    "The kinematic only information is actually just the full information - the rate information, so this is trivial."
   ]
  },
  {
   "cell_type": "markdown",
   "metadata": {
    "heading_collapsed": true,
    "hidden": true
   },
   "source": [
    "### Distribution of Kinematic Only Information (with Backgrounds)"
   ]
  },
  {
   "cell_type": "code",
   "execution_count": null,
   "metadata": {
    "collapsed": true,
    "hidden": true
   },
   "outputs": [],
   "source": [
    "bins_ptw = bins_histo_wph_mu_ptw\n",
    "xvals = [ (bins_ptw[i] + bins_ptw[i+1]) / 2 for i in range(0, len(bins_ptw) - 1)]\n",
    "xvals = [ bins_ptw[0] - 1e-9 ] + xvals + [bins_ptw[len(bins_ptw) - 1] + 1e-9]\n",
    "thisrange = (bins_ptw[0], bins_ptw[-1])\n",
    "\n",
    "ptw_index = sa_bkgs_wph_mu.observables.keys().index('pt_w')\n",
    "#x_weighted_bkg[:,thisindex]\n",
    "\n",
    "fig = plt.figure(figsize=(8,6))\n",
    "ax1 = plt.subplot(111)\n",
    "fig.subplots_adjust(left=0.1667, right=0.8333, bottom=0.17, top=0.97)\n",
    "\n",
    "ax1.set_ylabel('Events (arb.)', color='black',fontsize=18)\n",
    "ax1.set_xlabel(r'$p_{T,W}$ (GeV)', color='black',fontsize=18)\n",
    "\n",
    "ax1.hist(\n",
    "    [ x_weighted_bkg[:,ptw_index], x_weighted_sig[:,ptw_index] ],\n",
    "    weights = [ weights_bkg, weights_sig ],\n",
    "    bins = bins_ptw,\n",
    "    histtype='stepfilled',\n",
    "    stacked=True,\n",
    "    color=[color_bkg, color_sig],\n",
    "    alpha=1.0\n",
    ")\n",
    "\n",
    "ax1.set_yscale('log')\n",
    "\n",
    "## Second Axis for F.I.\n",
    "\n",
    "ax2 = ax1.twinx()\n",
    "ax2.set_ylabel(r'Normalized Distribution of F.I.', color='black',fontsize=18)\n",
    "\n",
    "fi1_norm = sum([fi_histo_ptw_rot[i][0,0] - fi_histo_rate_ptw_rot[i][0,0] for i in range(len(fi_histo_ptw_rot))])\n",
    "fi2_norm = sum([fi_histo_ptw_rot[i][1,1] - fi_histo_rate_ptw_rot[i][1,1] for i in range(len(fi_histo_ptw_rot))])\n",
    "fi3_norm = sum([fi_histo_ptw_rot[i][2,2] - fi_histo_rate_ptw_rot[i][2,2] for i in range(len(fi_histo_ptw_rot))])\n",
    "\n",
    "ax2.hist(\n",
    "    xvals,\n",
    "    weights = [ 1./(fi1_norm)*(fi_histo_ptw_rot[i][0,0] - fi_histo_rate_ptw_rot[i][0,0]) for i in range(len(fi_histo_ptw_rot)) ],\n",
    "    bins = bins_ptw,\n",
    "    range = thisrange,\n",
    "    histtype = 'step',\n",
    "    color = fi_dist_color1,\n",
    "    linewidth = fi_dist_linewidth,\n",
    "    linestyle = fi_dist_linestyle1,\n",
    "    label=r'$c_{H\\boxdot} - \\frac{1}{4}c_{HD}$'\n",
    ")\n",
    "\n",
    "ax2.hist(\n",
    "    xvals,\n",
    "    weights = [ 1./(fi2_norm)*(fi_histo_ptw_rot[i][1,1] - fi_histo_rate_ptw_rot[i][1,1]) for i in range(len(fi_histo_ptw_rot)) ],\n",
    "    bins = bins_ptw,\n",
    "    range = thisrange,\n",
    "    histtype = 'step',\n",
    "    color = fi_dist_color2,\n",
    "    linewidth = fi_dist_linewidth,\n",
    "    linestyle = fi_dist_linestyle2,\n",
    "    label=r'$c_{HW}$'\n",
    ")\n",
    "\n",
    "ax2.hist(\n",
    "    xvals,\n",
    "    weights = [ 1./(fi3_norm)*(fi_histo_ptw_rot[i][2,2] - fi_histo_rate_ptw_rot[i][2,2]) for i in range(len(fi_histo_ptw_rot)) ],\n",
    "    bins = bins_ptw,\n",
    "    range = thisrange,\n",
    "    histtype = 'step',\n",
    "    color = fi_dist_color3,\n",
    "    linewidth = fi_dist_linewidth,\n",
    "    linestyle = fi_dist_linestyle3,\n",
    "    label=r'$c_{Hq}^{(3)}$'\n",
    ")\n",
    "\n",
    "ax2.legend(loc='upper right',fontsize=16,frameon=False)\n",
    "\n",
    "plt.tight_layout()\n",
    "#plt.savefig('plots/info_dist_ptw.png')\n",
    "plt.show()"
   ]
  },
  {
   "cell_type": "markdown",
   "metadata": {},
   "source": [
    "## The Binned Information w/o Backgrounds"
   ]
  },
  {
   "cell_type": "markdown",
   "metadata": {
    "heading_collapsed": true
   },
   "source": [
    "### $p_{T,W}$"
   ]
  },
  {
   "cell_type": "code",
   "execution_count": 44,
   "metadata": {
    "hidden": true
   },
   "outputs": [
    {
     "name": "stderr",
     "output_type": "stream",
     "text": [
      "18:29 madminer.ml          INFO    Found score ensemble with 5 estimators\n",
      "18:29 madminer.ml          INFO    Loading model from models/met/sally_ensemble_wph_mu_smeftsim_met/estimator_0\n",
      "18:29 madminer.ml          INFO    Loading model from models/met/sally_ensemble_wph_mu_smeftsim_met/estimator_1\n",
      "18:29 madminer.ml          INFO    Loading model from models/met/sally_ensemble_wph_mu_smeftsim_met/estimator_2\n",
      "18:29 madminer.ml          INFO    Loading model from models/met/sally_ensemble_wph_mu_smeftsim_met/estimator_3\n",
      "18:29 madminer.ml          INFO    Loading model from models/met/sally_ensemble_wph_mu_smeftsim_met/estimator_4\n",
      "18:30 madminer.fisherinfor INFO    Evaluating kinematic Fisher information on batch 1 / 2\n",
      "18:30 madminer.ml          INFO    Starting score evaluation\n",
      "18:30 madminer.ml          INFO    Starting score evaluation\n",
      "18:30 madminer.ml          INFO    Starting score evaluation\n",
      "18:30 madminer.ml          INFO    Starting score evaluation\n",
      "18:30 madminer.ml          INFO    Starting score evaluation\n",
      "18:30 madminer.fisherinfor INFO    Evaluating kinematic Fisher information on batch 2 / 2\n",
      "18:31 madminer.ml          INFO    Starting score evaluation\n",
      "18:31 madminer.ml          INFO    Starting score evaluation\n",
      "18:31 madminer.ml          INFO    Starting score evaluation\n",
      "18:31 madminer.ml          INFO    Starting score evaluation\n",
      "18:31 madminer.ml          INFO    Starting score evaluation\n"
     ]
    }
   ],
   "source": [
    "bins_histo_wph_mu_nobkgs_ptw, w_in_histo_wph_mu_nobkgs_ptw, fi_histo_rate_wph_mu_nobkgs_ptw, fi_histo_wph_mu_nobkgs_ptw = fisher_wph_mu_met.histogram_of_fisher_information(\n",
    "    theta=[0.,0.,0.,0.],\n",
    "    luminosity=100*1000.,\n",
    "    observable='pt_w',\n",
    "    nbins=20,\n",
    "    histrange=(0,1000),\n",
    "    model_file='models/met/sally_ensemble_wph_mu_smeftsim_met',\n",
    ")"
   ]
  },
  {
   "cell_type": "code",
   "execution_count": 45,
   "metadata": {
    "hidden": true
   },
   "outputs": [
    {
     "name": "stderr",
     "output_type": "stream",
     "text": [
      "18:31 madminer.ml          INFO    Found score ensemble with 5 estimators\n",
      "18:31 madminer.ml          INFO    Loading model from models/met/sally_ensemble_wph_e_smeftsim_met/estimator_0\n",
      "18:31 madminer.ml          INFO    Loading model from models/met/sally_ensemble_wph_e_smeftsim_met/estimator_1\n",
      "18:31 madminer.ml          INFO    Loading model from models/met/sally_ensemble_wph_e_smeftsim_met/estimator_2\n",
      "18:31 madminer.ml          INFO    Loading model from models/met/sally_ensemble_wph_e_smeftsim_met/estimator_3\n",
      "18:31 madminer.ml          INFO    Loading model from models/met/sally_ensemble_wph_e_smeftsim_met/estimator_4\n",
      "18:32 madminer.fisherinfor INFO    Evaluating kinematic Fisher information on batch 1 / 2\n",
      "18:32 madminer.ml          INFO    Starting score evaluation\n",
      "18:32 madminer.ml          INFO    Starting score evaluation\n",
      "18:32 madminer.ml          INFO    Starting score evaluation\n",
      "18:32 madminer.ml          INFO    Starting score evaluation\n",
      "18:32 madminer.ml          INFO    Starting score evaluation\n",
      "18:32 madminer.fisherinfor INFO    Evaluating kinematic Fisher information on batch 2 / 2\n",
      "18:32 madminer.ml          INFO    Starting score evaluation\n",
      "18:32 madminer.ml          INFO    Starting score evaluation\n",
      "18:32 madminer.ml          INFO    Starting score evaluation\n",
      "18:32 madminer.ml          INFO    Starting score evaluation\n",
      "18:32 madminer.ml          INFO    Starting score evaluation\n"
     ]
    }
   ],
   "source": [
    "bins_histo_wph_e_nobkgs_ptw, w_in_histo_wph_e_nobkgs_ptw, fi_histo_rate_wph_e_nobkgs_ptw, fi_histo_wph_e_nobkgs_ptw = fisher_wph_e_met.histogram_of_fisher_information(\n",
    "    theta=[0.,0.,0.,0.],\n",
    "    luminosity=100*1000.,\n",
    "    observable='pt_w',\n",
    "    nbins=20,\n",
    "    histrange=(0,1000),\n",
    "    model_file='models/met/sally_ensemble_wph_e_smeftsim_met',\n",
    ")"
   ]
  },
  {
   "cell_type": "code",
   "execution_count": 46,
   "metadata": {
    "hidden": true
   },
   "outputs": [
    {
     "name": "stderr",
     "output_type": "stream",
     "text": [
      "18:33 madminer.ml          INFO    Found score ensemble with 5 estimators\n",
      "18:33 madminer.ml          INFO    Loading model from models/met/sally_ensemble_wmh_mu_smeftsim_met/estimator_0\n",
      "18:33 madminer.ml          INFO    Loading model from models/met/sally_ensemble_wmh_mu_smeftsim_met/estimator_1\n",
      "18:33 madminer.ml          INFO    Loading model from models/met/sally_ensemble_wmh_mu_smeftsim_met/estimator_2\n",
      "18:33 madminer.ml          INFO    Loading model from models/met/sally_ensemble_wmh_mu_smeftsim_met/estimator_3\n",
      "18:33 madminer.ml          INFO    Loading model from models/met/sally_ensemble_wmh_mu_smeftsim_met/estimator_4\n",
      "18:34 madminer.fisherinfor INFO    Evaluating kinematic Fisher information on batch 1 / 2\n",
      "18:34 madminer.ml          INFO    Starting score evaluation\n",
      "18:34 madminer.ml          INFO    Starting score evaluation\n",
      "18:34 madminer.ml          INFO    Starting score evaluation\n",
      "18:34 madminer.ml          INFO    Starting score evaluation\n",
      "18:34 madminer.ml          INFO    Starting score evaluation\n",
      "18:34 madminer.fisherinfor INFO    Evaluating kinematic Fisher information on batch 2 / 2\n",
      "18:34 madminer.ml          INFO    Starting score evaluation\n",
      "18:34 madminer.ml          INFO    Starting score evaluation\n",
      "18:34 madminer.ml          INFO    Starting score evaluation\n",
      "18:34 madminer.ml          INFO    Starting score evaluation\n",
      "18:34 madminer.ml          INFO    Starting score evaluation\n"
     ]
    }
   ],
   "source": [
    "bins_histo_wmh_mu_nobkgs_ptw, w_in_histo_wmh_mu_nobkgs_ptw, fi_histo_rate_wmh_mu_nobkgs_ptw, fi_histo_wmh_mu_nobkgs_ptw = fisher_wmh_mu_met.histogram_of_fisher_information(\n",
    "    theta=[0.,0.,0.,0.],\n",
    "    luminosity=100*1000.,\n",
    "    observable='pt_w',\n",
    "    nbins=20,\n",
    "    histrange=(0,1000),\n",
    "    model_file='models/met/sally_ensemble_wmh_mu_smeftsim_met',\n",
    ")"
   ]
  },
  {
   "cell_type": "code",
   "execution_count": 47,
   "metadata": {
    "hidden": true
   },
   "outputs": [
    {
     "name": "stderr",
     "output_type": "stream",
     "text": [
      "18:34 madminer.ml          INFO    Found score ensemble with 5 estimators\n",
      "18:34 madminer.ml          INFO    Loading model from models/met/sally_ensemble_wmh_e_smeftsim_met/estimator_0\n",
      "18:34 madminer.ml          INFO    Loading model from models/met/sally_ensemble_wmh_e_smeftsim_met/estimator_1\n",
      "18:34 madminer.ml          INFO    Loading model from models/met/sally_ensemble_wmh_e_smeftsim_met/estimator_2\n",
      "18:34 madminer.ml          INFO    Loading model from models/met/sally_ensemble_wmh_e_smeftsim_met/estimator_3\n",
      "18:34 madminer.ml          INFO    Loading model from models/met/sally_ensemble_wmh_e_smeftsim_met/estimator_4\n",
      "18:36 madminer.fisherinfor INFO    Evaluating kinematic Fisher information on batch 1 / 2\n",
      "18:36 madminer.ml          INFO    Starting score evaluation\n",
      "18:36 madminer.ml          INFO    Starting score evaluation\n",
      "18:36 madminer.ml          INFO    Starting score evaluation\n",
      "18:36 madminer.ml          INFO    Starting score evaluation\n",
      "18:36 madminer.ml          INFO    Starting score evaluation\n",
      "18:36 madminer.fisherinfor INFO    Evaluating kinematic Fisher information on batch 2 / 2\n",
      "18:36 madminer.ml          INFO    Starting score evaluation\n",
      "18:36 madminer.ml          INFO    Starting score evaluation\n",
      "18:36 madminer.ml          INFO    Starting score evaluation\n",
      "18:36 madminer.ml          INFO    Starting score evaluation\n",
      "18:36 madminer.ml          INFO    Starting score evaluation\n"
     ]
    }
   ],
   "source": [
    "bins_histo_wmh_e_nobkgs_ptw, w_in_histo_wmh_e_nobkgs_ptw, fi_histo_rate_wmh_e_nobkgs_ptw, fi_histo_wmh_e_nobkgs_ptw = fisher_wmh_e_met.histogram_of_fisher_information(\n",
    "    theta=[0.,0.,0.,0.],\n",
    "    luminosity=100*1000.,\n",
    "    observable='pt_w',\n",
    "    nbins=20,\n",
    "    histrange=(0,1000),\n",
    "    model_file='models/met/sally_ensemble_wmh_e_smeftsim_met',\n",
    ")"
   ]
  },
  {
   "cell_type": "code",
   "execution_count": 48,
   "metadata": {
    "collapsed": true,
    "hidden": true
   },
   "outputs": [],
   "source": [
    "fi_histo_rate_nobkgs_ptw = [ fi_histo_rate_wph_mu_nobkgs_ptw[i]\n",
    "                     + fi_histo_rate_wph_e_nobkgs_ptw[i] \n",
    "                     + fi_histo_rate_wmh_mu_nobkgs_ptw[i] \n",
    "                     + fi_histo_rate_wmh_e_nobkgs_ptw[i] \n",
    "                     for i in range(0, len(fi_histo_rate_wph_mu_nobkgs_ptw)) ]\n",
    "\n",
    "fi_histo_nobkgs_ptw = [ fi_histo_wph_mu_nobkgs_ptw[i]\n",
    "                     + fi_histo_wph_e_nobkgs_ptw[i] \n",
    "                     + fi_histo_wmh_mu_nobkgs_ptw[i] \n",
    "                     + fi_histo_wmh_e_nobkgs_ptw[i] \n",
    "                     for i in range(0, len(fi_histo_wph_mu_nobkgs_ptw)) ]\n",
    "\n"
   ]
  },
  {
   "cell_type": "code",
   "execution_count": 49,
   "metadata": {
    "collapsed": true,
    "hidden": true
   },
   "outputs": [],
   "source": [
    "fi_histo_rate_nobkgs_ptw_rot = [ rotate(fi) for fi in fi_histo_rate_nobkgs_ptw ]\n",
    "fi_histo_nobkgs_ptw_rot = [ rotate(fi) for fi in fi_histo_nobkgs_ptw ]"
   ]
  },
  {
   "cell_type": "code",
   "execution_count": 50,
   "metadata": {
    "collapsed": true,
    "hidden": true
   },
   "outputs": [],
   "source": [
    "fi_histo_nobkgs_ptw_outfile = './fisher_info/fi_histo_nobkgs_ptw.npz'\n",
    "\n",
    "fi_histo_nobkgs_ptw_list = [\n",
    "    bins_histo_wph_mu_nobkgs_ptw,\n",
    "    w_in_histo_wph_mu_nobkgs_ptw,\n",
    "    fi_histo_rate_wph_mu_nobkgs_ptw,\n",
    "    fi_histo_wph_mu_nobkgs_ptw,\n",
    "    bins_histo_wph_e_nobkgs_ptw,\n",
    "    w_in_histo_wph_e_nobkgs_ptw,\n",
    "    fi_histo_rate_wph_e_nobkgs_ptw,\n",
    "    fi_histo_wph_e_nobkgs_ptw,\n",
    "    bins_histo_wmh_mu_nobkgs_ptw,\n",
    "    w_in_histo_wmh_mu_nobkgs_ptw,\n",
    "    fi_histo_rate_wmh_mu_nobkgs_ptw,\n",
    "    fi_histo_wmh_mu_nobkgs_ptw,\n",
    "    bins_histo_wmh_e_nobkgs_ptw,\n",
    "    w_in_histo_wmh_e_nobkgs_ptw,\n",
    "    fi_histo_rate_wmh_e_nobkgs_ptw,\n",
    "    fi_histo_wmh_e_nobkgs_ptw,\n",
    "]"
   ]
  },
  {
   "cell_type": "code",
   "execution_count": 51,
   "metadata": {
    "collapsed": true,
    "hidden": true
   },
   "outputs": [],
   "source": [
    "np.savez(fi_histo_nobkgs_ptw_outfile, fi_histo_nobkgs_ptw_list, allow_pickle=False)"
   ]
  },
  {
   "cell_type": "markdown",
   "metadata": {},
   "source": [
    "### $m_{T,\\mathrm{tot}}$"
   ]
  },
  {
   "cell_type": "code",
   "execution_count": 9,
   "metadata": {},
   "outputs": [
    {
     "name": "stderr",
     "output_type": "stream",
     "text": [
      "20:28 madminer.ml          INFO    Found score ensemble with 5 estimators\n",
      "20:28 madminer.ml          INFO    Loading model from models/met/sally_ensemble_wph_mu_smeftsim_met/estimator_0\n",
      "20:28 madminer.ml          INFO    Loading model from models/met/sally_ensemble_wph_mu_smeftsim_met/estimator_1\n",
      "20:28 madminer.ml          INFO    Loading model from models/met/sally_ensemble_wph_mu_smeftsim_met/estimator_2\n",
      "20:28 madminer.ml          INFO    Loading model from models/met/sally_ensemble_wph_mu_smeftsim_met/estimator_3\n",
      "20:28 madminer.ml          INFO    Loading model from models/met/sally_ensemble_wph_mu_smeftsim_met/estimator_4\n",
      "20:29 madminer.fisherinfor INFO    Evaluating kinematic Fisher information on batch 1 / 2\n",
      "20:29 madminer.ml          INFO    Starting score evaluation\n",
      "20:29 madminer.ml          INFO    Starting score evaluation\n",
      "20:29 madminer.ml          INFO    Starting score evaluation\n",
      "20:29 madminer.ml          INFO    Starting score evaluation\n",
      "20:29 madminer.ml          INFO    Starting score evaluation\n",
      "20:29 madminer.fisherinfor INFO    Evaluating kinematic Fisher information on batch 2 / 2\n",
      "20:29 madminer.ml          INFO    Starting score evaluation\n",
      "20:29 madminer.ml          INFO    Starting score evaluation\n",
      "20:29 madminer.ml          INFO    Starting score evaluation\n",
      "20:29 madminer.ml          INFO    Starting score evaluation\n",
      "20:29 madminer.ml          INFO    Starting score evaluation\n"
     ]
    }
   ],
   "source": [
    "bins_histo_wph_mu_nobkgs_mttot, w_in_histo_wph_mu_nobkgs_mttot, fi_histo_rate_wph_mu_nobkgs_mttot, fi_histo_wph_mu_nobkgs_mttot = fisher_wph_mu_met.histogram_of_fisher_information(\n",
    "    theta=[0.,0.,0.,0.],\n",
    "    luminosity=100*1000.,\n",
    "    observable='mt_tot',\n",
    "    nbins=20,\n",
    "    histrange=(200,2200),\n",
    "    model_file='models/met/sally_ensemble_wph_mu_smeftsim_met',\n",
    ")"
   ]
  },
  {
   "cell_type": "code",
   "execution_count": 10,
   "metadata": {},
   "outputs": [
    {
     "name": "stderr",
     "output_type": "stream",
     "text": [
      "20:29 madminer.ml          INFO    Found score ensemble with 5 estimators\n",
      "20:29 madminer.ml          INFO    Loading model from models/met/sally_ensemble_wph_e_smeftsim_met/estimator_0\n",
      "20:29 madminer.ml          INFO    Loading model from models/met/sally_ensemble_wph_e_smeftsim_met/estimator_1\n",
      "20:29 madminer.ml          INFO    Loading model from models/met/sally_ensemble_wph_e_smeftsim_met/estimator_2\n",
      "20:29 madminer.ml          INFO    Loading model from models/met/sally_ensemble_wph_e_smeftsim_met/estimator_3\n",
      "20:29 madminer.ml          INFO    Loading model from models/met/sally_ensemble_wph_e_smeftsim_met/estimator_4\n",
      "20:30 madminer.fisherinfor INFO    Evaluating kinematic Fisher information on batch 1 / 2\n",
      "20:30 madminer.ml          INFO    Starting score evaluation\n",
      "20:30 madminer.ml          INFO    Starting score evaluation\n",
      "20:30 madminer.ml          INFO    Starting score evaluation\n",
      "20:30 madminer.ml          INFO    Starting score evaluation\n",
      "20:30 madminer.ml          INFO    Starting score evaluation\n",
      "20:30 madminer.fisherinfor INFO    Evaluating kinematic Fisher information on batch 2 / 2\n",
      "20:30 madminer.ml          INFO    Starting score evaluation\n",
      "20:30 madminer.ml          INFO    Starting score evaluation\n",
      "20:30 madminer.ml          INFO    Starting score evaluation\n",
      "20:31 madminer.ml          INFO    Starting score evaluation\n",
      "20:31 madminer.ml          INFO    Starting score evaluation\n"
     ]
    }
   ],
   "source": [
    "bins_histo_wph_e_nobkgs_mttot, w_in_histo_wph_e_nobkgs_mttot, fi_histo_rate_wph_e_nobkgs_mttot, fi_histo_wph_e_nobkgs_mttot = fisher_wph_e_met.histogram_of_fisher_information(\n",
    "    theta=[0.,0.,0.,0.],\n",
    "    luminosity=100*1000.,\n",
    "    observable='mt_tot',\n",
    "    nbins=20,\n",
    "    histrange=(200,2200),\n",
    "    model_file='models/met/sally_ensemble_wph_e_smeftsim_met',\n",
    ")"
   ]
  },
  {
   "cell_type": "code",
   "execution_count": 11,
   "metadata": {},
   "outputs": [
    {
     "name": "stderr",
     "output_type": "stream",
     "text": [
      "20:31 madminer.ml          INFO    Found score ensemble with 5 estimators\n",
      "20:31 madminer.ml          INFO    Loading model from models/met/sally_ensemble_wmh_mu_smeftsim_met/estimator_0\n",
      "20:31 madminer.ml          INFO    Loading model from models/met/sally_ensemble_wmh_mu_smeftsim_met/estimator_1\n",
      "20:31 madminer.ml          INFO    Loading model from models/met/sally_ensemble_wmh_mu_smeftsim_met/estimator_2\n",
      "20:31 madminer.ml          INFO    Loading model from models/met/sally_ensemble_wmh_mu_smeftsim_met/estimator_3\n",
      "20:31 madminer.ml          INFO    Loading model from models/met/sally_ensemble_wmh_mu_smeftsim_met/estimator_4\n",
      "20:32 madminer.fisherinfor INFO    Evaluating kinematic Fisher information on batch 1 / 2\n",
      "20:32 madminer.ml          INFO    Starting score evaluation\n",
      "20:32 madminer.ml          INFO    Starting score evaluation\n",
      "20:32 madminer.ml          INFO    Starting score evaluation\n",
      "20:32 madminer.ml          INFO    Starting score evaluation\n",
      "20:32 madminer.ml          INFO    Starting score evaluation\n",
      "20:32 madminer.fisherinfor INFO    Evaluating kinematic Fisher information on batch 2 / 2\n",
      "20:32 madminer.ml          INFO    Starting score evaluation\n",
      "20:32 madminer.ml          INFO    Starting score evaluation\n",
      "20:32 madminer.ml          INFO    Starting score evaluation\n",
      "20:32 madminer.ml          INFO    Starting score evaluation\n",
      "20:32 madminer.ml          INFO    Starting score evaluation\n",
      "/home/shomiller/.conda/envs/my_root/lib/python2.7/site-packages/madminer-0.4.10-py2.7.egg/madminer/fisherinformation.py:1166: RuntimeWarning: divide by zero encountered in true_divide\n"
     ]
    }
   ],
   "source": [
    "bins_histo_wmh_mu_nobkgs_mttot, w_in_histo_wmh_mu_nobkgs_mttot, fi_histo_rate_wmh_mu_nobkgs_mttot, fi_histo_wmh_mu_nobkgs_mttot = fisher_wmh_mu_met.histogram_of_fisher_information(\n",
    "    theta=[0.,0.,0.,0.],\n",
    "    luminosity=100*1000.,\n",
    "    observable='mt_tot',\n",
    "    nbins=20,\n",
    "    histrange=(200,2200),\n",
    "    model_file='models/met/sally_ensemble_wmh_mu_smeftsim_met',\n",
    ")"
   ]
  },
  {
   "cell_type": "code",
   "execution_count": 12,
   "metadata": {},
   "outputs": [
    {
     "name": "stderr",
     "output_type": "stream",
     "text": [
      "20:32 madminer.ml          INFO    Found score ensemble with 5 estimators\n",
      "20:32 madminer.ml          INFO    Loading model from models/met/sally_ensemble_wmh_e_smeftsim_met/estimator_0\n",
      "20:32 madminer.ml          INFO    Loading model from models/met/sally_ensemble_wmh_e_smeftsim_met/estimator_1\n",
      "20:32 madminer.ml          INFO    Loading model from models/met/sally_ensemble_wmh_e_smeftsim_met/estimator_2\n",
      "20:32 madminer.ml          INFO    Loading model from models/met/sally_ensemble_wmh_e_smeftsim_met/estimator_3\n",
      "20:32 madminer.ml          INFO    Loading model from models/met/sally_ensemble_wmh_e_smeftsim_met/estimator_4\n",
      "20:33 madminer.fisherinfor INFO    Evaluating kinematic Fisher information on batch 1 / 2\n",
      "20:33 madminer.ml          INFO    Starting score evaluation\n",
      "20:33 madminer.ml          INFO    Starting score evaluation\n",
      "20:33 madminer.ml          INFO    Starting score evaluation\n",
      "20:33 madminer.ml          INFO    Starting score evaluation\n",
      "20:33 madminer.ml          INFO    Starting score evaluation\n",
      "20:33 madminer.fisherinfor INFO    Evaluating kinematic Fisher information on batch 2 / 2\n",
      "20:33 madminer.ml          INFO    Starting score evaluation\n",
      "20:33 madminer.ml          INFO    Starting score evaluation\n",
      "20:33 madminer.ml          INFO    Starting score evaluation\n",
      "20:33 madminer.ml          INFO    Starting score evaluation\n",
      "20:34 madminer.ml          INFO    Starting score evaluation\n"
     ]
    }
   ],
   "source": [
    "bins_histo_wmh_e_nobkgs_mttot, w_in_histo_wmh_e_nobkgs_mttot, fi_histo_rate_wmh_e_nobkgs_mttot, fi_histo_wmh_e_nobkgs_mttot = fisher_wmh_e_met.histogram_of_fisher_information(\n",
    "    theta=[0.,0.,0.,0.],\n",
    "    luminosity=100*1000.,\n",
    "    observable='mt_tot',\n",
    "    nbins=20,\n",
    "    histrange=(200,2200),\n",
    "    model_file='models/met/sally_ensemble_wmh_e_smeftsim_met',\n",
    ")"
   ]
  },
  {
   "cell_type": "code",
   "execution_count": 13,
   "metadata": {
    "collapsed": true
   },
   "outputs": [],
   "source": [
    "fi_histo_rate_nobkgs_mttot = [ fi_histo_rate_wph_mu_nobkgs_mttot[i]\n",
    "                     + fi_histo_rate_wph_e_nobkgs_mttot[i] \n",
    "                     + fi_histo_rate_wmh_mu_nobkgs_mttot[i] \n",
    "                     + fi_histo_rate_wmh_e_nobkgs_mttot[i] \n",
    "                     for i in range(0, len(fi_histo_rate_wph_mu_nobkgs_mttot)) ]\n",
    "\n",
    "fi_histo_nobkgs_mttot = [ fi_histo_wph_mu_nobkgs_mttot[i]\n",
    "                     + fi_histo_wph_e_nobkgs_mttot[i] \n",
    "                     + fi_histo_wmh_mu_nobkgs_mttot[i] \n",
    "                     + fi_histo_wmh_e_nobkgs_mttot[i] \n",
    "                     for i in range(0, len(fi_histo_wph_mu_nobkgs_mttot)) ]\n",
    "\n"
   ]
  },
  {
   "cell_type": "code",
   "execution_count": 14,
   "metadata": {
    "collapsed": true
   },
   "outputs": [],
   "source": [
    "fi_histo_rate_nobkgs_mttot_rot = [ rotate(fi) for fi in fi_histo_rate_nobkgs_mttot ]\n",
    "fi_histo_nobkgs_mttot_rot = [ rotate(fi) for fi in fi_histo_nobkgs_mttot ]"
   ]
  },
  {
   "cell_type": "code",
   "execution_count": 15,
   "metadata": {
    "collapsed": true
   },
   "outputs": [],
   "source": [
    "fi_histo_nobkgs_mttot_outfile = './fisher_info/fi_histo_nobkgs_mttot.npz'\n",
    "\n",
    "fi_histo_nobkgs_mttot_list = [\n",
    "    bins_histo_wph_mu_nobkgs_mttot,\n",
    "    w_in_histo_wph_mu_nobkgs_mttot,\n",
    "    fi_histo_rate_wph_mu_nobkgs_mttot,\n",
    "    fi_histo_wph_mu_nobkgs_mttot,\n",
    "    bins_histo_wph_e_nobkgs_mttot,\n",
    "    w_in_histo_wph_e_nobkgs_mttot,\n",
    "    fi_histo_rate_wph_e_nobkgs_mttot,\n",
    "    fi_histo_wph_e_nobkgs_mttot,\n",
    "    bins_histo_wmh_mu_nobkgs_mttot,\n",
    "    w_in_histo_wmh_mu_nobkgs_mttot,\n",
    "    fi_histo_rate_wmh_mu_nobkgs_mttot,\n",
    "    fi_histo_wmh_mu_nobkgs_mttot,\n",
    "    bins_histo_wmh_e_nobkgs_mttot,\n",
    "    w_in_histo_wmh_e_nobkgs_mttot,\n",
    "    fi_histo_rate_wmh_e_nobkgs_mttot,\n",
    "    fi_histo_wmh_e_nobkgs_mttot,\n",
    "]"
   ]
  },
  {
   "cell_type": "code",
   "execution_count": 16,
   "metadata": {
    "collapsed": true
   },
   "outputs": [],
   "source": [
    "np.savez(fi_histo_nobkgs_mttot_outfile, fi_histo_nobkgs_mttot_list, allow_pickle=False)"
   ]
  },
  {
   "cell_type": "markdown",
   "metadata": {
    "heading_collapsed": true
   },
   "source": [
    "#### Plot of the Distribution (Full Info)"
   ]
  },
  {
   "cell_type": "code",
   "execution_count": 55,
   "metadata": {
    "collapsed": true,
    "hidden": true
   },
   "outputs": [],
   "source": [
    "legend_elements_sig = [\n",
    "        Line2D([0],[0],color=fi_dist_color1, lw=fi_dist_linewidth,ls=fi_dist_linestyle1,\n",
    "           label=r'$\\tilde{C}_{HD}$'),\n",
    "        Line2D([0],[0],color=fi_dist_color2, lw=fi_dist_linewidth,ls=fi_dist_linestyle2,\n",
    "           label=r'$C_{HW}$'),\n",
    "        Line2D([0],[0],color=fi_dist_color3, lw=fi_dist_linewidth,ls=fi_dist_linestyle3,\n",
    "           label=r'$C_{Hq}^{(3)}$'),\n",
    "        Patch(facecolor=color_sig, label='SM Signal'),\n",
    "#        Patch(facecolor=color_bkg, label='Background')\n",
    "    ]"
   ]
  },
  {
   "cell_type": "code",
   "execution_count": 56,
   "metadata": {
    "hidden": true
   },
   "outputs": [
    {
     "data": {
      "image/png": "[encoded data removed]",
      "text/plain": [
       "<matplotlib.figure.Figure at 0x7f8f68844190>"
      ]
     },
     "metadata": {},
     "output_type": "display_data"
    }
   ],
   "source": [
    "bins_ptw = bins_histo_wph_mu_nobkgs_ptw\n",
    "xvals = [ (bins_ptw[i] + bins_ptw[i+1]) / 2 for i in range(0, len(bins_ptw) - 1)]\n",
    "xvals = [ bins_ptw[0] - 1e-9 ] + xvals + [bins_ptw[len(bins_ptw) - 1] + 1e-9]\n",
    "thisrange = (bins_ptw[0], bins_ptw[-1])\n",
    "\n",
    "ptw_index = sa_bkgs_wph_mu.observables.keys().index('pt_w')\n",
    "#x_weighted_bkg[:,thisindex]\n",
    "\n",
    "fig = plt.figure(figsize=(8,6))\n",
    "ax1 = plt.subplot(111)\n",
    "fig.subplots_adjust(left=0.1667, right=0.8333, bottom=0.17, top=0.97)\n",
    "\n",
    "ax1.set_ylabel('Events (arb.)', color='black',fontsize=22)\n",
    "ax1.set_xlabel(r'$p_{T,W}$ (GeV)', color='black',fontsize=22)\n",
    "\n",
    "ax1.hist(\n",
    "    [ x_weighted_sig[:,ptw_index] ],\n",
    "    weights = [ 300.*1000.*weights_sig ],\n",
    "    bins = bins_ptw,\n",
    "    histtype='stepfilled',\n",
    "    stacked=True,\n",
    "    color=[color_sig],\n",
    "    alpha=1.0\n",
    ")\n",
    "\n",
    "#ax1.set_yscale('log')\n",
    "\n",
    "## Second Axis for F.I.\n",
    "\n",
    "ax2 = ax1.twinx()\n",
    "ax2.set_ylabel(r'Normalized Distribution of F.I.', color='black',fontsize=22)\n",
    "\n",
    "fi1_norm = sum([fi[0,0] for fi in fi_histo_nobkgs_ptw_rot])\n",
    "fi2_norm = sum([fi[1,1] for fi in fi_histo_nobkgs_ptw_rot])\n",
    "fi3_norm = sum([fi[2,2] for fi in fi_histo_nobkgs_ptw_rot])\n",
    "\n",
    "ax2.hist(\n",
    "    xvals,\n",
    "    weights = [ 1./(fi1_norm)*fi[0,0] for fi in fi_histo_nobkgs_ptw_rot ],\n",
    "    bins = bins_ptw,\n",
    "    range = thisrange,\n",
    "    histtype = 'step',\n",
    "    color = fi_dist_color1,\n",
    "    linewidth = fi_dist_linewidth,\n",
    "    linestyle = fi_dist_linestyle1,\n",
    "    label=r'$c_{H\\boxdot} - \\frac{1}{4}c_{HD}$'\n",
    ")\n",
    "\n",
    "ax2.hist(\n",
    "    xvals,\n",
    "    weights = [ 1./(fi2_norm)*fi[1,1] for fi in fi_histo_nobkgs_ptw_rot ],\n",
    "    bins = bins_ptw,\n",
    "    range = thisrange,\n",
    "    histtype = 'step',\n",
    "    color = fi_dist_color2,\n",
    "    linewidth = fi_dist_linewidth,\n",
    "    linestyle = fi_dist_linestyle2,\n",
    "    label=r'$c_{HW}$'\n",
    ")\n",
    "\n",
    "ax2.hist(\n",
    "    xvals,\n",
    "    weights = [ 1./(fi3_norm)*fi[2,2] for fi in fi_histo_nobkgs_ptw_rot ],\n",
    "    bins = bins_ptw,\n",
    "    range = thisrange,\n",
    "    histtype = 'step',\n",
    "    color = fi_dist_color3,\n",
    "    linewidth = fi_dist_linewidth,\n",
    "    linestyle = fi_dist_linestyle3,\n",
    "    label=r'$c_{Hq}^{(3)}$'\n",
    ")\n",
    "\n",
    "ax2.legend(handles=legend_elements_sig, loc='upper right',fontsize=16,frameon=False)\n",
    "\n",
    "plt.text(600,ax2.get_ylim()[1]*0.50, r'Full Info',fontsize=22)\n",
    "plt.text(600,ax2.get_ylim()[1]*0.43, r'(No Backgrounds)',fontsize=22)\n",
    "\n",
    "plt.tight_layout()\n",
    "#plt.savefig('plots/info_dist_nobkgs_ptw.pdf')\n",
    "plt.show()"
   ]
  }
 ],
 "metadata": {
  "kernelspec": {
   "display_name": "Python 2",
   "language": "python",
   "name": "python2"
  },
  "language_info": {
   "codemirror_mode": {
    "name": "ipython",
    "version": 2
   },
   "file_extension": ".py",
   "mimetype": "text/x-python",
   "name": "python",
   "nbconvert_exporter": "python",
   "pygments_lexer": "ipython2",
   "version": "2.7.13"
  },
  "toc": {
   "base_numbering": 1,
   "nav_menu": {},
   "number_sections": true,
   "sideBar": true,
   "skip_h1_title": false,
   "title_cell": "Table of Contents",
   "title_sidebar": "Contents",
   "toc_cell": false,
   "toc_position": {},
   "toc_section_display": true,
   "toc_window_display": false
  }
 },
 "nbformat": 4,
 "nbformat_minor": 2
}
