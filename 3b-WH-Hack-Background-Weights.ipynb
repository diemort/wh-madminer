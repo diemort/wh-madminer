{
 "cells": [
  {
   "cell_type": "code",
   "execution_count": 1,
   "metadata": {},
   "outputs": [
    {
     "name": "stdout",
     "output_type": "stream",
     "text": [
      "MadMiner version: 0.4.9\n"
     ]
    }
   ],
   "source": [
    "madminer_src_path = '/home/shomiller/madminer'\n",
    "import sys\n",
    "import os\n",
    "sys.path.append(madminer_src_path)\n",
    "\n",
    "from __future__ import absolute_import, division, print_function, unicode_literals\n",
    "import logging\n",
    "import numpy as np\n",
    "import matplotlib\n",
    "from matplotlib import pyplot as plt\n",
    "%matplotlib inline\n",
    "\n",
    "from madminer.sampling import combine_and_shuffle\n",
    "\n",
    "from madminer.analysis import DataAnalyzer\n",
    "from madminer.utils.interfaces.madminer_hdf5 import save_madminer_settings, save_preformatted_events_to_madminer_file\n",
    "\n",
    "import madminer.__version__\n",
    "print( 'MadMiner version: {}'.format(madminer.__version__) )"
   ]
  },
  {
   "cell_type": "code",
   "execution_count": 2,
   "metadata": {
    "collapsed": true
   },
   "outputs": [],
   "source": [
    "# MadMiner output\n",
    "logging.basicConfig(\n",
    "    format='%(asctime)-5.5s %(name)-20.20s %(levelname)-7.7s %(message)s',\n",
    "    datefmt='%H:%M',\n",
    "    level=logging.INFO\n",
    ")\n",
    "\n",
    "# Output of all other modules (e.g. matplotlib)\n",
    "for key in logging.Logger.manager.loggerDict:\n",
    "    if \"madminer\" not in key:\n",
    "        logging.getLogger(key).setLevel(logging.WARNING)"
   ]
  },
  {
   "cell_type": "markdown",
   "metadata": {},
   "source": [
    "Here we define a function that modifies the weights manually:\n",
    "* `remove_systematics` on the other hand, opens just one `data_file`, and loops through, setting all the weights for the different nuisance parameters to the SM value (which should be the same as all the other benchmarks as well). This will let us train on a sample where the nuisance parameters only affect the signal."
   ]
  },
  {
   "cell_type": "code",
   "execution_count": 3,
   "metadata": {
    "collapsed": true
   },
   "outputs": [],
   "source": [
    "def remove_systematics( data_file, output_file, n_true_benchmarks=15,):\n",
    "    \n",
    "    data = DataAnalyzer(data_file)\n",
    "    \n",
    "    x, weights, sampling_ids = data.event_loader(batch_size=None, return_sampling_ids=True).next()\n",
    "    \n",
    "    new_weights = np.zeros((weights.shape[0], data.n_benchmarks), dtype=weights.dtype)\n",
    "    \n",
    "    new_weights[:,:n_true_benchmarks] = weights[:,:n_true_benchmarks]\n",
    "    \n",
    "    for i in range(n_true_benchmarks, data.n_benchmarks):\n",
    "        new_weights[:, i] = weights[:, 0]\n",
    "        \n",
    "    save_preformatted_events_to_madminer_file(\n",
    "        filename=output_file,\n",
    "        observations=x,\n",
    "        weights=new_weights,\n",
    "        sampling_benchmarks=sampling_ids,\n",
    "        copy_setup_from=data_file,\n",
    "    )\n",
    "    \n",
    "    "
   ]
  },
  {
   "cell_type": "markdown",
   "metadata": {
    "collapsed": true
   },
   "source": [
    "# Remove Systematics"
   ]
  },
  {
   "cell_type": "markdown",
   "metadata": {},
   "source": [
    "Here we simply flatten the systematics in all the background events, so that we can train `SALLY` on a sample with systematics only affecting the signal."
   ]
  },
  {
   "cell_type": "markdown",
   "metadata": {
    "heading_collapsed": true
   },
   "source": [
    "## $W^+(\\mu)$ (MET)"
   ]
  },
  {
   "cell_type": "code",
   "execution_count": 4,
   "metadata": {
    "hidden": true
   },
   "outputs": [
    {
     "name": "stderr",
     "output_type": "stream",
     "text": [
      "20:51 madminer.analysis    INFO    Loading data from data/wpbb_mu_background_lhedata_met.h5\n",
      "20:51 madminer.analysis    INFO    Found 4 parameters\n",
      "20:51 madminer.analysis    INFO    Found 33 nuisance parameters\n",
      "20:51 madminer.analysis    INFO    Found 54 benchmarks, of which 15 physical\n",
      "20:51 madminer.analysis    INFO    Found 48 observables\n",
      "20:51 madminer.analysis    INFO    Found 2000000 events\n",
      "20:51 madminer.analysis    INFO      2000000 background events\n",
      "20:51 madminer.analysis    INFO    Found morphing setup with 15 components\n",
      "20:51 madminer.analysis    INFO    Found nuisance morphing setup\n",
      "/home/shomiller/.conda/envs/my_root/lib/python2.7/site-packages/madminer-0.4.9-py2.7.egg/madminer/analysis.py:811: RuntimeWarning: invalid value encountered in true_divide\n"
     ]
    }
   ],
   "source": [
    "remove_systematics(\n",
    "    data_file='data/met/backgrounds/wpbb_mu_background_lhedata_met.h5',\n",
    "    output_file='data/met/backgrounds/wpbb_mu_background_nosyst_lhedata_met.h5',\n",
    ")"
   ]
  },
  {
   "cell_type": "code",
   "execution_count": 5,
   "metadata": {
    "hidden": true
   },
   "outputs": [
    {
     "name": "stderr",
     "output_type": "stream",
     "text": [
      "20:51 madminer.analysis    INFO    Loading data from data/tpb_mu_background_lhedata_met.h5\n",
      "20:51 madminer.analysis    INFO    Found 4 parameters\n",
      "20:51 madminer.analysis    INFO    Found 33 nuisance parameters\n",
      "20:51 madminer.analysis    INFO    Found 54 benchmarks, of which 15 physical\n",
      "20:51 madminer.analysis    INFO    Found 48 observables\n",
      "20:51 madminer.analysis    INFO    Found 1000000 events\n",
      "20:51 madminer.analysis    INFO      1000000 background events\n",
      "20:51 madminer.analysis    INFO    Found morphing setup with 15 components\n",
      "20:51 madminer.analysis    INFO    Found nuisance morphing setup\n"
     ]
    }
   ],
   "source": [
    "remove_systematics(\n",
    "    data_file='data/met/backgrounds/tpb_mu_background_lhedata_met.h5',\n",
    "    output_file='data/met/backgrounds/tpb_mu_background_nosyst_lhedata_met.h5',\n",
    ")"
   ]
  },
  {
   "cell_type": "code",
   "execution_count": 6,
   "metadata": {
    "hidden": true
   },
   "outputs": [
    {
     "name": "stderr",
     "output_type": "stream",
     "text": [
      "20:51 madminer.analysis    INFO    Loading data from data/tt_mupjj_background_lhedata_met.h5\n",
      "20:51 madminer.analysis    INFO    Found 4 parameters\n",
      "20:51 madminer.analysis    INFO    Found 33 nuisance parameters\n",
      "20:51 madminer.analysis    INFO    Found 54 benchmarks, of which 15 physical\n",
      "20:51 madminer.analysis    INFO    Found 48 observables\n",
      "20:51 madminer.analysis    INFO    Found 1000000 events\n",
      "20:51 madminer.analysis    INFO      1000000 background events\n",
      "20:51 madminer.analysis    INFO    Found morphing setup with 15 components\n",
      "20:51 madminer.analysis    INFO    Found nuisance morphing setup\n"
     ]
    }
   ],
   "source": [
    "remove_systematics(\n",
    "    data_file='data/met/backgrounds/tt_mupjj_background_lhedata_met.h5',\n",
    "    output_file='data/met/backgrounds/tt_mupjj_background_nosyst_lhedata_met.h5'\n",
    ")"
   ]
  },
  {
   "cell_type": "markdown",
   "metadata": {
    "heading_collapsed": true
   },
   "source": [
    "## $W^+(e)$ (MET)"
   ]
  },
  {
   "cell_type": "code",
   "execution_count": 12,
   "metadata": {
    "hidden": true
   },
   "outputs": [
    {
     "name": "stderr",
     "output_type": "stream",
     "text": [
      "08:02 madminer.analysis    INFO    Loading data from data/met/backgrounds/wpbb_e_background_lhedata_met.h5\n",
      "08:02 madminer.analysis    INFO    Found 4 parameters\n",
      "08:02 madminer.analysis    INFO    Found 33 nuisance parameters\n",
      "08:02 madminer.analysis    INFO    Found 54 benchmarks, of which 15 physical\n",
      "08:02 madminer.analysis    INFO    Found 48 observables\n",
      "08:02 madminer.analysis    INFO    Found 2000000 events\n",
      "08:02 madminer.analysis    INFO      2000000 background events\n",
      "08:02 madminer.analysis    INFO    Found morphing setup with 15 components\n",
      "08:02 madminer.analysis    INFO    Found nuisance morphing setup\n"
     ]
    }
   ],
   "source": [
    "remove_systematics(\n",
    "    data_file='data/met/backgrounds/wpbb_e_background_lhedata_met.h5',\n",
    "    output_file='data/met/backgrounds/wpbb_e_background_nosyst_lhedata_met.h5',\n",
    ")"
   ]
  },
  {
   "cell_type": "code",
   "execution_count": 13,
   "metadata": {
    "hidden": true
   },
   "outputs": [
    {
     "name": "stderr",
     "output_type": "stream",
     "text": [
      "08:02 madminer.analysis    INFO    Loading data from data/met/backgrounds/tpb_e_background_lhedata_met.h5\n",
      "08:02 madminer.analysis    INFO    Found 4 parameters\n",
      "08:02 madminer.analysis    INFO    Found 33 nuisance parameters\n",
      "08:02 madminer.analysis    INFO    Found 54 benchmarks, of which 15 physical\n",
      "08:02 madminer.analysis    INFO    Found 48 observables\n",
      "08:02 madminer.analysis    INFO    Found 1000000 events\n",
      "08:02 madminer.analysis    INFO      1000000 background events\n",
      "08:02 madminer.analysis    INFO    Found morphing setup with 15 components\n",
      "08:02 madminer.analysis    INFO    Found nuisance morphing setup\n"
     ]
    }
   ],
   "source": [
    "remove_systematics(\n",
    "    data_file='data/met/backgrounds/tpb_e_background_lhedata_met.h5',\n",
    "    output_file='data/met/backgrounds/tpb_e_background_nosyst_lhedata_met.h5',\n",
    ")"
   ]
  },
  {
   "cell_type": "code",
   "execution_count": 14,
   "metadata": {
    "hidden": true
   },
   "outputs": [
    {
     "name": "stderr",
     "output_type": "stream",
     "text": [
      "08:02 madminer.analysis    INFO    Loading data from data/met/backgrounds/tt_epjj_background_lhedata_met.h5\n",
      "08:02 madminer.analysis    INFO    Found 4 parameters\n",
      "08:02 madminer.analysis    INFO    Found 33 nuisance parameters\n",
      "08:02 madminer.analysis    INFO    Found 54 benchmarks, of which 15 physical\n",
      "08:02 madminer.analysis    INFO    Found 48 observables\n",
      "08:02 madminer.analysis    INFO    Found 1000000 events\n",
      "08:02 madminer.analysis    INFO      1000000 background events\n",
      "08:02 madminer.analysis    INFO    Found morphing setup with 15 components\n",
      "08:02 madminer.analysis    INFO    Found nuisance morphing setup\n"
     ]
    }
   ],
   "source": [
    "remove_systematics(\n",
    "    data_file='data/met/backgrounds/tt_epjj_background_lhedata_met.h5',\n",
    "    output_file='data/met/backgrounds/tt_epjj_background_nosyst_lhedata_met.h5'\n",
    ")"
   ]
  },
  {
   "cell_type": "markdown",
   "metadata": {},
   "source": [
    "## $W^-(\\mu)$ (MET)"
   ]
  },
  {
   "cell_type": "code",
   "execution_count": 17,
   "metadata": {},
   "outputs": [
    {
     "name": "stderr",
     "output_type": "stream",
     "text": [
      "08:03 madminer.analysis    INFO    Loading data from data/met/backgrounds/wmbb_mu_background_lhedata_met.h5\n",
      "08:03 madminer.analysis    INFO    Found 4 parameters\n",
      "08:03 madminer.analysis    INFO    Found 33 nuisance parameters\n",
      "08:03 madminer.analysis    INFO    Found 54 benchmarks, of which 15 physical\n",
      "08:03 madminer.analysis    INFO    Found 48 observables\n",
      "08:03 madminer.analysis    INFO    Found 2000000 events\n",
      "08:03 madminer.analysis    INFO      2000000 background events\n",
      "08:03 madminer.analysis    INFO    Found morphing setup with 15 components\n",
      "08:03 madminer.analysis    INFO    Found nuisance morphing setup\n"
     ]
    }
   ],
   "source": [
    "remove_systematics(\n",
    "    data_file='data/met/backgrounds/wmbb_mu_background_lhedata_met.h5',\n",
    "    output_file='data/met/backgrounds/wmbb_mu_background_nosyst_lhedata_met.h5',\n",
    ")"
   ]
  },
  {
   "cell_type": "code",
   "execution_count": 18,
   "metadata": {},
   "outputs": [
    {
     "name": "stderr",
     "output_type": "stream",
     "text": [
      "08:04 madminer.analysis    INFO    Loading data from data/met/backgrounds/tmb_mu_background_lhedata_met.h5\n",
      "08:04 madminer.analysis    INFO    Found 4 parameters\n",
      "08:04 madminer.analysis    INFO    Found 33 nuisance parameters\n",
      "08:04 madminer.analysis    INFO    Found 54 benchmarks, of which 15 physical\n",
      "08:04 madminer.analysis    INFO    Found 48 observables\n",
      "08:04 madminer.analysis    INFO    Found 1000000 events\n",
      "08:04 madminer.analysis    INFO      1000000 background events\n",
      "08:04 madminer.analysis    INFO    Found morphing setup with 15 components\n",
      "08:04 madminer.analysis    INFO    Found nuisance morphing setup\n"
     ]
    }
   ],
   "source": [
    "remove_systematics(\n",
    "    data_file='data/met/backgrounds/tmb_mu_background_lhedata_met.h5',\n",
    "    output_file='data/met/backgrounds/tmb_mu_background_nosyst_lhedata_met.h5',\n",
    ")"
   ]
  },
  {
   "cell_type": "code",
   "execution_count": 19,
   "metadata": {},
   "outputs": [
    {
     "name": "stderr",
     "output_type": "stream",
     "text": [
      "08:04 madminer.analysis    INFO    Loading data from data/met/backgrounds/tt_mumjj_background_lhedata_met.h5\n",
      "08:04 madminer.analysis    INFO    Found 4 parameters\n",
      "08:04 madminer.analysis    INFO    Found 33 nuisance parameters\n",
      "08:04 madminer.analysis    INFO    Found 54 benchmarks, of which 15 physical\n",
      "08:04 madminer.analysis    INFO    Found 48 observables\n",
      "08:04 madminer.analysis    INFO    Found 1000000 events\n",
      "08:04 madminer.analysis    INFO      1000000 background events\n",
      "08:04 madminer.analysis    INFO    Found morphing setup with 15 components\n",
      "08:04 madminer.analysis    INFO    Found nuisance morphing setup\n"
     ]
    }
   ],
   "source": [
    "remove_systematics(\n",
    "    data_file='data/met/backgrounds/tt_mumjj_background_lhedata_met.h5',\n",
    "    output_file='data/met/backgrounds/tt_mumjj_background_nosyst_lhedata_met.h5'\n",
    ")"
   ]
  },
  {
   "cell_type": "markdown",
   "metadata": {},
   "source": [
    "## $W^-(e)$ (MET)"
   ]
  },
  {
   "cell_type": "code",
   "execution_count": 20,
   "metadata": {},
   "outputs": [
    {
     "name": "stderr",
     "output_type": "stream",
     "text": [
      "08:04 madminer.analysis    INFO    Loading data from data/met/backgrounds/wmbb_e_background_lhedata_met.h5\n",
      "08:04 madminer.analysis    INFO    Found 4 parameters\n",
      "08:04 madminer.analysis    INFO    Found 33 nuisance parameters\n",
      "08:04 madminer.analysis    INFO    Found 54 benchmarks, of which 15 physical\n",
      "08:04 madminer.analysis    INFO    Found 48 observables\n",
      "08:04 madminer.analysis    INFO    Found 2000000 events\n",
      "08:04 madminer.analysis    INFO      2000000 background events\n",
      "08:04 madminer.analysis    INFO    Found morphing setup with 15 components\n",
      "08:04 madminer.analysis    INFO    Found nuisance morphing setup\n"
     ]
    }
   ],
   "source": [
    "remove_systematics(\n",
    "    data_file='data/met/backgrounds/wmbb_e_background_lhedata_met.h5',\n",
    "    output_file='data/met/backgrounds/wmbb_e_background_nosyst_lhedata_met.h5',\n",
    ")"
   ]
  },
  {
   "cell_type": "code",
   "execution_count": 21,
   "metadata": {},
   "outputs": [
    {
     "name": "stderr",
     "output_type": "stream",
     "text": [
      "08:04 madminer.analysis    INFO    Loading data from data/met/backgrounds/tmb_e_background_lhedata_met.h5\n",
      "08:04 madminer.analysis    INFO    Found 4 parameters\n",
      "08:04 madminer.analysis    INFO    Found 33 nuisance parameters\n",
      "08:04 madminer.analysis    INFO    Found 54 benchmarks, of which 15 physical\n",
      "08:04 madminer.analysis    INFO    Found 48 observables\n",
      "08:04 madminer.analysis    INFO    Found 1000000 events\n",
      "08:04 madminer.analysis    INFO      1000000 background events\n",
      "08:04 madminer.analysis    INFO    Found morphing setup with 15 components\n",
      "08:04 madminer.analysis    INFO    Found nuisance morphing setup\n"
     ]
    }
   ],
   "source": [
    "remove_systematics(\n",
    "    data_file='data/met/backgrounds/tmb_e_background_lhedata_met.h5',\n",
    "    output_file='data/met/backgrounds/tmb_e_background_nosyst_lhedata_met.h5',\n",
    ")"
   ]
  },
  {
   "cell_type": "code",
   "execution_count": 22,
   "metadata": {},
   "outputs": [
    {
     "name": "stderr",
     "output_type": "stream",
     "text": [
      "08:04 madminer.analysis    INFO    Loading data from data/met/backgrounds/tt_emjj_background_lhedata_met.h5\n",
      "08:04 madminer.analysis    INFO    Found 4 parameters\n",
      "08:04 madminer.analysis    INFO    Found 33 nuisance parameters\n",
      "08:04 madminer.analysis    INFO    Found 54 benchmarks, of which 15 physical\n",
      "08:04 madminer.analysis    INFO    Found 48 observables\n",
      "08:04 madminer.analysis    INFO    Found 1000000 events\n",
      "08:04 madminer.analysis    INFO      1000000 background events\n",
      "08:04 madminer.analysis    INFO    Found morphing setup with 15 components\n",
      "08:04 madminer.analysis    INFO    Found nuisance morphing setup\n"
     ]
    }
   ],
   "source": [
    "remove_systematics(\n",
    "    data_file='data/met/backgrounds/tt_emjj_background_lhedata_met.h5',\n",
    "    output_file='data/met/backgrounds/tt_emjj_background_nosyst_lhedata_met.h5'\n",
    ")"
   ]
  },
  {
   "cell_type": "markdown",
   "metadata": {},
   "source": [
    "## Combine and Shuffle"
   ]
  },
  {
   "cell_type": "code",
   "execution_count": 10,
   "metadata": {},
   "outputs": [
    {
     "name": "stderr",
     "output_type": "stream",
     "text": [
      "20:52 madminer.sampling    WARNING Careful: this tool assumes that all samples are generated with the same setup, including identical benchmarks (and thus morphing setup). If it is used with samples with different settings, there will be wrong results! There are no explicit cross checks in place yet.\n",
      "20:52 madminer.sampling    INFO    Copying setup from data/wph_mu_smeftsim_lhedata_met.h5 to data/wph_mu_wbkgs_sigsystonly_lhedata_met.h5\n",
      "20:52 madminer.sampling    INFO    Loading samples from file 1 / 4 at data/wph_mu_smeftsim_lhedata_met.h5, multiplying weights with k factor 1.0\n",
      "20:52 madminer.sampling    INFO    Loading samples from file 2 / 4 at data/wpbb_mu_background_nosyst_lhedata_met.h5, multiplying weights with k factor 1.0\n",
      "20:52 madminer.sampling    INFO    Loading samples from file 3 / 4 at data/tpb_mu_background_nosyst_lhedata_met.h5, multiplying weights with k factor 1.0\n",
      "20:52 madminer.sampling    INFO    Loading samples from file 4 / 4 at data/tt_mupjj_background_nosyst_lhedata_met.h5, multiplying weights with k factor 1.0\n"
     ]
    }
   ],
   "source": [
    "lhedatafile_wph_mu_wbkgs_sigsystonly_met = 'data/met/wph_mu_wbkgs_sigsystonly_lhedata_met.h5'\n",
    "\n",
    "combine_and_shuffle(\n",
    "    [ 'data/met/signal/wph_mu_smeftsim_lhedata_met.h5', \n",
    "    'data/met/backgrounds/wpbb_mu_background_nosyst_lhedata_met.h5', \n",
    "    'data/met/backgrounds/tpb_mu_background_nosyst_lhedata_met.h5',\n",
    "    'data/met/backgrounds/tt_mupjj_background_nosyst_lhedata_met.h5'],\n",
    "    lhedatafile_wph_mu_wbkgs_sigsystonly_met\n",
    ")"
   ]
  },
  {
   "cell_type": "code",
   "execution_count": 23,
   "metadata": {},
   "outputs": [
    {
     "name": "stderr",
     "output_type": "stream",
     "text": [
      "08:04 madminer.sampling    WARNING Careful: this tool assumes that all samples are generated with the same setup, including identical benchmarks (and thus morphing setup). If it is used with samples with different settings, there will be wrong results! There are no explicit cross checks in place yet.\n",
      "08:04 madminer.sampling    INFO    Copying setup from data/met/signal/wph_e_smeftsim_lhedata_met.h5 to data/met/wph_e_wbkgs_sigsystonly_lhedata_met.h5\n",
      "08:04 madminer.sampling    INFO    Loading samples from file 1 / 4 at data/met/signal/wph_e_smeftsim_lhedata_met.h5, multiplying weights with k factor 1.0\n",
      "08:04 madminer.sampling    INFO    Loading samples from file 2 / 4 at data/met/backgrounds/wpbb_e_background_nosyst_lhedata_met.h5, multiplying weights with k factor 1.0\n",
      "08:05 madminer.sampling    INFO    Loading samples from file 3 / 4 at data/met/backgrounds/tpb_e_background_nosyst_lhedata_met.h5, multiplying weights with k factor 1.0\n",
      "08:07 madminer.sampling    INFO    Loading samples from file 4 / 4 at data/met/backgrounds/tt_epjj_background_nosyst_lhedata_met.h5, multiplying weights with k factor 1.0\n"
     ]
    }
   ],
   "source": [
    "lhedatafile_wph_e_wbkgs_sigsystonly_met = 'data/met/wph_e_wbkgs_sigsystonly_lhedata_met.h5'\n",
    "\n",
    "combine_and_shuffle(\n",
    "    [ 'data/met/signal/wph_e_smeftsim_lhedata_met.h5', \n",
    "    'data/met/backgrounds/wpbb_e_background_nosyst_lhedata_met.h5', \n",
    "    'data/met/backgrounds/tpb_e_background_nosyst_lhedata_met.h5',\n",
    "    'data/met/backgrounds/tt_epjj_background_nosyst_lhedata_met.h5'],\n",
    "    lhedatafile_wph_e_wbkgs_sigsystonly_met\n",
    ")"
   ]
  },
  {
   "cell_type": "code",
   "execution_count": 24,
   "metadata": {},
   "outputs": [
    {
     "name": "stderr",
     "output_type": "stream",
     "text": [
      "08:09 madminer.sampling    WARNING Careful: this tool assumes that all samples are generated with the same setup, including identical benchmarks (and thus morphing setup). If it is used with samples with different settings, there will be wrong results! There are no explicit cross checks in place yet.\n",
      "08:09 madminer.sampling    INFO    Copying setup from data/met/signal/wmh_mu_smeftsim_lhedata_met.h5 to data/met/wmh_mu_wbkgs_sigsystonly_lhedata_met.h5\n",
      "08:09 madminer.sampling    INFO    Loading samples from file 1 / 4 at data/met/signal/wmh_mu_smeftsim_lhedata_met.h5, multiplying weights with k factor 1.0\n",
      "08:09 madminer.sampling    INFO    Loading samples from file 2 / 4 at data/met/backgrounds/wmbb_mu_background_nosyst_lhedata_met.h5, multiplying weights with k factor 1.0\n",
      "08:11 madminer.sampling    INFO    Loading samples from file 3 / 4 at data/met/backgrounds/tmb_mu_background_nosyst_lhedata_met.h5, multiplying weights with k factor 1.0\n",
      "08:12 madminer.sampling    INFO    Loading samples from file 4 / 4 at data/met/backgrounds/tt_mumjj_background_nosyst_lhedata_met.h5, multiplying weights with k factor 1.0\n"
     ]
    }
   ],
   "source": [
    "lhedatafile_wmh_mu_wbkgs_sigsystonly_met = 'data/met/wmh_mu_wbkgs_sigsystonly_lhedata_met.h5'\n",
    "\n",
    "combine_and_shuffle(\n",
    "    [ 'data/met/signal/wmh_mu_smeftsim_lhedata_met.h5', \n",
    "    'data/met/backgrounds/wmbb_mu_background_nosyst_lhedata_met.h5', \n",
    "    'data/met/backgrounds/tmb_mu_background_nosyst_lhedata_met.h5',\n",
    "    'data/met/backgrounds/tt_mumjj_background_nosyst_lhedata_met.h5'],\n",
    "    lhedatafile_wmh_mu_wbkgs_sigsystonly_met\n",
    ")"
   ]
  },
  {
   "cell_type": "code",
   "execution_count": 25,
   "metadata": {},
   "outputs": [
    {
     "name": "stderr",
     "output_type": "stream",
     "text": [
      "08:15 madminer.sampling    WARNING Careful: this tool assumes that all samples are generated with the same setup, including identical benchmarks (and thus morphing setup). If it is used with samples with different settings, there will be wrong results! There are no explicit cross checks in place yet.\n",
      "08:15 madminer.sampling    INFO    Copying setup from data/met/signal/wmh_e_smeftsim_lhedata_met.h5 to data/met/wmh_e_wbkgs_sigsystonly_lhedata_met.h5\n",
      "08:15 madminer.sampling    INFO    Loading samples from file 1 / 4 at data/met/signal/wmh_e_smeftsim_lhedata_met.h5, multiplying weights with k factor 1.0\n",
      "08:15 madminer.sampling    INFO    Loading samples from file 2 / 4 at data/met/backgrounds/wmbb_e_background_nosyst_lhedata_met.h5, multiplying weights with k factor 1.0\n",
      "08:16 madminer.sampling    INFO    Loading samples from file 3 / 4 at data/met/backgrounds/tmb_e_background_nosyst_lhedata_met.h5, multiplying weights with k factor 1.0\n",
      "08:17 madminer.sampling    INFO    Loading samples from file 4 / 4 at data/met/backgrounds/tt_emjj_background_nosyst_lhedata_met.h5, multiplying weights with k factor 1.0\n"
     ]
    }
   ],
   "source": [
    "lhedatafile_wmh_e_wbkgs_sigsystonly_met = 'data/met/wmh_e_wbkgs_sigsystonly_lhedata_met.h5'\n",
    "\n",
    "combine_and_shuffle(\n",
    "    [ 'data/met/signal/wmh_e_smeftsim_lhedata_met.h5', \n",
    "    'data/met/backgrounds/wmbb_e_background_nosyst_lhedata_met.h5', \n",
    "    'data/met/backgrounds/tmb_e_background_nosyst_lhedata_met.h5',\n",
    "    'data/met/backgrounds/tt_emjj_background_nosyst_lhedata_met.h5'],\n",
    "    lhedatafile_wmh_e_wbkgs_sigsystonly_met\n",
    ")"
   ]
  },
  {
   "cell_type": "markdown",
   "metadata": {},
   "source": [
    "### Quick Check:"
   ]
  },
  {
   "cell_type": "code",
   "execution_count": 16,
   "metadata": {},
   "outputs": [
    {
     "name": "stderr",
     "output_type": "stream",
     "text": [
      "08:03 madminer.analysis    INFO    Loading data from data/met/backgrounds/wpbb_e_background_nosyst_lhedata_met.h5\n",
      "08:03 madminer.analysis    INFO    Found 4 parameters\n",
      "08:03 madminer.analysis    INFO    Found 33 nuisance parameters\n",
      "08:03 madminer.analysis    INFO    Found 54 benchmarks, of which 15 physical\n",
      "08:03 madminer.analysis    INFO    Found 48 observables\n",
      "08:03 madminer.analysis    INFO    Found 2000000 events\n",
      "08:03 madminer.analysis    INFO      2000000 background events\n",
      "08:03 madminer.analysis    INFO    Found morphing setup with 15 components\n",
      "08:03 madminer.analysis    INFO    Found nuisance morphing setup\n"
     ]
    },
    {
     "data": {
      "text/plain": [
       "array([  3.27584600e-08,   3.27584600e-08,   3.27584600e-08,\n",
       "         3.27584600e-08,   3.27584600e-08,   3.27584600e-08,\n",
       "         3.27584600e-08,   3.27584600e-08,   3.27584600e-08,\n",
       "         3.27584600e-08,   3.27584600e-08,   3.27584600e-08,\n",
       "         3.27584600e-08,   3.27584600e-08,   3.27584600e-08,\n",
       "         3.27584600e-08,   3.27584600e-08,   3.27584600e-08,\n",
       "         3.27584600e-08,   3.27584600e-08,   3.27584600e-08,\n",
       "         3.27584600e-08,   3.27584600e-08,   3.27584600e-08,\n",
       "         3.27584600e-08,   3.27584600e-08,   3.27584600e-08,\n",
       "         3.27584600e-08,   3.27584600e-08,   3.27584600e-08,\n",
       "         3.27584600e-08,   3.27584600e-08,   3.27584600e-08,\n",
       "         3.27584600e-08,   3.27584600e-08,   3.27584600e-08,\n",
       "         3.27584600e-08,   3.27584600e-08,   3.27584600e-08,\n",
       "         3.27584600e-08,   3.27584600e-08,   3.27584600e-08,\n",
       "         3.27584600e-08,   3.27584600e-08,   3.27584600e-08,\n",
       "         3.27584600e-08,   3.27584600e-08,   3.27584600e-08,\n",
       "         3.27584600e-08,   3.27584600e-08,   3.27584600e-08,\n",
       "         3.27584600e-08,   3.27584600e-08,   3.27584600e-08])"
      ]
     },
     "execution_count": 16,
     "metadata": {},
     "output_type": "execute_result"
    }
   ],
   "source": [
    "test = DataAnalyzer('data/met/backgrounds/wpbb_e_background_nosyst_lhedata_met.h5')\n",
    "_, weights, _ = test.event_loader(batch_size=None, return_sampling_ids=True).next()\n",
    "\n",
    "weights[15]"
   ]
  }
 ],
 "metadata": {
  "kernelspec": {
   "display_name": "Python 2",
   "language": "python",
   "name": "python2"
  },
  "language_info": {
   "codemirror_mode": {
    "name": "ipython",
    "version": 2
   },
   "file_extension": ".py",
   "mimetype": "text/x-python",
   "name": "python",
   "nbconvert_exporter": "python",
   "pygments_lexer": "ipython2",
   "version": "2.7.14"
  },
  "toc": {
   "base_numbering": 1,
   "nav_menu": {},
   "number_sections": true,
   "sideBar": true,
   "skip_h1_title": false,
   "title_cell": "Table of Contents",
   "title_sidebar": "Contents",
   "toc_cell": false,
   "toc_position": {},
   "toc_section_display": true,
   "toc_window_display": false
  }
 },
 "nbformat": 4,
 "nbformat_minor": 2
}
