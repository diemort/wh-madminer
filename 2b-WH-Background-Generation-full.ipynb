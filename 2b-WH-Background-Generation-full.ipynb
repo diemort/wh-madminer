{
 "cells": [
  {
   "cell_type": "markdown",
   "metadata": {},
   "source": [
    "# 3. Background Generation"
   ]
  },
  {
   "cell_type": "markdown",
   "metadata": {},
   "source": [
    "Here we set up the background generation processes."
   ]
  },
  {
   "cell_type": "code",
   "execution_count": 1,
   "metadata": {},
   "outputs": [
    {
     "name": "stdout",
     "output_type": "stream",
     "text": [
      "MadMiner version: 0.5.0\n"
     ]
    }
   ],
   "source": [
    "#madminer_src_path = '/home/shomiller/madminer'\n",
    "import sys\n",
    "import os\n",
    "#sys.path.append(madminer_src_path)\n",
    "\n",
    "from __future__ import absolute_import, division, print_function, unicode_literals\n",
    "import logging\n",
    "import numpy as np\n",
    "import matplotlib\n",
    "from matplotlib import pyplot as plt\n",
    "%matplotlib inline\n",
    "\n",
    "from madminer.core import MadMiner\n",
    "from madminer.lhe import LHEReader\n",
    "from madminer.sampling import SampleAugmenter, combine_and_shuffle\n",
    "from madminer.plotting import plot_distributions\n",
    "\n",
    "from scipy.optimize import curve_fit\n",
    "\n",
    "import madminer.__version__\n",
    "print( 'MadMiner version: {}'.format(madminer.__version__) )"
   ]
  },
  {
   "cell_type": "code",
   "execution_count": 2,
   "metadata": {},
   "outputs": [],
   "source": [
    "# MadMiner output\n",
    "logging.basicConfig(\n",
    "    format='%(asctime)-5.5s %(name)-20.20s %(levelname)-7.7s %(message)s',\n",
    "    datefmt='%H:%M',\n",
    "    level=logging.INFO\n",
    ")\n",
    "\n",
    "# Output of all other modules (e.g. matplotlib)\n",
    "for key in logging.Logger.manager.loggerDict:\n",
    "    if \"madminer\" not in key:\n",
    "        logging.getLogger(key).setLevel(logging.WARNING)"
   ]
  },
  {
   "cell_type": "code",
   "execution_count": 3,
   "metadata": {},
   "outputs": [],
   "source": [
    "mg_dir = '/eos/user/s/silveira/SWAN_projects/MG5_aMC_v2_9_6'"
   ]
  },
  {
   "cell_type": "markdown",
   "metadata": {},
   "source": [
    "We load the MadMiner morphing setup created in the previous section, which includes morphing benchmarks to span the full parameter space of $(C_{H\\square}, C_{HD}, C_{HW}, C_{Hq}^{(3)})$."
   ]
  },
  {
   "cell_type": "code",
   "execution_count": 4,
   "metadata": {},
   "outputs": [
    {
     "name": "stderr",
     "output_type": "stream",
     "text": [
      "14:51 madminer.core        INFO    Found 4 parameters:\n",
      "14:51 madminer.core        INFO       cHbox (LHA: smeft 4, maximal power in squared ME: (2,), range: (-10.0, 10.0))\n",
      "14:51 madminer.core        INFO       cHDD (LHA: smeft 5, maximal power in squared ME: (2,), range: (-10.0, 10.0))\n",
      "14:51 madminer.core        INFO       cHW (LHA: smeft 7, maximal power in squared ME: (2,), range: (-10.0, 10.0))\n",
      "14:51 madminer.core        INFO       cHq3 (LHA: smeft 25, maximal power in squared ME: (2,), range: (-10.0, 10.0))\n",
      "14:51 madminer.core        INFO    Found 15 benchmarks:\n",
      "14:51 madminer.core        INFO       sm: cHbox = 0.00e+00, cHDD = 0.00e+00, cHW = 0.00e+00, cHq3 = 0.00e+00\n",
      "14:51 madminer.core        INFO       morphing_basis_vector_1: cHbox = -5.51e+00, cHDD = 0.02, cHW = -9.58e+00, cHq3 = 3.31\n",
      "14:51 madminer.core        INFO       morphing_basis_vector_2: cHbox = -1.43e+00, cHDD = 9.17, cHW = 8.20, cHq3 = -1.23e+00\n",
      "14:51 madminer.core        INFO       morphing_basis_vector_3: cHbox = -7.52e+00, cHDD = -4.67e+00, cHW = 1.92, cHq3 = 9.47\n",
      "14:51 madminer.core        INFO       morphing_basis_vector_4: cHbox = 8.74, cHDD = -6.76e+00, cHW = -1.27e+00, cHq3 = 0.20\n",
      "14:51 madminer.core        INFO       morphing_basis_vector_5: cHbox = -4.29e+00, cHDD = 4.21, cHW = 9.89, cHq3 = -6.07e+00\n",
      "14:51 madminer.core        INFO       morphing_basis_vector_6: cHbox = 3.78, cHDD = -7.14e+00, cHW = 8.10, cHq3 = 6.34\n",
      "14:51 madminer.core        INFO       morphing_basis_vector_7: cHbox = 8.74, cHDD = 9.11, cHW = 8.95, cHq3 = 4.80\n",
      "14:51 madminer.core        INFO       morphing_basis_vector_8: cHbox = 3.07, cHDD = 2.66, cHW = -3.41e+00, cHq3 = -1.54e+00\n",
      "14:51 madminer.core        INFO       morphing_basis_vector_9: cHbox = 4.57, cHDD = 0.90, cHW = 4.59, cHq3 = -4.09e+00\n",
      "14:51 madminer.core        INFO       morphing_basis_vector_10: cHbox = -7.06e+00, cHDD = -5.64e+00, cHW = -5.27e+00, cHq3 = -8.68e+00\n",
      "14:51 madminer.core        INFO       morphing_basis_vector_11: cHbox = -9.22e+00, cHDD = 5.57, cHW = -8.22e+00, cHq3 = -2.44e+00\n",
      "14:51 madminer.core        INFO       morphing_basis_vector_12: cHbox = 1.72, cHDD = -9.65e+00, cHW = 4.64, cHq3 = -9.96e+00\n",
      "14:51 madminer.core        INFO       morphing_basis_vector_13: cHbox = 2.19, cHDD = 8.96, cHW = -1.04e+00, cHq3 = -2.89e+00\n",
      "14:51 madminer.core        INFO       morphing_basis_vector_14: cHbox = 2.59, cHDD = -2.76e+00, cHW = -1.94e+00, cHq3 = 8.81\n",
      "14:51 madminer.core        INFO    Found morphing setup with 15 components\n",
      "14:51 madminer.core        INFO    Found systematics setup with 3 nuisance parameter groups\n"
     ]
    }
   ],
   "source": [
    "miner = MadMiner()\n",
    "miner.load('data/wh_smeft_setup.h5')"
   ]
  },
  {
   "cell_type": "markdown",
   "metadata": {},
   "source": [
    "We generate the events in a number of small batches, using the SM benchmark for sampling."
   ]
  },
  {
   "cell_type": "code",
   "execution_count": 5,
   "metadata": {},
   "outputs": [],
   "source": [
    "nrun = 10"
   ]
  },
  {
   "cell_type": "code",
   "execution_count": 6,
   "metadata": {},
   "outputs": [
    {
     "data": {
      "text/plain": [
       "'/eos/home-s/silveira/SWAN_projects/wh-madminer'"
      ]
     },
     "execution_count": 6,
     "metadata": {},
     "output_type": "execute_result"
    }
   ],
   "source": [
    "os.getcwd()"
   ]
  },
  {
   "cell_type": "markdown",
   "metadata": {},
   "source": [
    "## 1. $p p > t\\!\\!\\sim b, (t\\!\\!\\sim > w- b\\!\\!\\sim, w- > e- ve\\!\\!\\sim)$"
   ]
  },
  {
   "cell_type": "code",
   "execution_count": 7,
   "metadata": {},
   "outputs": [
    {
     "name": "stderr",
     "output_type": "stream",
     "text": [
      "14:51 madminer.utils.inter INFO    Generating MadGraph process folder from ./cards/background_processes/proc_card_tmb_e.dat at ./background_samples/tmb_e\n",
      "14:51 madminer.core        INFO    Run 0\n",
      "14:51 madminer.core        INFO      Sampling from benchmark: sm\n",
      "14:51 madminer.core        INFO      Original run card:       ./cards/run_card_wh_parton.dat\n",
      "14:51 madminer.core        INFO      Original Pythia8 card:   None\n",
      "14:51 madminer.core        INFO      Copied run card:         /madminer/cards/run_card_0.dat\n",
      "14:51 madminer.core        INFO      Copied Pythia8 card:     None\n",
      "14:51 madminer.core        INFO      Param card:              /madminer/cards/param_card_0.dat\n",
      "14:51 madminer.core        INFO      Reweight card:           /madminer/cards/reweight_card_0.dat\n",
      "14:51 madminer.core        INFO      Log file:                run_0.log\n",
      "14:51 madminer.core        INFO    Creating param and reweight cards in ./background_samples/tmb_e//madminer/cards/param_card_0.dat, ./background_samples/tmb_e//madminer/cards/reweight_card_0.dat\n",
      "14:51 madminer.utils.inter INFO    Starting MadGraph and Pythia in ./background_samples/tmb_e\n",
      "14:51 madminer.core        INFO    Run 1\n",
      "14:51 madminer.core        INFO      Sampling from benchmark: sm\n",
      "14:51 madminer.core        INFO      Original run card:       ./cards/run_card_wh_parton.dat\n",
      "14:51 madminer.core        INFO      Original Pythia8 card:   None\n",
      "14:51 madminer.core        INFO      Copied run card:         /madminer/cards/run_card_1.dat\n",
      "14:51 madminer.core        INFO      Copied Pythia8 card:     None\n",
      "14:51 madminer.core        INFO      Param card:              /madminer/cards/param_card_1.dat\n",
      "14:51 madminer.core        INFO      Reweight card:           /madminer/cards/reweight_card_1.dat\n",
      "14:51 madminer.core        INFO      Log file:                run_1.log\n",
      "14:51 madminer.core        INFO    Creating param and reweight cards in ./background_samples/tmb_e//madminer/cards/param_card_1.dat, ./background_samples/tmb_e//madminer/cards/reweight_card_1.dat\n",
      "14:51 madminer.utils.inter INFO    Starting MadGraph and Pythia in ./background_samples/tmb_e\n",
      "14:51 madminer.core        INFO    Run 2\n",
      "14:51 madminer.core        INFO      Sampling from benchmark: sm\n",
      "14:51 madminer.core        INFO      Original run card:       ./cards/run_card_wh_parton.dat\n",
      "14:51 madminer.core        INFO      Original Pythia8 card:   None\n",
      "14:51 madminer.core        INFO      Copied run card:         /madminer/cards/run_card_2.dat\n",
      "14:51 madminer.core        INFO      Copied Pythia8 card:     None\n",
      "14:51 madminer.core        INFO      Param card:              /madminer/cards/param_card_2.dat\n",
      "14:51 madminer.core        INFO      Reweight card:           /madminer/cards/reweight_card_2.dat\n",
      "14:51 madminer.core        INFO      Log file:                run_2.log\n",
      "14:51 madminer.core        INFO    Creating param and reweight cards in ./background_samples/tmb_e//madminer/cards/param_card_2.dat, ./background_samples/tmb_e//madminer/cards/reweight_card_2.dat\n",
      "14:52 madminer.utils.inter INFO    Starting MadGraph and Pythia in ./background_samples/tmb_e\n",
      "14:52 madminer.core        INFO    Run 3\n",
      "14:52 madminer.core        INFO      Sampling from benchmark: sm\n",
      "14:52 madminer.core        INFO      Original run card:       ./cards/run_card_wh_parton.dat\n",
      "14:52 madminer.core        INFO      Original Pythia8 card:   None\n",
      "14:52 madminer.core        INFO      Copied run card:         /madminer/cards/run_card_3.dat\n",
      "14:52 madminer.core        INFO      Copied Pythia8 card:     None\n",
      "14:52 madminer.core        INFO      Param card:              /madminer/cards/param_card_3.dat\n",
      "14:52 madminer.core        INFO      Reweight card:           /madminer/cards/reweight_card_3.dat\n",
      "14:52 madminer.core        INFO      Log file:                run_3.log\n",
      "14:52 madminer.core        INFO    Creating param and reweight cards in ./background_samples/tmb_e//madminer/cards/param_card_3.dat, ./background_samples/tmb_e//madminer/cards/reweight_card_3.dat\n",
      "14:52 madminer.utils.inter INFO    Starting MadGraph and Pythia in ./background_samples/tmb_e\n",
      "14:52 madminer.core        INFO    Run 4\n",
      "14:52 madminer.core        INFO      Sampling from benchmark: sm\n",
      "14:52 madminer.core        INFO      Original run card:       ./cards/run_card_wh_parton.dat\n",
      "14:52 madminer.core        INFO      Original Pythia8 card:   None\n",
      "14:52 madminer.core        INFO      Copied run card:         /madminer/cards/run_card_4.dat\n",
      "14:52 madminer.core        INFO      Copied Pythia8 card:     None\n",
      "14:52 madminer.core        INFO      Param card:              /madminer/cards/param_card_4.dat\n",
      "14:52 madminer.core        INFO      Reweight card:           /madminer/cards/reweight_card_4.dat\n",
      "14:52 madminer.core        INFO      Log file:                run_4.log\n",
      "14:52 madminer.core        INFO    Creating param and reweight cards in ./background_samples/tmb_e//madminer/cards/param_card_4.dat, ./background_samples/tmb_e//madminer/cards/reweight_card_4.dat\n",
      "14:52 madminer.utils.inter INFO    Starting MadGraph and Pythia in ./background_samples/tmb_e\n",
      "14:52 madminer.core        INFO    Run 5\n",
      "14:52 madminer.core        INFO      Sampling from benchmark: sm\n",
      "14:52 madminer.core        INFO      Original run card:       ./cards/run_card_wh_parton.dat\n",
      "14:52 madminer.core        INFO      Original Pythia8 card:   None\n",
      "14:52 madminer.core        INFO      Copied run card:         /madminer/cards/run_card_5.dat\n",
      "14:52 madminer.core        INFO      Copied Pythia8 card:     None\n",
      "14:52 madminer.core        INFO      Param card:              /madminer/cards/param_card_5.dat\n",
      "14:52 madminer.core        INFO      Reweight card:           /madminer/cards/reweight_card_5.dat\n",
      "14:52 madminer.core        INFO      Log file:                run_5.log\n",
      "14:52 madminer.core        INFO    Creating param and reweight cards in ./background_samples/tmb_e//madminer/cards/param_card_5.dat, ./background_samples/tmb_e//madminer/cards/reweight_card_5.dat\n",
      "14:52 madminer.utils.inter INFO    Starting MadGraph and Pythia in ./background_samples/tmb_e\n",
      "14:52 madminer.core        INFO    Run 6\n",
      "14:52 madminer.core        INFO      Sampling from benchmark: sm\n",
      "14:52 madminer.core        INFO      Original run card:       ./cards/run_card_wh_parton.dat\n",
      "14:52 madminer.core        INFO      Original Pythia8 card:   None\n",
      "14:52 madminer.core        INFO      Copied run card:         /madminer/cards/run_card_6.dat\n",
      "14:52 madminer.core        INFO      Copied Pythia8 card:     None\n",
      "14:52 madminer.core        INFO      Param card:              /madminer/cards/param_card_6.dat\n",
      "14:52 madminer.core        INFO      Reweight card:           /madminer/cards/reweight_card_6.dat\n",
      "14:52 madminer.core        INFO      Log file:                run_6.log\n",
      "14:52 madminer.core        INFO    Creating param and reweight cards in ./background_samples/tmb_e//madminer/cards/param_card_6.dat, ./background_samples/tmb_e//madminer/cards/reweight_card_6.dat\n",
      "14:52 madminer.utils.inter INFO    Starting MadGraph and Pythia in ./background_samples/tmb_e\n",
      "14:52 madminer.core        INFO    Run 7\n",
      "14:52 madminer.core        INFO      Sampling from benchmark: sm\n",
      "14:52 madminer.core        INFO      Original run card:       ./cards/run_card_wh_parton.dat\n",
      "14:52 madminer.core        INFO      Original Pythia8 card:   None\n",
      "14:52 madminer.core        INFO      Copied run card:         /madminer/cards/run_card_7.dat\n",
      "14:52 madminer.core        INFO      Copied Pythia8 card:     None\n",
      "14:52 madminer.core        INFO      Param card:              /madminer/cards/param_card_7.dat\n",
      "14:52 madminer.core        INFO      Reweight card:           /madminer/cards/reweight_card_7.dat\n",
      "14:52 madminer.core        INFO      Log file:                run_7.log\n",
      "14:52 madminer.core        INFO    Creating param and reweight cards in ./background_samples/tmb_e//madminer/cards/param_card_7.dat, ./background_samples/tmb_e//madminer/cards/reweight_card_7.dat\n",
      "14:52 madminer.utils.inter INFO    Starting MadGraph and Pythia in ./background_samples/tmb_e\n",
      "14:52 madminer.core        INFO    Run 8\n",
      "14:52 madminer.core        INFO      Sampling from benchmark: sm\n",
      "14:52 madminer.core        INFO      Original run card:       ./cards/run_card_wh_parton.dat\n"
     ]
    },
    {
     "name": "stderr",
     "output_type": "stream",
     "text": [
      "14:52 madminer.core        INFO      Original Pythia8 card:   None\n",
      "14:52 madminer.core        INFO      Copied run card:         /madminer/cards/run_card_8.dat\n",
      "14:52 madminer.core        INFO      Copied Pythia8 card:     None\n",
      "14:52 madminer.core        INFO      Param card:              /madminer/cards/param_card_8.dat\n",
      "14:52 madminer.core        INFO      Reweight card:           /madminer/cards/reweight_card_8.dat\n",
      "14:52 madminer.core        INFO      Log file:                run_8.log\n",
      "14:52 madminer.core        INFO    Creating param and reweight cards in ./background_samples/tmb_e//madminer/cards/param_card_8.dat, ./background_samples/tmb_e//madminer/cards/reweight_card_8.dat\n",
      "14:52 madminer.utils.inter INFO    Starting MadGraph and Pythia in ./background_samples/tmb_e\n",
      "14:52 madminer.core        INFO    Run 9\n",
      "14:52 madminer.core        INFO      Sampling from benchmark: sm\n",
      "14:52 madminer.core        INFO      Original run card:       ./cards/run_card_wh_parton.dat\n",
      "14:52 madminer.core        INFO      Original Pythia8 card:   None\n",
      "14:52 madminer.core        INFO      Copied run card:         /madminer/cards/run_card_9.dat\n",
      "14:52 madminer.core        INFO      Copied Pythia8 card:     None\n",
      "14:52 madminer.core        INFO      Param card:              /madminer/cards/param_card_9.dat\n",
      "14:52 madminer.core        INFO      Reweight card:           /madminer/cards/reweight_card_9.dat\n",
      "14:52 madminer.core        INFO      Log file:                run_9.log\n",
      "14:52 madminer.core        INFO    Creating param and reweight cards in ./background_samples/tmb_e//madminer/cards/param_card_9.dat, ./background_samples/tmb_e//madminer/cards/reweight_card_9.dat\n",
      "14:52 madminer.utils.inter INFO    Starting MadGraph and Pythia in ./background_samples/tmb_e\n",
      "14:52 madminer.core        INFO    Finished running MadGraph! Please check that events were succesfully generated in the following folders:\n",
      "\n",
      "./background_samples/tmb_e/Events/run_01\n",
      "./background_samples/tmb_e/Events/run_02\n",
      "./background_samples/tmb_e/Events/run_03\n",
      "./background_samples/tmb_e/Events/run_04\n",
      "./background_samples/tmb_e/Events/run_05\n",
      "./background_samples/tmb_e/Events/run_06\n",
      "./background_samples/tmb_e/Events/run_07\n",
      "./background_samples/tmb_e/Events/run_08\n",
      "./background_samples/tmb_e/Events/run_09\n",
      "./background_samples/tmb_e/Events/run_10\n",
      "\n",
      "\n"
     ]
    }
   ],
   "source": [
    "miner.run_multiple(\n",
    "    mg_directory=mg_dir,\n",
    "    log_directory='logs/tmb_e',\n",
    "    mg_process_directory='./background_samples/tmb_e',\n",
    "    proc_card_file='./cards/background_processes/proc_card_tmb_e.dat',\n",
    "    param_card_template_file='./cards/param_card_template_smeftsim.dat',\n",
    "    run_card_files=['./cards/run_card_wh_parton.dat' for i in range(nrun)],\n",
    "    sample_benchmarks=['sm'],\n",
    "    initial_command=None\n",
    ")"
   ]
  },
  {
   "cell_type": "markdown",
   "metadata": {},
   "source": [
    "## 2. $p p > t\\!\\!\\sim b, (t\\!\\!\\sim > w- b\\!\\!\\sim, w- > \\mu \\!- vm\\!\\!\\sim)$"
   ]
  },
  {
   "cell_type": "code",
   "execution_count": null,
   "metadata": {},
   "outputs": [
    {
     "name": "stderr",
     "output_type": "stream",
     "text": [
      "14:52 madminer.utils.inter INFO    Generating MadGraph process folder from ./cards/background_processes/proc_card_tmb_mu.dat at ./background_samples/tmb_mu\n"
     ]
    }
   ],
   "source": [
    "miner.run_multiple(\n",
    "    mg_directory=mg_dir,\n",
    "    log_directory='logs/tmb_mu',\n",
    "    mg_process_directory='./background_samples/tmb_mu',\n",
    "    proc_card_file='./cards/background_processes/proc_card_tmb_mu.dat',\n",
    "    param_card_template_file='./cards/param_card_template_smeftsim.dat',\n",
    "    run_card_files=['./cards/run_card_wh_parton.dat' for i in range(nrun)],\n",
    "    sample_benchmarks=['sm'],\n",
    "    initial_command=None\n",
    ")"
   ]
  },
  {
   "cell_type": "markdown",
   "metadata": {},
   "source": [
    "## 3. $p p > t b\\!\\!\\sim, (t > w+ b, w+ > e\\!+ ve)$"
   ]
  },
  {
   "cell_type": "code",
   "execution_count": null,
   "metadata": {},
   "outputs": [],
   "source": [
    "miner.run_multiple(\n",
    "    mg_directory=mg_dir,\n",
    "    log_directory='logs/tpb_e',\n",
    "    mg_process_directory='./background_samples/tpb_e',\n",
    "    proc_card_file='./cards/background_processes/proc_card_tmb_e.dat',\n",
    "    param_card_template_file='./cards/param_card_template_smeftsim.dat',\n",
    "    run_card_files=['./cards/run_card_wh_parton.dat' for i in range(nrun)],\n",
    "    sample_benchmarks=['sm'],\n",
    "    initial_command=None\n",
    ")"
   ]
  },
  {
   "cell_type": "markdown",
   "metadata": {},
   "source": [
    "## 4. $p p > t b\\!\\!\\sim, (t > w+ b, w+ > \\mu\\!+ vm)$"
   ]
  },
  {
   "cell_type": "code",
   "execution_count": null,
   "metadata": {
    "scrolled": false
   },
   "outputs": [],
   "source": [
    "miner.run_multiple(\n",
    "    mg_directory=mg_dir,\n",
    "    log_directory='logs/tpb_mu',\n",
    "    mg_process_directory='./background_samples/tpb_mu',\n",
    "    proc_card_file='./cards/background_processes/proc_card_tmb_mu.dat',\n",
    "    param_card_template_file='./cards/param_card_template_smeftsim.dat',\n",
    "    run_card_files=['./cards/run_card_wh_parton.dat' for i in range(nrun)],\n",
    "    sample_benchmarks=['sm'],\n",
    "    initial_command=None\n",
    ")"
   ]
  },
  {
   "cell_type": "markdown",
   "metadata": {},
   "source": [
    "## 5. $p p > t t\\!\\!\\sim, (t > w+ b, w+ > j j), (t\\!\\!\\sim > w- b\\!\\!\\sim, w- > e- ve\\!\\!\\sim)$"
   ]
  },
  {
   "cell_type": "code",
   "execution_count": null,
   "metadata": {
    "scrolled": false
   },
   "outputs": [],
   "source": [
    "miner.run_multiple(\n",
    "    mg_directory=mg_dir,\n",
    "    log_directory='logs/tt_emjj',\n",
    "    mg_process_directory='./background_samples/tt_emjj',\n",
    "    proc_card_file='./cards/background_processes/proc_card_tt_emjj.dat',\n",
    "    param_card_template_file='./cards/param_card_template_smeftsim.dat',\n",
    "    run_card_files=['./cards/run_card_wh_parton.dat' for i in range(nrun)],\n",
    "    sample_benchmarks=['sm'],\n",
    "    initial_command=None\n",
    ")"
   ]
  },
  {
   "cell_type": "markdown",
   "metadata": {},
   "source": [
    "## 6. $p p > t t\\!\\!\\sim, (t > w+ b, w+ > e+ ve), (t\\!\\!\\sim > w- b\\!\\!\\sim, w- > j j)$"
   ]
  },
  {
   "cell_type": "code",
   "execution_count": null,
   "metadata": {
    "scrolled": false
   },
   "outputs": [],
   "source": [
    "miner.run_multiple(\n",
    "    mg_directory=mg_dir,\n",
    "    log_directory='logs/tt_epjj',\n",
    "    mg_process_directory='./background_samples/tt_epjj',\n",
    "    proc_card_file='./cards/background_processes/proc_card_tt_epjj.dat',\n",
    "    param_card_template_file='./cards/param_card_template_smeftsim.dat',\n",
    "    run_card_files=['./cards/run_card_wh_parton.dat' for i in range(nrun)],\n",
    "    sample_benchmarks=['sm'],\n",
    "    initial_command=None\n",
    ")"
   ]
  },
  {
   "cell_type": "markdown",
   "metadata": {},
   "source": [
    "## 7. $p p > t t\\!\\!\\sim, (t > w+ b, w+ > j j), (t\\!\\!\\sim > w- b\\!\\!\\sim, w- > mu- vm\\!\\!\\sim)$"
   ]
  },
  {
   "cell_type": "code",
   "execution_count": null,
   "metadata": {
    "scrolled": false
   },
   "outputs": [],
   "source": [
    "miner.run_multiple(\n",
    "    mg_directory=mg_dir,\n",
    "    log_directory='logs/tt_mumjj',\n",
    "    mg_process_directory='./background_samples/tt_mumjj',\n",
    "    proc_card_file='./cards/background_processes/proc_card_tt_mumjj.dat',\n",
    "    param_card_template_file='./cards/param_card_template_smeftsim.dat',\n",
    "    run_card_files=['./cards/run_card_wh_parton.dat' for i in range(nrun)],\n",
    "    sample_benchmarks=['sm'],\n",
    "    initial_command=None\n",
    ")"
   ]
  },
  {
   "cell_type": "markdown",
   "metadata": {},
   "source": [
    "## 8. $p p > t t\\!\\!\\sim, (t > w+ b, w+ > mu+ vm), (t\\!\\!\\sim > w- b\\!\\!\\sim, w- > j j)$"
   ]
  },
  {
   "cell_type": "code",
   "execution_count": null,
   "metadata": {
    "scrolled": false
   },
   "outputs": [],
   "source": [
    "miner.run_multiple(\n",
    "    mg_directory=mg_dir,\n",
    "    log_directory='logs/tt_mupjj',\n",
    "    mg_process_directory='./background_samples/tt_mupjj',\n",
    "    proc_card_file='./cards/background_processes/proc_card_tt_mupjj.dat',\n",
    "    param_card_template_file='./cards/param_card_template_smeftsim.dat',\n",
    "    run_card_files=['./cards/run_card_wh_parton.dat' for i in range(nrun)],\n",
    "    sample_benchmarks=['sm'],\n",
    "    initial_command=None\n",
    ")"
   ]
  },
  {
   "cell_type": "markdown",
   "metadata": {},
   "source": [
    "## 9. $p p > w- b b\\!\\!\\sim, w- > e- ve\\!\\!\\sim$"
   ]
  },
  {
   "cell_type": "code",
   "execution_count": null,
   "metadata": {
    "scrolled": false
   },
   "outputs": [],
   "source": [
    "miner.run_multiple(\n",
    "    mg_directory=mg_dir,\n",
    "    log_directory='logs/wmbb_e',\n",
    "    mg_process_directory='./background_samples/wmbb_e',\n",
    "    proc_card_file='./cards/background_processes/proc_card_wmbb_e.dat',\n",
    "    param_card_template_file='./cards/param_card_template_smeftsim.dat',\n",
    "    run_card_files=['./cards/run_card_wh_parton.dat' for i in range(nrun)],\n",
    "    sample_benchmarks=['sm'],\n",
    "    initial_command=None\n",
    ")"
   ]
  },
  {
   "cell_type": "markdown",
   "metadata": {},
   "source": [
    "## 10. $p p > w- b b\\!\\!\\sim, w- > mu- vm\\!\\!\\sim$"
   ]
  },
  {
   "cell_type": "code",
   "execution_count": null,
   "metadata": {
    "scrolled": false
   },
   "outputs": [],
   "source": [
    "miner.run_multiple(\n",
    "    mg_directory=mg_dir,\n",
    "    log_directory='logs/wmbb_mu',\n",
    "    mg_process_directory='./background_samples/wmbb_mu',\n",
    "    proc_card_file='./cards/background_processes/proc_card_wmbb_mu.dat',\n",
    "    param_card_template_file='./cards/param_card_template_smeftsim.dat',\n",
    "    run_card_files=['./cards/run_card_wh_parton.dat' for i in range(nrun)],\n",
    "    sample_benchmarks=['sm'],\n",
    "    initial_command=None\n",
    ")"
   ]
  },
  {
   "cell_type": "markdown",
   "metadata": {},
   "source": [
    "## 11. $p p > w+ b b\\!\\!\\sim, w+ > e+ ve$"
   ]
  },
  {
   "cell_type": "code",
   "execution_count": null,
   "metadata": {
    "scrolled": false
   },
   "outputs": [],
   "source": [
    "miner.run_multiple(\n",
    "    mg_directory=mg_dir,\n",
    "    log_directory='logs/wpbb_e',\n",
    "    mg_process_directory='./background_samples/wpbb_e',\n",
    "    proc_card_file='./cards/background_processes/proc_card_wpbb_e.dat',\n",
    "    param_card_template_file='./cards/param_card_template_smeftsim.dat',\n",
    "    run_card_files=['./cards/run_card_wh_parton.dat' for i in range(nrun)],\n",
    "    sample_benchmarks=['sm'],\n",
    "    initial_command=None\n",
    ")"
   ]
  },
  {
   "cell_type": "markdown",
   "metadata": {},
   "source": [
    "## 12. $p p > w+ b b\\!\\!\\sim, w+ > mu+ vm$"
   ]
  },
  {
   "cell_type": "code",
   "execution_count": null,
   "metadata": {
    "scrolled": false
   },
   "outputs": [],
   "source": [
    "miner.run_multiple(\n",
    "    mg_directory=mg_dir,\n",
    "    log_directory='logs/wpbb_mu',\n",
    "    mg_process_directory='./background_samples/wpbb_mu',\n",
    "    proc_card_file='./cards/background_processes/proc_card_wpbb_mu.dat',\n",
    "    param_card_template_file='./cards/param_card_template_smeftsim.dat',\n",
    "    run_card_files=['./cards/run_card_wh_parton.dat' for i in range(nrun)],\n",
    "    sample_benchmarks=['sm'],\n",
    "    initial_command=None\n",
    ")"
   ]
  }
 ],
 "metadata": {
  "kernelspec": {
   "display_name": "Python 3",
   "language": "python",
   "name": "python3"
  },
  "language_info": {
   "codemirror_mode": {
    "name": "ipython",
    "version": 3
   },
   "file_extension": ".py",
   "mimetype": "text/x-python",
   "name": "python",
   "nbconvert_exporter": "python",
   "pygments_lexer": "ipython3",
   "version": "3.9.6"
  },
  "toc": {
   "base_numbering": 1,
   "nav_menu": {},
   "number_sections": true,
   "sideBar": true,
   "skip_h1_title": false,
   "title_cell": "Table of Contents",
   "title_sidebar": "Contents",
   "toc_cell": false,
   "toc_position": {},
   "toc_section_display": true,
   "toc_window_display": false
  }
 },
 "nbformat": 4,
 "nbformat_minor": 2
}
