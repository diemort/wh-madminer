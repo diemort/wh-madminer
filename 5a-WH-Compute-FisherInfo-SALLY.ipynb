{
 "cells": [
  {
   "cell_type": "markdown",
   "metadata": {},
   "source": [
    "## Setup"
   ]
  },
  {
   "cell_type": "code",
   "execution_count": 1,
   "metadata": {},
   "outputs": [
    {
     "name": "stdout",
     "output_type": "stream",
     "text": [
      "MadMiner version: 0.4.10\n"
     ]
    }
   ],
   "source": [
    "import sys\n",
    "import os\n",
    "madminer_src_path = \"/home/shomiller/madminer\"\n",
    "sys.path.append(madminer_src_path)\n",
    "\n",
    "from __future__ import absolute_import, division, print_function, unicode_literals\n",
    "import logging\n",
    "\n",
    "import numpy as np\n",
    "import math\n",
    "import matplotlib\n",
    "from matplotlib import pyplot as plt\n",
    "from scipy.optimize import curve_fit\n",
    "% matplotlib inline\n",
    "from matplotlib.patches import Patch\n",
    "from matplotlib.lines import Line2D\n",
    "\n",
    "from madminer.fisherinformation import FisherInformation\n",
    "from madminer.fisherinformation import project_information, profile_information\n",
    "\n",
    "from pandas import DataFrame\n",
    "\n",
    "import madminer.__version__\n",
    "print( 'MadMiner version: {}'.format(madminer.__version__) )"
   ]
  },
  {
   "cell_type": "code",
   "execution_count": 2,
   "metadata": {
    "collapsed": true
   },
   "outputs": [],
   "source": [
    "# MadMiner output\n",
    "logging.basicConfig(\n",
    "    format='%(asctime)-5.5s %(name)-20.20s %(levelname)-7.7s %(message)s',\n",
    "    datefmt='%H:%M',\n",
    "    level=logging.INFO\n",
    ")\n",
    "\n",
    "# Output of all other modules (e.g. matplotlib)\n",
    "for key in logging.Logger.manager.loggerDict:\n",
    "    if \"madminer\" not in key:\n",
    "        logging.getLogger(key).setLevel(logging.WARNING)"
   ]
  },
  {
   "cell_type": "code",
   "execution_count": 3,
   "metadata": {
    "collapsed": true
   },
   "outputs": [],
   "source": [
    "uselumi=300."
   ]
  },
  {
   "cell_type": "code",
   "execution_count": 4,
   "metadata": {
    "collapsed": true
   },
   "outputs": [],
   "source": [
    "labels = [ 'cHbox', 'cHDD', 'cHW', 'cHq3' ]\n",
    "labels_rot = [ 'cHK', 'cHW', 'cHq3' ]"
   ]
  },
  {
   "cell_type": "markdown",
   "metadata": {
    "heading_collapsed": true
   },
   "source": [
    "### Data Files:\n",
    "\n",
    "Saving the paths for all our lhe data files, for easy use later on.\n",
    "\n",
    "Note, lhedata are saved in the format:\n",
    "`data/{channel}_lhedata_{observables}.h5`\n",
    "while the `SALLY` models are saved in:\n",
    "`models/sally_ensemble_{channel}_{observables}/`\n",
    "\n",
    "here `channel` can be e.g, `wph_mu_wbkgs` or `wmh_e_wbkgs` (or take out the backgrounds for the background free runs), while `observables` can be `full`, `met`, `ptw` or `2d`"
   ]
  },
  {
   "cell_type": "markdown",
   "metadata": {
    "hidden": true
   },
   "source": [
    "#### Signal + Backgrounds"
   ]
  },
  {
   "cell_type": "code",
   "execution_count": 5,
   "metadata": {
    "collapsed": true,
    "hidden": true
   },
   "outputs": [],
   "source": [
    "lhedatafile_wph_mu_wbkgs_full = 'data/full/wph_mu_wbkgs_lhedata_full.h5'\n",
    "lhedatafile_wph_mu_wbkgs_met = 'data/met/wph_mu_wbkgs_lhedata_met.h5'"
   ]
  },
  {
   "cell_type": "code",
   "execution_count": 6,
   "metadata": {
    "collapsed": true,
    "hidden": true
   },
   "outputs": [],
   "source": [
    "lhedatafile_wph_e_wbkgs_full = 'data/full/wph_e_wbkgs_lhedata_full.h5'\n",
    "lhedatafile_wph_e_wbkgs_met = 'data/met/wph_e_wbkgs_lhedata_met.h5'"
   ]
  },
  {
   "cell_type": "code",
   "execution_count": 7,
   "metadata": {
    "collapsed": true,
    "hidden": true
   },
   "outputs": [],
   "source": [
    "lhedatafile_wmh_mu_wbkgs_full = 'data/full/wmh_mu_wbkgs_lhedata_full.h5'\n",
    "lhedatafile_wmh_mu_wbkgs_met = 'data/met/wmh_mu_wbkgs_lhedata_met.h5'"
   ]
  },
  {
   "cell_type": "code",
   "execution_count": 8,
   "metadata": {
    "collapsed": true,
    "hidden": true
   },
   "outputs": [],
   "source": [
    "lhedatafile_wmh_e_wbkgs_full = 'data/full/wmh_e_wbkgs_lhedata_full.h5'\n",
    "lhedatafile_wmh_e_wbkgs_met = 'data/met/wmh_e_wbkgs_lhedata_met.h5'"
   ]
  },
  {
   "cell_type": "markdown",
   "metadata": {
    "hidden": true
   },
   "source": [
    "#### Signal Only"
   ]
  },
  {
   "cell_type": "code",
   "execution_count": 9,
   "metadata": {
    "collapsed": true,
    "hidden": true
   },
   "outputs": [],
   "source": [
    "lhedatafile_wph_mu_full = 'data/full/signal/wph_mu_smeftsim_lhedata_full.h5'\n",
    "lhedatafile_wph_mu_met = 'data/met/signal/wph_mu_smeftsim_lhedata_met.h5'"
   ]
  },
  {
   "cell_type": "code",
   "execution_count": 10,
   "metadata": {
    "collapsed": true,
    "hidden": true
   },
   "outputs": [],
   "source": [
    "lhedatafile_wph_e_full = 'data/full/signal/wph_e_smeftsim_lhedata_full.h5'\n",
    "lhedatafile_wph_e_met = 'data/met/signal/wph_e_smeftsim_lhedata_met.h5'"
   ]
  },
  {
   "cell_type": "code",
   "execution_count": 11,
   "metadata": {
    "collapsed": true,
    "hidden": true
   },
   "outputs": [],
   "source": [
    "lhedatafile_wmh_mu_full = 'data/full/signal/wmh_mu_smeftsim_lhedata_full.h5'\n",
    "lhedatafile_wmh_mu_met = 'data/met/signal/wmh_mu_smeftsim_lhedata_met.h5'"
   ]
  },
  {
   "cell_type": "code",
   "execution_count": 12,
   "metadata": {
    "collapsed": true,
    "hidden": true
   },
   "outputs": [],
   "source": [
    "lhedatafile_wmh_e_full = 'data/full/signal/wmh_e_smeftsim_lhedata_full.h5'\n",
    "lhedatafile_wmh_e_met = 'data/met/signal/wmh_e_smeftsim_lhedata_met.h5'"
   ]
  },
  {
   "cell_type": "markdown",
   "metadata": {
    "hidden": true
   },
   "source": [
    "#### Backgrounds Only"
   ]
  },
  {
   "cell_type": "code",
   "execution_count": 13,
   "metadata": {
    "collapsed": true,
    "hidden": true
   },
   "outputs": [],
   "source": [
    "lhedatafile_wph_mu_backgrounds_only_met = 'data/met/wph_mu_backgrounds_only_lhedata_met.h5'\n",
    "lhedatafile_wph_e_backgrounds_only_met = 'data/met/wph_e_backgrounds_only_lhedata_met.h5'\n",
    "lhedatafile_wmh_mu_backgrounds_only_met = 'data/met/wmh_mu_backgrounds_only_lhedata_met.h5'\n",
    "lhedatafile_wmh_e_backgrounds_only_met = 'data/met/wmh_e_backgrounds_only_lhedata_met.h5'"
   ]
  },
  {
   "cell_type": "markdown",
   "metadata": {
    "hidden": true
   },
   "source": [
    "#### Signal Systematics Only"
   ]
  },
  {
   "cell_type": "code",
   "execution_count": 14,
   "metadata": {
    "collapsed": true,
    "hidden": true
   },
   "outputs": [],
   "source": [
    "lhedatafile_wph_mu_wbkgs_met = 'data/met/wph_mu_wbkgs_sigsystonly_lhedata_met.h5'\n",
    "lhedatafile_wph_e_wbkgs_met = 'data/met/wph_e_wbkgs_sigsystonly_lhedata_met.h5'\n",
    "lhedatafile_wmh_mu_wbkgs_met = 'data/met/wmh_mu_wbkgs_sigsystonly_lhedata_met.h5'\n",
    "lhedatafile_wmh_e_wbkgs_met = 'data/met/wmh_e_wbkgs_sigsystonly_lhedata_met.h5'"
   ]
  },
  {
   "cell_type": "markdown",
   "metadata": {
    "heading_collapsed": true
   },
   "source": [
    "## Setup FisherInfo Objects"
   ]
  },
  {
   "cell_type": "markdown",
   "metadata": {
    "hidden": true
   },
   "source": [
    "### Signal + Background FisherInfo Objects"
   ]
  },
  {
   "cell_type": "code",
   "execution_count": 15,
   "metadata": {
    "collapsed": true,
    "hidden": true
   },
   "outputs": [
    {
     "name": "stderr",
     "output_type": "stream",
     "text": [
      "12:16 madminer.analysis    INFO    Loading data from data/full/wph_mu_wbkgs_lhedata_full.h5\n",
      "12:16 madminer.analysis    INFO    Found 4 parameters\n",
      "12:16 madminer.analysis    INFO    Found 33 nuisance parameters\n",
      "12:16 madminer.analysis    INFO    Found 54 benchmarks, of which 15 physical\n",
      "12:16 madminer.analysis    INFO    Found 60 observables\n",
      "12:16 madminer.analysis    INFO    Found 5000000 events\n",
      "12:16 madminer.analysis    INFO      1000000 signal events sampled from benchmark sm\n",
      "12:16 madminer.analysis    INFO      4000000 background events\n",
      "12:16 madminer.analysis    INFO    Found morphing setup with 15 components\n",
      "12:16 madminer.analysis    INFO    Found nuisance morphing setup\n",
      "12:16 madminer.analysis    INFO    Loading data from data/full/wph_e_wbkgs_lhedata_full.h5\n",
      "12:16 madminer.analysis    INFO    Found 4 parameters\n",
      "12:16 madminer.analysis    INFO    Found 33 nuisance parameters\n",
      "12:16 madminer.analysis    INFO    Found 54 benchmarks, of which 15 physical\n",
      "12:16 madminer.analysis    INFO    Found 60 observables\n",
      "12:16 madminer.analysis    INFO    Found 5000000 events\n",
      "12:16 madminer.analysis    INFO      1000000 signal events sampled from benchmark sm\n",
      "12:16 madminer.analysis    INFO      4000000 background events\n",
      "12:16 madminer.analysis    INFO    Found morphing setup with 15 components\n",
      "12:16 madminer.analysis    INFO    Found nuisance morphing setup\n",
      "12:16 madminer.analysis    INFO    Loading data from data/full/wmh_mu_wbkgs_lhedata_full.h5\n",
      "12:16 madminer.analysis    INFO    Found 4 parameters\n",
      "12:16 madminer.analysis    INFO    Found 33 nuisance parameters\n",
      "12:16 madminer.analysis    INFO    Found 54 benchmarks, of which 15 physical\n",
      "12:16 madminer.analysis    INFO    Found 60 observables\n",
      "12:16 madminer.analysis    INFO    Found 5000000 events\n",
      "12:16 madminer.analysis    INFO      1000000 signal events sampled from benchmark sm\n",
      "12:16 madminer.analysis    INFO      4000000 background events\n",
      "12:16 madminer.analysis    INFO    Found morphing setup with 15 components\n",
      "12:16 madminer.analysis    INFO    Found nuisance morphing setup\n",
      "12:16 madminer.analysis    INFO    Loading data from data/full/wmh_e_wbkgs_lhedata_full.h5\n",
      "12:16 madminer.analysis    INFO    Found 4 parameters\n",
      "12:16 madminer.analysis    INFO    Found 33 nuisance parameters\n",
      "12:16 madminer.analysis    INFO    Found 54 benchmarks, of which 15 physical\n",
      "12:16 madminer.analysis    INFO    Found 60 observables\n",
      "12:16 madminer.analysis    INFO    Found 5000000 events\n",
      "12:16 madminer.analysis    INFO      1000000 signal events sampled from benchmark sm\n",
      "12:16 madminer.analysis    INFO      4000000 background events\n",
      "12:16 madminer.analysis    INFO    Found morphing setup with 15 components\n",
      "12:16 madminer.analysis    INFO    Found nuisance morphing setup\n"
     ]
    }
   ],
   "source": [
    "fisher_wph_mu_wbkgs_full = FisherInformation(lhedatafile_wph_mu_wbkgs_full, include_nuisance_parameters=True)\n",
    "fisher_wph_e_wbkgs_full = FisherInformation(lhedatafile_wph_e_wbkgs_full, include_nuisance_parameters=True)\n",
    "fisher_wmh_mu_wbkgs_full = FisherInformation(lhedatafile_wmh_mu_wbkgs_full, include_nuisance_parameters=True)\n",
    "fisher_wmh_e_wbkgs_full = FisherInformation(lhedatafile_wmh_e_wbkgs_full, include_nuisance_parameters=True)"
   ]
  },
  {
   "cell_type": "code",
   "execution_count": 16,
   "metadata": {
    "collapsed": true,
    "hidden": true
   },
   "outputs": [
    {
     "name": "stderr",
     "output_type": "stream",
     "text": [
      "12:16 madminer.analysis    INFO    Loading data from data/met/wph_mu_wbkgs_sigsystonly_lhedata_met.h5\n",
      "12:16 madminer.analysis    INFO    Found 4 parameters\n",
      "12:16 madminer.analysis    INFO    Found 33 nuisance parameters\n",
      "12:16 madminer.analysis    INFO    Found 54 benchmarks, of which 15 physical\n",
      "12:16 madminer.analysis    INFO    Found 48 observables\n",
      "12:16 madminer.analysis    INFO    Found 5000000 events\n",
      "12:16 madminer.analysis    INFO      1000000 signal events sampled from benchmark sm\n",
      "12:16 madminer.analysis    INFO      4000000 background events\n",
      "12:16 madminer.analysis    INFO    Found morphing setup with 15 components\n",
      "12:16 madminer.analysis    INFO    Found nuisance morphing setup\n",
      "12:16 madminer.analysis    INFO    Loading data from data/met/wph_e_wbkgs_sigsystonly_lhedata_met.h5\n",
      "12:16 madminer.analysis    INFO    Found 4 parameters\n",
      "12:16 madminer.analysis    INFO    Found 33 nuisance parameters\n",
      "12:16 madminer.analysis    INFO    Found 54 benchmarks, of which 15 physical\n",
      "12:16 madminer.analysis    INFO    Found 48 observables\n",
      "12:16 madminer.analysis    INFO    Found 5000000 events\n",
      "12:16 madminer.analysis    INFO      1000000 signal events sampled from benchmark sm\n",
      "12:16 madminer.analysis    INFO      4000000 background events\n",
      "12:16 madminer.analysis    INFO    Found morphing setup with 15 components\n",
      "12:16 madminer.analysis    INFO    Found nuisance morphing setup\n",
      "12:16 madminer.analysis    INFO    Loading data from data/met/wmh_mu_wbkgs_sigsystonly_lhedata_met.h5\n",
      "12:16 madminer.analysis    INFO    Found 4 parameters\n",
      "12:16 madminer.analysis    INFO    Found 33 nuisance parameters\n",
      "12:16 madminer.analysis    INFO    Found 54 benchmarks, of which 15 physical\n",
      "12:16 madminer.analysis    INFO    Found 48 observables\n",
      "12:16 madminer.analysis    INFO    Found 5000000 events\n",
      "12:16 madminer.analysis    INFO      1000000 signal events sampled from benchmark sm\n",
      "12:16 madminer.analysis    INFO      4000000 background events\n",
      "12:16 madminer.analysis    INFO    Found morphing setup with 15 components\n",
      "12:16 madminer.analysis    INFO    Found nuisance morphing setup\n",
      "12:16 madminer.analysis    INFO    Loading data from data/met/wmh_e_wbkgs_sigsystonly_lhedata_met.h5\n",
      "12:16 madminer.analysis    INFO    Found 4 parameters\n",
      "12:16 madminer.analysis    INFO    Found 33 nuisance parameters\n",
      "12:16 madminer.analysis    INFO    Found 54 benchmarks, of which 15 physical\n",
      "12:16 madminer.analysis    INFO    Found 48 observables\n",
      "12:16 madminer.analysis    INFO    Found 5000000 events\n",
      "12:16 madminer.analysis    INFO      1000000 signal events sampled from benchmark sm\n",
      "12:16 madminer.analysis    INFO      4000000 background events\n",
      "12:16 madminer.analysis    INFO    Found morphing setup with 15 components\n",
      "12:16 madminer.analysis    INFO    Found nuisance morphing setup\n"
     ]
    }
   ],
   "source": [
    "fisher_wph_mu_wbkgs_met = FisherInformation(lhedatafile_wph_mu_wbkgs_met, include_nuisance_parameters=True)\n",
    "fisher_wph_e_wbkgs_met = FisherInformation(lhedatafile_wph_e_wbkgs_met, include_nuisance_parameters=True)\n",
    "fisher_wmh_mu_wbkgs_met = FisherInformation(lhedatafile_wmh_mu_wbkgs_met, include_nuisance_parameters=True)\n",
    "fisher_wmh_e_wbkgs_met = FisherInformation(lhedatafile_wmh_e_wbkgs_met, include_nuisance_parameters=True)"
   ]
  },
  {
   "cell_type": "markdown",
   "metadata": {
    "hidden": true
   },
   "source": [
    "### The Backgroud Free Setups"
   ]
  },
  {
   "cell_type": "code",
   "execution_count": 17,
   "metadata": {
    "collapsed": true,
    "hidden": true
   },
   "outputs": [
    {
     "name": "stderr",
     "output_type": "stream",
     "text": [
      "12:16 madminer.analysis    INFO    Loading data from data/full/signal/wph_mu_smeftsim_lhedata_full.h5\n",
      "12:16 madminer.analysis    INFO    Found 4 parameters\n",
      "12:16 madminer.analysis    INFO    Found 33 nuisance parameters\n",
      "12:16 madminer.analysis    INFO    Found 54 benchmarks, of which 15 physical\n",
      "12:16 madminer.analysis    INFO    Found 60 observables\n",
      "12:16 madminer.analysis    INFO    Found 1000000 events\n",
      "12:16 madminer.analysis    INFO      1000000 signal events sampled from benchmark sm\n",
      "12:16 madminer.analysis    INFO    Found morphing setup with 15 components\n",
      "12:16 madminer.analysis    INFO    Found nuisance morphing setup\n",
      "12:16 madminer.analysis    INFO    Loading data from data/full/signal/wph_e_smeftsim_lhedata_full.h5\n",
      "12:16 madminer.analysis    INFO    Found 4 parameters\n",
      "12:16 madminer.analysis    INFO    Found 33 nuisance parameters\n",
      "12:16 madminer.analysis    INFO    Found 54 benchmarks, of which 15 physical\n",
      "12:16 madminer.analysis    INFO    Found 60 observables\n",
      "12:16 madminer.analysis    INFO    Found 1000000 events\n",
      "12:16 madminer.analysis    INFO      1000000 signal events sampled from benchmark sm\n",
      "12:16 madminer.analysis    INFO    Found morphing setup with 15 components\n",
      "12:16 madminer.analysis    INFO    Found nuisance morphing setup\n",
      "12:16 madminer.analysis    INFO    Loading data from data/full/signal/wmh_mu_smeftsim_lhedata_full.h5\n",
      "12:16 madminer.analysis    INFO    Found 4 parameters\n",
      "12:16 madminer.analysis    INFO    Found 33 nuisance parameters\n",
      "12:16 madminer.analysis    INFO    Found 54 benchmarks, of which 15 physical\n",
      "12:16 madminer.analysis    INFO    Found 60 observables\n",
      "12:16 madminer.analysis    INFO    Found 1000000 events\n",
      "12:16 madminer.analysis    INFO      1000000 signal events sampled from benchmark sm\n",
      "12:16 madminer.analysis    INFO    Found morphing setup with 15 components\n",
      "12:16 madminer.analysis    INFO    Found nuisance morphing setup\n",
      "12:16 madminer.analysis    INFO    Loading data from data/full/signal/wmh_e_smeftsim_lhedata_full.h5\n",
      "12:16 madminer.analysis    INFO    Found 4 parameters\n",
      "12:16 madminer.analysis    INFO    Found 33 nuisance parameters\n",
      "12:16 madminer.analysis    INFO    Found 54 benchmarks, of which 15 physical\n",
      "12:16 madminer.analysis    INFO    Found 60 observables\n",
      "12:16 madminer.analysis    INFO    Found 1000000 events\n",
      "12:16 madminer.analysis    INFO      1000000 signal events sampled from benchmark sm\n",
      "12:16 madminer.analysis    INFO    Found morphing setup with 15 components\n",
      "12:16 madminer.analysis    INFO    Found nuisance morphing setup\n"
     ]
    }
   ],
   "source": [
    "fisher_wph_mu_full = FisherInformation(lhedatafile_wph_mu_full, include_nuisance_parameters=True)\n",
    "fisher_wph_e_full = FisherInformation(lhedatafile_wph_e_full, include_nuisance_parameters=True)\n",
    "fisher_wmh_mu_full = FisherInformation(lhedatafile_wmh_mu_full, include_nuisance_parameters=True)\n",
    "fisher_wmh_e_full = FisherInformation(lhedatafile_wmh_e_full, include_nuisance_parameters=True)"
   ]
  },
  {
   "cell_type": "code",
   "execution_count": 18,
   "metadata": {
    "collapsed": true,
    "hidden": true
   },
   "outputs": [
    {
     "name": "stderr",
     "output_type": "stream",
     "text": [
      "12:16 madminer.analysis    INFO    Loading data from data/met/signal/wph_mu_smeftsim_lhedata_met.h5\n",
      "12:16 madminer.analysis    INFO    Found 4 parameters\n",
      "12:16 madminer.analysis    INFO    Found 33 nuisance parameters\n",
      "12:16 madminer.analysis    INFO    Found 54 benchmarks, of which 15 physical\n",
      "12:16 madminer.analysis    INFO    Found 48 observables\n",
      "12:16 madminer.analysis    INFO    Found 1000000 events\n",
      "12:16 madminer.analysis    INFO      1000000 signal events sampled from benchmark sm\n",
      "12:16 madminer.analysis    INFO    Found morphing setup with 15 components\n",
      "12:16 madminer.analysis    INFO    Found nuisance morphing setup\n",
      "12:16 madminer.analysis    INFO    Loading data from data/met/signal/wph_e_smeftsim_lhedata_met.h5\n",
      "12:16 madminer.analysis    INFO    Found 4 parameters\n",
      "12:16 madminer.analysis    INFO    Found 33 nuisance parameters\n",
      "12:16 madminer.analysis    INFO    Found 54 benchmarks, of which 15 physical\n",
      "12:16 madminer.analysis    INFO    Found 48 observables\n",
      "12:16 madminer.analysis    INFO    Found 1000000 events\n",
      "12:16 madminer.analysis    INFO      1000000 signal events sampled from benchmark sm\n",
      "12:16 madminer.analysis    INFO    Found morphing setup with 15 components\n",
      "12:16 madminer.analysis    INFO    Found nuisance morphing setup\n",
      "12:16 madminer.analysis    INFO    Loading data from data/met/signal/wmh_mu_smeftsim_lhedata_met.h5\n",
      "12:16 madminer.analysis    INFO    Found 4 parameters\n",
      "12:16 madminer.analysis    INFO    Found 33 nuisance parameters\n",
      "12:16 madminer.analysis    INFO    Found 54 benchmarks, of which 15 physical\n",
      "12:16 madminer.analysis    INFO    Found 48 observables\n",
      "12:16 madminer.analysis    INFO    Found 1000000 events\n",
      "12:16 madminer.analysis    INFO      1000000 signal events sampled from benchmark sm\n",
      "12:16 madminer.analysis    INFO    Found morphing setup with 15 components\n",
      "12:16 madminer.analysis    INFO    Found nuisance morphing setup\n",
      "12:16 madminer.analysis    INFO    Loading data from data/met/signal/wmh_e_smeftsim_lhedata_met.h5\n",
      "12:16 madminer.analysis    INFO    Found 4 parameters\n",
      "12:16 madminer.analysis    INFO    Found 33 nuisance parameters\n",
      "12:16 madminer.analysis    INFO    Found 54 benchmarks, of which 15 physical\n",
      "12:16 madminer.analysis    INFO    Found 48 observables\n",
      "12:16 madminer.analysis    INFO    Found 1000000 events\n",
      "12:16 madminer.analysis    INFO      1000000 signal events sampled from benchmark sm\n",
      "12:16 madminer.analysis    INFO    Found morphing setup with 15 components\n",
      "12:16 madminer.analysis    INFO    Found nuisance morphing setup\n"
     ]
    }
   ],
   "source": [
    "fisher_wph_mu_met = FisherInformation(lhedatafile_wph_mu_met, include_nuisance_parameters=True)\n",
    "fisher_wph_e_met = FisherInformation(lhedatafile_wph_e_met, include_nuisance_parameters=True)\n",
    "fisher_wmh_mu_met = FisherInformation(lhedatafile_wmh_mu_met, include_nuisance_parameters=True)\n",
    "fisher_wmh_e_met = FisherInformation(lhedatafile_wmh_e_met, include_nuisance_parameters=True)"
   ]
  },
  {
   "cell_type": "markdown",
   "metadata": {},
   "source": [
    "# Computing The Fisher Information from a Score Estimator"
   ]
  },
  {
   "cell_type": "markdown",
   "metadata": {},
   "source": [
    "## Get the SALLY Information "
   ]
  },
  {
   "cell_type": "markdown",
   "metadata": {},
   "source": [
    "Here we compute the Fisher Info from the `SALLY` method for each channel and observable."
   ]
  },
  {
   "cell_type": "markdown",
   "metadata": {},
   "source": [
    "### $W^+ \\to \\mu^+ \\nu_{\\mu}$"
   ]
  },
  {
   "cell_type": "code",
   "execution_count": 19,
   "metadata": {
    "collapsed": true
   },
   "outputs": [
    {
     "name": "stderr",
     "output_type": "stream",
     "text": [
      "12:16 madminer.ml          INFO    Found score ensemble with 5 estimators\n",
      "12:16 madminer.ml          INFO    Loading model from models/full/ensemble_wph_mu_wbkgs_lhedata_full/estimator_0\n",
      "12:16 madminer.ml          INFO    Loading model from models/full/ensemble_wph_mu_wbkgs_lhedata_full/estimator_1\n",
      "12:16 madminer.ml          INFO    Loading model from models/full/ensemble_wph_mu_wbkgs_lhedata_full/estimator_2\n",
      "12:16 madminer.ml          INFO    Loading model from models/full/ensemble_wph_mu_wbkgs_lhedata_full/estimator_3\n",
      "12:16 madminer.ml          INFO    Loading model from models/full/ensemble_wph_mu_wbkgs_lhedata_full/estimator_4\n",
      "12:16 madminer.fisherinfor INFO    Found 4 parameters in SALLY model, matching 4 physical parameters in MadMiner file\n",
      "12:24 madminer.fisherinfor INFO    Evaluating rate Fisher information\n",
      "12:30 madminer.fisherinfor INFO    Evaluating kinematic Fisher information on batch 1 / 10\n",
      "12:30 madminer.ml          INFO    Starting score evaluation\n",
      "12:30 madminer.ml          INFO    Starting score evaluation\n",
      "12:30 madminer.ml          INFO    Starting score evaluation\n",
      "12:30 madminer.ml          INFO    Starting score evaluation\n",
      "12:30 madminer.ml          INFO    Starting score evaluation\n",
      "12:30 madminer.fisherinfor INFO    Evaluating kinematic Fisher information on batch 2 / 10\n",
      "12:30 madminer.ml          INFO    Starting score evaluation\n",
      "12:30 madminer.ml          INFO    Starting score evaluation\n",
      "12:30 madminer.ml          INFO    Starting score evaluation\n",
      "12:30 madminer.ml          INFO    Starting score evaluation\n",
      "12:30 madminer.ml          INFO    Starting score evaluation\n",
      "12:30 madminer.fisherinfor INFO    Evaluating kinematic Fisher information on batch 3 / 10\n",
      "12:30 madminer.ml          INFO    Starting score evaluation\n",
      "12:30 madminer.ml          INFO    Starting score evaluation\n",
      "12:30 madminer.ml          INFO    Starting score evaluation\n",
      "12:30 madminer.ml          INFO    Starting score evaluation\n",
      "12:30 madminer.ml          INFO    Starting score evaluation\n",
      "12:30 madminer.fisherinfor INFO    Evaluating kinematic Fisher information on batch 4 / 10\n",
      "12:30 madminer.ml          INFO    Starting score evaluation\n",
      "12:30 madminer.ml          INFO    Starting score evaluation\n",
      "12:30 madminer.ml          INFO    Starting score evaluation\n",
      "12:30 madminer.ml          INFO    Starting score evaluation\n",
      "12:30 madminer.ml          INFO    Starting score evaluation\n",
      "12:30 madminer.fisherinfor INFO    Evaluating kinematic Fisher information on batch 5 / 10\n",
      "12:30 madminer.ml          INFO    Starting score evaluation\n",
      "12:30 madminer.ml          INFO    Starting score evaluation\n",
      "12:30 madminer.ml          INFO    Starting score evaluation\n",
      "12:30 madminer.ml          INFO    Starting score evaluation\n",
      "12:30 madminer.ml          INFO    Starting score evaluation\n",
      "12:30 madminer.fisherinfor INFO    Evaluating kinematic Fisher information on batch 6 / 10\n",
      "12:30 madminer.ml          INFO    Starting score evaluation\n",
      "12:30 madminer.ml          INFO    Starting score evaluation\n",
      "12:30 madminer.ml          INFO    Starting score evaluation\n",
      "12:30 madminer.ml          INFO    Starting score evaluation\n",
      "12:30 madminer.ml          INFO    Starting score evaluation\n",
      "12:30 madminer.fisherinfor INFO    Evaluating kinematic Fisher information on batch 7 / 10\n",
      "12:30 madminer.ml          INFO    Starting score evaluation\n",
      "12:30 madminer.ml          INFO    Starting score evaluation\n",
      "12:30 madminer.ml          INFO    Starting score evaluation\n",
      "12:30 madminer.ml          INFO    Starting score evaluation\n",
      "12:30 madminer.ml          INFO    Starting score evaluation\n",
      "12:30 madminer.fisherinfor INFO    Evaluating kinematic Fisher information on batch 8 / 10\n",
      "12:30 madminer.ml          INFO    Starting score evaluation\n",
      "12:30 madminer.ml          INFO    Starting score evaluation\n",
      "12:30 madminer.ml          INFO    Starting score evaluation\n",
      "12:30 madminer.ml          INFO    Starting score evaluation\n",
      "12:30 madminer.ml          INFO    Starting score evaluation\n",
      "12:30 madminer.fisherinfor INFO    Evaluating kinematic Fisher information on batch 9 / 10\n",
      "12:30 madminer.ml          INFO    Starting score evaluation\n",
      "12:30 madminer.ml          INFO    Starting score evaluation\n",
      "12:30 madminer.ml          INFO    Starting score evaluation\n",
      "12:30 madminer.ml          INFO    Starting score evaluation\n",
      "12:30 madminer.ml          INFO    Starting score evaluation\n",
      "12:30 madminer.fisherinfor INFO    Evaluating kinematic Fisher information on batch 10 / 10\n",
      "12:30 madminer.ml          INFO    Starting score evaluation\n",
      "12:30 madminer.ml          INFO    Starting score evaluation\n",
      "12:30 madminer.ml          INFO    Starting score evaluation\n",
      "12:30 madminer.ml          INFO    Starting score evaluation\n",
      "12:31 madminer.ml          INFO    Starting score evaluation\n"
     ]
    },
    {
     "name": "stdout",
     "output_type": "stream",
     "text": [
      "            cHbox       cHDD        cHW       cHq3\n",
      "cHbox  112.698543 -28.178881  40.911054  14.563230\n",
      "cHDD   -28.178881   7.046054 -10.231161  -3.643546\n",
      "cHW     40.911054 -10.231161  18.209911   5.847202\n",
      "cHq3    14.563230  -3.643546   5.847202   4.386869\n"
     ]
    }
   ],
   "source": [
    "fi_sally_wph_mu_wbkgs_full_mean, fi_sally_wph_mu_wbkgs_full_covariance = fisher_wph_mu_wbkgs_full.calculate_fisher_information_full_detector(\n",
    "    theta=[0.,0.,0.,0.],\n",
    "    model_file='models/full/ensemble_wph_mu_wbkgs_lhedata_full',\n",
    "    luminosity=uselumi*1000.\n",
    ")\n",
    "\n",
    "print( DataFrame(\n",
    "    data = project_information(fi_sally_wph_mu_wbkgs_full_mean, [0,1,2,3]),\n",
    "    columns = labels,\n",
    "    index = labels)\n",
    ")"
   ]
  },
  {
   "cell_type": "code",
   "execution_count": 20,
   "metadata": {
    "collapsed": true
   },
   "outputs": [
    {
     "name": "stderr",
     "output_type": "stream",
     "text": [
      "12:31 madminer.ml          INFO    Found score ensemble with 5 estimators\n",
      "12:31 madminer.ml          INFO    Loading model from models/met/ensemble_newest_wph_mu_wbkgs_sigsystonly_lhedata_met/estimator_0\n",
      "12:31 madminer.ml          INFO    Loading model from models/met/ensemble_newest_wph_mu_wbkgs_sigsystonly_lhedata_met/estimator_1\n",
      "12:31 madminer.ml          INFO    Loading model from models/met/ensemble_newest_wph_mu_wbkgs_sigsystonly_lhedata_met/estimator_2\n",
      "12:31 madminer.ml          INFO    Loading model from models/met/ensemble_newest_wph_mu_wbkgs_sigsystonly_lhedata_met/estimator_3\n",
      "12:31 madminer.ml          INFO    Loading model from models/met/ensemble_newest_wph_mu_wbkgs_sigsystonly_lhedata_met/estimator_4\n",
      "12:31 madminer.fisherinfor INFO    Found 4 parameters in SALLY model, matching 4 physical parameters in MadMiner file\n",
      "12:39 madminer.fisherinfor INFO    Evaluating rate Fisher information\n",
      "12:44 madminer.fisherinfor INFO    Evaluating kinematic Fisher information on batch 1 / 10\n",
      "12:44 madminer.ml          INFO    Starting score evaluation\n",
      "12:44 madminer.ml          INFO    Starting score evaluation\n",
      "12:44 madminer.ml          INFO    Starting score evaluation\n",
      "12:44 madminer.ml          INFO    Starting score evaluation\n",
      "12:44 madminer.ml          INFO    Starting score evaluation\n",
      "12:45 madminer.fisherinfor INFO    Evaluating kinematic Fisher information on batch 2 / 10\n",
      "12:45 madminer.ml          INFO    Starting score evaluation\n",
      "12:45 madminer.ml          INFO    Starting score evaluation\n",
      "12:45 madminer.ml          INFO    Starting score evaluation\n",
      "12:45 madminer.ml          INFO    Starting score evaluation\n",
      "12:45 madminer.ml          INFO    Starting score evaluation\n",
      "12:45 madminer.fisherinfor INFO    Evaluating kinematic Fisher information on batch 3 / 10\n",
      "12:45 madminer.ml          INFO    Starting score evaluation\n",
      "12:45 madminer.ml          INFO    Starting score evaluation\n",
      "12:45 madminer.ml          INFO    Starting score evaluation\n",
      "12:45 madminer.ml          INFO    Starting score evaluation\n",
      "12:45 madminer.ml          INFO    Starting score evaluation\n",
      "12:45 madminer.fisherinfor INFO    Evaluating kinematic Fisher information on batch 4 / 10\n",
      "12:45 madminer.ml          INFO    Starting score evaluation\n",
      "12:45 madminer.ml          INFO    Starting score evaluation\n",
      "12:45 madminer.ml          INFO    Starting score evaluation\n",
      "12:45 madminer.ml          INFO    Starting score evaluation\n",
      "12:45 madminer.ml          INFO    Starting score evaluation\n",
      "12:45 madminer.fisherinfor INFO    Evaluating kinematic Fisher information on batch 5 / 10\n",
      "12:45 madminer.ml          INFO    Starting score evaluation\n",
      "12:45 madminer.ml          INFO    Starting score evaluation\n",
      "12:45 madminer.ml          INFO    Starting score evaluation\n",
      "12:45 madminer.ml          INFO    Starting score evaluation\n",
      "12:45 madminer.ml          INFO    Starting score evaluation\n",
      "12:45 madminer.fisherinfor INFO    Evaluating kinematic Fisher information on batch 6 / 10\n",
      "12:45 madminer.ml          INFO    Starting score evaluation\n",
      "12:45 madminer.ml          INFO    Starting score evaluation\n",
      "12:45 madminer.ml          INFO    Starting score evaluation\n",
      "12:45 madminer.ml          INFO    Starting score evaluation\n",
      "12:45 madminer.ml          INFO    Starting score evaluation\n",
      "12:45 madminer.fisherinfor INFO    Evaluating kinematic Fisher information on batch 7 / 10\n",
      "12:45 madminer.ml          INFO    Starting score evaluation\n",
      "12:45 madminer.ml          INFO    Starting score evaluation\n",
      "12:45 madminer.ml          INFO    Starting score evaluation\n",
      "12:45 madminer.ml          INFO    Starting score evaluation\n",
      "12:45 madminer.ml          INFO    Starting score evaluation\n",
      "12:45 madminer.fisherinfor INFO    Evaluating kinematic Fisher information on batch 8 / 10\n",
      "12:45 madminer.ml          INFO    Starting score evaluation\n",
      "12:45 madminer.ml          INFO    Starting score evaluation\n",
      "12:45 madminer.ml          INFO    Starting score evaluation\n",
      "12:45 madminer.ml          INFO    Starting score evaluation\n",
      "12:45 madminer.ml          INFO    Starting score evaluation\n",
      "12:45 madminer.fisherinfor INFO    Evaluating kinematic Fisher information on batch 9 / 10\n",
      "12:45 madminer.ml          INFO    Starting score evaluation\n",
      "12:45 madminer.ml          INFO    Starting score evaluation\n",
      "12:45 madminer.ml          INFO    Starting score evaluation\n",
      "12:45 madminer.ml          INFO    Starting score evaluation\n",
      "12:45 madminer.ml          INFO    Starting score evaluation\n",
      "12:45 madminer.fisherinfor INFO    Evaluating kinematic Fisher information on batch 10 / 10\n",
      "12:45 madminer.ml          INFO    Starting score evaluation\n",
      "12:45 madminer.ml          INFO    Starting score evaluation\n",
      "12:45 madminer.ml          INFO    Starting score evaluation\n",
      "12:45 madminer.ml          INFO    Starting score evaluation\n",
      "12:45 madminer.ml          INFO    Starting score evaluation\n"
     ]
    },
    {
     "name": "stdout",
     "output_type": "stream",
     "text": [
      "           cHbox       cHDD        cHW       cHq3\n",
      "cHbox  78.670156 -19.638596  28.640755  11.050045\n",
      "cHDD  -19.638596   4.902543  -7.151733  -2.766995\n",
      "cHW    28.640755  -7.151733  11.134354   4.467321\n",
      "cHq3   11.050045  -2.766995   4.467321   3.967114\n"
     ]
    }
   ],
   "source": [
    "fi_sally_wph_mu_wbkgs_met_mean, fi_sally_wph_mu_wbkgs_met_covariance = fisher_wph_mu_wbkgs_met.calculate_fisher_information_full_detector(\n",
    "    theta=[0.,0.,0.,0.],\n",
    "    model_file='models/met/ensemble_newest_wph_mu_wbkgs_sigsystonly_lhedata_met',\n",
    "    luminosity=uselumi*1000.\n",
    ")\n",
    "\n",
    "print( DataFrame(\n",
    "    data = project_information(fi_sally_wph_mu_wbkgs_met_mean, [0,1,2,3]),\n",
    "    columns = labels,\n",
    "    index = labels)\n",
    ")"
   ]
  },
  {
   "cell_type": "code",
   "execution_count": 21,
   "metadata": {
    "collapsed": true
   },
   "outputs": [
    {
     "name": "stderr",
     "output_type": "stream",
     "text": [
      "12:45 madminer.ml          INFO    Found score ensemble with 5 estimators\n",
      "12:45 madminer.ml          INFO    Loading model from models/ptw/ensemble_newest_wph_mu_wbkgs_sigsystonly_lhedata_met_ptw/estimator_0\n",
      "12:45 madminer.ml          INFO    Loading model from models/ptw/ensemble_newest_wph_mu_wbkgs_sigsystonly_lhedata_met_ptw/estimator_1\n",
      "12:45 madminer.ml          INFO    Loading model from models/ptw/ensemble_newest_wph_mu_wbkgs_sigsystonly_lhedata_met_ptw/estimator_2\n",
      "12:45 madminer.ml          INFO    Loading model from models/ptw/ensemble_newest_wph_mu_wbkgs_sigsystonly_lhedata_met_ptw/estimator_3\n",
      "12:45 madminer.ml          INFO    Loading model from models/ptw/ensemble_newest_wph_mu_wbkgs_sigsystonly_lhedata_met_ptw/estimator_4\n",
      "12:45 madminer.fisherinfor INFO    Found 4 parameters in SALLY model, matching 4 physical parameters in MadMiner file\n",
      "12:50 madminer.fisherinfor INFO    Evaluating rate Fisher information\n",
      "12:55 madminer.fisherinfor INFO    Evaluating kinematic Fisher information on batch 1 / 10\n",
      "12:55 madminer.ml          INFO    Starting score evaluation\n",
      "12:55 madminer.ml          INFO    Starting score evaluation\n",
      "12:55 madminer.ml          INFO    Starting score evaluation\n",
      "12:55 madminer.ml          INFO    Starting score evaluation\n",
      "12:55 madminer.ml          INFO    Starting score evaluation\n",
      "12:55 madminer.fisherinfor INFO    Evaluating kinematic Fisher information on batch 2 / 10\n",
      "12:55 madminer.ml          INFO    Starting score evaluation\n",
      "12:55 madminer.ml          INFO    Starting score evaluation\n",
      "12:55 madminer.ml          INFO    Starting score evaluation\n",
      "12:55 madminer.ml          INFO    Starting score evaluation\n",
      "12:55 madminer.ml          INFO    Starting score evaluation\n",
      "12:55 madminer.fisherinfor INFO    Evaluating kinematic Fisher information on batch 3 / 10\n",
      "12:55 madminer.ml          INFO    Starting score evaluation\n",
      "12:55 madminer.ml          INFO    Starting score evaluation\n",
      "12:55 madminer.ml          INFO    Starting score evaluation\n",
      "12:55 madminer.ml          INFO    Starting score evaluation\n",
      "12:55 madminer.ml          INFO    Starting score evaluation\n",
      "12:55 madminer.fisherinfor INFO    Evaluating kinematic Fisher information on batch 4 / 10\n",
      "12:55 madminer.ml          INFO    Starting score evaluation\n",
      "12:55 madminer.ml          INFO    Starting score evaluation\n",
      "12:55 madminer.ml          INFO    Starting score evaluation\n",
      "12:55 madminer.ml          INFO    Starting score evaluation\n",
      "12:55 madminer.ml          INFO    Starting score evaluation\n",
      "12:55 madminer.fisherinfor INFO    Evaluating kinematic Fisher information on batch 5 / 10\n",
      "12:55 madminer.ml          INFO    Starting score evaluation\n",
      "12:55 madminer.ml          INFO    Starting score evaluation\n",
      "12:55 madminer.ml          INFO    Starting score evaluation\n",
      "12:55 madminer.ml          INFO    Starting score evaluation\n",
      "12:55 madminer.ml          INFO    Starting score evaluation\n",
      "12:55 madminer.fisherinfor INFO    Evaluating kinematic Fisher information on batch 6 / 10\n",
      "12:55 madminer.ml          INFO    Starting score evaluation\n",
      "12:55 madminer.ml          INFO    Starting score evaluation\n",
      "12:55 madminer.ml          INFO    Starting score evaluation\n",
      "12:55 madminer.ml          INFO    Starting score evaluation\n",
      "12:55 madminer.ml          INFO    Starting score evaluation\n",
      "12:55 madminer.fisherinfor INFO    Evaluating kinematic Fisher information on batch 7 / 10\n",
      "12:55 madminer.ml          INFO    Starting score evaluation\n",
      "12:55 madminer.ml          INFO    Starting score evaluation\n",
      "12:55 madminer.ml          INFO    Starting score evaluation\n",
      "12:55 madminer.ml          INFO    Starting score evaluation\n",
      "12:55 madminer.ml          INFO    Starting score evaluation\n",
      "12:55 madminer.fisherinfor INFO    Evaluating kinematic Fisher information on batch 8 / 10\n",
      "12:55 madminer.ml          INFO    Starting score evaluation\n",
      "12:55 madminer.ml          INFO    Starting score evaluation\n",
      "12:55 madminer.ml          INFO    Starting score evaluation\n",
      "12:55 madminer.ml          INFO    Starting score evaluation\n",
      "12:55 madminer.ml          INFO    Starting score evaluation\n",
      "12:55 madminer.fisherinfor INFO    Evaluating kinematic Fisher information on batch 9 / 10\n",
      "12:55 madminer.ml          INFO    Starting score evaluation\n",
      "12:55 madminer.ml          INFO    Starting score evaluation\n",
      "12:55 madminer.ml          INFO    Starting score evaluation\n",
      "12:55 madminer.ml          INFO    Starting score evaluation\n",
      "12:55 madminer.ml          INFO    Starting score evaluation\n",
      "12:55 madminer.fisherinfor INFO    Evaluating kinematic Fisher information on batch 10 / 10\n",
      "12:55 madminer.ml          INFO    Starting score evaluation\n",
      "12:55 madminer.ml          INFO    Starting score evaluation\n",
      "12:55 madminer.ml          INFO    Starting score evaluation\n",
      "12:55 madminer.ml          INFO    Starting score evaluation\n",
      "12:55 madminer.ml          INFO    Starting score evaluation\n"
     ]
    },
    {
     "name": "stdout",
     "output_type": "stream",
     "text": [
      "           cHbox      cHDD        cHW      cHq3\n",
      "cHbox  31.694005 -7.923772  12.126026  5.559544\n",
      "cHDD   -7.923772  1.981013  -3.031642 -1.390032\n",
      "cHW    12.126026 -3.031642   4.685843  2.283302\n",
      "cHq3    5.559544 -1.390032   2.283302  2.376040\n"
     ]
    }
   ],
   "source": [
    "fi_sally_wph_mu_wbkgs_ptw_mean, fi_sally_wph_mu_wbkgs_ptw_covariance = fisher_wph_mu_wbkgs_met.calculate_fisher_information_full_detector(\n",
    "    theta=[0.,0.,0.,0.],\n",
    "    model_file='models/ptw/ensemble_newest_wph_mu_wbkgs_sigsystonly_lhedata_met_ptw',\n",
    "    luminosity=uselumi*1000.\n",
    ")\n",
    "\n",
    "print( DataFrame(\n",
    "    data = project_information(fi_sally_wph_mu_wbkgs_ptw_mean, [0,1,2,3]),\n",
    "    columns = labels,\n",
    "    index = labels)\n",
    ")"
   ]
  },
  {
   "cell_type": "code",
   "execution_count": 22,
   "metadata": {
    "collapsed": true
   },
   "outputs": [
    {
     "name": "stderr",
     "output_type": "stream",
     "text": [
      "12:55 madminer.ml          INFO    Found score ensemble with 5 estimators\n",
      "12:55 madminer.ml          INFO    Loading model from models/2d/ensemble_newest_wph_mu_wbkgs_sigsystonly_lhedata_met_ptw_mttot/estimator_0\n",
      "12:55 madminer.ml          INFO    Loading model from models/2d/ensemble_newest_wph_mu_wbkgs_sigsystonly_lhedata_met_ptw_mttot/estimator_1\n",
      "12:55 madminer.ml          INFO    Loading model from models/2d/ensemble_newest_wph_mu_wbkgs_sigsystonly_lhedata_met_ptw_mttot/estimator_2\n",
      "12:55 madminer.ml          INFO    Loading model from models/2d/ensemble_newest_wph_mu_wbkgs_sigsystonly_lhedata_met_ptw_mttot/estimator_3\n",
      "12:55 madminer.ml          INFO    Loading model from models/2d/ensemble_newest_wph_mu_wbkgs_sigsystonly_lhedata_met_ptw_mttot/estimator_4\n",
      "12:55 madminer.fisherinfor INFO    Found 4 parameters in SALLY model, matching 4 physical parameters in MadMiner file\n",
      "13:00 madminer.fisherinfor INFO    Evaluating rate Fisher information\n",
      "13:05 madminer.fisherinfor INFO    Evaluating kinematic Fisher information on batch 1 / 10\n",
      "13:05 madminer.ml          INFO    Starting score evaluation\n",
      "13:05 madminer.ml          INFO    Starting score evaluation\n",
      "13:05 madminer.ml          INFO    Starting score evaluation\n",
      "13:05 madminer.ml          INFO    Starting score evaluation\n",
      "13:05 madminer.ml          INFO    Starting score evaluation\n",
      "13:05 madminer.fisherinfor INFO    Evaluating kinematic Fisher information on batch 2 / 10\n",
      "13:05 madminer.ml          INFO    Starting score evaluation\n",
      "13:05 madminer.ml          INFO    Starting score evaluation\n",
      "13:05 madminer.ml          INFO    Starting score evaluation\n",
      "13:05 madminer.ml          INFO    Starting score evaluation\n",
      "13:05 madminer.ml          INFO    Starting score evaluation\n",
      "13:05 madminer.fisherinfor INFO    Evaluating kinematic Fisher information on batch 3 / 10\n",
      "13:05 madminer.ml          INFO    Starting score evaluation\n",
      "13:05 madminer.ml          INFO    Starting score evaluation\n",
      "13:05 madminer.ml          INFO    Starting score evaluation\n",
      "13:05 madminer.ml          INFO    Starting score evaluation\n",
      "13:05 madminer.ml          INFO    Starting score evaluation\n",
      "13:05 madminer.fisherinfor INFO    Evaluating kinematic Fisher information on batch 4 / 10\n",
      "13:05 madminer.ml          INFO    Starting score evaluation\n",
      "13:05 madminer.ml          INFO    Starting score evaluation\n",
      "13:05 madminer.ml          INFO    Starting score evaluation\n",
      "13:05 madminer.ml          INFO    Starting score evaluation\n",
      "13:05 madminer.ml          INFO    Starting score evaluation\n",
      "13:05 madminer.fisherinfor INFO    Evaluating kinematic Fisher information on batch 5 / 10\n",
      "13:05 madminer.ml          INFO    Starting score evaluation\n",
      "13:05 madminer.ml          INFO    Starting score evaluation\n",
      "13:05 madminer.ml          INFO    Starting score evaluation\n",
      "13:05 madminer.ml          INFO    Starting score evaluation\n",
      "13:05 madminer.ml          INFO    Starting score evaluation\n",
      "13:05 madminer.fisherinfor INFO    Evaluating kinematic Fisher information on batch 6 / 10\n",
      "13:05 madminer.ml          INFO    Starting score evaluation\n",
      "13:05 madminer.ml          INFO    Starting score evaluation\n",
      "13:05 madminer.ml          INFO    Starting score evaluation\n",
      "13:05 madminer.ml          INFO    Starting score evaluation\n",
      "13:05 madminer.ml          INFO    Starting score evaluation\n",
      "13:05 madminer.fisherinfor INFO    Evaluating kinematic Fisher information on batch 7 / 10\n",
      "13:05 madminer.ml          INFO    Starting score evaluation\n",
      "13:05 madminer.ml          INFO    Starting score evaluation\n",
      "13:05 madminer.ml          INFO    Starting score evaluation\n",
      "13:05 madminer.ml          INFO    Starting score evaluation\n",
      "13:05 madminer.ml          INFO    Starting score evaluation\n",
      "13:05 madminer.fisherinfor INFO    Evaluating kinematic Fisher information on batch 8 / 10\n",
      "13:05 madminer.ml          INFO    Starting score evaluation\n",
      "13:05 madminer.ml          INFO    Starting score evaluation\n",
      "13:05 madminer.ml          INFO    Starting score evaluation\n",
      "13:05 madminer.ml          INFO    Starting score evaluation\n",
      "13:05 madminer.ml          INFO    Starting score evaluation\n",
      "13:05 madminer.fisherinfor INFO    Evaluating kinematic Fisher information on batch 9 / 10\n",
      "13:05 madminer.ml          INFO    Starting score evaluation\n",
      "13:05 madminer.ml          INFO    Starting score evaluation\n",
      "13:05 madminer.ml          INFO    Starting score evaluation\n",
      "13:05 madminer.ml          INFO    Starting score evaluation\n",
      "13:05 madminer.ml          INFO    Starting score evaluation\n",
      "13:05 madminer.fisherinfor INFO    Evaluating kinematic Fisher information on batch 10 / 10\n",
      "13:05 madminer.ml          INFO    Starting score evaluation\n",
      "13:05 madminer.ml          INFO    Starting score evaluation\n",
      "13:05 madminer.ml          INFO    Starting score evaluation\n",
      "13:05 madminer.ml          INFO    Starting score evaluation\n",
      "13:05 madminer.ml          INFO    Starting score evaluation\n"
     ]
    },
    {
     "name": "stdout",
     "output_type": "stream",
     "text": [
      "           cHbox      cHDD        cHW      cHq3\n",
      "cHbox  33.183796 -8.291705  12.609638  5.677411\n",
      "cHDD   -8.291705  2.071874  -3.150584 -1.418476\n",
      "cHW    12.609638 -3.150584   4.873190  2.334577\n",
      "cHq3    5.677411 -1.418476   2.334577  2.367312\n"
     ]
    }
   ],
   "source": [
    "fi_sally_wph_mu_wbkgs_2d_mean, fi_sally_wph_mu_wbkgs_2d_covariance = fisher_wph_mu_wbkgs_met.calculate_fisher_information_full_detector(\n",
    "    theta=[0.,0.,0.,0.],\n",
    "    model_file='models/2d/ensemble_newest_wph_mu_wbkgs_sigsystonly_lhedata_met_ptw_mttot',\n",
    "    luminosity=uselumi*1000.\n",
    ")\n",
    "\n",
    "print( DataFrame(\n",
    "    data = project_information(fi_sally_wph_mu_wbkgs_2d_mean, [0,1,2,3]),\n",
    "    columns = labels,\n",
    "    index = labels)\n",
    ")"
   ]
  },
  {
   "cell_type": "markdown",
   "metadata": {
    "heading_collapsed": true
   },
   "source": [
    "### $W^+ \\to e^+\\nu_e$"
   ]
  },
  {
   "cell_type": "code",
   "execution_count": 23,
   "metadata": {
    "collapsed": true,
    "hidden": true
   },
   "outputs": [
    {
     "name": "stderr",
     "output_type": "stream",
     "text": [
      "13:05 madminer.ml          INFO    Found score ensemble with 5 estimators\n",
      "13:05 madminer.ml          INFO    Loading model from models/full/ensemble_wph_e_wbkgs_lhedata_full/estimator_0\n",
      "13:05 madminer.ml          INFO    Loading model from models/full/ensemble_wph_e_wbkgs_lhedata_full/estimator_1\n",
      "13:05 madminer.ml          INFO    Loading model from models/full/ensemble_wph_e_wbkgs_lhedata_full/estimator_2\n",
      "13:05 madminer.ml          INFO    Loading model from models/full/ensemble_wph_e_wbkgs_lhedata_full/estimator_3\n",
      "13:05 madminer.ml          INFO    Loading model from models/full/ensemble_wph_e_wbkgs_lhedata_full/estimator_4\n",
      "13:05 madminer.fisherinfor INFO    Found 4 parameters in SALLY model, matching 4 physical parameters in MadMiner file\n",
      "13:14 madminer.fisherinfor INFO    Evaluating rate Fisher information\n",
      "13:19 madminer.fisherinfor INFO    Evaluating kinematic Fisher information on batch 1 / 10\n",
      "13:19 madminer.ml          INFO    Starting score evaluation\n",
      "13:19 madminer.ml          INFO    Starting score evaluation\n",
      "13:19 madminer.ml          INFO    Starting score evaluation\n",
      "13:19 madminer.ml          INFO    Starting score evaluation\n",
      "13:19 madminer.ml          INFO    Starting score evaluation\n",
      "13:19 madminer.fisherinfor INFO    Evaluating kinematic Fisher information on batch 2 / 10\n",
      "13:19 madminer.ml          INFO    Starting score evaluation\n",
      "13:19 madminer.ml          INFO    Starting score evaluation\n",
      "13:19 madminer.ml          INFO    Starting score evaluation\n",
      "13:19 madminer.ml          INFO    Starting score evaluation\n",
      "13:19 madminer.ml          INFO    Starting score evaluation\n",
      "13:19 madminer.fisherinfor INFO    Evaluating kinematic Fisher information on batch 3 / 10\n",
      "13:19 madminer.ml          INFO    Starting score evaluation\n",
      "13:20 madminer.ml          INFO    Starting score evaluation\n",
      "13:20 madminer.ml          INFO    Starting score evaluation\n",
      "13:20 madminer.ml          INFO    Starting score evaluation\n",
      "13:20 madminer.ml          INFO    Starting score evaluation\n",
      "13:20 madminer.fisherinfor INFO    Evaluating kinematic Fisher information on batch 4 / 10\n",
      "13:20 madminer.ml          INFO    Starting score evaluation\n",
      "13:20 madminer.ml          INFO    Starting score evaluation\n",
      "13:20 madminer.ml          INFO    Starting score evaluation\n",
      "13:20 madminer.ml          INFO    Starting score evaluation\n",
      "13:20 madminer.ml          INFO    Starting score evaluation\n",
      "13:20 madminer.fisherinfor INFO    Evaluating kinematic Fisher information on batch 5 / 10\n",
      "13:20 madminer.ml          INFO    Starting score evaluation\n",
      "13:20 madminer.ml          INFO    Starting score evaluation\n",
      "13:20 madminer.ml          INFO    Starting score evaluation\n",
      "13:20 madminer.ml          INFO    Starting score evaluation\n",
      "13:20 madminer.ml          INFO    Starting score evaluation\n",
      "13:20 madminer.fisherinfor INFO    Evaluating kinematic Fisher information on batch 6 / 10\n",
      "13:20 madminer.ml          INFO    Starting score evaluation\n",
      "13:20 madminer.ml          INFO    Starting score evaluation\n",
      "13:20 madminer.ml          INFO    Starting score evaluation\n",
      "13:20 madminer.ml          INFO    Starting score evaluation\n",
      "13:20 madminer.ml          INFO    Starting score evaluation\n",
      "13:20 madminer.fisherinfor INFO    Evaluating kinematic Fisher information on batch 7 / 10\n",
      "13:20 madminer.ml          INFO    Starting score evaluation\n",
      "13:20 madminer.ml          INFO    Starting score evaluation\n",
      "13:20 madminer.ml          INFO    Starting score evaluation\n",
      "13:20 madminer.ml          INFO    Starting score evaluation\n",
      "13:20 madminer.ml          INFO    Starting score evaluation\n",
      "13:20 madminer.fisherinfor INFO    Evaluating kinematic Fisher information on batch 8 / 10\n",
      "13:20 madminer.ml          INFO    Starting score evaluation\n",
      "13:20 madminer.ml          INFO    Starting score evaluation\n",
      "13:20 madminer.ml          INFO    Starting score evaluation\n",
      "13:20 madminer.ml          INFO    Starting score evaluation\n",
      "13:20 madminer.ml          INFO    Starting score evaluation\n",
      "13:20 madminer.fisherinfor INFO    Evaluating kinematic Fisher information on batch 9 / 10\n",
      "13:20 madminer.ml          INFO    Starting score evaluation\n",
      "13:20 madminer.ml          INFO    Starting score evaluation\n",
      "13:20 madminer.ml          INFO    Starting score evaluation\n",
      "13:20 madminer.ml          INFO    Starting score evaluation\n",
      "13:20 madminer.ml          INFO    Starting score evaluation\n",
      "13:20 madminer.fisherinfor INFO    Evaluating kinematic Fisher information on batch 10 / 10\n",
      "13:20 madminer.ml          INFO    Starting score evaluation\n",
      "13:20 madminer.ml          INFO    Starting score evaluation\n",
      "13:20 madminer.ml          INFO    Starting score evaluation\n",
      "13:20 madminer.ml          INFO    Starting score evaluation\n",
      "13:20 madminer.ml          INFO    Starting score evaluation\n"
     ]
    },
    {
     "name": "stdout",
     "output_type": "stream",
     "text": [
      "            cHbox       cHDD        cHW       cHq3\n",
      "cHbox  112.592393 -28.197826  41.398269  14.752058\n",
      "cHDD   -28.197826   7.062049 -10.368313  -3.694427\n",
      "cHW     41.398269 -10.368313  18.577204   6.074936\n",
      "cHq3    14.752058  -3.694427   6.074936   4.364732\n"
     ]
    }
   ],
   "source": [
    "fi_sally_wph_e_wbkgs_full_mean, fi_sally_wph_e_wbkgs_full_covariance = fisher_wph_e_wbkgs_full.calculate_fisher_information_full_detector(\n",
    "    theta=[0.,0.,0.,0.],\n",
    "    model_file='models/full/ensemble_wph_e_wbkgs_lhedata_full',\n",
    "    luminosity=uselumi*1000.\n",
    ")\n",
    "\n",
    "print( DataFrame(\n",
    "    data = project_information(fi_sally_wph_e_wbkgs_full_mean, [0,1,2,3]),\n",
    "    columns = labels,\n",
    "    index = labels)\n",
    ")"
   ]
  },
  {
   "cell_type": "code",
   "execution_count": 24,
   "metadata": {
    "collapsed": true,
    "hidden": true
   },
   "outputs": [
    {
     "name": "stderr",
     "output_type": "stream",
     "text": [
      "13:20 madminer.ml          INFO    Found score ensemble with 5 estimators\n",
      "13:20 madminer.ml          INFO    Loading model from models/met/ensemble_newest_wph_e_wbkgs_sigsystonly_lhedata_met/estimator_0\n",
      "13:20 madminer.ml          INFO    Loading model from models/met/ensemble_newest_wph_e_wbkgs_sigsystonly_lhedata_met/estimator_1\n",
      "13:20 madminer.ml          INFO    Loading model from models/met/ensemble_newest_wph_e_wbkgs_sigsystonly_lhedata_met/estimator_2\n",
      "13:20 madminer.ml          INFO    Loading model from models/met/ensemble_newest_wph_e_wbkgs_sigsystonly_lhedata_met/estimator_3\n",
      "13:20 madminer.ml          INFO    Loading model from models/met/ensemble_newest_wph_e_wbkgs_sigsystonly_lhedata_met/estimator_4\n",
      "13:20 madminer.fisherinfor INFO    Found 4 parameters in SALLY model, matching 4 physical parameters in MadMiner file\n",
      "13:29 madminer.fisherinfor INFO    Evaluating rate Fisher information\n",
      "13:34 madminer.fisherinfor INFO    Evaluating kinematic Fisher information on batch 1 / 10\n",
      "13:34 madminer.ml          INFO    Starting score evaluation\n",
      "13:34 madminer.ml          INFO    Starting score evaluation\n",
      "13:34 madminer.ml          INFO    Starting score evaluation\n",
      "13:34 madminer.ml          INFO    Starting score evaluation\n",
      "13:34 madminer.ml          INFO    Starting score evaluation\n",
      "13:34 madminer.fisherinfor INFO    Evaluating kinematic Fisher information on batch 2 / 10\n",
      "13:34 madminer.ml          INFO    Starting score evaluation\n",
      "13:34 madminer.ml          INFO    Starting score evaluation\n",
      "13:34 madminer.ml          INFO    Starting score evaluation\n",
      "13:34 madminer.ml          INFO    Starting score evaluation\n",
      "13:34 madminer.ml          INFO    Starting score evaluation\n",
      "13:34 madminer.fisherinfor INFO    Evaluating kinematic Fisher information on batch 3 / 10\n",
      "13:34 madminer.ml          INFO    Starting score evaluation\n",
      "13:34 madminer.ml          INFO    Starting score evaluation\n",
      "13:34 madminer.ml          INFO    Starting score evaluation\n",
      "13:34 madminer.ml          INFO    Starting score evaluation\n",
      "13:34 madminer.ml          INFO    Starting score evaluation\n",
      "13:34 madminer.fisherinfor INFO    Evaluating kinematic Fisher information on batch 4 / 10\n",
      "13:34 madminer.ml          INFO    Starting score evaluation\n",
      "13:34 madminer.ml          INFO    Starting score evaluation\n",
      "13:34 madminer.ml          INFO    Starting score evaluation\n",
      "13:34 madminer.ml          INFO    Starting score evaluation\n",
      "13:34 madminer.ml          INFO    Starting score evaluation\n",
      "13:34 madminer.fisherinfor INFO    Evaluating kinematic Fisher information on batch 5 / 10\n",
      "13:34 madminer.ml          INFO    Starting score evaluation\n",
      "13:34 madminer.ml          INFO    Starting score evaluation\n",
      "13:34 madminer.ml          INFO    Starting score evaluation\n",
      "13:34 madminer.ml          INFO    Starting score evaluation\n",
      "13:34 madminer.ml          INFO    Starting score evaluation\n",
      "13:34 madminer.fisherinfor INFO    Evaluating kinematic Fisher information on batch 6 / 10\n",
      "13:34 madminer.ml          INFO    Starting score evaluation\n",
      "13:34 madminer.ml          INFO    Starting score evaluation\n",
      "13:34 madminer.ml          INFO    Starting score evaluation\n",
      "13:34 madminer.ml          INFO    Starting score evaluation\n",
      "13:34 madminer.ml          INFO    Starting score evaluation\n",
      "13:34 madminer.fisherinfor INFO    Evaluating kinematic Fisher information on batch 7 / 10\n",
      "13:34 madminer.ml          INFO    Starting score evaluation\n",
      "13:34 madminer.ml          INFO    Starting score evaluation\n",
      "13:34 madminer.ml          INFO    Starting score evaluation\n",
      "13:34 madminer.ml          INFO    Starting score evaluation\n",
      "13:34 madminer.ml          INFO    Starting score evaluation\n",
      "13:34 madminer.fisherinfor INFO    Evaluating kinematic Fisher information on batch 8 / 10\n",
      "13:34 madminer.ml          INFO    Starting score evaluation\n",
      "13:34 madminer.ml          INFO    Starting score evaluation\n",
      "13:34 madminer.ml          INFO    Starting score evaluation\n",
      "13:34 madminer.ml          INFO    Starting score evaluation\n",
      "13:34 madminer.ml          INFO    Starting score evaluation\n",
      "13:34 madminer.fisherinfor INFO    Evaluating kinematic Fisher information on batch 9 / 10\n",
      "13:34 madminer.ml          INFO    Starting score evaluation\n",
      "13:34 madminer.ml          INFO    Starting score evaluation\n",
      "13:34 madminer.ml          INFO    Starting score evaluation\n",
      "13:34 madminer.ml          INFO    Starting score evaluation\n",
      "13:34 madminer.ml          INFO    Starting score evaluation\n",
      "13:34 madminer.fisherinfor INFO    Evaluating kinematic Fisher information on batch 10 / 10\n",
      "13:34 madminer.ml          INFO    Starting score evaluation\n",
      "13:34 madminer.ml          INFO    Starting score evaluation\n",
      "13:34 madminer.ml          INFO    Starting score evaluation\n",
      "13:34 madminer.ml          INFO    Starting score evaluation\n",
      "13:34 madminer.ml          INFO    Starting score evaluation\n"
     ]
    },
    {
     "name": "stdout",
     "output_type": "stream",
     "text": [
      "           cHbox       cHDD        cHW       cHq3\n",
      "cHbox  79.182350 -19.797228  28.958575  11.212362\n",
      "cHDD  -19.797228   4.949759  -7.242946  -2.810435\n",
      "cHW    28.958575  -7.242946  11.387785   4.579040\n",
      "cHq3   11.212362  -2.810435   4.579040   3.936242\n"
     ]
    }
   ],
   "source": [
    "fi_sally_wph_e_wbkgs_met_mean, fi_sally_wph_e_wbkgs_met_covariance = fisher_wph_e_wbkgs_met.calculate_fisher_information_full_detector(\n",
    "    theta=[0.,0.,0.,0.],\n",
    "    model_file='models/met/ensemble_newest_wph_e_wbkgs_sigsystonly_lhedata_met',\n",
    "    luminosity=uselumi*1000.\n",
    ")\n",
    "\n",
    "print( DataFrame(\n",
    "    data = project_information(fi_sally_wph_e_wbkgs_met_mean, [0,1,2,3]),\n",
    "    columns = labels,\n",
    "    index = labels)\n",
    ")"
   ]
  },
  {
   "cell_type": "code",
   "execution_count": 25,
   "metadata": {
    "collapsed": true,
    "hidden": true
   },
   "outputs": [
    {
     "name": "stderr",
     "output_type": "stream",
     "text": [
      "13:47 madminer.ml          INFO    Found score ensemble with 5 estimators\n",
      "13:47 madminer.ml          INFO    Loading model from models/ptw/ensemble_newest_wph_e_wbkgs_sigsystonly_lhedata_met_ptw/estimator_0\n",
      "13:47 madminer.ml          INFO    Loading model from models/ptw/ensemble_newest_wph_e_wbkgs_sigsystonly_lhedata_met_ptw/estimator_1\n",
      "13:47 madminer.ml          INFO    Loading model from models/ptw/ensemble_newest_wph_e_wbkgs_sigsystonly_lhedata_met_ptw/estimator_2\n",
      "13:47 madminer.ml          INFO    Loading model from models/ptw/ensemble_newest_wph_e_wbkgs_sigsystonly_lhedata_met_ptw/estimator_3\n",
      "13:47 madminer.ml          INFO    Loading model from models/ptw/ensemble_newest_wph_e_wbkgs_sigsystonly_lhedata_met_ptw/estimator_4\n",
      "13:47 madminer.fisherinfor INFO    Found 4 parameters in SALLY model, matching 4 physical parameters in MadMiner file\n",
      "13:52 madminer.fisherinfor INFO    Evaluating rate Fisher information\n",
      "13:57 madminer.fisherinfor INFO    Evaluating kinematic Fisher information on batch 1 / 10\n",
      "13:57 madminer.ml          INFO    Starting score evaluation\n",
      "13:57 madminer.ml          INFO    Starting score evaluation\n",
      "13:57 madminer.ml          INFO    Starting score evaluation\n",
      "13:57 madminer.ml          INFO    Starting score evaluation\n",
      "13:57 madminer.ml          INFO    Starting score evaluation\n",
      "13:57 madminer.fisherinfor INFO    Evaluating kinematic Fisher information on batch 2 / 10\n",
      "13:57 madminer.ml          INFO    Starting score evaluation\n",
      "13:57 madminer.ml          INFO    Starting score evaluation\n",
      "13:57 madminer.ml          INFO    Starting score evaluation\n",
      "13:57 madminer.ml          INFO    Starting score evaluation\n",
      "13:57 madminer.ml          INFO    Starting score evaluation\n",
      "13:57 madminer.fisherinfor INFO    Evaluating kinematic Fisher information on batch 3 / 10\n",
      "13:57 madminer.ml          INFO    Starting score evaluation\n",
      "13:57 madminer.ml          INFO    Starting score evaluation\n",
      "13:57 madminer.ml          INFO    Starting score evaluation\n",
      "13:57 madminer.ml          INFO    Starting score evaluation\n",
      "13:57 madminer.ml          INFO    Starting score evaluation\n",
      "13:57 madminer.fisherinfor INFO    Evaluating kinematic Fisher information on batch 4 / 10\n",
      "13:57 madminer.ml          INFO    Starting score evaluation\n",
      "13:57 madminer.ml          INFO    Starting score evaluation\n",
      "13:57 madminer.ml          INFO    Starting score evaluation\n",
      "13:57 madminer.ml          INFO    Starting score evaluation\n",
      "13:57 madminer.ml          INFO    Starting score evaluation\n",
      "13:57 madminer.fisherinfor INFO    Evaluating kinematic Fisher information on batch 5 / 10\n",
      "13:57 madminer.ml          INFO    Starting score evaluation\n",
      "13:57 madminer.ml          INFO    Starting score evaluation\n",
      "13:57 madminer.ml          INFO    Starting score evaluation\n",
      "13:57 madminer.ml          INFO    Starting score evaluation\n",
      "13:57 madminer.ml          INFO    Starting score evaluation\n",
      "13:57 madminer.fisherinfor INFO    Evaluating kinematic Fisher information on batch 6 / 10\n",
      "13:57 madminer.ml          INFO    Starting score evaluation\n",
      "13:57 madminer.ml          INFO    Starting score evaluation\n",
      "13:57 madminer.ml          INFO    Starting score evaluation\n",
      "13:57 madminer.ml          INFO    Starting score evaluation\n",
      "13:57 madminer.ml          INFO    Starting score evaluation\n",
      "13:57 madminer.fisherinfor INFO    Evaluating kinematic Fisher information on batch 7 / 10\n",
      "13:57 madminer.ml          INFO    Starting score evaluation\n",
      "13:57 madminer.ml          INFO    Starting score evaluation\n",
      "13:57 madminer.ml          INFO    Starting score evaluation\n",
      "13:57 madminer.ml          INFO    Starting score evaluation\n",
      "13:57 madminer.ml          INFO    Starting score evaluation\n",
      "13:57 madminer.fisherinfor INFO    Evaluating kinematic Fisher information on batch 8 / 10\n",
      "13:57 madminer.ml          INFO    Starting score evaluation\n",
      "13:57 madminer.ml          INFO    Starting score evaluation\n",
      "13:57 madminer.ml          INFO    Starting score evaluation\n",
      "13:57 madminer.ml          INFO    Starting score evaluation\n",
      "13:58 madminer.ml          INFO    Starting score evaluation\n",
      "13:58 madminer.fisherinfor INFO    Evaluating kinematic Fisher information on batch 9 / 10\n",
      "13:58 madminer.ml          INFO    Starting score evaluation\n",
      "13:58 madminer.ml          INFO    Starting score evaluation\n",
      "13:58 madminer.ml          INFO    Starting score evaluation\n",
      "13:58 madminer.ml          INFO    Starting score evaluation\n",
      "13:58 madminer.ml          INFO    Starting score evaluation\n",
      "13:58 madminer.fisherinfor INFO    Evaluating kinematic Fisher information on batch 10 / 10\n",
      "13:58 madminer.ml          INFO    Starting score evaluation\n",
      "13:58 madminer.ml          INFO    Starting score evaluation\n",
      "13:58 madminer.ml          INFO    Starting score evaluation\n",
      "13:58 madminer.ml          INFO    Starting score evaluation\n",
      "13:58 madminer.ml          INFO    Starting score evaluation\n"
     ]
    },
    {
     "name": "stdout",
     "output_type": "stream",
     "text": [
      "           cHbox      cHDD        cHW      cHq3\n",
      "cHbox  31.736695 -7.932789  12.166379  5.501975\n",
      "cHDD   -7.932789  1.982896  -3.040982 -1.374615\n",
      "cHW    12.166379 -3.040982   4.716336  2.289631\n",
      "cHq3    5.501975 -1.374615   2.289631  2.241066\n"
     ]
    }
   ],
   "source": [
    "fi_sally_wph_e_wbkgs_ptw_mean, fi_sally_wph_e_wbkgs_ptw_covariance = fisher_wph_e_wbkgs_met.calculate_fisher_information_full_detector(\n",
    "    theta=[0.,0.,0.,0.],\n",
    "    model_file='models/ptw/ensemble_newest_wph_e_wbkgs_sigsystonly_lhedata_met_ptw',\n",
    "    luminosity=uselumi*1000.\n",
    ")\n",
    "\n",
    "print( DataFrame(\n",
    "    data = project_information(fi_sally_wph_e_wbkgs_ptw_mean, [0,1,2,3]),\n",
    "    columns = labels,\n",
    "    index = labels)\n",
    ")"
   ]
  },
  {
   "cell_type": "code",
   "execution_count": 26,
   "metadata": {
    "collapsed": true,
    "hidden": true
   },
   "outputs": [
    {
     "name": "stderr",
     "output_type": "stream",
     "text": [
      "13:58 madminer.ml          INFO    Found score ensemble with 5 estimators\n",
      "13:58 madminer.ml          INFO    Loading model from models/2d/ensemble_newest_wph_e_wbkgs_sigsystonly_lhedata_met_ptw_mttot/estimator_0\n",
      "13:58 madminer.ml          INFO    Loading model from models/2d/ensemble_newest_wph_e_wbkgs_sigsystonly_lhedata_met_ptw_mttot/estimator_1\n",
      "13:58 madminer.ml          INFO    Loading model from models/2d/ensemble_newest_wph_e_wbkgs_sigsystonly_lhedata_met_ptw_mttot/estimator_2\n",
      "13:58 madminer.ml          INFO    Loading model from models/2d/ensemble_newest_wph_e_wbkgs_sigsystonly_lhedata_met_ptw_mttot/estimator_3\n",
      "13:58 madminer.ml          INFO    Loading model from models/2d/ensemble_newest_wph_e_wbkgs_sigsystonly_lhedata_met_ptw_mttot/estimator_4\n",
      "13:58 madminer.fisherinfor INFO    Found 4 parameters in SALLY model, matching 4 physical parameters in MadMiner file\n",
      "14:02 madminer.fisherinfor INFO    Evaluating rate Fisher information\n",
      "14:07 madminer.fisherinfor INFO    Evaluating kinematic Fisher information on batch 1 / 10\n",
      "14:07 madminer.ml          INFO    Starting score evaluation\n",
      "14:07 madminer.ml          INFO    Starting score evaluation\n",
      "14:07 madminer.ml          INFO    Starting score evaluation\n",
      "14:07 madminer.ml          INFO    Starting score evaluation\n",
      "14:07 madminer.ml          INFO    Starting score evaluation\n",
      "14:08 madminer.fisherinfor INFO    Evaluating kinematic Fisher information on batch 2 / 10\n",
      "14:08 madminer.ml          INFO    Starting score evaluation\n",
      "14:08 madminer.ml          INFO    Starting score evaluation\n",
      "14:08 madminer.ml          INFO    Starting score evaluation\n",
      "14:08 madminer.ml          INFO    Starting score evaluation\n",
      "14:08 madminer.ml          INFO    Starting score evaluation\n",
      "14:08 madminer.fisherinfor INFO    Evaluating kinematic Fisher information on batch 3 / 10\n",
      "14:08 madminer.ml          INFO    Starting score evaluation\n",
      "14:08 madminer.ml          INFO    Starting score evaluation\n",
      "14:08 madminer.ml          INFO    Starting score evaluation\n",
      "14:08 madminer.ml          INFO    Starting score evaluation\n",
      "14:08 madminer.ml          INFO    Starting score evaluation\n",
      "14:08 madminer.fisherinfor INFO    Evaluating kinematic Fisher information on batch 4 / 10\n",
      "14:08 madminer.ml          INFO    Starting score evaluation\n",
      "14:08 madminer.ml          INFO    Starting score evaluation\n",
      "14:08 madminer.ml          INFO    Starting score evaluation\n",
      "14:08 madminer.ml          INFO    Starting score evaluation\n",
      "14:08 madminer.ml          INFO    Starting score evaluation\n",
      "14:08 madminer.fisherinfor INFO    Evaluating kinematic Fisher information on batch 5 / 10\n",
      "14:08 madminer.ml          INFO    Starting score evaluation\n",
      "14:08 madminer.ml          INFO    Starting score evaluation\n",
      "14:08 madminer.ml          INFO    Starting score evaluation\n",
      "14:08 madminer.ml          INFO    Starting score evaluation\n",
      "14:08 madminer.ml          INFO    Starting score evaluation\n",
      "14:08 madminer.fisherinfor INFO    Evaluating kinematic Fisher information on batch 6 / 10\n",
      "14:08 madminer.ml          INFO    Starting score evaluation\n",
      "14:08 madminer.ml          INFO    Starting score evaluation\n",
      "14:08 madminer.ml          INFO    Starting score evaluation\n",
      "14:08 madminer.ml          INFO    Starting score evaluation\n",
      "14:08 madminer.ml          INFO    Starting score evaluation\n",
      "14:08 madminer.fisherinfor INFO    Evaluating kinematic Fisher information on batch 7 / 10\n",
      "14:08 madminer.ml          INFO    Starting score evaluation\n",
      "14:08 madminer.ml          INFO    Starting score evaluation\n",
      "14:08 madminer.ml          INFO    Starting score evaluation\n",
      "14:08 madminer.ml          INFO    Starting score evaluation\n",
      "14:08 madminer.ml          INFO    Starting score evaluation\n",
      "14:08 madminer.fisherinfor INFO    Evaluating kinematic Fisher information on batch 8 / 10\n",
      "14:08 madminer.ml          INFO    Starting score evaluation\n",
      "14:08 madminer.ml          INFO    Starting score evaluation\n",
      "14:08 madminer.ml          INFO    Starting score evaluation\n",
      "14:08 madminer.ml          INFO    Starting score evaluation\n",
      "14:08 madminer.ml          INFO    Starting score evaluation\n",
      "14:08 madminer.fisherinfor INFO    Evaluating kinematic Fisher information on batch 9 / 10\n",
      "14:08 madminer.ml          INFO    Starting score evaluation\n",
      "14:08 madminer.ml          INFO    Starting score evaluation\n",
      "14:08 madminer.ml          INFO    Starting score evaluation\n",
      "14:08 madminer.ml          INFO    Starting score evaluation\n",
      "14:08 madminer.ml          INFO    Starting score evaluation\n",
      "14:08 madminer.fisherinfor INFO    Evaluating kinematic Fisher information on batch 10 / 10\n",
      "14:08 madminer.ml          INFO    Starting score evaluation\n",
      "14:08 madminer.ml          INFO    Starting score evaluation\n",
      "14:08 madminer.ml          INFO    Starting score evaluation\n",
      "14:08 madminer.ml          INFO    Starting score evaluation\n",
      "14:08 madminer.ml          INFO    Starting score evaluation\n"
     ]
    },
    {
     "name": "stdout",
     "output_type": "stream",
     "text": [
      "           cHbox      cHDD        cHW      cHq3\n",
      "cHbox  33.257155 -8.314910  12.670108  5.669013\n",
      "cHDD   -8.314910  2.078903  -3.167852 -1.417931\n",
      "cHW    12.670108 -3.167852   4.919970  2.364583\n",
      "cHq3    5.669013 -1.417931   2.364583  2.299538\n"
     ]
    }
   ],
   "source": [
    "fi_sally_wph_e_wbkgs_2d_mean, fi_sally_wph_e_wbkgs_2d_covariance = fisher_wph_e_wbkgs_met.calculate_fisher_information_full_detector(\n",
    "    theta=[0.,0.,0.,0.],\n",
    "    model_file='models/2d/ensemble_newest_wph_e_wbkgs_sigsystonly_lhedata_met_ptw_mttot',\n",
    "    luminosity=uselumi*1000.\n",
    ")\n",
    "\n",
    "print( DataFrame(\n",
    "    data = project_information(fi_sally_wph_e_wbkgs_2d_mean, [0,1,2,3]),\n",
    "    columns = labels,\n",
    "    index = labels)\n",
    ")"
   ]
  },
  {
   "cell_type": "markdown",
   "metadata": {},
   "source": [
    "### $W^- \\to \\mu^- \\bar{\\nu}_{\\mu}$"
   ]
  },
  {
   "cell_type": "code",
   "execution_count": 27,
   "metadata": {
    "collapsed": true
   },
   "outputs": [
    {
     "name": "stderr",
     "output_type": "stream",
     "text": [
      "14:41 madminer.ml          INFO    Found score ensemble with 5 estimators\n",
      "14:41 madminer.ml          INFO    Loading model from models/full/ensemble_wmh_mu_wbkgs_lhedata_full/estimator_0\n",
      "14:41 madminer.ml          INFO    Loading model from models/full/ensemble_wmh_mu_wbkgs_lhedata_full/estimator_1\n",
      "14:41 madminer.ml          INFO    Loading model from models/full/ensemble_wmh_mu_wbkgs_lhedata_full/estimator_2\n",
      "14:41 madminer.ml          INFO    Loading model from models/full/ensemble_wmh_mu_wbkgs_lhedata_full/estimator_3\n",
      "14:41 madminer.ml          INFO    Loading model from models/full/ensemble_wmh_mu_wbkgs_lhedata_full/estimator_4\n",
      "14:41 madminer.fisherinfor INFO    Found 4 parameters in SALLY model, matching 4 physical parameters in MadMiner file\n",
      "14:51 madminer.fisherinfor INFO    Evaluating rate Fisher information\n",
      "14:57 madminer.fisherinfor INFO    Evaluating kinematic Fisher information on batch 1 / 10\n",
      "14:57 madminer.ml          INFO    Starting score evaluation\n",
      "14:57 madminer.ml          INFO    Starting score evaluation\n",
      "14:57 madminer.ml          INFO    Starting score evaluation\n",
      "14:57 madminer.ml          INFO    Starting score evaluation\n",
      "14:57 madminer.ml          INFO    Starting score evaluation\n",
      "14:57 madminer.fisherinfor INFO    Evaluating kinematic Fisher information on batch 2 / 10\n",
      "14:57 madminer.ml          INFO    Starting score evaluation\n",
      "14:57 madminer.ml          INFO    Starting score evaluation\n",
      "14:57 madminer.ml          INFO    Starting score evaluation\n",
      "14:57 madminer.ml          INFO    Starting score evaluation\n",
      "14:57 madminer.ml          INFO    Starting score evaluation\n",
      "14:57 madminer.fisherinfor INFO    Evaluating kinematic Fisher information on batch 3 / 10\n",
      "14:57 madminer.ml          INFO    Starting score evaluation\n",
      "14:57 madminer.ml          INFO    Starting score evaluation\n",
      "14:57 madminer.ml          INFO    Starting score evaluation\n",
      "14:57 madminer.ml          INFO    Starting score evaluation\n",
      "14:57 madminer.ml          INFO    Starting score evaluation\n",
      "14:57 madminer.fisherinfor INFO    Evaluating kinematic Fisher information on batch 4 / 10\n",
      "14:57 madminer.ml          INFO    Starting score evaluation\n",
      "14:57 madminer.ml          INFO    Starting score evaluation\n",
      "14:57 madminer.ml          INFO    Starting score evaluation\n",
      "14:57 madminer.ml          INFO    Starting score evaluation\n",
      "14:57 madminer.ml          INFO    Starting score evaluation\n",
      "14:57 madminer.fisherinfor INFO    Evaluating kinematic Fisher information on batch 5 / 10\n",
      "14:57 madminer.ml          INFO    Starting score evaluation\n",
      "14:57 madminer.ml          INFO    Starting score evaluation\n",
      "14:57 madminer.ml          INFO    Starting score evaluation\n",
      "14:57 madminer.ml          INFO    Starting score evaluation\n",
      "14:57 madminer.ml          INFO    Starting score evaluation\n",
      "14:57 madminer.fisherinfor INFO    Evaluating kinematic Fisher information on batch 6 / 10\n",
      "14:57 madminer.ml          INFO    Starting score evaluation\n",
      "14:57 madminer.ml          INFO    Starting score evaluation\n",
      "14:57 madminer.ml          INFO    Starting score evaluation\n",
      "14:57 madminer.ml          INFO    Starting score evaluation\n",
      "14:57 madminer.ml          INFO    Starting score evaluation\n",
      "14:57 madminer.fisherinfor INFO    Evaluating kinematic Fisher information on batch 7 / 10\n",
      "14:57 madminer.ml          INFO    Starting score evaluation\n",
      "14:57 madminer.ml          INFO    Starting score evaluation\n",
      "14:57 madminer.ml          INFO    Starting score evaluation\n",
      "14:57 madminer.ml          INFO    Starting score evaluation\n",
      "14:57 madminer.ml          INFO    Starting score evaluation\n",
      "14:57 madminer.fisherinfor INFO    Evaluating kinematic Fisher information on batch 8 / 10\n",
      "14:57 madminer.ml          INFO    Starting score evaluation\n",
      "14:57 madminer.ml          INFO    Starting score evaluation\n",
      "14:57 madminer.ml          INFO    Starting score evaluation\n",
      "14:57 madminer.ml          INFO    Starting score evaluation\n",
      "14:57 madminer.ml          INFO    Starting score evaluation\n",
      "14:57 madminer.fisherinfor INFO    Evaluating kinematic Fisher information on batch 9 / 10\n",
      "14:57 madminer.ml          INFO    Starting score evaluation\n",
      "14:57 madminer.ml          INFO    Starting score evaluation\n",
      "14:57 madminer.ml          INFO    Starting score evaluation\n",
      "14:57 madminer.ml          INFO    Starting score evaluation\n",
      "14:57 madminer.ml          INFO    Starting score evaluation\n",
      "14:57 madminer.fisherinfor INFO    Evaluating kinematic Fisher information on batch 10 / 10\n",
      "14:57 madminer.ml          INFO    Starting score evaluation\n",
      "14:57 madminer.ml          INFO    Starting score evaluation\n",
      "14:57 madminer.ml          INFO    Starting score evaluation\n",
      "14:57 madminer.ml          INFO    Starting score evaluation\n",
      "14:57 madminer.ml          INFO    Starting score evaluation\n"
     ]
    },
    {
     "name": "stdout",
     "output_type": "stream",
     "text": [
      "           cHbox       cHDD        cHW      cHq3\n",
      "cHbox  69.085933 -17.267879  24.009908  8.244626\n",
      "cHDD  -17.267879   4.316173  -6.002006 -2.063394\n",
      "cHW    24.009908  -6.002006   9.471926  3.167452\n",
      "cHq3    8.244626  -2.063394   3.167452  2.257723\n"
     ]
    }
   ],
   "source": [
    "fi_sally_wmh_mu_wbkgs_full_mean, fi_sally_wmh_mu_wbkgs_full_covariance = fisher_wmh_mu_wbkgs_full.calculate_fisher_information_full_detector(\n",
    "    theta=[0.,0.,0.,0.],\n",
    "    model_file='models/full/ensemble_wmh_mu_wbkgs_lhedata_full',\n",
    "    luminosity=uselumi*1000.\n",
    ")\n",
    "\n",
    "print( DataFrame(\n",
    "    data = project_information(fi_sally_wmh_mu_wbkgs_full_mean, [0,1,2,3]),\n",
    "    columns = labels,\n",
    "    index = labels)\n",
    ")"
   ]
  },
  {
   "cell_type": "code",
   "execution_count": 28,
   "metadata": {
    "collapsed": true
   },
   "outputs": [
    {
     "name": "stderr",
     "output_type": "stream",
     "text": [
      "14:57 madminer.ml          INFO    Found score ensemble with 5 estimators\n",
      "14:57 madminer.ml          INFO    Loading model from models/met/ensemble_newest_wmh_mu_wbkgs_sigsystonly_lhedata_met/estimator_0\n",
      "14:57 madminer.ml          INFO    Loading model from models/met/ensemble_newest_wmh_mu_wbkgs_sigsystonly_lhedata_met/estimator_1\n",
      "14:57 madminer.ml          INFO    Loading model from models/met/ensemble_newest_wmh_mu_wbkgs_sigsystonly_lhedata_met/estimator_2\n",
      "14:57 madminer.ml          INFO    Loading model from models/met/ensemble_newest_wmh_mu_wbkgs_sigsystonly_lhedata_met/estimator_3\n",
      "14:57 madminer.ml          INFO    Loading model from models/met/ensemble_newest_wmh_mu_wbkgs_sigsystonly_lhedata_met/estimator_4\n",
      "14:57 madminer.fisherinfor INFO    Found 4 parameters in SALLY model, matching 4 physical parameters in MadMiner file\n",
      "15:06 madminer.fisherinfor INFO    Evaluating rate Fisher information\n",
      "15:11 madminer.fisherinfor INFO    Evaluating kinematic Fisher information on batch 1 / 10\n",
      "15:11 madminer.ml          INFO    Starting score evaluation\n",
      "15:11 madminer.ml          INFO    Starting score evaluation\n",
      "15:11 madminer.ml          INFO    Starting score evaluation\n",
      "15:11 madminer.ml          INFO    Starting score evaluation\n",
      "15:11 madminer.ml          INFO    Starting score evaluation\n",
      "15:11 madminer.fisherinfor INFO    Evaluating kinematic Fisher information on batch 2 / 10\n",
      "15:12 madminer.ml          INFO    Starting score evaluation\n",
      "15:12 madminer.ml          INFO    Starting score evaluation\n",
      "15:12 madminer.ml          INFO    Starting score evaluation\n",
      "15:12 madminer.ml          INFO    Starting score evaluation\n",
      "15:12 madminer.ml          INFO    Starting score evaluation\n",
      "15:12 madminer.fisherinfor INFO    Evaluating kinematic Fisher information on batch 3 / 10\n",
      "15:12 madminer.ml          INFO    Starting score evaluation\n",
      "15:12 madminer.ml          INFO    Starting score evaluation\n",
      "15:12 madminer.ml          INFO    Starting score evaluation\n",
      "15:12 madminer.ml          INFO    Starting score evaluation\n",
      "15:12 madminer.ml          INFO    Starting score evaluation\n",
      "15:12 madminer.fisherinfor INFO    Evaluating kinematic Fisher information on batch 4 / 10\n",
      "15:12 madminer.ml          INFO    Starting score evaluation\n",
      "15:12 madminer.ml          INFO    Starting score evaluation\n",
      "15:12 madminer.ml          INFO    Starting score evaluation\n",
      "15:12 madminer.ml          INFO    Starting score evaluation\n",
      "15:12 madminer.ml          INFO    Starting score evaluation\n",
      "15:12 madminer.fisherinfor INFO    Evaluating kinematic Fisher information on batch 5 / 10\n",
      "15:12 madminer.ml          INFO    Starting score evaluation\n",
      "15:12 madminer.ml          INFO    Starting score evaluation\n",
      "15:12 madminer.ml          INFO    Starting score evaluation\n",
      "15:12 madminer.ml          INFO    Starting score evaluation\n",
      "15:12 madminer.ml          INFO    Starting score evaluation\n",
      "15:12 madminer.fisherinfor INFO    Evaluating kinematic Fisher information on batch 6 / 10\n",
      "15:12 madminer.ml          INFO    Starting score evaluation\n",
      "15:12 madminer.ml          INFO    Starting score evaluation\n",
      "15:12 madminer.ml          INFO    Starting score evaluation\n",
      "15:12 madminer.ml          INFO    Starting score evaluation\n",
      "15:12 madminer.ml          INFO    Starting score evaluation\n",
      "15:12 madminer.fisherinfor INFO    Evaluating kinematic Fisher information on batch 7 / 10\n",
      "15:12 madminer.ml          INFO    Starting score evaluation\n",
      "15:12 madminer.ml          INFO    Starting score evaluation\n",
      "15:12 madminer.ml          INFO    Starting score evaluation\n",
      "15:12 madminer.ml          INFO    Starting score evaluation\n",
      "15:12 madminer.ml          INFO    Starting score evaluation\n",
      "15:12 madminer.fisherinfor INFO    Evaluating kinematic Fisher information on batch 8 / 10\n",
      "15:12 madminer.ml          INFO    Starting score evaluation\n",
      "15:12 madminer.ml          INFO    Starting score evaluation\n",
      "15:12 madminer.ml          INFO    Starting score evaluation\n",
      "15:12 madminer.ml          INFO    Starting score evaluation\n",
      "15:12 madminer.ml          INFO    Starting score evaluation\n",
      "15:12 madminer.fisherinfor INFO    Evaluating kinematic Fisher information on batch 9 / 10\n",
      "15:12 madminer.ml          INFO    Starting score evaluation\n",
      "15:12 madminer.ml          INFO    Starting score evaluation\n",
      "15:12 madminer.ml          INFO    Starting score evaluation\n",
      "15:12 madminer.ml          INFO    Starting score evaluation\n",
      "15:12 madminer.ml          INFO    Starting score evaluation\n",
      "15:12 madminer.fisherinfor INFO    Evaluating kinematic Fisher information on batch 10 / 10\n",
      "15:12 madminer.ml          INFO    Starting score evaluation\n",
      "15:12 madminer.ml          INFO    Starting score evaluation\n",
      "15:12 madminer.ml          INFO    Starting score evaluation\n",
      "15:12 madminer.ml          INFO    Starting score evaluation\n",
      "15:12 madminer.ml          INFO    Starting score evaluation\n"
     ]
    },
    {
     "name": "stdout",
     "output_type": "stream",
     "text": [
      "           cHbox       cHDD        cHW      cHq3\n",
      "cHbox  47.854323 -11.950623  16.757221  6.162257\n",
      "cHDD  -11.950623   2.984552  -4.186169 -1.542078\n",
      "cHW    16.757221  -4.186169   6.179533  2.418470\n",
      "cHq3    6.162257  -1.542078   2.418470  1.877770\n"
     ]
    }
   ],
   "source": [
    "fi_sally_wmh_mu_wbkgs_met_mean, fi_sally_wmh_mu_wbkgs_met_covariance = fisher_wmh_mu_wbkgs_met.calculate_fisher_information_full_detector(\n",
    "    theta=[0.,0.,0.,0.],\n",
    "    model_file='models/met/ensemble_newest_wmh_mu_wbkgs_sigsystonly_lhedata_met',\n",
    "    luminosity=uselumi*1000.\n",
    ")\n",
    "\n",
    "print( DataFrame(\n",
    "    data = project_information(fi_sally_wmh_mu_wbkgs_met_mean, [0,1,2,3]),\n",
    "    columns = labels,\n",
    "    index = labels)\n",
    ")"
   ]
  },
  {
   "cell_type": "code",
   "execution_count": 29,
   "metadata": {
    "collapsed": true
   },
   "outputs": [
    {
     "name": "stderr",
     "output_type": "stream",
     "text": [
      "15:12 madminer.ml          INFO    Found score ensemble with 5 estimators\n",
      "15:12 madminer.ml          INFO    Loading model from models/ptw/ensemble_newest_wmh_mu_wbkgs_sigsystonly_lhedata_met_ptw/estimator_0\n",
      "15:12 madminer.ml          INFO    Loading model from models/ptw/ensemble_newest_wmh_mu_wbkgs_sigsystonly_lhedata_met_ptw/estimator_1\n",
      "15:12 madminer.ml          INFO    Loading model from models/ptw/ensemble_newest_wmh_mu_wbkgs_sigsystonly_lhedata_met_ptw/estimator_2\n",
      "15:12 madminer.ml          INFO    Loading model from models/ptw/ensemble_newest_wmh_mu_wbkgs_sigsystonly_lhedata_met_ptw/estimator_3\n",
      "15:12 madminer.ml          INFO    Loading model from models/ptw/ensemble_newest_wmh_mu_wbkgs_sigsystonly_lhedata_met_ptw/estimator_4\n",
      "15:12 madminer.fisherinfor INFO    Found 4 parameters in SALLY model, matching 4 physical parameters in MadMiner file\n",
      "15:17 madminer.fisherinfor INFO    Evaluating rate Fisher information\n",
      "15:23 madminer.fisherinfor INFO    Evaluating kinematic Fisher information on batch 1 / 10\n",
      "15:23 madminer.ml          INFO    Starting score evaluation\n",
      "15:23 madminer.ml          INFO    Starting score evaluation\n",
      "15:23 madminer.ml          INFO    Starting score evaluation\n",
      "15:23 madminer.ml          INFO    Starting score evaluation\n",
      "15:23 madminer.ml          INFO    Starting score evaluation\n",
      "15:23 madminer.fisherinfor INFO    Evaluating kinematic Fisher information on batch 2 / 10\n",
      "15:23 madminer.ml          INFO    Starting score evaluation\n",
      "15:23 madminer.ml          INFO    Starting score evaluation\n",
      "15:23 madminer.ml          INFO    Starting score evaluation\n",
      "15:23 madminer.ml          INFO    Starting score evaluation\n",
      "15:23 madminer.ml          INFO    Starting score evaluation\n",
      "15:23 madminer.fisherinfor INFO    Evaluating kinematic Fisher information on batch 3 / 10\n",
      "15:23 madminer.ml          INFO    Starting score evaluation\n",
      "15:23 madminer.ml          INFO    Starting score evaluation\n",
      "15:23 madminer.ml          INFO    Starting score evaluation\n",
      "15:23 madminer.ml          INFO    Starting score evaluation\n",
      "15:23 madminer.ml          INFO    Starting score evaluation\n",
      "15:23 madminer.fisherinfor INFO    Evaluating kinematic Fisher information on batch 4 / 10\n",
      "15:23 madminer.ml          INFO    Starting score evaluation\n",
      "15:23 madminer.ml          INFO    Starting score evaluation\n",
      "15:23 madminer.ml          INFO    Starting score evaluation\n",
      "15:23 madminer.ml          INFO    Starting score evaluation\n",
      "15:23 madminer.ml          INFO    Starting score evaluation\n",
      "15:23 madminer.fisherinfor INFO    Evaluating kinematic Fisher information on batch 5 / 10\n",
      "15:23 madminer.ml          INFO    Starting score evaluation\n",
      "15:23 madminer.ml          INFO    Starting score evaluation\n",
      "15:23 madminer.ml          INFO    Starting score evaluation\n",
      "15:23 madminer.ml          INFO    Starting score evaluation\n",
      "15:23 madminer.ml          INFO    Starting score evaluation\n",
      "15:23 madminer.fisherinfor INFO    Evaluating kinematic Fisher information on batch 6 / 10\n",
      "15:23 madminer.ml          INFO    Starting score evaluation\n",
      "15:23 madminer.ml          INFO    Starting score evaluation\n",
      "15:23 madminer.ml          INFO    Starting score evaluation\n",
      "15:23 madminer.ml          INFO    Starting score evaluation\n",
      "15:23 madminer.ml          INFO    Starting score evaluation\n",
      "15:23 madminer.fisherinfor INFO    Evaluating kinematic Fisher information on batch 7 / 10\n",
      "15:23 madminer.ml          INFO    Starting score evaluation\n",
      "15:23 madminer.ml          INFO    Starting score evaluation\n",
      "15:23 madminer.ml          INFO    Starting score evaluation\n",
      "15:23 madminer.ml          INFO    Starting score evaluation\n",
      "15:23 madminer.ml          INFO    Starting score evaluation\n",
      "15:23 madminer.fisherinfor INFO    Evaluating kinematic Fisher information on batch 8 / 10\n",
      "15:23 madminer.ml          INFO    Starting score evaluation\n",
      "15:23 madminer.ml          INFO    Starting score evaluation\n",
      "15:23 madminer.ml          INFO    Starting score evaluation\n",
      "15:23 madminer.ml          INFO    Starting score evaluation\n",
      "15:23 madminer.ml          INFO    Starting score evaluation\n",
      "15:23 madminer.fisherinfor INFO    Evaluating kinematic Fisher information on batch 9 / 10\n",
      "15:23 madminer.ml          INFO    Starting score evaluation\n",
      "15:23 madminer.ml          INFO    Starting score evaluation\n",
      "15:23 madminer.ml          INFO    Starting score evaluation\n",
      "15:23 madminer.ml          INFO    Starting score evaluation\n",
      "15:23 madminer.ml          INFO    Starting score evaluation\n",
      "15:23 madminer.fisherinfor INFO    Evaluating kinematic Fisher information on batch 10 / 10\n",
      "15:23 madminer.ml          INFO    Starting score evaluation\n",
      "15:23 madminer.ml          INFO    Starting score evaluation\n",
      "15:23 madminer.ml          INFO    Starting score evaluation\n",
      "15:23 madminer.ml          INFO    Starting score evaluation\n",
      "15:23 madminer.ml          INFO    Starting score evaluation\n"
     ]
    },
    {
     "name": "stdout",
     "output_type": "stream",
     "text": [
      "           cHbox      cHDD       cHW      cHq3\n",
      "cHbox  17.700575 -4.424384  6.540838  2.858460\n",
      "cHDD   -4.424384  1.105907 -1.634871 -0.714402\n",
      "cHW     6.540838 -1.634871  2.445157  1.163833\n",
      "cHq3    2.858460 -0.714402  1.163833  1.124254\n"
     ]
    }
   ],
   "source": [
    "fi_sally_wmh_mu_wbkgs_ptw_mean, fi_sally_wmh_mu_wbkgs_ptw_covariance = fisher_wmh_mu_wbkgs_met.calculate_fisher_information_full_detector(\n",
    "    theta=[0.,0.,0.,0.],\n",
    "    model_file='models/ptw/ensemble_newest_wmh_mu_wbkgs_sigsystonly_lhedata_met_ptw',\n",
    "    luminosity=uselumi*1000.\n",
    ")\n",
    "\n",
    "print( DataFrame(\n",
    "    data = project_information(fi_sally_wmh_mu_wbkgs_ptw_mean, [0,1,2,3]),\n",
    "    columns = labels,\n",
    "    index = labels)\n",
    ")"
   ]
  },
  {
   "cell_type": "code",
   "execution_count": null,
   "metadata": {
    "collapsed": true
   },
   "outputs": [
    {
     "name": "stderr",
     "output_type": "stream",
     "text": [
      "15:23 madminer.ml          INFO    Found score ensemble with 5 estimators\n",
      "15:23 madminer.ml          INFO    Loading model from models/2d/ensemble_newest_wmh_mu_wbkgs_sigsystonly_lhedata_met_ptw_mttot/estimator_0\n",
      "15:23 madminer.ml          INFO    Loading model from models/2d/ensemble_newest_wmh_mu_wbkgs_sigsystonly_lhedata_met_ptw_mttot/estimator_1\n",
      "15:23 madminer.ml          INFO    Loading model from models/2d/ensemble_newest_wmh_mu_wbkgs_sigsystonly_lhedata_met_ptw_mttot/estimator_2\n",
      "15:23 madminer.ml          INFO    Loading model from models/2d/ensemble_newest_wmh_mu_wbkgs_sigsystonly_lhedata_met_ptw_mttot/estimator_3\n",
      "15:23 madminer.ml          INFO    Loading model from models/2d/ensemble_newest_wmh_mu_wbkgs_sigsystonly_lhedata_met_ptw_mttot/estimator_4\n",
      "15:23 madminer.fisherinfor INFO    Found 4 parameters in SALLY model, matching 4 physical parameters in MadMiner file\n",
      "15:28 madminer.fisherinfor INFO    Evaluating rate Fisher information\n",
      "15:33 madminer.fisherinfor INFO    Evaluating kinematic Fisher information on batch 1 / 10\n",
      "15:33 madminer.ml          INFO    Starting score evaluation\n",
      "15:34 madminer.ml          INFO    Starting score evaluation\n",
      "15:34 madminer.ml          INFO    Starting score evaluation\n",
      "15:34 madminer.ml          INFO    Starting score evaluation\n",
      "15:34 madminer.ml          INFO    Starting score evaluation\n",
      "15:34 madminer.fisherinfor INFO    Evaluating kinematic Fisher information on batch 2 / 10\n",
      "15:34 madminer.ml          INFO    Starting score evaluation\n",
      "15:34 madminer.ml          INFO    Starting score evaluation\n",
      "15:34 madminer.ml          INFO    Starting score evaluation\n",
      "15:34 madminer.ml          INFO    Starting score evaluation\n",
      "15:34 madminer.ml          INFO    Starting score evaluation\n",
      "15:34 madminer.fisherinfor INFO    Evaluating kinematic Fisher information on batch 3 / 10\n",
      "15:34 madminer.ml          INFO    Starting score evaluation\n",
      "15:34 madminer.ml          INFO    Starting score evaluation\n",
      "15:34 madminer.ml          INFO    Starting score evaluation\n",
      "15:34 madminer.ml          INFO    Starting score evaluation\n",
      "15:34 madminer.ml          INFO    Starting score evaluation\n",
      "15:34 madminer.fisherinfor INFO    Evaluating kinematic Fisher information on batch 4 / 10\n",
      "15:34 madminer.ml          INFO    Starting score evaluation\n",
      "15:34 madminer.ml          INFO    Starting score evaluation\n",
      "15:34 madminer.ml          INFO    Starting score evaluation\n",
      "15:34 madminer.ml          INFO    Starting score evaluation\n",
      "15:34 madminer.ml          INFO    Starting score evaluation\n",
      "15:34 madminer.fisherinfor INFO    Evaluating kinematic Fisher information on batch 5 / 10\n",
      "15:34 madminer.ml          INFO    Starting score evaluation\n",
      "15:34 madminer.ml          INFO    Starting score evaluation\n",
      "15:34 madminer.ml          INFO    Starting score evaluation\n",
      "15:34 madminer.ml          INFO    Starting score evaluation\n",
      "15:34 madminer.ml          INFO    Starting score evaluation\n",
      "15:34 madminer.fisherinfor INFO    Evaluating kinematic Fisher information on batch 6 / 10\n",
      "15:34 madminer.ml          INFO    Starting score evaluation\n",
      "15:34 madminer.ml          INFO    Starting score evaluation\n",
      "15:34 madminer.ml          INFO    Starting score evaluation\n",
      "15:34 madminer.ml          INFO    Starting score evaluation\n",
      "15:34 madminer.ml          INFO    Starting score evaluation\n",
      "15:34 madminer.fisherinfor INFO    Evaluating kinematic Fisher information on batch 7 / 10\n",
      "15:34 madminer.ml          INFO    Starting score evaluation\n",
      "15:34 madminer.ml          INFO    Starting score evaluation\n",
      "15:34 madminer.ml          INFO    Starting score evaluation\n",
      "15:34 madminer.ml          INFO    Starting score evaluation\n",
      "15:34 madminer.ml          INFO    Starting score evaluation\n",
      "15:34 madminer.fisherinfor INFO    Evaluating kinematic Fisher information on batch 8 / 10\n",
      "15:34 madminer.ml          INFO    Starting score evaluation\n",
      "15:34 madminer.ml          INFO    Starting score evaluation\n",
      "15:34 madminer.ml          INFO    Starting score evaluation\n",
      "15:34 madminer.ml          INFO    Starting score evaluation\n",
      "15:34 madminer.ml          INFO    Starting score evaluation\n",
      "15:34 madminer.fisherinfor INFO    Evaluating kinematic Fisher information on batch 9 / 10\n",
      "15:34 madminer.ml          INFO    Starting score evaluation\n",
      "15:34 madminer.ml          INFO    Starting score evaluation\n",
      "15:34 madminer.ml          INFO    Starting score evaluation\n",
      "15:34 madminer.ml          INFO    Starting score evaluation\n",
      "15:34 madminer.ml          INFO    Starting score evaluation\n",
      "15:34 madminer.fisherinfor INFO    Evaluating kinematic Fisher information on batch 10 / 10\n",
      "15:34 madminer.ml          INFO    Starting score evaluation\n",
      "15:34 madminer.ml          INFO    Starting score evaluation\n",
      "15:34 madminer.ml          INFO    Starting score evaluation\n",
      "15:34 madminer.ml          INFO    Starting score evaluation\n",
      "15:34 madminer.ml          INFO    Starting score evaluation\n"
     ]
    },
    {
     "name": "stdout",
     "output_type": "stream",
     "text": [
      "           cHbox      cHDD       cHW      cHq3\n",
      "cHbox  18.819479 -4.705743  6.847952  2.974816\n",
      "cHDD   -4.705743  1.176703 -1.712307 -0.744254\n",
      "cHW     6.847952 -1.712307  2.541953  1.195397\n",
      "cHq3    2.974816 -0.744254  1.195397  1.139876\n"
     ]
    }
   ],
   "source": [
    "fi_sally_wmh_mu_wbkgs_2d_mean, fi_sally_wmh_mu_wbkgs_2d_covariance = fisher_wmh_mu_wbkgs_met.calculate_fisher_information_full_detector(\n",
    "    theta=[0.,0.,0.,0.],\n",
    "    model_file='models/2d/ensemble_newest_wmh_mu_wbkgs_sigsystonly_lhedata_met_ptw_mttot',\n",
    "    luminosity=uselumi*1000.\n",
    ")\n",
    "\n",
    "print( DataFrame(\n",
    "    data = project_information(fi_sally_wmh_mu_wbkgs_2d_mean, [0,1,2,3]),\n",
    "    columns = labels,\n",
    "    index = labels)\n",
    ")"
   ]
  },
  {
   "cell_type": "markdown",
   "metadata": {},
   "source": [
    "### $W^- \\to e^- \\bar{\\nu}_e$"
   ]
  },
  {
   "cell_type": "code",
   "execution_count": null,
   "metadata": {
    "collapsed": true
   },
   "outputs": [
    {
     "name": "stderr",
     "output_type": "stream",
     "text": [
      "15:34 madminer.ml          INFO    Found score ensemble with 5 estimators\n",
      "15:34 madminer.ml          INFO    Loading model from models/full/ensemble_wmh_e_wbkgs_lhedata_full/estimator_0\n",
      "15:34 madminer.ml          INFO    Loading model from models/full/ensemble_wmh_e_wbkgs_lhedata_full/estimator_1\n",
      "15:34 madminer.ml          INFO    Loading model from models/full/ensemble_wmh_e_wbkgs_lhedata_full/estimator_2\n",
      "15:34 madminer.ml          INFO    Loading model from models/full/ensemble_wmh_e_wbkgs_lhedata_full/estimator_3\n",
      "15:34 madminer.ml          INFO    Loading model from models/full/ensemble_wmh_e_wbkgs_lhedata_full/estimator_4\n",
      "15:34 madminer.fisherinfor INFO    Found 4 parameters in SALLY model, matching 4 physical parameters in MadMiner file\n",
      "15:49 madminer.fisherinfor INFO    Evaluating rate Fisher information\n",
      "15:55 madminer.fisherinfor INFO    Evaluating kinematic Fisher information on batch 1 / 10\n",
      "15:55 madminer.ml          INFO    Starting score evaluation\n",
      "15:55 madminer.ml          INFO    Starting score evaluation\n",
      "15:55 madminer.ml          INFO    Starting score evaluation\n",
      "15:55 madminer.ml          INFO    Starting score evaluation\n",
      "15:55 madminer.ml          INFO    Starting score evaluation\n",
      "15:55 madminer.fisherinfor INFO    Evaluating kinematic Fisher information on batch 2 / 10\n",
      "15:55 madminer.ml          INFO    Starting score evaluation\n",
      "15:55 madminer.ml          INFO    Starting score evaluation\n",
      "15:55 madminer.ml          INFO    Starting score evaluation\n",
      "15:55 madminer.ml          INFO    Starting score evaluation\n",
      "15:55 madminer.ml          INFO    Starting score evaluation\n",
      "15:55 madminer.fisherinfor INFO    Evaluating kinematic Fisher information on batch 3 / 10\n",
      "15:55 madminer.ml          INFO    Starting score evaluation\n",
      "15:55 madminer.ml          INFO    Starting score evaluation\n",
      "15:55 madminer.ml          INFO    Starting score evaluation\n",
      "15:55 madminer.ml          INFO    Starting score evaluation\n",
      "15:55 madminer.ml          INFO    Starting score evaluation\n",
      "15:55 madminer.fisherinfor INFO    Evaluating kinematic Fisher information on batch 4 / 10\n",
      "15:55 madminer.ml          INFO    Starting score evaluation\n",
      "15:56 madminer.ml          INFO    Starting score evaluation\n",
      "15:56 madminer.ml          INFO    Starting score evaluation\n",
      "15:56 madminer.ml          INFO    Starting score evaluation\n",
      "15:56 madminer.ml          INFO    Starting score evaluation\n",
      "15:56 madminer.fisherinfor INFO    Evaluating kinematic Fisher information on batch 5 / 10\n",
      "15:56 madminer.ml          INFO    Starting score evaluation\n",
      "15:56 madminer.ml          INFO    Starting score evaluation\n",
      "15:56 madminer.ml          INFO    Starting score evaluation\n",
      "15:56 madminer.ml          INFO    Starting score evaluation\n",
      "15:56 madminer.ml          INFO    Starting score evaluation\n",
      "15:56 madminer.fisherinfor INFO    Evaluating kinematic Fisher information on batch 6 / 10\n",
      "15:56 madminer.ml          INFO    Starting score evaluation\n",
      "15:56 madminer.ml          INFO    Starting score evaluation\n",
      "15:56 madminer.ml          INFO    Starting score evaluation\n",
      "15:56 madminer.ml          INFO    Starting score evaluation\n",
      "15:56 madminer.ml          INFO    Starting score evaluation\n",
      "15:56 madminer.fisherinfor INFO    Evaluating kinematic Fisher information on batch 7 / 10\n",
      "15:56 madminer.ml          INFO    Starting score evaluation\n",
      "15:56 madminer.ml          INFO    Starting score evaluation\n",
      "15:56 madminer.ml          INFO    Starting score evaluation\n",
      "15:56 madminer.ml          INFO    Starting score evaluation\n",
      "15:56 madminer.ml          INFO    Starting score evaluation\n",
      "15:56 madminer.fisherinfor INFO    Evaluating kinematic Fisher information on batch 8 / 10\n",
      "15:56 madminer.ml          INFO    Starting score evaluation\n",
      "15:56 madminer.ml          INFO    Starting score evaluation\n",
      "15:56 madminer.ml          INFO    Starting score evaluation\n",
      "15:56 madminer.ml          INFO    Starting score evaluation\n",
      "15:56 madminer.ml          INFO    Starting score evaluation\n",
      "15:56 madminer.fisherinfor INFO    Evaluating kinematic Fisher information on batch 9 / 10\n",
      "15:56 madminer.ml          INFO    Starting score evaluation\n",
      "15:56 madminer.ml          INFO    Starting score evaluation\n",
      "15:56 madminer.ml          INFO    Starting score evaluation\n",
      "15:56 madminer.ml          INFO    Starting score evaluation\n",
      "15:56 madminer.ml          INFO    Starting score evaluation\n",
      "15:56 madminer.fisherinfor INFO    Evaluating kinematic Fisher information on batch 10 / 10\n",
      "15:56 madminer.ml          INFO    Starting score evaluation\n",
      "15:56 madminer.ml          INFO    Starting score evaluation\n",
      "15:56 madminer.ml          INFO    Starting score evaluation\n",
      "15:56 madminer.ml          INFO    Starting score evaluation\n",
      "15:56 madminer.ml          INFO    Starting score evaluation\n"
     ]
    },
    {
     "name": "stdout",
     "output_type": "stream",
     "text": [
      "           cHbox       cHDD        cHW      cHq3\n",
      "cHbox  68.451648 -17.140793  23.617462  8.134138\n",
      "cHDD  -17.140793   4.292572  -5.915991 -2.040352\n",
      "cHW    23.617462  -5.915991   9.128281  3.058888\n",
      "cHq3    8.134138  -2.040352   3.058888  2.143168\n"
     ]
    }
   ],
   "source": [
    "fi_sally_wmh_e_wbkgs_full_mean, fi_sally_wmh_e_wbkgs_full_covariance = fisher_wmh_e_wbkgs_full.calculate_fisher_information_full_detector(\n",
    "    theta=[0.,0.,0.,0.],\n",
    "    model_file='models/full/ensemble_wmh_e_wbkgs_lhedata_full',\n",
    "    luminosity=uselumi*1000.\n",
    ")\n",
    "\n",
    "print( DataFrame(\n",
    "    data = project_information(fi_sally_wmh_e_wbkgs_full_mean, [0,1,2,3]),\n",
    "    columns = labels,\n",
    "    index = labels)\n",
    ")"
   ]
  },
  {
   "cell_type": "code",
   "execution_count": null,
   "metadata": {
    "collapsed": true
   },
   "outputs": [
    {
     "name": "stderr",
     "output_type": "stream",
     "text": [
      "15:56 madminer.ml          INFO    Found score ensemble with 5 estimators\n",
      "15:56 madminer.ml          INFO    Loading model from models/met/ensemble_newest_wmh_e_wbkgs_sigsystonly_lhedata_met/estimator_0\n",
      "15:56 madminer.ml          INFO    Loading model from models/met/ensemble_newest_wmh_e_wbkgs_sigsystonly_lhedata_met/estimator_1\n",
      "15:56 madminer.ml          INFO    Loading model from models/met/ensemble_newest_wmh_e_wbkgs_sigsystonly_lhedata_met/estimator_2\n",
      "15:56 madminer.ml          INFO    Loading model from models/met/ensemble_newest_wmh_e_wbkgs_sigsystonly_lhedata_met/estimator_3\n",
      "15:56 madminer.ml          INFO    Loading model from models/met/ensemble_newest_wmh_e_wbkgs_sigsystonly_lhedata_met/estimator_4\n",
      "15:56 madminer.fisherinfor INFO    Found 4 parameters in SALLY model, matching 4 physical parameters in MadMiner file\n",
      "16:10 madminer.fisherinfor INFO    Evaluating rate Fisher information\n",
      "16:16 madminer.fisherinfor INFO    Evaluating kinematic Fisher information on batch 1 / 10\n",
      "16:16 madminer.ml          INFO    Starting score evaluation\n",
      "16:16 madminer.ml          INFO    Starting score evaluation\n",
      "16:16 madminer.ml          INFO    Starting score evaluation\n",
      "16:16 madminer.ml          INFO    Starting score evaluation\n",
      "16:16 madminer.ml          INFO    Starting score evaluation\n",
      "16:16 madminer.fisherinfor INFO    Evaluating kinematic Fisher information on batch 2 / 10\n",
      "16:16 madminer.ml          INFO    Starting score evaluation\n",
      "16:16 madminer.ml          INFO    Starting score evaluation\n",
      "16:16 madminer.ml          INFO    Starting score evaluation\n",
      "16:16 madminer.ml          INFO    Starting score evaluation\n",
      "16:16 madminer.ml          INFO    Starting score evaluation\n",
      "16:16 madminer.fisherinfor INFO    Evaluating kinematic Fisher information on batch 3 / 10\n",
      "16:16 madminer.ml          INFO    Starting score evaluation\n",
      "16:16 madminer.ml          INFO    Starting score evaluation\n",
      "16:16 madminer.ml          INFO    Starting score evaluation\n",
      "16:16 madminer.ml          INFO    Starting score evaluation\n",
      "16:16 madminer.ml          INFO    Starting score evaluation\n",
      "16:16 madminer.fisherinfor INFO    Evaluating kinematic Fisher information on batch 4 / 10\n",
      "16:16 madminer.ml          INFO    Starting score evaluation\n",
      "16:16 madminer.ml          INFO    Starting score evaluation\n",
      "16:16 madminer.ml          INFO    Starting score evaluation\n",
      "16:16 madminer.ml          INFO    Starting score evaluation\n",
      "16:16 madminer.ml          INFO    Starting score evaluation\n",
      "16:16 madminer.fisherinfor INFO    Evaluating kinematic Fisher information on batch 5 / 10\n",
      "16:16 madminer.ml          INFO    Starting score evaluation\n",
      "16:16 madminer.ml          INFO    Starting score evaluation\n",
      "16:16 madminer.ml          INFO    Starting score evaluation\n",
      "16:16 madminer.ml          INFO    Starting score evaluation\n",
      "16:16 madminer.ml          INFO    Starting score evaluation\n",
      "16:16 madminer.fisherinfor INFO    Evaluating kinematic Fisher information on batch 6 / 10\n",
      "16:16 madminer.ml          INFO    Starting score evaluation\n",
      "16:16 madminer.ml          INFO    Starting score evaluation\n",
      "16:16 madminer.ml          INFO    Starting score evaluation\n",
      "16:16 madminer.ml          INFO    Starting score evaluation\n",
      "16:16 madminer.ml          INFO    Starting score evaluation\n",
      "16:16 madminer.fisherinfor INFO    Evaluating kinematic Fisher information on batch 7 / 10\n",
      "16:16 madminer.ml          INFO    Starting score evaluation\n",
      "16:16 madminer.ml          INFO    Starting score evaluation\n",
      "16:16 madminer.ml          INFO    Starting score evaluation\n",
      "16:16 madminer.ml          INFO    Starting score evaluation\n",
      "16:16 madminer.ml          INFO    Starting score evaluation\n",
      "16:16 madminer.fisherinfor INFO    Evaluating kinematic Fisher information on batch 8 / 10\n",
      "16:16 madminer.ml          INFO    Starting score evaluation\n",
      "16:16 madminer.ml          INFO    Starting score evaluation\n",
      "16:16 madminer.ml          INFO    Starting score evaluation\n",
      "16:16 madminer.ml          INFO    Starting score evaluation\n",
      "16:16 madminer.ml          INFO    Starting score evaluation\n",
      "16:16 madminer.fisherinfor INFO    Evaluating kinematic Fisher information on batch 9 / 10\n",
      "16:16 madminer.ml          INFO    Starting score evaluation\n",
      "16:16 madminer.ml          INFO    Starting score evaluation\n",
      "16:16 madminer.ml          INFO    Starting score evaluation\n",
      "16:16 madminer.ml          INFO    Starting score evaluation\n",
      "16:16 madminer.ml          INFO    Starting score evaluation\n",
      "16:16 madminer.fisherinfor INFO    Evaluating kinematic Fisher information on batch 10 / 10\n",
      "16:16 madminer.ml          INFO    Starting score evaluation\n",
      "16:16 madminer.ml          INFO    Starting score evaluation\n",
      "16:16 madminer.ml          INFO    Starting score evaluation\n",
      "16:16 madminer.ml          INFO    Starting score evaluation\n",
      "16:16 madminer.ml          INFO    Starting score evaluation\n"
     ]
    },
    {
     "name": "stdout",
     "output_type": "stream",
     "text": [
      "           cHbox       cHDD        cHW      cHq3\n",
      "cHbox  48.416395 -12.114926  16.963014  6.310862\n",
      "cHDD  -12.114926   3.031478  -4.245347 -1.581953\n",
      "cHW    16.963014  -4.245347   6.230686  2.447580\n",
      "cHq3    6.310862  -1.581953   2.447580  1.954427\n"
     ]
    }
   ],
   "source": [
    "fi_sally_wmh_e_wbkgs_met_mean, fi_sally_wmh_e_wbkgs_met_covariance = fisher_wmh_e_wbkgs_met.calculate_fisher_information_full_detector(\n",
    "    theta=[0.,0.,0.,0.],\n",
    "    model_file='models/met/ensemble_newest_wmh_e_wbkgs_sigsystonly_lhedata_met',\n",
    "    luminosity=uselumi*1000.\n",
    ")\n",
    "\n",
    "print( DataFrame(\n",
    "    data = project_information(fi_sally_wmh_e_wbkgs_met_mean, [0,1,2,3]),\n",
    "    columns = labels,\n",
    "    index = labels)\n",
    ")"
   ]
  },
  {
   "cell_type": "code",
   "execution_count": null,
   "metadata": {
    "collapsed": true
   },
   "outputs": [
    {
     "name": "stderr",
     "output_type": "stream",
     "text": [
      "16:16 madminer.ml          INFO    Found score ensemble with 5 estimators\n",
      "16:16 madminer.ml          INFO    Loading model from models/ptw/ensemble_newest_wmh_e_wbkgs_sigsystonly_lhedata_met_ptw/estimator_0\n",
      "16:16 madminer.ml          INFO    Loading model from models/ptw/ensemble_newest_wmh_e_wbkgs_sigsystonly_lhedata_met_ptw/estimator_1\n",
      "16:16 madminer.ml          INFO    Loading model from models/ptw/ensemble_newest_wmh_e_wbkgs_sigsystonly_lhedata_met_ptw/estimator_2\n",
      "16:16 madminer.ml          INFO    Loading model from models/ptw/ensemble_newest_wmh_e_wbkgs_sigsystonly_lhedata_met_ptw/estimator_3\n",
      "16:16 madminer.ml          INFO    Loading model from models/ptw/ensemble_newest_wmh_e_wbkgs_sigsystonly_lhedata_met_ptw/estimator_4\n",
      "16:16 madminer.fisherinfor INFO    Found 4 parameters in SALLY model, matching 4 physical parameters in MadMiner file\n",
      "16:21 madminer.fisherinfor INFO    Evaluating rate Fisher information\n",
      "16:27 madminer.fisherinfor INFO    Evaluating kinematic Fisher information on batch 1 / 10\n",
      "16:27 madminer.ml          INFO    Starting score evaluation\n",
      "16:27 madminer.ml          INFO    Starting score evaluation\n",
      "16:27 madminer.ml          INFO    Starting score evaluation\n",
      "16:27 madminer.ml          INFO    Starting score evaluation\n",
      "16:27 madminer.ml          INFO    Starting score evaluation\n",
      "16:27 madminer.fisherinfor INFO    Evaluating kinematic Fisher information on batch 2 / 10\n",
      "16:27 madminer.ml          INFO    Starting score evaluation\n",
      "16:27 madminer.ml          INFO    Starting score evaluation\n",
      "16:27 madminer.ml          INFO    Starting score evaluation\n",
      "16:27 madminer.ml          INFO    Starting score evaluation\n",
      "16:27 madminer.ml          INFO    Starting score evaluation\n",
      "16:27 madminer.fisherinfor INFO    Evaluating kinematic Fisher information on batch 3 / 10\n",
      "16:27 madminer.ml          INFO    Starting score evaluation\n",
      "16:27 madminer.ml          INFO    Starting score evaluation\n",
      "16:27 madminer.ml          INFO    Starting score evaluation\n",
      "16:27 madminer.ml          INFO    Starting score evaluation\n",
      "16:27 madminer.ml          INFO    Starting score evaluation\n",
      "16:27 madminer.fisherinfor INFO    Evaluating kinematic Fisher information on batch 4 / 10\n",
      "16:27 madminer.ml          INFO    Starting score evaluation\n",
      "16:27 madminer.ml          INFO    Starting score evaluation\n",
      "16:27 madminer.ml          INFO    Starting score evaluation\n",
      "16:27 madminer.ml          INFO    Starting score evaluation\n",
      "16:27 madminer.ml          INFO    Starting score evaluation\n",
      "16:27 madminer.fisherinfor INFO    Evaluating kinematic Fisher information on batch 5 / 10\n",
      "16:27 madminer.ml          INFO    Starting score evaluation\n",
      "16:27 madminer.ml          INFO    Starting score evaluation\n",
      "16:27 madminer.ml          INFO    Starting score evaluation\n",
      "16:27 madminer.ml          INFO    Starting score evaluation\n",
      "16:27 madminer.ml          INFO    Starting score evaluation\n",
      "16:27 madminer.fisherinfor INFO    Evaluating kinematic Fisher information on batch 6 / 10\n",
      "16:27 madminer.ml          INFO    Starting score evaluation\n",
      "16:27 madminer.ml          INFO    Starting score evaluation\n",
      "16:27 madminer.ml          INFO    Starting score evaluation\n",
      "16:27 madminer.ml          INFO    Starting score evaluation\n",
      "16:27 madminer.ml          INFO    Starting score evaluation\n",
      "16:27 madminer.fisherinfor INFO    Evaluating kinematic Fisher information on batch 7 / 10\n",
      "16:27 madminer.ml          INFO    Starting score evaluation\n",
      "16:27 madminer.ml          INFO    Starting score evaluation\n",
      "16:27 madminer.ml          INFO    Starting score evaluation\n",
      "16:27 madminer.ml          INFO    Starting score evaluation\n",
      "16:27 madminer.ml          INFO    Starting score evaluation\n",
      "16:27 madminer.fisherinfor INFO    Evaluating kinematic Fisher information on batch 8 / 10\n",
      "16:27 madminer.ml          INFO    Starting score evaluation\n",
      "16:27 madminer.ml          INFO    Starting score evaluation\n",
      "16:27 madminer.ml          INFO    Starting score evaluation\n",
      "16:27 madminer.ml          INFO    Starting score evaluation\n",
      "16:27 madminer.ml          INFO    Starting score evaluation\n",
      "16:27 madminer.fisherinfor INFO    Evaluating kinematic Fisher information on batch 9 / 10\n",
      "16:27 madminer.ml          INFO    Starting score evaluation\n",
      "16:27 madminer.ml          INFO    Starting score evaluation\n",
      "16:27 madminer.ml          INFO    Starting score evaluation\n",
      "16:27 madminer.ml          INFO    Starting score evaluation\n",
      "16:27 madminer.ml          INFO    Starting score evaluation\n",
      "16:27 madminer.fisherinfor INFO    Evaluating kinematic Fisher information on batch 10 / 10\n",
      "16:27 madminer.ml          INFO    Starting score evaluation\n",
      "16:27 madminer.ml          INFO    Starting score evaluation\n",
      "16:27 madminer.ml          INFO    Starting score evaluation\n",
      "16:27 madminer.ml          INFO    Starting score evaluation\n",
      "16:27 madminer.ml          INFO    Starting score evaluation\n"
     ]
    },
    {
     "name": "stdout",
     "output_type": "stream",
     "text": [
      "           cHbox      cHDD       cHW      cHq3\n",
      "cHbox  17.654064 -4.413548  6.498636  2.851461\n",
      "cHDD   -4.413548  1.103395 -1.624660 -0.712816\n",
      "cHW     6.498636 -1.624660  2.417322  1.133811\n",
      "cHq3    2.851461 -0.712816  1.133811  1.123615\n"
     ]
    }
   ],
   "source": [
    "fi_sally_wmh_e_wbkgs_ptw_mean, fi_sally_wmh_e_wbkgs_ptw_covariance = fisher_wmh_e_wbkgs_met.calculate_fisher_information_full_detector(\n",
    "    theta=[0.,0.,0.,0.],\n",
    "    model_file='models/ptw/ensemble_newest_wmh_e_wbkgs_sigsystonly_lhedata_met_ptw',\n",
    "    luminosity=uselumi*1000.\n",
    ")\n",
    "\n",
    "print( DataFrame(\n",
    "    data = project_information(fi_sally_wmh_e_wbkgs_ptw_mean, [0,1,2,3]),\n",
    "    columns = labels,\n",
    "    index = labels)\n",
    ")"
   ]
  },
  {
   "cell_type": "code",
   "execution_count": null,
   "metadata": {
    "collapsed": true
   },
   "outputs": [
    {
     "name": "stderr",
     "output_type": "stream",
     "text": [
      "16:27 madminer.ml          INFO    Found score ensemble with 5 estimators\n",
      "16:27 madminer.ml          INFO    Loading model from models/2d/ensemble_newest_wmh_e_wbkgs_sigsystonly_lhedata_met_ptw_mttot/estimator_0\n",
      "16:27 madminer.ml          INFO    Loading model from models/2d/ensemble_newest_wmh_e_wbkgs_sigsystonly_lhedata_met_ptw_mttot/estimator_1\n",
      "16:27 madminer.ml          INFO    Loading model from models/2d/ensemble_newest_wmh_e_wbkgs_sigsystonly_lhedata_met_ptw_mttot/estimator_2\n",
      "16:27 madminer.ml          INFO    Loading model from models/2d/ensemble_newest_wmh_e_wbkgs_sigsystonly_lhedata_met_ptw_mttot/estimator_3\n",
      "16:27 madminer.ml          INFO    Loading model from models/2d/ensemble_newest_wmh_e_wbkgs_sigsystonly_lhedata_met_ptw_mttot/estimator_4\n",
      "16:27 madminer.fisherinfor INFO    Found 4 parameters in SALLY model, matching 4 physical parameters in MadMiner file\n",
      "16:32 madminer.fisherinfor INFO    Evaluating rate Fisher information\n",
      "16:37 madminer.fisherinfor INFO    Evaluating kinematic Fisher information on batch 1 / 10\n",
      "16:37 madminer.ml          INFO    Starting score evaluation\n",
      "16:37 madminer.ml          INFO    Starting score evaluation\n",
      "16:37 madminer.ml          INFO    Starting score evaluation\n",
      "16:37 madminer.ml          INFO    Starting score evaluation\n",
      "16:37 madminer.ml          INFO    Starting score evaluation\n",
      "16:37 madminer.fisherinfor INFO    Evaluating kinematic Fisher information on batch 2 / 10\n",
      "16:37 madminer.ml          INFO    Starting score evaluation\n",
      "16:37 madminer.ml          INFO    Starting score evaluation\n",
      "16:37 madminer.ml          INFO    Starting score evaluation\n",
      "16:37 madminer.ml          INFO    Starting score evaluation\n",
      "16:37 madminer.ml          INFO    Starting score evaluation\n",
      "16:37 madminer.fisherinfor INFO    Evaluating kinematic Fisher information on batch 3 / 10\n",
      "16:37 madminer.ml          INFO    Starting score evaluation\n",
      "16:37 madminer.ml          INFO    Starting score evaluation\n",
      "16:37 madminer.ml          INFO    Starting score evaluation\n",
      "16:38 madminer.ml          INFO    Starting score evaluation\n",
      "16:38 madminer.ml          INFO    Starting score evaluation\n",
      "16:38 madminer.fisherinfor INFO    Evaluating kinematic Fisher information on batch 4 / 10\n",
      "16:38 madminer.ml          INFO    Starting score evaluation\n",
      "16:38 madminer.ml          INFO    Starting score evaluation\n",
      "16:38 madminer.ml          INFO    Starting score evaluation\n",
      "16:38 madminer.ml          INFO    Starting score evaluation\n",
      "16:38 madminer.ml          INFO    Starting score evaluation\n",
      "16:38 madminer.fisherinfor INFO    Evaluating kinematic Fisher information on batch 5 / 10\n",
      "16:38 madminer.ml          INFO    Starting score evaluation\n",
      "16:38 madminer.ml          INFO    Starting score evaluation\n",
      "16:38 madminer.ml          INFO    Starting score evaluation\n",
      "16:38 madminer.ml          INFO    Starting score evaluation\n",
      "16:38 madminer.ml          INFO    Starting score evaluation\n",
      "16:38 madminer.fisherinfor INFO    Evaluating kinematic Fisher information on batch 6 / 10\n",
      "16:38 madminer.ml          INFO    Starting score evaluation\n",
      "16:38 madminer.ml          INFO    Starting score evaluation\n",
      "16:38 madminer.ml          INFO    Starting score evaluation\n",
      "16:38 madminer.ml          INFO    Starting score evaluation\n",
      "16:38 madminer.ml          INFO    Starting score evaluation\n",
      "16:38 madminer.fisherinfor INFO    Evaluating kinematic Fisher information on batch 7 / 10\n",
      "16:38 madminer.ml          INFO    Starting score evaluation\n",
      "16:38 madminer.ml          INFO    Starting score evaluation\n",
      "16:38 madminer.ml          INFO    Starting score evaluation\n",
      "16:38 madminer.ml          INFO    Starting score evaluation\n",
      "16:38 madminer.ml          INFO    Starting score evaluation\n",
      "16:38 madminer.fisherinfor INFO    Evaluating kinematic Fisher information on batch 8 / 10\n",
      "16:38 madminer.ml          INFO    Starting score evaluation\n",
      "16:38 madminer.ml          INFO    Starting score evaluation\n",
      "16:38 madminer.ml          INFO    Starting score evaluation\n",
      "16:38 madminer.ml          INFO    Starting score evaluation\n",
      "16:38 madminer.ml          INFO    Starting score evaluation\n",
      "16:38 madminer.fisherinfor INFO    Evaluating kinematic Fisher information on batch 9 / 10\n",
      "16:38 madminer.ml          INFO    Starting score evaluation\n",
      "16:38 madminer.ml          INFO    Starting score evaluation\n",
      "16:38 madminer.ml          INFO    Starting score evaluation\n",
      "16:38 madminer.ml          INFO    Starting score evaluation\n",
      "16:38 madminer.ml          INFO    Starting score evaluation\n",
      "16:38 madminer.fisherinfor INFO    Evaluating kinematic Fisher information on batch 10 / 10\n",
      "16:38 madminer.ml          INFO    Starting score evaluation\n",
      "16:38 madminer.ml          INFO    Starting score evaluation\n",
      "16:38 madminer.ml          INFO    Starting score evaluation\n",
      "16:38 madminer.ml          INFO    Starting score evaluation\n",
      "16:38 madminer.ml          INFO    Starting score evaluation\n"
     ]
    },
    {
     "name": "stdout",
     "output_type": "stream",
     "text": [
      "           cHbox      cHDD       cHW      cHq3\n",
      "cHbox  18.766549 -4.688056  6.810753  2.959715\n",
      "cHDD   -4.688056  1.171123 -1.701313 -0.739214\n",
      "cHW     6.810753 -1.701313  2.526502  1.163100\n",
      "cHq3    2.959715 -0.739214  1.163100  1.146354\n"
     ]
    }
   ],
   "source": [
    "fi_sally_wmh_e_wbkgs_2d_mean, fi_sally_wmh_e_wbkgs_2d_covariance = fisher_wmh_e_wbkgs_met.calculate_fisher_information_full_detector(\n",
    "    theta=[0.,0.,0.,0.],\n",
    "    model_file='models/2d/ensemble_newest_wmh_e_wbkgs_sigsystonly_lhedata_met_ptw_mttot',\n",
    "    luminosity=uselumi*1000.\n",
    ")\n",
    "\n",
    "print( DataFrame(\n",
    "    data = project_information(fi_sally_wmh_e_wbkgs_2d_mean, [0,1,2,3]),\n",
    "    columns = labels,\n",
    "    index = labels)\n",
    ")"
   ]
  },
  {
   "cell_type": "markdown",
   "metadata": {},
   "source": [
    "### Save the Arrays for Later"
   ]
  },
  {
   "cell_type": "code",
   "execution_count": 38,
   "metadata": {
    "collapsed": true,
    "scrolled": true
   },
   "outputs": [],
   "source": [
    "fi_sally_wbkgs_outfile = './fisher_info/fi_sally_wbkgs.npz'\n",
    "fi_sally_wbkgs_cov_outfile = './fisher_info/fi_sally_wbkgs_cov.npz'\n",
    "\n",
    "fi_sally_wbkgs_list = [\n",
    "    fi_sally_wph_mu_wbkgs_full_mean, \n",
    "    fi_sally_wph_e_wbkgs_full_mean,\n",
    "    fi_sally_wmh_mu_wbkgs_full_mean,\n",
    "    fi_sally_wmh_e_wbkgs_full_mean,\n",
    "    fi_sally_wph_mu_wbkgs_met_mean,\n",
    "    fi_sally_wph_e_wbkgs_met_mean,\n",
    "    fi_sally_wmh_mu_wbkgs_met_mean,\n",
    "    fi_sally_wmh_e_wbkgs_met_mean,\n",
    "    fi_sally_wph_mu_wbkgs_ptw_mean,\n",
    "    fi_sally_wph_e_wbkgs_ptw_mean,\n",
    "    fi_sally_wmh_mu_wbkgs_ptw_mean,\n",
    "    fi_sally_wmh_e_wbkgs_ptw_mean,\n",
    "    fi_sally_wph_mu_wbkgs_2d_mean,\n",
    "    fi_sally_wph_e_wbkgs_2d_mean,\n",
    "    fi_sally_wmh_mu_wbkgs_2d_mean, \n",
    "    fi_sally_wmh_e_wbkgs_2d_mean, \n",
    "]\n",
    "\n",
    "fi_sally_wbkgs_cov_list = [\n",
    "    fi_sally_wph_mu_wbkgs_full_covariance, \n",
    "    fi_sally_wph_e_wbkgs_full_covariance,\n",
    "    fi_sally_wmh_mu_wbkgs_full_covariance,\n",
    "    fi_sally_wmh_e_wbkgs_full_covariance,\n",
    "    fi_sally_wph_mu_wbkgs_met_covariance,\n",
    "    fi_sally_wph_e_wbkgs_met_covariance,\n",
    "    fi_sally_wmh_mu_wbkgs_met_covariance,\n",
    "    fi_sally_wmh_e_wbkgs_met_covariance,\n",
    "    fi_sally_wph_mu_wbkgs_ptw_covariance,\n",
    "    fi_sally_wph_e_wbkgs_ptw_covariance,\n",
    "    fi_sally_wmh_mu_wbkgs_ptw_covariance,\n",
    "    fi_sally_wmh_e_wbkgs_ptw_covariance,\n",
    "    fi_sally_wph_mu_wbkgs_2d_covariance,\n",
    "    fi_sally_wph_e_wbkgs_2d_covariance,\n",
    "    fi_sally_wmh_mu_wbkgs_2d_covariance, \n",
    "    fi_sally_wmh_e_wbkgs_2d_covariance, \n",
    "]"
   ]
  },
  {
   "cell_type": "code",
   "execution_count": 39,
   "metadata": {
    "collapsed": true,
    "scrolled": true
   },
   "outputs": [],
   "source": [
    "np.savez(fi_sally_wbkgs_outfile, fi_sally_wbkgs_list, allow_pickle=False)\n",
    "np.savez(fi_sally_wbkgs_cov_outfile, fi_sally_wbkgs_cov_list, allow_pickle=False)"
   ]
  },
  {
   "cell_type": "markdown",
   "metadata": {
    "heading_collapsed": true
   },
   "source": [
    "## Check Other Kinematic Variables"
   ]
  },
  {
   "cell_type": "code",
   "execution_count": 20,
   "metadata": {
    "hidden": true
   },
   "outputs": [
    {
     "name": "stderr",
     "output_type": "stream",
     "text": [
      "11:41 madminer.ml          INFO    Found score ensemble with 1 estimators\n",
      "11:41 madminer.ml          INFO    Loading model from models/others/ensemble_wph_mu_wbkgs_sigsystonly_lhedata_met_ptw_dphilv/estimator_0\n",
      "11:41 madminer.fisherinfor INFO    Found 4 parameters in SALLY model, matching 4 physical parameters in MadMiner file\n",
      "11:57 madminer.fisherinfor INFO    Evaluating rate Fisher information\n",
      "12:02 madminer.fisherinfor INFO    Evaluating kinematic Fisher information on batch 1 / 10\n",
      "12:02 madminer.ml          INFO    Starting score evaluation\n",
      "/home/shomiller/.conda/envs/my_root/lib/python2.7/site-packages/madminer-0.4.10-py2.7.egg/madminer/ml.py:2805: RuntimeWarning: Degrees of freedom <= 0 for slice\n",
      "/home/shomiller/.conda/envs/my_root/lib/python2.7/site-packages/numpy/lib/function_base.py:3093: RuntimeWarning: divide by zero encountered in double_scalars\n",
      "  c *= 1. / np.float64(fact)\n",
      "/home/shomiller/.conda/envs/my_root/lib/python2.7/site-packages/numpy/lib/function_base.py:3093: RuntimeWarning: invalid value encountered in multiply\n",
      "  c *= 1. / np.float64(fact)\n",
      "12:02 madminer.fisherinfor INFO    Evaluating kinematic Fisher information on batch 2 / 10\n",
      "12:02 madminer.ml          INFO    Starting score evaluation\n",
      "12:02 madminer.fisherinfor INFO    Evaluating kinematic Fisher information on batch 3 / 10\n",
      "12:02 madminer.ml          INFO    Starting score evaluation\n",
      "12:02 madminer.fisherinfor INFO    Evaluating kinematic Fisher information on batch 4 / 10\n",
      "12:02 madminer.ml          INFO    Starting score evaluation\n",
      "12:02 madminer.fisherinfor INFO    Evaluating kinematic Fisher information on batch 5 / 10\n",
      "12:02 madminer.ml          INFO    Starting score evaluation\n",
      "12:02 madminer.fisherinfor INFO    Evaluating kinematic Fisher information on batch 6 / 10\n",
      "12:02 madminer.ml          INFO    Starting score evaluation\n",
      "12:02 madminer.fisherinfor INFO    Evaluating kinematic Fisher information on batch 7 / 10\n",
      "12:02 madminer.ml          INFO    Starting score evaluation\n",
      "12:02 madminer.fisherinfor INFO    Evaluating kinematic Fisher information on batch 8 / 10\n",
      "12:02 madminer.ml          INFO    Starting score evaluation\n",
      "12:02 madminer.fisherinfor INFO    Evaluating kinematic Fisher information on batch 9 / 10\n",
      "12:02 madminer.ml          INFO    Starting score evaluation\n",
      "12:02 madminer.fisherinfor INFO    Evaluating kinematic Fisher information on batch 10 / 10\n",
      "12:02 madminer.ml          INFO    Starting score evaluation\n"
     ]
    },
    {
     "name": "stdout",
     "output_type": "stream",
     "text": [
      "           cHbox      cHDD        cHW      cHq3\n",
      "cHbox  32.799510 -8.205775  12.486105  5.916251\n",
      "cHDD   -8.205775  2.053357  -3.124499 -1.480772\n",
      "cHW    12.486105 -3.124499   4.814119  2.430934\n",
      "cHq3    5.916251 -1.480772   2.430934  2.600934\n"
     ]
    }
   ],
   "source": [
    "fi_sally_wph_mu_wbkgs_other1_mean, fi_sally_wph_mu_wbkgs_other1_covariance = fisher_wph_mu_wbkgs_met.calculate_fisher_information_full_detector(\n",
    "    theta=[0.,0.,0.,0.],\n",
    "    model_file='models/others/ensemble_wph_mu_wbkgs_sigsystonly_lhedata_met_ptw_dphilv',\n",
    "    luminosity=uselumi*1000.\n",
    ")\n",
    "\n",
    "print( DataFrame(\n",
    "    data = project_information(fi_sally_wph_mu_wbkgs_other1_mean, [0,1,2,3]),\n",
    "    columns = labels,\n",
    "    index = labels)\n",
    ")"
   ]
  },
  {
   "cell_type": "code",
   "execution_count": null,
   "metadata": {
    "collapsed": true,
    "hidden": true
   },
   "outputs": [],
   "source": [
    "fi_sally_wph_mu_wbkgs_other2_mean, fi_sally_wph_mu_wbkgs_other2_covariance = fisher_wph_mu_wbkgs_met.calculate_fisher_information_full_detector(\n",
    "    theta=[0.,0.,0.,0.],\n",
    "    model_file='models/others/ensemble_wph_mu_wbkgs_sigsystonly_lhedata_met_ptw_drlb',\n",
    "    luminosity=uselumi*1000.\n",
    ")\n",
    "\n",
    "print( DataFrame(\n",
    "    data = project_information(fi_sally_wph_mu_wbkgs_other2_mean, [0,1,2,3]),\n",
    "    columns = labels,\n",
    "    index = labels)\n",
    ")"
   ]
  },
  {
   "cell_type": "code",
   "execution_count": 32,
   "metadata": {
    "hidden": true
   },
   "outputs": [
    {
     "name": "stdout",
     "output_type": "stream",
     "text": [
      "6.61176266348\n"
     ]
    }
   ],
   "source": [
    "print( np.linalg.det(project_information(fi_sally_wph_mu_wbkgs_other1_mean,[2,3])) )"
   ]
  },
  {
   "cell_type": "code",
   "execution_count": 34,
   "metadata": {
    "collapsed": true,
    "hidden": true
   },
   "outputs": [],
   "source": [
    "fi, cov = project_information(fi_sally_wph_mu_wbkgs_other1_mean, [0,1,2,3], covariance=fi_sally_wph_mu_wbkgs_other1_covariance)"
   ]
  },
  {
   "cell_type": "code",
   "execution_count": 36,
   "metadata": {
    "collapsed": true,
    "hidden": true
   },
   "outputs": [],
   "source": [
    "fi1, cov1 = project_information(fi, [1,2,3], covariance=cov)"
   ]
  },
  {
   "cell_type": "markdown",
   "metadata": {
    "heading_collapsed": true
   },
   "source": [
    "## Computing Background-Free Information"
   ]
  },
  {
   "cell_type": "markdown",
   "metadata": {
    "hidden": true
   },
   "source": [
    "#### Full Observables"
   ]
  },
  {
   "cell_type": "code",
   "execution_count": null,
   "metadata": {
    "collapsed": true,
    "hidden": true
   },
   "outputs": [],
   "source": [
    "fi_sally_wph_mu_full_mean, fi_sally_wph_mu_full_covariance = fisher_wph_mu_full.calculate_fisher_information_full_detector(\n",
    "    theta=[0.,0.,0.,0.],\n",
    "    model_file='models/full/sally_ensemble_wph_mu_smeftsim_full',\n",
    "    luminosity=uselumi*1000.\n",
    ")\n",
    "\n",
    "print( DataFrame(\n",
    "    data = project_information(fi_sally_wph_mu_full_mean, [0,1,2,3]),\n",
    "    columns = labels,\n",
    "    index = labels)\n",
    ")"
   ]
  },
  {
   "cell_type": "code",
   "execution_count": null,
   "metadata": {
    "collapsed": true,
    "hidden": true
   },
   "outputs": [],
   "source": [
    "fi_sally_wph_e_full_mean, fi_sally_wph_e_full_covariance = fisher_wph_e_full.calculate_fisher_information_full_detector(\n",
    "    theta=[0.,0.,0.,0.],\n",
    "    model_file='models/full/sally_ensemble_wph_e_smeftsim_full',\n",
    "    luminosity=uselumi*1000.\n",
    ")"
   ]
  },
  {
   "cell_type": "code",
   "execution_count": null,
   "metadata": {
    "collapsed": true,
    "hidden": true
   },
   "outputs": [],
   "source": [
    "fi_sally_wmh_mu_full_mean, fi_sally_wmh_mu_full_covariance = fisher_wmh_mu_full.calculate_fisher_information_full_detector(\n",
    "    theta=[0.,0.,0.,0.],\n",
    "    model_file='models/full/sally_ensemble_wmh_mu_smeftsim_full',\n",
    "    luminosity=uselumi*1000.\n",
    ")"
   ]
  },
  {
   "cell_type": "code",
   "execution_count": null,
   "metadata": {
    "collapsed": true,
    "hidden": true
   },
   "outputs": [],
   "source": [
    "fi_sally_wmh_e_full_mean, fi_sally_wmh_e_full_covariance = fisher_wmh_e_full.calculate_fisher_information_full_detector(\n",
    "    theta=[0.,0.,0.,0.],\n",
    "    model_file='models/full/sally_ensemble_wmh_e_smeftsim_full',\n",
    "    luminosity=uselumi*1000.\n",
    ")"
   ]
  },
  {
   "cell_type": "markdown",
   "metadata": {
    "hidden": true
   },
   "source": [
    "#### MET Observables"
   ]
  },
  {
   "cell_type": "code",
   "execution_count": null,
   "metadata": {
    "collapsed": true,
    "hidden": true
   },
   "outputs": [],
   "source": [
    "fi_sally_wph_mu_met_mean, fi_sally_wph_mu_met_covariance = fisher_wph_mu_met.calculate_fisher_information_full_detector(\n",
    "    theta=[0.,0.,0.,0.],\n",
    "    model_file='models/met/sally_ensemble_wph_mu_smeftsim_met',\n",
    "    luminosity=uselumi*1000.\n",
    ")\n",
    "\n",
    "print( DataFrame(\n",
    "    data = project_information(fi_sally_wph_mu_met_mean, [0,1,2,3]),\n",
    "    columns = labels,\n",
    "    index = labels)\n",
    ")"
   ]
  },
  {
   "cell_type": "code",
   "execution_count": null,
   "metadata": {
    "collapsed": true,
    "hidden": true
   },
   "outputs": [],
   "source": [
    "fi_sally_wph_e_met_mean, fi_sally_wph_e_met_covariance = fisher_wph_e_met.calculate_fisher_information_full_detector(\n",
    "    theta=[0.,0.,0.,0.],\n",
    "    model_file='models/met/sally_ensemble_wph_e_smeftsim_met',\n",
    "    luminosity=uselumi*1000.\n",
    ")"
   ]
  },
  {
   "cell_type": "code",
   "execution_count": null,
   "metadata": {
    "collapsed": true,
    "hidden": true
   },
   "outputs": [],
   "source": [
    "fi_sally_wmh_mu_met_mean, fi_sally_wmh_mu_met_covariance = fisher_wmh_mu_met.calculate_fisher_information_full_detector(\n",
    "    theta=[0.,0.,0.,0.],\n",
    "    model_file='models/met/sally_ensemble_wmh_mu_smeftsim_met',\n",
    "    luminosity=uselumi*1000.\n",
    ")"
   ]
  },
  {
   "cell_type": "code",
   "execution_count": null,
   "metadata": {
    "collapsed": true,
    "hidden": true
   },
   "outputs": [],
   "source": [
    "fi_sally_wmh_e_met_mean, fi_sally_wmh_e_met_covariance = fisher_wmh_e_met.calculate_fisher_information_full_detector(\n",
    "    theta=[0.,0.,0.,0.],\n",
    "    model_file='models/met/sally_ensemble_wmh_e_smeftsim_met',\n",
    "    luminosity=uselumi*1000.\n",
    ")"
   ]
  },
  {
   "cell_type": "markdown",
   "metadata": {
    "hidden": true
   },
   "source": [
    "#### 2D Observables"
   ]
  },
  {
   "cell_type": "code",
   "execution_count": null,
   "metadata": {
    "collapsed": true,
    "hidden": true
   },
   "outputs": [],
   "source": [
    "fi_sally_wph_mu_2d_mean, fi_sally_wph_mu_2d_covariance = fisher_wph_mu_met.calculate_fisher_information_full_detector(\n",
    "    theta=[0.,0.,0.,0.],\n",
    "    model_file='models/2d/sally_ensemble_wph_mu_smeftsim_2d',\n",
    "    luminosity=uselumi*1000.\n",
    ")\n",
    "\n",
    "print( DataFrame(\n",
    "    data = project_information(fi_sally_wph_mu_2d_mean, [0,1,2,3]),\n",
    "    columns = labels,\n",
    "    index = labels)\n",
    ")"
   ]
  },
  {
   "cell_type": "code",
   "execution_count": null,
   "metadata": {
    "collapsed": true,
    "hidden": true
   },
   "outputs": [],
   "source": [
    "fi_sally_wph_e_2d_mean, fi_sally_wph_e_2d_covariance = fisher_wph_e_met.calculate_fisher_information_full_detector(\n",
    "    theta=[0.,0.,0.,0.],\n",
    "    model_file='models/2d/sally_ensemble_wph_e_smeftsim_2d',\n",
    "    luminosity=uselumi*1000.\n",
    ")"
   ]
  },
  {
   "cell_type": "code",
   "execution_count": null,
   "metadata": {
    "collapsed": true,
    "hidden": true
   },
   "outputs": [],
   "source": [
    "fi_sally_wmh_mu_2d_mean, fi_sally_wmh_mu_2d_covariance = fisher_wmh_mu_met.calculate_fisher_information_full_detector(\n",
    "    theta=[0.,0.,0.,0.],\n",
    "    model_file='models/2d/sally_ensemble_wmh_mu_smeftsim_2d',\n",
    "    luminosity=uselumi*1000.\n",
    ")"
   ]
  },
  {
   "cell_type": "code",
   "execution_count": null,
   "metadata": {
    "collapsed": true,
    "hidden": true
   },
   "outputs": [],
   "source": [
    "fi_sally_wmh_e_2d_mean, fi_sally_wmh_e_2d_covariance = fisher_wmh_e_met.calculate_fisher_information_full_detector(\n",
    "    theta=[0.,0.,0.,0.],\n",
    "    model_file='models/2d/sally_ensemble_wmh_e_smeftsim_2d',\n",
    "    luminosity=uselumi*1000.\n",
    ")"
   ]
  },
  {
   "cell_type": "markdown",
   "metadata": {
    "hidden": true
   },
   "source": [
    "#### $p_{T,W}$ Only"
   ]
  },
  {
   "cell_type": "code",
   "execution_count": null,
   "metadata": {
    "collapsed": true,
    "hidden": true
   },
   "outputs": [],
   "source": [
    "fi_sally_wph_mu_ptw_mean, fi_sally_wph_mu_ptw_covariance = fisher_wph_mu_met.calculate_fisher_information_full_detector(\n",
    "    theta=[0.,0.,0.,0.],\n",
    "    model_file='models/ptw/sally_ensemble_wph_mu_smeftsim_ptw',\n",
    "    luminosity=uselumi*1000.\n",
    ")\n",
    "\n",
    "print( DataFrame(\n",
    "    data = project_information(fi_sally_wph_mu_ptw_mean, [0,1,2,3]),\n",
    "    columns = labels,\n",
    "    index = labels)\n",
    ")"
   ]
  },
  {
   "cell_type": "code",
   "execution_count": null,
   "metadata": {
    "collapsed": true,
    "hidden": true
   },
   "outputs": [],
   "source": [
    "fi_sally_wph_e_ptw_mean, fi_sally_wph_e_ptw_covariance = fisher_wph_e_met.calculate_fisher_information_full_detector(\n",
    "    theta=[0.,0.,0.,0.],\n",
    "    model_file='models/ptw/sally_ensemble_wph_e_smeftsim_ptw',\n",
    "    luminosity=uselumi*1000.\n",
    ")"
   ]
  },
  {
   "cell_type": "code",
   "execution_count": null,
   "metadata": {
    "collapsed": true,
    "hidden": true
   },
   "outputs": [],
   "source": [
    "fi_sally_wmh_mu_ptw_mean, fi_sally_wmh_mu_ptw_covariance = fisher_wmh_mu_met.calculate_fisher_information_full_detector(\n",
    "    theta=[0.,0.,0.,0.],\n",
    "    model_file='models/ptw/sally_ensemble_wmh_mu_smeftsim_ptw',\n",
    "    luminosity=uselumi*1000.\n",
    ")"
   ]
  },
  {
   "cell_type": "code",
   "execution_count": null,
   "metadata": {
    "collapsed": true,
    "hidden": true
   },
   "outputs": [],
   "source": [
    "fi_sally_wmh_e_ptw_mean, fi_sally_wmh_e_ptw_covariance = fisher_wmh_e_met.calculate_fisher_information_full_detector(\n",
    "    theta=[0.,0.,0.,0.],\n",
    "    model_file='models/ptw/sally_ensemble_wmh_e_smeftsim_ptw',\n",
    "    luminosity=uselumi*1000.\n",
    ")"
   ]
  },
  {
   "cell_type": "markdown",
   "metadata": {
    "hidden": true
   },
   "source": [
    "### Save the Arrays for Later"
   ]
  },
  {
   "cell_type": "code",
   "execution_count": null,
   "metadata": {
    "collapsed": true,
    "hidden": true,
    "scrolled": true
   },
   "outputs": [],
   "source": [
    "fi_sally_nobkgs_outfile = './fisher_info/fi_sally_nobkgs.npz'\n",
    "fi_sally_nobkgs_cov_outfile = './fisher_info/fi_sally_nobkgs_cov.npz'\n",
    "\n",
    "\n",
    "fi_sally_nobkgs_list = [\n",
    "    fi_sally_wph_mu_full_mean,\n",
    "    fi_sally_wph_e_full_mean,\n",
    "    fi_sally_wmh_mu_full_mean,\n",
    "    fi_sally_wmh_e_full_mean,\n",
    "    fi_sally_wph_mu_met_mean,\n",
    "    fi_sally_wph_e_met_mean,\n",
    "    fi_sally_wmh_mu_met_mean,\n",
    "    fi_sally_wmh_e_met_mean,\n",
    "    fi_sally_wph_mu_2d_mean,\n",
    "    fi_sally_wph_e_2d_mean,\n",
    "    fi_sally_wmh_mu_2d_mean,\n",
    "    fi_sally_wmh_e_2d_mean,\n",
    "    fi_sally_wph_mu_ptw_mean,\n",
    "    fi_sally_wph_e_ptw_mean,\n",
    "    fi_sally_wmh_mu_ptw_mean,\n",
    "    fi_sally_wmh_e_ptw_mean,\n",
    "]\n",
    "\n",
    "fi_sally_nobkgs_cov_list = [\n",
    "    fi_sally_wph_mu_full_covariance,\n",
    "    fi_sally_wph_e_full_covariance,\n",
    "    fi_sally_wmh_mu_full_covariance,\n",
    "    fi_sally_wmh_e_full_covariance,\n",
    "    fi_sally_wph_mu_met_covariance,\n",
    "    fi_sally_wph_e_met_covariance,\n",
    "    fi_sally_wmh_mu_met_covariance,\n",
    "    fi_sally_wmh_e_met_covariance,\n",
    "    fi_sally_wph_mu_2d_covariance,\n",
    "    fi_sally_wph_e_2d_covariance,\n",
    "    fi_sally_wmh_mu_2d_covariance,\n",
    "    fi_sally_wmh_e_2d_covariance,\n",
    "    fi_sally_wph_mu_ptw_covariance,\n",
    "    fi_sally_wph_e_ptw_covariance,\n",
    "    fi_sally_wmh_mu_ptw_covariance,\n",
    "    fi_sally_wmh_e_ptw_covariance,\n",
    "]"
   ]
  },
  {
   "cell_type": "code",
   "execution_count": null,
   "metadata": {
    "collapsed": true,
    "hidden": true,
    "scrolled": true
   },
   "outputs": [],
   "source": [
    "np.savez(fi_sally_nobkgs_outfile, fi_sally_nobkgs_list, allow_pickle=False)\n",
    "np.savez(fi_sally_nobkgs_cov_outfile, fi_sally_nobkgs_cov_list, allow_pickle=False)"
   ]
  },
  {
   "cell_type": "markdown",
   "metadata": {
    "heading_collapsed": true
   },
   "source": [
    "## Other Fisher Informations"
   ]
  },
  {
   "cell_type": "markdown",
   "metadata": {
    "hidden": true
   },
   "source": [
    "### Truth-Level Information"
   ]
  },
  {
   "cell_type": "code",
   "execution_count": 32,
   "metadata": {
    "hidden": true
   },
   "outputs": [
    {
     "name": "stdout",
     "output_type": "stream",
     "text": [
      "            cHbox       cHDD        cHW       cHq3\n",
      "cHbox  247.380392 -61.845088  89.824347  24.786437\n",
      "cHDD   -61.845088  15.461269 -22.456083  -6.196608\n",
      "cHW     89.824347 -22.456083  55.493651  10.478219\n",
      "cHq3    24.786437  -6.196608  10.478219   6.834647\n"
     ]
    }
   ],
   "source": [
    "fi_wph_mu_truth_mean, fi_wph_mu_truth_covariance = fisher_wph_mu_full.calculate_fisher_information_full_truth(\n",
    "    theta=[0.,0.,0.,0.],\n",
    "    luminosity=uselumi*1000.\n",
    ")\n",
    "\n",
    "print( DataFrame(\n",
    "    data = project_information(fi_wph_mu_truth_mean, [0,1,2,3]),\n",
    "    columns = labels,\n",
    "    index = labels)\n",
    ")"
   ]
  },
  {
   "cell_type": "code",
   "execution_count": 33,
   "metadata": {
    "collapsed": true,
    "hidden": true,
    "scrolled": true
   },
   "outputs": [],
   "source": [
    "fi_wph_e_truth_mean, fi_wph_e_truth_covariance = fisher_wph_e_full.calculate_fisher_information_full_truth(\n",
    "    theta=[0.,0.,0.,0.],\n",
    "    luminosity=uselumi*1000.\n",
    ")"
   ]
  },
  {
   "cell_type": "code",
   "execution_count": 34,
   "metadata": {
    "collapsed": true,
    "hidden": true,
    "scrolled": true
   },
   "outputs": [],
   "source": [
    "fi_wmh_mu_truth_mean, fi_wmh_mu_truth_covariance = fisher_wmh_mu_full.calculate_fisher_information_full_truth(\n",
    "    theta=[0.,0.,0.,0.],\n",
    "    luminosity=uselumi*1000.\n",
    ")"
   ]
  },
  {
   "cell_type": "code",
   "execution_count": 35,
   "metadata": {
    "collapsed": true,
    "hidden": true,
    "scrolled": true
   },
   "outputs": [],
   "source": [
    "fi_wmh_e_truth_mean, fi_wmh_e_truth_covariance = fisher_wmh_e_full.calculate_fisher_information_full_truth(\n",
    "    theta=[0.,0.,0.,0.],\n",
    "    luminosity=uselumi*1000.\n",
    ")"
   ]
  },
  {
   "cell_type": "markdown",
   "metadata": {
    "hidden": true
   },
   "source": [
    "### Rate-Only Information"
   ]
  },
  {
   "cell_type": "markdown",
   "metadata": {
    "hidden": true
   },
   "source": [
    "#### No-Backgrounds"
   ]
  },
  {
   "cell_type": "code",
   "execution_count": 36,
   "metadata": {
    "hidden": true
   },
   "outputs": [
    {
     "name": "stdout",
     "output_type": "stream",
     "text": [
      "            cHbox       cHDD        cHW       cHq3\n",
      "cHbox  247.380392 -61.845088  89.824346  24.786437\n",
      "cHDD   -61.845088  15.461269 -22.456083  -6.196608\n",
      "cHW     89.824346 -22.456083  32.615411   9.000008\n",
      "cHq3    24.786437  -6.196608   9.000008   2.483493\n"
     ]
    }
   ],
   "source": [
    "fi_wph_mu_rate_mean, fi_wph_mu_rate_covariance = fisher_wph_mu_met.calculate_fisher_information_rate(\n",
    "    theta=[0.,0.,0.,0.],\n",
    "    luminosity=uselumi*1000.\n",
    ")\n",
    "\n",
    "print( DataFrame(\n",
    "    data = project_information(fi_wph_mu_rate_mean, [0,1,2,3]),\n",
    "    columns = labels,\n",
    "    index = labels)\n",
    ")"
   ]
  },
  {
   "cell_type": "code",
   "execution_count": 37,
   "metadata": {
    "collapsed": true,
    "hidden": true,
    "scrolled": true
   },
   "outputs": [],
   "source": [
    "fi_wph_e_rate_mean, fi_wph_e_rate_covariance = fisher_wph_e_met.calculate_fisher_information_rate(\n",
    "    theta=[0.,0.,0.,0.],\n",
    "    luminosity=uselumi*1000.\n",
    ")"
   ]
  },
  {
   "cell_type": "code",
   "execution_count": 38,
   "metadata": {
    "collapsed": true,
    "hidden": true,
    "scrolled": true
   },
   "outputs": [],
   "source": [
    "fi_wmh_mu_rate_mean, fi_wmh_mu_rate_covariance = fisher_wmh_mu_met.calculate_fisher_information_rate(\n",
    "    theta=[0.,0.,0.,0.],\n",
    "    luminosity=uselumi*1000.\n",
    ")"
   ]
  },
  {
   "cell_type": "code",
   "execution_count": 39,
   "metadata": {
    "hidden": true,
    "scrolled": true
   },
   "outputs": [
    {
     "name": "stdout",
     "output_type": "stream",
     "text": [
      "            cHbox       cHDD        cHW       cHq3\n",
      "cHbox  160.700091 -40.175016  56.233231  14.705423\n",
      "cHDD   -40.175016  10.043752 -14.058306  -3.676355\n",
      "cHW     56.233231 -14.058306  19.677501   5.145818\n",
      "cHq3    14.705423  -3.676355   5.145818   1.345671\n"
     ]
    }
   ],
   "source": [
    "fi_wmh_e_rate_mean, fi_wmh_e_rate_covariance = fisher_wmh_e_met.calculate_fisher_information_rate(\n",
    "    theta=[0.,0.,0.,0.],\n",
    "    luminosity=uselumi*1000.\n",
    ")\n",
    "\n",
    "print( DataFrame(\n",
    "    data = project_information(fi_wmh_e_rate_mean, [0,1,2,3]),\n",
    "    columns = labels,\n",
    "    index = labels)\n",
    ")"
   ]
  },
  {
   "cell_type": "markdown",
   "metadata": {
    "hidden": true
   },
   "source": [
    "#### With Backgrounds"
   ]
  },
  {
   "cell_type": "code",
   "execution_count": 40,
   "metadata": {
    "hidden": true
   },
   "outputs": [
    {
     "name": "stdout",
     "output_type": "stream",
     "text": [
      "           cHbox      cHDD       cHW      cHq3\n",
      "cHbox  24.823544 -6.205885  9.013482  2.487211\n",
      "cHDD   -6.205885  1.551471 -2.253370 -0.621803\n",
      "cHW     9.013482 -2.253370  3.272814  0.903112\n",
      "cHq3    2.487211 -0.621803  0.903112  0.249208\n"
     ]
    }
   ],
   "source": [
    "fi_wph_mu_wbkgs_rate_mean, fi_wph_mu_wbkgs_rate_covariance = fisher_wph_mu_wbkgs_met.calculate_fisher_information_rate(\n",
    "    theta=[0.,0.,0.,0.],\n",
    "    luminosity=uselumi*1000.\n",
    ")\n",
    "\n",
    "print( DataFrame(\n",
    "    data = project_information(fi_wph_mu_wbkgs_rate_mean, [0,1,2,3]),\n",
    "    columns = labels,\n",
    "    index = labels)\n",
    ")"
   ]
  },
  {
   "cell_type": "code",
   "execution_count": 41,
   "metadata": {
    "collapsed": true,
    "hidden": true,
    "scrolled": true
   },
   "outputs": [],
   "source": [
    "fi_wph_e_wbkgs_rate_mean, fi_wph_e_wbkgs_rate_covariance = fisher_wph_e_wbkgs_met.calculate_fisher_information_rate(\n",
    "    theta=[0.,0.,0.,0.],\n",
    "    luminosity=uselumi*1000.\n",
    ")"
   ]
  },
  {
   "cell_type": "code",
   "execution_count": 42,
   "metadata": {
    "collapsed": true,
    "hidden": true,
    "scrolled": true
   },
   "outputs": [],
   "source": [
    "fi_wmh_mu_wbkgs_rate_mean, fi_wmh_mu_wbkgs_rate_covariance = fisher_wmh_mu_wbkgs_met.calculate_fisher_information_rate(\n",
    "    theta=[0.,0.,0.,0.],\n",
    "    luminosity=uselumi*1000.\n",
    ")"
   ]
  },
  {
   "cell_type": "code",
   "execution_count": 43,
   "metadata": {
    "collapsed": true,
    "hidden": true,
    "scrolled": true
   },
   "outputs": [],
   "source": [
    "fi_wmh_e_wbkgs_rate_mean, fi_wmh_e_wbkgs_rate_covariance = fisher_wmh_e_wbkgs_met.calculate_fisher_information_rate(\n",
    "    theta=[0.,0.,0.,0.],\n",
    "    luminosity=uselumi*1000.\n",
    ")"
   ]
  },
  {
   "cell_type": "markdown",
   "metadata": {
    "hidden": true
   },
   "source": [
    "### Save the Arrays for Later"
   ]
  },
  {
   "cell_type": "code",
   "execution_count": 44,
   "metadata": {
    "collapsed": true,
    "hidden": true,
    "scrolled": true
   },
   "outputs": [],
   "source": [
    "fi_sally_other_outfile = './fisher_info/fi_sally_other.npz'\n",
    "fi_sally_other_cov_outfile = './fisher_info/fi_sally_other_cov.npz'\n",
    "\n",
    "fi_sally_other_list = [\n",
    "    fi_wph_mu_wbkgs_rate_mean,\n",
    "    fi_wph_e_wbkgs_rate_mean,\n",
    "    fi_wmh_mu_wbkgs_rate_mean,\n",
    "    fi_wmh_e_wbkgs_rate_mean,\n",
    "    fi_wph_mu_rate_mean,\n",
    "    fi_wph_e_rate_mean,\n",
    "    fi_wmh_mu_rate_mean,\n",
    "    fi_wmh_e_rate_mean,\n",
    "    fi_wph_mu_truth_mean,\n",
    "    fi_wph_e_truth_mean,\n",
    "    fi_wmh_mu_truth_mean,\n",
    "    fi_wmh_e_truth_mean,\n",
    "]\n",
    "\n",
    "fi_sally_other_cov_list = [\n",
    "    fi_wph_mu_wbkgs_rate_covariance,\n",
    "    fi_wph_e_wbkgs_rate_covariance,\n",
    "    fi_wmh_mu_wbkgs_rate_covariance,\n",
    "    fi_wmh_e_wbkgs_rate_covariance,\n",
    "    fi_wph_mu_rate_covariance,\n",
    "    fi_wph_e_rate_covariance,\n",
    "    fi_wmh_mu_rate_covariance,\n",
    "    fi_wmh_e_rate_covariance,\n",
    "    fi_wph_mu_truth_covariance,\n",
    "    fi_wph_e_truth_covariance,\n",
    "    fi_wmh_mu_truth_covariance,\n",
    "    fi_wmh_e_truth_covariance,\n",
    "]"
   ]
  },
  {
   "cell_type": "code",
   "execution_count": 45,
   "metadata": {
    "collapsed": true,
    "hidden": true,
    "scrolled": true
   },
   "outputs": [],
   "source": [
    "np.savez(fi_sally_other_outfile, fi_sally_other_list, allow_pickle=False)\n",
    "np.savez(fi_sally_other_cov_outfile, fi_sally_other_cov_list, allow_pickle=False)"
   ]
  },
  {
   "cell_type": "markdown",
   "metadata": {
    "heading_collapsed": true
   },
   "source": [
    "## Information in the Angular Variable $\\cos\\theta_W^*$"
   ]
  },
  {
   "cell_type": "markdown",
   "metadata": {
    "heading_collapsed": true,
    "hidden": true
   },
   "source": [
    "### $W^+ \\to \\mu^+\\nu_{\\mu}$"
   ]
  },
  {
   "cell_type": "code",
   "execution_count": null,
   "metadata": {
    "collapsed": true,
    "hidden": true
   },
   "outputs": [],
   "source": [
    "fisher_wph_mu_wbkgs_thetaw = FisherInformation(lhedatafile_wph_mu_wbkgs_thetaw, include_nuisance_parameters=True)"
   ]
  },
  {
   "cell_type": "code",
   "execution_count": null,
   "metadata": {
    "collapsed": true,
    "hidden": true
   },
   "outputs": [],
   "source": [
    "fi_sally_wph_mu_wbkgs_thetaw_mean, fi_sally_wph_mu_wbkgs_thetaw_covariance = fisher_wph_mu_wbkgs_thetaw.calculate_fisher_information_full_detector(\n",
    "    theta=[0.,0.,0.,0.],\n",
    "    model_file='models/sally_ensemble_wph_mu_wbkgs_short_thetaw',\n",
    "    luminosity=uselumi*1000.\n",
    ")\n",
    "\n",
    "print( DataFrame(\n",
    "    data = project_information(fi_sally_wph_mu_wbkgs_thetaw_mean, [0,1,2,3]),\n",
    "    columns = labels,\n",
    "    index = labels)\n",
    ")"
   ]
  },
  {
   "cell_type": "code",
   "execution_count": null,
   "metadata": {
    "collapsed": true,
    "hidden": true
   },
   "outputs": [],
   "source": [
    "fisher_wph_mu_wbkgs_2dthetaw = FisherInformation(lhedatafile_wph_mu_wbkgs_2dthetaw, include_nuisance_parameters=True)"
   ]
  },
  {
   "cell_type": "code",
   "execution_count": null,
   "metadata": {
    "collapsed": true,
    "hidden": true
   },
   "outputs": [],
   "source": [
    "fi_sally_wph_mu_wbkgs_2dthetaw_mean, fi_sally_wph_mu_wbkgs_2dthetaw_covariance = fisher_wph_mu_wbkgs_2dthetaw.calculate_fisher_information_full_detector(\n",
    "    theta=[0.,0.,0.,0.],\n",
    "    model_file='models/sally_ensemble_wph_mu_wbkgs_short_2dthetaw',\n",
    "    luminosity=uselumi*1000.\n",
    ")\n",
    "\n",
    "print( DataFrame(\n",
    "    data = project_information(fi_sally_wph_mu_wbkgs_2dthetaw_mean, [0,1,2,3]),\n",
    "    columns = labels,\n",
    "    index = labels)\n",
    ")"
   ]
  },
  {
   "cell_type": "code",
   "execution_count": null,
   "metadata": {
    "collapsed": true,
    "hidden": true
   },
   "outputs": [],
   "source": [
    "fisher_wph_mu_wbkgs_3d = FisherInformation(lhedatafile_wph_mu_wbkgs_3d, include_nuisance_parameters=True)"
   ]
  },
  {
   "cell_type": "code",
   "execution_count": null,
   "metadata": {
    "collapsed": true,
    "hidden": true
   },
   "outputs": [],
   "source": [
    "fi_sally_wph_mu_wbkgs_3d_mean, fi_sally_wph_mu_wbkgs_3d_covariance = fisher_wph_mu_wbkgs_3d.calculate_fisher_information_full_detector(\n",
    "    theta=[0.,0.,0.,0.],\n",
    "    model_file='models/sally_ensemble_wph_mu_wbkgs_short_3d',\n",
    "    luminosity=uselumi*1000.\n",
    ")\n",
    "\n",
    "print( DataFrame(\n",
    "    data = project_information(fi_sally_wph_mu_wbkgs_3d_mean, [0,1,2,3]),\n",
    "    columns = labels,\n",
    "    index = labels)\n",
    ")"
   ]
  },
  {
   "cell_type": "code",
   "execution_count": null,
   "metadata": {
    "collapsed": true,
    "hidden": true
   },
   "outputs": [],
   "source": [
    "fisher_wph_mu_3d = FisherInformation(lhedatafile_wph_mu_3d, include_nuisance_parameters=True)"
   ]
  },
  {
   "cell_type": "code",
   "execution_count": null,
   "metadata": {
    "collapsed": true,
    "hidden": true
   },
   "outputs": [],
   "source": [
    "fi_sally_wph_mu_3d_mean, fi_sally_wph_mu_3d_covariance = fisher_wph_mu_3d.calculate_fisher_information_full_detector(\n",
    "    theta=[0.,0.,0.,0.],\n",
    "    model_file='models/sally_ensemble_wph_mu_smeftsim_3d',\n",
    "    luminosity=uselumi*1000.,\n",
    ")\n",
    "\n",
    "print( DataFrame(\n",
    "    data = project_information(fi_sally_wph_mu_3d_mean, [0,1,2,3]),\n",
    "    columns = labels,\n",
    "    index = labels)\n",
    ")"
   ]
  },
  {
   "cell_type": "markdown",
   "metadata": {
    "heading_collapsed": true,
    "hidden": true
   },
   "source": [
    "### $W^+ \\to e^+\\nu_{e}$"
   ]
  },
  {
   "cell_type": "code",
   "execution_count": null,
   "metadata": {
    "collapsed": true,
    "hidden": true
   },
   "outputs": [],
   "source": [
    "fisher_wph_e_wbkgs_thetaw = FisherInformation(lhedatafile_wph_e_wbkgs_thetaw, include_nuisance_parameters=True)"
   ]
  },
  {
   "cell_type": "code",
   "execution_count": null,
   "metadata": {
    "collapsed": true,
    "hidden": true
   },
   "outputs": [],
   "source": [
    "fi_sally_wph_e_wbkgs_thetaw_mean, fi_sally_wph_e_wbkgs_thetaw_covariance = fisher_wph_e_wbkgs_thetaw.calculate_fisher_information_full_detector(\n",
    "    theta=[0.,0.,0.,0.],\n",
    "    model_file='models/sally_ensemble_wph_e_wbkgs_short_thetaw',\n",
    "    luminosity=uselumi*1000.\n",
    ")\n",
    "\n",
    "print( DataFrame(\n",
    "    data = project_information(fi_sally_wph_e_wbkgs_thetaw_mean, [0,1,2,3]),\n",
    "    columns = labels,\n",
    "    index = labels)\n",
    ")"
   ]
  },
  {
   "cell_type": "code",
   "execution_count": null,
   "metadata": {
    "collapsed": true,
    "hidden": true
   },
   "outputs": [],
   "source": [
    "fisher_wph_e_wbkgs_2dthetaw = FisherInformation(lhedatafile_wph_e_wbkgs_2dthetaw, include_nuisance_parameters=True)"
   ]
  },
  {
   "cell_type": "code",
   "execution_count": null,
   "metadata": {
    "collapsed": true,
    "hidden": true
   },
   "outputs": [],
   "source": [
    "fi_sally_wph_e_wbkgs_2dthetaw_mean, fi_sally_wph_e_wbkgs_2dthetaw_covariance = fisher_wph_e_wbkgs_2dthetaw.calculate_fisher_information_full_detector(\n",
    "    theta=[0.,0.,0.,0.],\n",
    "    model_file='models/sally_ensemble_wph_e_wbkgs_short_2dthetaw',\n",
    "    luminosity=uselumi*1000.\n",
    ")\n",
    "\n",
    "print( DataFrame(\n",
    "    data = project_information(fi_sally_wph_e_wbkgs_2dthetaw_mean, [0,1,2,3]),\n",
    "    columns = labels,\n",
    "    index = labels)\n",
    ")"
   ]
  },
  {
   "cell_type": "code",
   "execution_count": null,
   "metadata": {
    "collapsed": true,
    "hidden": true
   },
   "outputs": [],
   "source": [
    "fisher_wph_e_wbkgs_3d = FisherInformation(lhedatafile_wph_e_wbkgs_3d, include_nuisance_parameters=True)"
   ]
  },
  {
   "cell_type": "code",
   "execution_count": null,
   "metadata": {
    "collapsed": true,
    "hidden": true
   },
   "outputs": [],
   "source": [
    "fi_sally_wph_e_wbkgs_3d_mean, fi_sally_wph_e_wbkgs_3d_covariance = fisher_wph_e_wbkgs_3d.calculate_fisher_information_full_detector(\n",
    "    theta=[0.,0.,0.,0.],\n",
    "    model_file='models/sally_ensemble_wph_e_wbkgs_short_3d',\n",
    "    luminosity=uselumi*1000.\n",
    ")\n",
    "\n",
    "print( DataFrame(\n",
    "    data = project_information(fi_sally_wph_e_wbkgs_3d_mean, [0,1,2,3]),\n",
    "    columns = labels,\n",
    "    index = labels)\n",
    ")"
   ]
  },
  {
   "cell_type": "code",
   "execution_count": null,
   "metadata": {
    "collapsed": true,
    "hidden": true
   },
   "outputs": [],
   "source": [
    "fisher_wph_e_3d = FisherInformation(lhedatafile_wph_e_wbkgs_3d, include_nuisance_parameters=True)"
   ]
  },
  {
   "cell_type": "code",
   "execution_count": null,
   "metadata": {
    "collapsed": true,
    "hidden": true
   },
   "outputs": [],
   "source": [
    "fi_sally_wph_e_3d_mean, fi_sally_wph_e_3d_covariance = fisher_wph_e_3d.calculate_fisher_information_full_detector(\n",
    "    theta=[0.,0.,0.,0.],\n",
    "    model_file='models/sally_ensemble_wph_e_smeftsim_3d',\n",
    "    luminosity=uselumi*1000.,\n",
    ")\n",
    "\n",
    "print( DataFrame(\n",
    "    data = project_information(fi_sally_wph_e_3d_mean, [0,1,2,3]),\n",
    "    columns = labels,\n",
    "    index = labels)\n",
    ")"
   ]
  },
  {
   "cell_type": "markdown",
   "metadata": {
    "heading_collapsed": true,
    "hidden": true
   },
   "source": [
    "### $W^- \\to \\mu^-\\bar{\\nu}_{\\mu}$"
   ]
  },
  {
   "cell_type": "code",
   "execution_count": null,
   "metadata": {
    "collapsed": true,
    "hidden": true
   },
   "outputs": [],
   "source": [
    "fisher_wmh_mu_wbkgs_thetaw = FisherInformation(lhedatafile_wmh_mu_wbkgs_thetaw, include_nuisance_parameters=True)"
   ]
  },
  {
   "cell_type": "code",
   "execution_count": null,
   "metadata": {
    "collapsed": true,
    "hidden": true
   },
   "outputs": [],
   "source": [
    "fi_sally_wmh_mu_wbkgs_thetaw_mean, fi_sally_wmh_mu_wbkgs_thetaw_covariance = fisher_wmh_mu_wbkgs_thetaw.calculate_fisher_information_full_detector(\n",
    "    theta=[0.,0.,0.,0.],\n",
    "    model_file='models/sally_ensemble_wmh_mu_wbkgs_short_thetaw',\n",
    "    luminosity=uselumi*1000.\n",
    ")\n",
    "\n",
    "print( DataFrame(\n",
    "    data = project_information(fi_sally_wmh_mu_wbkgs_thetaw_mean, [0,1,2,3]),\n",
    "    columns = labels,\n",
    "    index = labels)\n",
    ")"
   ]
  },
  {
   "cell_type": "code",
   "execution_count": null,
   "metadata": {
    "collapsed": true,
    "hidden": true
   },
   "outputs": [],
   "source": [
    "fisher_wmh_mu_wbkgs_2dthetaw = FisherInformation(lhedatafile_wmh_mu_wbkgs_2dthetaw, include_nuisance_parameters=True)"
   ]
  },
  {
   "cell_type": "code",
   "execution_count": null,
   "metadata": {
    "collapsed": true,
    "hidden": true
   },
   "outputs": [],
   "source": [
    "fi_sally_wmh_mu_wbkgs_2dthetaw_mean, fi_sally_wmh_mu_wbkgs_2dthetaw_covariance = fisher_wmh_mu_wbkgs_2dthetaw.calculate_fisher_information_full_detector(\n",
    "    theta=[0.,0.,0.,0.],\n",
    "    model_file='models/sally_ensemble_wmh_mu_wbkgs_short_2dthetaw',\n",
    "    luminosity=uselumi*1000.\n",
    ")\n",
    "\n",
    "print( DataFrame(\n",
    "    data = project_information(fi_sally_wmh_mu_wbkgs_2dthetaw_mean, [0,1,2,3]),\n",
    "    columns = labels,\n",
    "    index = labels)\n",
    ")"
   ]
  },
  {
   "cell_type": "code",
   "execution_count": null,
   "metadata": {
    "collapsed": true,
    "hidden": true
   },
   "outputs": [],
   "source": [
    "fisher_wmh_mu_wbkgs_3d = FisherInformation(lhedatafile_wmh_mu_wbkgs_3d, include_nuisance_parameters=True)"
   ]
  },
  {
   "cell_type": "code",
   "execution_count": null,
   "metadata": {
    "collapsed": true,
    "hidden": true
   },
   "outputs": [],
   "source": [
    "fi_sally_wmh_mu_wbkgs_3d_mean, fi_sally_wmh_mu_wbkgs_3d_covariance = fisher_wmh_mu_wbkgs_3d.calculate_fisher_information_full_detector(\n",
    "    theta=[0.,0.,0.,0.],\n",
    "    model_file='models/sally_ensemble_wmh_mu_wbkgs_short_3d',\n",
    "    luminosity=uselumi*1000.\n",
    ")\n",
    "\n",
    "print( DataFrame(\n",
    "    data = project_information(fi_sally_wmh_mu_wbkgs_3d_mean, [0,1,2,3]),\n",
    "    columns = labels,\n",
    "    index = labels)\n",
    ")"
   ]
  },
  {
   "cell_type": "code",
   "execution_count": null,
   "metadata": {
    "collapsed": true,
    "hidden": true
   },
   "outputs": [],
   "source": [
    "fisher_wmh_mu_3d = FisherInformation(lhedatafile_wmh_mu_wbkgs_3d, include_nuisance_parameters=True)"
   ]
  },
  {
   "cell_type": "code",
   "execution_count": null,
   "metadata": {
    "collapsed": true,
    "hidden": true
   },
   "outputs": [],
   "source": [
    "fi_sally_wmh_mu_3d_mean, fi_sally_wmh_mu_3d_covariance = fisher_wmh_mu_3d.calculate_fisher_information_full_detector(\n",
    "    theta=[0.,0.,0.,0.],\n",
    "    model_file='models/sally_ensemble_wmh_mu_smeftsim_3d',\n",
    "    luminosity=uselumi*1000.,\n",
    ")\n",
    "\n",
    "print( DataFrame(\n",
    "    data = project_information(fi_sally_wmh_mu_3d_mean, [0,1,2,3]),\n",
    "    columns = labels,\n",
    "    index = labels)\n",
    ")"
   ]
  },
  {
   "cell_type": "markdown",
   "metadata": {
    "heading_collapsed": true,
    "hidden": true
   },
   "source": [
    "### $W^- \\to e^-\\bar{\\nu}_{e}$"
   ]
  },
  {
   "cell_type": "code",
   "execution_count": null,
   "metadata": {
    "collapsed": true,
    "hidden": true
   },
   "outputs": [],
   "source": [
    "fisher_wmh_e_wbkgs_thetaw = FisherInformation(lhedatafile_wmh_e_wbkgs_thetaw, include_nuisance_parameters=True)"
   ]
  },
  {
   "cell_type": "code",
   "execution_count": null,
   "metadata": {
    "collapsed": true,
    "hidden": true
   },
   "outputs": [],
   "source": [
    "fi_sally_wmh_e_wbkgs_thetaw_mean, fi_sally_wmh_e_wbkgs_thetaw_covariance = fisher_wmh_e_wbkgs_thetaw.calculate_fisher_information_full_detector(\n",
    "    theta=[0.,0.,0.,0.],\n",
    "    model_file='models/sally_ensemble_wmh_e_wbkgs_short_thetaw',\n",
    "    luminosity=uselumi*1000.\n",
    ")\n",
    "\n",
    "print( DataFrame(\n",
    "    data = project_information(fi_sally_wmh_e_wbkgs_thetaw_mean, [0,1,2,3]),\n",
    "    columns = labels,\n",
    "    index = labels)\n",
    ")"
   ]
  },
  {
   "cell_type": "code",
   "execution_count": null,
   "metadata": {
    "collapsed": true,
    "hidden": true
   },
   "outputs": [],
   "source": [
    "fisher_wmh_e_wbkgs_2dthetaw = FisherInformation(lhedatafile_wmh_e_wbkgs_2dthetaw, include_nuisance_parameters=True)"
   ]
  },
  {
   "cell_type": "code",
   "execution_count": null,
   "metadata": {
    "collapsed": true,
    "hidden": true
   },
   "outputs": [],
   "source": [
    "fi_sally_wmh_e_wbkgs_2dthetaw_mean, fi_sally_wmh_e_wbkgs_2dthetaw_covariance = fisher_wmh_e_wbkgs_2dthetaw.calculate_fisher_information_full_detector(\n",
    "    theta=[0.,0.,0.,0.],\n",
    "    model_file='models/sally_ensemble_wmh_e_wbkgs_short_2dthetaw',\n",
    "    luminosity=uselumi*1000.\n",
    ")\n",
    "\n",
    "print( DataFrame(\n",
    "    data = project_information(fi_sally_wmh_e_wbkgs_2dthetaw_mean, [0,1,2,3]),\n",
    "    columns = labels,\n",
    "    index = labels)\n",
    ")"
   ]
  },
  {
   "cell_type": "code",
   "execution_count": null,
   "metadata": {
    "collapsed": true,
    "hidden": true
   },
   "outputs": [],
   "source": [
    "fisher_wmh_e_wbkgs_3d = FisherInformation(lhedatafile_wmh_e_wbkgs_3d, include_nuisance_parameters=True)"
   ]
  },
  {
   "cell_type": "code",
   "execution_count": null,
   "metadata": {
    "collapsed": true,
    "hidden": true
   },
   "outputs": [],
   "source": [
    "fi_sally_wmh_e_wbkgs_3d_mean, fi_sally_wmh_e_wbkgs_3d_covariance = fisher_wmh_e_wbkgs_3d.calculate_fisher_information_full_detector(\n",
    "    theta=[0.,0.,0.,0.],\n",
    "    model_file='models/sally_ensemble_wmh_e_wbkgs_short_3d',\n",
    "    luminosity=uselumi*1000.\n",
    ")\n",
    "\n",
    "print( DataFrame(\n",
    "    data = project_information(fi_sally_wmh_e_wbkgs_3d_mean, [0,1,2,3]),\n",
    "    columns = labels,\n",
    "    index = labels)\n",
    ")"
   ]
  },
  {
   "cell_type": "code",
   "execution_count": null,
   "metadata": {
    "collapsed": true,
    "hidden": true
   },
   "outputs": [],
   "source": [
    "fisher_wmh_e_3d = FisherInformation(lhedatafile_wmh_e_wbkgs_3d, include_nuisance_parameters=True)"
   ]
  },
  {
   "cell_type": "code",
   "execution_count": null,
   "metadata": {
    "collapsed": true,
    "hidden": true
   },
   "outputs": [],
   "source": [
    "fi_sally_wmh_e_3d_mean, fi_sally_wmh_e_3d_covariance = fisher_wmh_e_3d.calculate_fisher_information_full_detector(\n",
    "    theta=[0.,0.,0.,0.],\n",
    "    model_file='models/sally_ensemble_wmh_e_smeftsim_3d',\n",
    "    luminosity=uselumi*1000.,\n",
    ")\n",
    "\n",
    "print( DataFrame(\n",
    "    data = project_information(fi_sally_wmh_e_3d_mean, [0,1,2,3]),\n",
    "    columns = labels,\n",
    "    index = labels)\n",
    ")"
   ]
  },
  {
   "cell_type": "markdown",
   "metadata": {
    "hidden": true
   },
   "source": [
    "### Save Output for Later"
   ]
  },
  {
   "cell_type": "code",
   "execution_count": null,
   "metadata": {
    "collapsed": true,
    "hidden": true,
    "scrolled": true
   },
   "outputs": [],
   "source": [
    "fi_sally_thetaw_outfile = './fisher_info/fi_sally_thetaw.npz'\n",
    "fi_sally_thetaw_cov_outfile = './fisher_info/fi_sally_thetaw_cov.npz'\n",
    "\n",
    "fi_sally_thetaw_list = [\n",
    "    fi_sally_wph_mu_wbkgs_thetaw_mean,\n",
    "    fi_sally_wph_e_wbkgs_thetaw_mean,\n",
    "    fi_sally_wmh_mu_wbkgs_thetaw_mean,\n",
    "    fi_sally_wmh_e_wbkgs_thetaw_mean,\n",
    "    fi_sally_wph_mu_wbkgs_2dthetaw_mean,\n",
    "    fi_sally_wph_e_wbkgs_2dthetaw_mean,\n",
    "    fi_sally_wmh_mu_wbkgs_2dthetaw_mean,\n",
    "    fi_sally_wmh_e_wbkgs_2dthetaw_mean,\n",
    "    fi_sally_wph_mu_wbkgs_3d_mean,\n",
    "    fi_sally_wph_e_wbkgs_3d_mean,\n",
    "    fi_sally_wmh_mu_wbkgs_3d_mean,\n",
    "    fi_sally_wmh_e_wbkgs_3d_mean,\n",
    "]\n",
    "\n",
    "fi_sally_thetaw_cov_list = [\n",
    "    fi_sally_wph_mu_wbkgs_thetaw_covariance,\n",
    "    fi_sally_wph_e_wbkgs_thetaw_covariance,\n",
    "    fi_sally_wmh_mu_wbkgs_thetaw_covariance,\n",
    "    fi_sally_wmh_e_wbkgs_thetaw_covariance,\n",
    "    fi_sally_wph_mu_wbkgs_2dthetaw_covariance,\n",
    "    fi_sally_wph_e_wbkgs_2dthetaw_covariance,\n",
    "    fi_sally_wmh_mu_wbkgs_2dthetaw_covariance,\n",
    "    fi_sally_wmh_e_wbkgs_2dthetaw_covariance,\n",
    "    fi_sally_wph_mu_wbkgs_3d_covariance,\n",
    "    fi_sally_wph_e_wbkgs_3d_covariance,\n",
    "    fi_sally_wmh_mu_wbkgs_3d_covariance,\n",
    "    fi_sally_wmh_e_wbkgs_3d_covariance,\n",
    "]"
   ]
  },
  {
   "cell_type": "code",
   "execution_count": null,
   "metadata": {
    "collapsed": true,
    "hidden": true,
    "scrolled": true
   },
   "outputs": [],
   "source": [
    "np.savez(fi_sally_thetaw_outfile, fi_sally_thetaw_list, allow_pickle=False)\n",
    "np.savez(fi_sally_thetaw_cov_outfile, fi_sally_thetaw_cov_list, allow_pickle=False)"
   ]
  }
 ],
 "metadata": {
  "kernelspec": {
   "display_name": "Python 2",
   "language": "python",
   "name": "python2"
  },
  "language_info": {
   "codemirror_mode": {
    "name": "ipython",
    "version": 2
   },
   "file_extension": ".py",
   "mimetype": "text/x-python",
   "name": "python",
   "nbconvert_exporter": "python",
   "pygments_lexer": "ipython2",
   "version": "2.7.14"
  },
  "toc": {
   "base_numbering": 1,
   "nav_menu": {},
   "number_sections": true,
   "sideBar": true,
   "skip_h1_title": false,
   "title_cell": "Table of Contents",
   "title_sidebar": "Contents",
   "toc_cell": false,
   "toc_position": {},
   "toc_section_display": true,
   "toc_window_display": false
  }
 },
 "nbformat": 4,
 "nbformat_minor": 2
}
