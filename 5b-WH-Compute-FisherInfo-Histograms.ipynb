{
 "cells": [
  {
   "cell_type": "markdown",
   "metadata": {
    "heading_collapsed": true
   },
   "source": [
    "# Setup"
   ]
  },
  {
   "cell_type": "code",
   "execution_count": 1,
   "metadata": {
    "hidden": true
   },
   "outputs": [
    {
     "name": "stdout",
     "output_type": "stream",
     "text": [
      "MadMiner version: 0.4.9\n"
     ]
    }
   ],
   "source": [
    "import sys\n",
    "import os\n",
    "madminer_src_path = \"/home/shomiller/madminer\"\n",
    "sys.path.append(madminer_src_path)\n",
    "\n",
    "from __future__ import absolute_import, division, print_function, unicode_literals\n",
    "import logging\n",
    "\n",
    "import numpy as np\n",
    "import math\n",
    "import matplotlib\n",
    "from matplotlib import pyplot as plt\n",
    "from scipy.optimize import curve_fit\n",
    "% matplotlib inline\n",
    "from matplotlib.patches import Patch\n",
    "from matplotlib.lines import Line2D\n",
    "\n",
    "from madminer.fisherinformation import FisherInformation\n",
    "from madminer.fisherinformation import project_information, profile_information\n",
    "\n",
    "from pandas import DataFrame\n",
    "\n",
    "import madminer.__version__\n",
    "print( 'MadMiner version: {}'.format(madminer.__version__) )"
   ]
  },
  {
   "cell_type": "code",
   "execution_count": 2,
   "metadata": {
    "collapsed": true,
    "hidden": true
   },
   "outputs": [],
   "source": [
    "# MadMiner output\n",
    "logging.basicConfig(\n",
    "    format='%(asctime)-5.5s %(name)-20.20s %(levelname)-7.7s %(message)s',\n",
    "    datefmt='%H:%M',\n",
    "    level=logging.INFO\n",
    ")\n",
    "\n",
    "# Output of all other modules (e.g. matplotlib)\n",
    "for key in logging.Logger.manager.loggerDict:\n",
    "    if \"madminer\" not in key:\n",
    "        logging.getLogger(key).setLevel(logging.WARNING)"
   ]
  },
  {
   "cell_type": "code",
   "execution_count": 3,
   "metadata": {
    "collapsed": true,
    "hidden": true
   },
   "outputs": [],
   "source": [
    "uselumi=300."
   ]
  },
  {
   "cell_type": "code",
   "execution_count": 4,
   "metadata": {
    "collapsed": true,
    "hidden": true
   },
   "outputs": [],
   "source": [
    "labels = [ 'cHbox', 'cHDD', 'cHW', 'cHq3' ]\n",
    "labels_rot = [ 'cHK', 'cHW', 'cHq3' ]"
   ]
  },
  {
   "cell_type": "markdown",
   "metadata": {
    "heading_collapsed": true,
    "hidden": true
   },
   "source": [
    "### Data Files:\n",
    "\n",
    "Saving the paths for all our lhe data files, for easy use later on.\n",
    "\n",
    "Note, lhedata are saved in the format:\n",
    "`data/{channel}_lhedata_{observables}.h5`\n",
    "while the `SALLY` models are saved in:\n",
    "`models/sally_ensemble_{channel}_{observables}/`\n",
    "\n",
    "here `channel` can be e.g, `wph_mu_wbkgs` or `wmh_e_wbkgs` (or take out the backgrounds for the background free runs), while `observables` can be `full`, `met`, `ptw` or `2d`"
   ]
  },
  {
   "cell_type": "markdown",
   "metadata": {
    "hidden": true
   },
   "source": [
    "#### Signal + Background with Signal Systematics Only"
   ]
  },
  {
   "cell_type": "code",
   "execution_count": 5,
   "metadata": {
    "collapsed": true,
    "hidden": true
   },
   "outputs": [],
   "source": [
    "lhedatafile_wph_mu_wbkgs_met = 'data/met/wph_mu_wbkgs_sigsystonly_lhedata_met.h5'\n",
    "lhedatafile_wph_e_wbkgs_met = 'data/met/wph_e_wbkgs_sigsystonly_lhedata_met.h5'\n",
    "lhedatafile_wmh_mu_wbkgs_met = 'data/met/wmh_mu_wbkgs_sigsystonly_lhedata_met.h5'\n",
    "lhedatafile_wmh_e_wbkgs_met = 'data/met/wmh_e_wbkgs_sigsystonly_lhedata_met.h5'"
   ]
  },
  {
   "cell_type": "markdown",
   "metadata": {
    "hidden": true
   },
   "source": [
    "## Setup FisherInfo Objects"
   ]
  },
  {
   "cell_type": "code",
   "execution_count": 6,
   "metadata": {
    "hidden": true,
    "scrolled": false
   },
   "outputs": [
    {
     "name": "stderr",
     "output_type": "stream",
     "text": [
      "13:30 madminer.analysis    INFO    Loading data from data/met/wph_mu_wbkgs_sigsystonly_lhedata_met.h5\n",
      "13:30 madminer.analysis    INFO    Found 4 parameters\n",
      "13:30 madminer.analysis    INFO    Found 33 nuisance parameters\n",
      "13:30 madminer.analysis    INFO    Found 54 benchmarks, of which 15 physical\n",
      "13:30 madminer.analysis    INFO    Found 48 observables\n",
      "13:30 madminer.analysis    INFO    Found 5000000 events\n",
      "13:30 madminer.analysis    INFO      1000000 signal events sampled from benchmark sm\n",
      "13:30 madminer.analysis    INFO      4000000 background events\n",
      "13:30 madminer.analysis    INFO    Found morphing setup with 15 components\n",
      "13:30 madminer.analysis    INFO    Found nuisance morphing setup\n"
     ]
    }
   ],
   "source": [
    "fisher_wph_mu_wbkgs_met = FisherInformation(lhedatafile_wph_mu_wbkgs_met, include_nuisance_parameters=True)"
   ]
  },
  {
   "cell_type": "code",
   "execution_count": 7,
   "metadata": {
    "hidden": true,
    "scrolled": true
   },
   "outputs": [
    {
     "name": "stderr",
     "output_type": "stream",
     "text": [
      "13:30 madminer.analysis    INFO    Loading data from data/met/wph_e_wbkgs_sigsystonly_lhedata_met.h5\n",
      "13:30 madminer.analysis    INFO    Found 4 parameters\n",
      "13:30 madminer.analysis    INFO    Found 33 nuisance parameters\n",
      "13:30 madminer.analysis    INFO    Found 54 benchmarks, of which 15 physical\n",
      "13:30 madminer.analysis    INFO    Found 48 observables\n",
      "13:30 madminer.analysis    INFO    Found 5000000 events\n",
      "13:30 madminer.analysis    INFO      1000000 signal events sampled from benchmark sm\n",
      "13:30 madminer.analysis    INFO      4000000 background events\n",
      "13:30 madminer.analysis    INFO    Found morphing setup with 15 components\n",
      "13:30 madminer.analysis    INFO    Found nuisance morphing setup\n"
     ]
    }
   ],
   "source": [
    "fisher_wph_e_wbkgs_met = FisherInformation(lhedatafile_wph_e_wbkgs_met, include_nuisance_parameters=True)"
   ]
  },
  {
   "cell_type": "code",
   "execution_count": 8,
   "metadata": {
    "hidden": true,
    "scrolled": false
   },
   "outputs": [
    {
     "name": "stderr",
     "output_type": "stream",
     "text": [
      "13:30 madminer.analysis    INFO    Loading data from data/met/wmh_mu_wbkgs_sigsystonly_lhedata_met.h5\n",
      "13:30 madminer.analysis    INFO    Found 4 parameters\n",
      "13:30 madminer.analysis    INFO    Found 33 nuisance parameters\n",
      "13:30 madminer.analysis    INFO    Found 54 benchmarks, of which 15 physical\n",
      "13:30 madminer.analysis    INFO    Found 48 observables\n",
      "13:30 madminer.analysis    INFO    Found 5000000 events\n",
      "13:30 madminer.analysis    INFO      1000000 signal events sampled from benchmark sm\n",
      "13:30 madminer.analysis    INFO      4000000 background events\n",
      "13:30 madminer.analysis    INFO    Found morphing setup with 15 components\n",
      "13:30 madminer.analysis    INFO    Found nuisance morphing setup\n"
     ]
    }
   ],
   "source": [
    "fisher_wmh_mu_wbkgs_met = FisherInformation(lhedatafile_wmh_mu_wbkgs_met, include_nuisance_parameters=True)"
   ]
  },
  {
   "cell_type": "code",
   "execution_count": 9,
   "metadata": {
    "hidden": true,
    "scrolled": true
   },
   "outputs": [
    {
     "name": "stderr",
     "output_type": "stream",
     "text": [
      "13:30 madminer.analysis    INFO    Loading data from data/met/wmh_e_wbkgs_sigsystonly_lhedata_met.h5\n",
      "13:30 madminer.analysis    INFO    Found 4 parameters\n",
      "13:30 madminer.analysis    INFO    Found 33 nuisance parameters\n",
      "13:30 madminer.analysis    INFO    Found 54 benchmarks, of which 15 physical\n",
      "13:30 madminer.analysis    INFO    Found 48 observables\n",
      "13:30 madminer.analysis    INFO    Found 5000000 events\n",
      "13:30 madminer.analysis    INFO      1000000 signal events sampled from benchmark sm\n",
      "13:30 madminer.analysis    INFO      4000000 background events\n",
      "13:30 madminer.analysis    INFO    Found morphing setup with 15 components\n",
      "13:30 madminer.analysis    INFO    Found nuisance morphing setup\n"
     ]
    }
   ],
   "source": [
    "fisher_wmh_e_wbkgs_met = FisherInformation(lhedatafile_wmh_e_wbkgs_met, include_nuisance_parameters=True)"
   ]
  },
  {
   "cell_type": "markdown",
   "metadata": {},
   "source": [
    "# Information in Histograms"
   ]
  },
  {
   "cell_type": "markdown",
   "metadata": {
    "collapsed": true
   },
   "source": [
    "## 1D Histograms"
   ]
  },
  {
   "cell_type": "markdown",
   "metadata": {},
   "source": [
    "### Simplified Template Cross Sections\n",
    "\n",
    "The Info in the STXS defined in https://cds.cern.ch/record/2669925 (with and without the extra bin)"
   ]
  },
  {
   "cell_type": "markdown",
   "metadata": {},
   "source": [
    "#### 3 Bins\n",
    "The original STXS defined in The LHC Higgs Cross Section Working Group Report, Vol. 4 (https://arxiv.org/abs/1610.07922)"
   ]
  },
  {
   "cell_type": "code",
   "execution_count": 10,
   "metadata": {},
   "outputs": [
    {
     "name": "stderr",
     "output_type": "stream",
     "text": [
      "13:40 madminer.fisherinfor INFO    Bins with largest statistical uncertainties on rates:\n",
      "13:40 madminer.fisherinfor INFO      Bin 4: (2.00747 +/- 0.00709) fb (0 %)\n",
      "13:40 madminer.fisherinfor INFO      Bin 3: (9.07794 +/- 0.01585) fb (0 %)\n",
      "13:40 madminer.fisherinfor INFO      Bin 2: (128.65914 +/- 0.06208) fb (0 %)\n",
      "13:40 madminer.fisherinfor INFO      Bin 1: (0.00000 +/- 0.00000) fb (0 %)\n"
     ]
    },
    {
     "name": "stdout",
     "output_type": "stream",
     "text": [
      "           cHbox      cHDD        cHW      cHq3\n",
      "cHbox  30.782566 -7.695640  11.738873  5.159941\n",
      "cHDD   -7.695640  1.923910  -2.934718 -1.289985\n",
      "cHW    11.738873 -2.934718   4.519365  2.129346\n",
      "cHq3    5.159941 -1.289985   2.129346  1.637871\n"
     ]
    },
    {
     "name": "stderr",
     "output_type": "stream",
     "text": [
      "/home/shomiller/.conda/envs/my_root/lib/python2.7/site-packages/madminer-0.4.9-py2.7.egg/madminer/fisherinformation.py:1166: RuntimeWarning: divide by zero encountered in true_divide\n"
     ]
    }
   ],
   "source": [
    "fi_stxs_3bins_wph_mu_mean, fi_stxs_3bins_wph_mu_covariance = fisher_wph_mu_wbkgs_met.calculate_fisher_information_hist1d(\n",
    "    theta=[0.,0.,0.,0.],\n",
    "    luminosity=uselumi*1000.,\n",
    "    observable='pt_w',\n",
    "    bins=[0.,150.,250.],\n",
    "    histrange=[0.,250.]\n",
    ")\n",
    "\n",
    "print( DataFrame(\n",
    "    data = project_information(fi_stxs_3bins_wph_mu_mean, [0,1,2,3]),\n",
    "    columns = labels,\n",
    "    index = labels)\n",
    ")"
   ]
  },
  {
   "cell_type": "code",
   "execution_count": 11,
   "metadata": {},
   "outputs": [
    {
     "name": "stderr",
     "output_type": "stream",
     "text": [
      "13:51 madminer.fisherinfor INFO    Bins with largest statistical uncertainties on rates:\n",
      "13:51 madminer.fisherinfor INFO      Bin 4: (2.01261 +/- 0.00709) fb (0 %)\n",
      "13:51 madminer.fisherinfor INFO      Bin 3: (9.06235 +/- 0.01583) fb (0 %)\n",
      "13:51 madminer.fisherinfor INFO      Bin 2: (128.66962 +/- 0.06208) fb (0 %)\n",
      "13:51 madminer.fisherinfor INFO      Bin 1: (0.00000 +/- 0.00000) fb (0 %)\n"
     ]
    }
   ],
   "source": [
    "fi_stxs_3bins_wph_e_mean, fi_stxs_3bins_wph_e_covariance = fisher_wph_e_wbkgs_met.calculate_fisher_information_hist1d(\n",
    "    theta=[0.,0.,0.,0.],\n",
    "    luminosity=uselumi*1000.,\n",
    "    observable='pt_w',\n",
    "    bins=[0.,150.,250.],\n",
    "    histrange=[0.,250.]\n",
    ")"
   ]
  },
  {
   "cell_type": "code",
   "execution_count": 12,
   "metadata": {},
   "outputs": [
    {
     "name": "stderr",
     "output_type": "stream",
     "text": [
      "14:02 madminer.fisherinfor INFO    Bins with largest statistical uncertainties on rates:\n",
      "14:02 madminer.fisherinfor INFO      Bin 4: (1.04309 +/- 0.00423) fb (0 %)\n",
      "14:02 madminer.fisherinfor INFO      Bin 3: (6.40072 +/- 0.01197) fb (0 %)\n",
      "14:02 madminer.fisherinfor INFO      Bin 2: (97.02838 +/- 0.04738) fb (0 %)\n",
      "14:02 madminer.fisherinfor INFO      Bin 1: (0.00000 +/- 0.00000) fb (0 %)\n"
     ]
    }
   ],
   "source": [
    "fi_stxs_3bins_wmh_mu_mean, fi_stxs_3bins_wmh_mu_covariance = fisher_wmh_mu_wbkgs_met.calculate_fisher_information_hist1d(\n",
    "    theta=[0.,0.,0.,0.],\n",
    "    luminosity=uselumi*1000.,\n",
    "    observable='pt_w',\n",
    "    bins=[0.,150.,250.],\n",
    "    histrange=[0.,250.]\n",
    ")"
   ]
  },
  {
   "cell_type": "code",
   "execution_count": 13,
   "metadata": {},
   "outputs": [
    {
     "name": "stderr",
     "output_type": "stream",
     "text": [
      "14:12 madminer.fisherinfor INFO    Bins with largest statistical uncertainties on rates:\n",
      "14:12 madminer.fisherinfor INFO      Bin 4: (1.04329 +/- 0.00423) fb (0 %)\n",
      "14:12 madminer.fisherinfor INFO      Bin 3: (6.39363 +/- 0.01196) fb (0 %)\n",
      "14:12 madminer.fisherinfor INFO      Bin 2: (97.03527 +/- 0.04738) fb (0 %)\n",
      "14:12 madminer.fisherinfor INFO      Bin 1: (0.00000 +/- 0.00000) fb (0 %)\n"
     ]
    }
   ],
   "source": [
    "fi_stxs_3bins_wmh_e_mean, fi_stxs_3bins_wmh_e_covariance = fisher_wmh_e_wbkgs_met.calculate_fisher_information_hist1d(\n",
    "    theta=[0.,0.,0.,0.],\n",
    "    luminosity=uselumi*1000.,\n",
    "    observable='pt_w',\n",
    "    bins=[0.,150.,250.],\n",
    "    histrange=[0.,250.]\n",
    ")"
   ]
  },
  {
   "cell_type": "code",
   "execution_count": 14,
   "metadata": {
    "collapsed": true,
    "scrolled": true
   },
   "outputs": [],
   "source": [
    "fi_stxs_3bins_mean = fi_stxs_3bins_wph_mu_mean + fi_stxs_3bins_wph_e_mean + fi_stxs_3bins_wmh_mu_mean + fi_stxs_3bins_wmh_e_mean\n",
    "fi_stxs_3bins_covariance = fi_stxs_3bins_wph_mu_covariance + fi_stxs_3bins_wph_e_covariance + fi_stxs_3bins_wmh_mu_covariance + fi_stxs_3bins_wmh_e_covariance"
   ]
  },
  {
   "cell_type": "markdown",
   "metadata": {},
   "source": [
    "#### 4 Bins \n",
    "(Including the Extra Division at $75\\,\\mathrm{GeV}$ as in https://cds.cern.ch/record/2669925)\n",
    "\n",
    "(We're not computing this for now, just setting the values to zero as placeholders)"
   ]
  },
  {
   "cell_type": "code",
   "execution_count": 15,
   "metadata": {
    "collapsed": true
   },
   "outputs": [],
   "source": [
    "fi_stxs_4bins_wph_mu_mean, fi_stxs_4bins_wph_mu_covariance = 0., 0.\n",
    "fi_stxs_4bins_wph_e_mean, fi_stxs_4bins_wph_e_covariance = 0., 0.\n",
    "fi_stxs_4bins_wmh_mu_mean, fi_stxs_4bins_wmh_mu_covariance = 0., 0.\n",
    "fi_stxs_4bins_wmh_e_mean, fi_stxs_4bins_wmh_e_covariance = 0., 0."
   ]
  },
  {
   "cell_type": "markdown",
   "metadata": {},
   "source": [
    "#### 5 Bins\n",
    "Including all the bins in the Stage 1.1 STXS defined in https://cds.cern.ch/record/2669925\n",
    "\n",
    "Beyond the bins at 0, 150, and 250 GeV, this includes additional bin divisions at $75$ and $400\\,\\mathrm{GeV}$."
   ]
  },
  {
   "cell_type": "code",
   "execution_count": 16,
   "metadata": {},
   "outputs": [
    {
     "name": "stderr",
     "output_type": "stream",
     "text": [
      "14:23 madminer.fisherinfor INFO    Bins with largest statistical uncertainties on rates:\n",
      "14:23 madminer.fisherinfor INFO      Bin 6: (0.35838 +/- 0.00293) fb (1 %)\n",
      "14:23 madminer.fisherinfor INFO      Bin 5: (1.64909 +/- 0.00645) fb (0 %)\n",
      "14:23 madminer.fisherinfor INFO      Bin 4: (9.07794 +/- 0.01585) fb (0 %)\n",
      "14:23 madminer.fisherinfor INFO      Bin 3: (48.03024 +/- 0.03754) fb (0 %)\n",
      "14:23 madminer.fisherinfor INFO      Bin 2: (80.62890 +/- 0.04944) fb (0 %)\n"
     ]
    },
    {
     "name": "stdout",
     "output_type": "stream",
     "text": [
      "           cHbox      cHDD        cHW      cHq3\n",
      "cHbox  30.917945 -7.729485  11.817753  5.292626\n",
      "cHDD   -7.729485  1.932371  -2.954438 -1.323156\n",
      "cHW    11.817753 -2.954438   4.565517  2.199306\n",
      "cHq3    5.292626 -1.323156   2.199306  2.047863\n"
     ]
    }
   ],
   "source": [
    "fi_stxs_5bins_wph_mu_mean, fi_stxs_5bins_wph_mu_covariance = fisher_wph_mu_wbkgs_met.calculate_fisher_information_hist1d(\n",
    "    theta=[0.,0.,0.,0.],\n",
    "    luminosity=uselumi*1000.,\n",
    "    observable='pt_w',\n",
    "    bins=[0.,75.,150.,250.,400.],\n",
    "    histrange=[0.,400.]\n",
    ")\n",
    "\n",
    "print( DataFrame(\n",
    "    data = project_information(fi_stxs_5bins_wph_mu_mean, [0,1,2,3]),\n",
    "    columns = labels,\n",
    "    index = labels)\n",
    ")"
   ]
  },
  {
   "cell_type": "code",
   "execution_count": 17,
   "metadata": {},
   "outputs": [
    {
     "name": "stderr",
     "output_type": "stream",
     "text": [
      "14:32 madminer.fisherinfor INFO    Bins with largest statistical uncertainties on rates:\n",
      "14:32 madminer.fisherinfor INFO      Bin 6: (0.35715 +/- 0.00293) fb (1 %)\n",
      "14:32 madminer.fisherinfor INFO      Bin 5: (1.65546 +/- 0.00646) fb (0 %)\n",
      "14:32 madminer.fisherinfor INFO      Bin 4: (9.06235 +/- 0.01583) fb (0 %)\n",
      "14:32 madminer.fisherinfor INFO      Bin 3: (48.06845 +/- 0.03756) fb (0 %)\n",
      "14:32 madminer.fisherinfor INFO      Bin 2: (80.60117 +/- 0.04943) fb (0 %)\n"
     ]
    }
   ],
   "source": [
    "fi_stxs_5bins_wph_e_mean, fi_stxs_5bins_wph_e_covariance = fisher_wph_e_wbkgs_met.calculate_fisher_information_hist1d(\n",
    "    theta=[0.,0.,0.,0.],\n",
    "    luminosity=uselumi*1000.,\n",
    "    observable='pt_w',\n",
    "    bins=[0.,75.,150.,250.,400.],\n",
    "    histrange=[0.,400.]\n",
    ")"
   ]
  },
  {
   "cell_type": "code",
   "execution_count": 18,
   "metadata": {},
   "outputs": [
    {
     "name": "stderr",
     "output_type": "stream",
     "text": [
      "14:43 madminer.fisherinfor INFO    Bins with largest statistical uncertainties on rates:\n",
      "14:43 madminer.fisherinfor INFO      Bin 6: (0.16106 +/- 0.00161) fb (1 %)\n",
      "14:43 madminer.fisherinfor INFO      Bin 5: (0.88203 +/- 0.00391) fb (0 %)\n",
      "14:43 madminer.fisherinfor INFO      Bin 4: (6.40072 +/- 0.01197) fb (0 %)\n",
      "14:43 madminer.fisherinfor INFO      Bin 3: (37.14346 +/- 0.02997) fb (0 %)\n",
      "14:43 madminer.fisherinfor INFO      Bin 2: (59.88492 +/- 0.03670) fb (0 %)\n"
     ]
    }
   ],
   "source": [
    "fi_stxs_5bins_wmh_mu_mean, fi_stxs_5bins_wmh_mu_covariance = fisher_wmh_mu_wbkgs_met.calculate_fisher_information_hist1d(\n",
    "    theta=[0.,0.,0.,0.],\n",
    "    luminosity=uselumi*1000.,\n",
    "    observable='pt_w',\n",
    "    bins=[0.,75.,150.,250.,400.],\n",
    "    histrange=[0.,400.]\n",
    ")"
   ]
  },
  {
   "cell_type": "code",
   "execution_count": 19,
   "metadata": {
    "scrolled": true
   },
   "outputs": [
    {
     "name": "stderr",
     "output_type": "stream",
     "text": [
      "14:53 madminer.fisherinfor INFO    Bins with largest statistical uncertainties on rates:\n",
      "14:53 madminer.fisherinfor INFO      Bin 6: (0.15967 +/- 0.00161) fb (1 %)\n",
      "14:53 madminer.fisherinfor INFO      Bin 5: (0.88362 +/- 0.00392) fb (0 %)\n",
      "14:53 madminer.fisherinfor INFO      Bin 4: (6.39363 +/- 0.01196) fb (0 %)\n",
      "14:53 madminer.fisherinfor INFO      Bin 3: (37.16186 +/- 0.02997) fb (0 %)\n",
      "14:53 madminer.fisherinfor INFO      Bin 2: (59.87340 +/- 0.03670) fb (0 %)\n"
     ]
    }
   ],
   "source": [
    "fi_stxs_5bins_wmh_e_mean, fi_stxs_5bins_wmh_e_covariance = fisher_wmh_e_wbkgs_met.calculate_fisher_information_hist1d(\n",
    "    theta=[0.,0.,0.,0.],\n",
    "    luminosity=uselumi*1000.,\n",
    "    observable='pt_w',\n",
    "    bins=[0.,75.,150.,250.,400.],\n",
    "    histrange=[0.,400.]\n",
    ")"
   ]
  },
  {
   "cell_type": "code",
   "execution_count": 20,
   "metadata": {
    "collapsed": true,
    "scrolled": true
   },
   "outputs": [],
   "source": [
    "fi_stxs_5bins_mean = fi_stxs_5bins_wph_mu_mean + fi_stxs_5bins_wph_e_mean + fi_stxs_5bins_wmh_mu_mean + fi_stxs_5bins_wmh_e_mean\n",
    "fi_stxs_5bins_covariance = fi_stxs_5bins_wph_mu_covariance + fi_stxs_5bins_wph_e_covariance + fi_stxs_5bins_wmh_mu_covariance + fi_stxs_5bins_wmh_e_covariance"
   ]
  },
  {
   "cell_type": "markdown",
   "metadata": {},
   "source": [
    "#### 6 Bins\n",
    "As a step towards \"Improved STXS\", we can also include an additional bin at $600\\,\\mathrm{GeV}$"
   ]
  },
  {
   "cell_type": "code",
   "execution_count": 21,
   "metadata": {},
   "outputs": [
    {
     "name": "stderr",
     "output_type": "stream",
     "text": [
      "15:04 madminer.fisherinfor INFO    Bins with largest statistical uncertainties on rates:\n",
      "15:04 madminer.fisherinfor INFO      Bin 7: (0.03894 +/- 0.00095) fb (2 %)\n",
      "15:04 madminer.fisherinfor INFO      Bin 6: (0.31944 +/- 0.00277) fb (1 %)\n",
      "15:04 madminer.fisherinfor INFO      Bin 5: (1.64909 +/- 0.00645) fb (0 %)\n",
      "15:04 madminer.fisherinfor INFO      Bin 4: (9.07794 +/- 0.01585) fb (0 %)\n",
      "15:04 madminer.fisherinfor INFO      Bin 3: (48.03024 +/- 0.03754) fb (0 %)\n"
     ]
    },
    {
     "name": "stdout",
     "output_type": "stream",
     "text": [
      "           cHbox      cHDD        cHW      cHq3\n",
      "cHbox  30.918957 -7.729738  11.818467  5.303187\n",
      "cHDD   -7.729738  1.932434  -2.954616 -1.325796\n",
      "cHW    11.818467 -2.954616   4.566021  2.206757\n",
      "cHq3    5.303187 -1.325796   2.206757  2.158055\n"
     ]
    }
   ],
   "source": [
    "fi_stxs_6bins_wph_mu_mean, fi_stxs_6bins_wph_mu_covariance = fisher_wph_mu_wbkgs_met.calculate_fisher_information_hist1d(\n",
    "    theta=[0.,0.,0.,0.],\n",
    "    luminosity=uselumi*1000.,\n",
    "    observable='pt_w',\n",
    "    bins=[0.,75.,150.,250.,400.,600.],\n",
    "    histrange=[0.,600.]\n",
    ")\n",
    "\n",
    "print( DataFrame(\n",
    "    data = project_information(fi_stxs_6bins_wph_mu_mean, [0,1,2,3]),\n",
    "    columns = labels,\n",
    "    index = labels)\n",
    ")"
   ]
  },
  {
   "cell_type": "code",
   "execution_count": 22,
   "metadata": {},
   "outputs": [
    {
     "name": "stderr",
     "output_type": "stream",
     "text": [
      "15:14 madminer.fisherinfor INFO    Bins with largest statistical uncertainties on rates:\n",
      "15:14 madminer.fisherinfor INFO      Bin 7: (0.03818 +/- 0.00094) fb (2 %)\n",
      "15:14 madminer.fisherinfor INFO      Bin 6: (0.31897 +/- 0.00277) fb (1 %)\n",
      "15:14 madminer.fisherinfor INFO      Bin 5: (1.65546 +/- 0.00646) fb (0 %)\n",
      "15:14 madminer.fisherinfor INFO      Bin 4: (9.06235 +/- 0.01583) fb (0 %)\n",
      "15:14 madminer.fisherinfor INFO      Bin 3: (48.06845 +/- 0.03756) fb (0 %)\n"
     ]
    }
   ],
   "source": [
    "fi_stxs_6bins_wph_e_mean, fi_stxs_6bins_wph_e_covariance = fisher_wph_e_wbkgs_met.calculate_fisher_information_hist1d(\n",
    "    theta=[0.,0.,0.,0.],\n",
    "    luminosity=uselumi*1000.,\n",
    "    observable='pt_w',\n",
    "    bins=[0.,75.,150.,250.,400.,600.],\n",
    "    histrange=[0.,600.]\n",
    ")"
   ]
  },
  {
   "cell_type": "code",
   "execution_count": 23,
   "metadata": {},
   "outputs": [
    {
     "name": "stderr",
     "output_type": "stream",
     "text": [
      "15:24 madminer.fisherinfor INFO    Bins with largest statistical uncertainties on rates:\n",
      "15:24 madminer.fisherinfor INFO      Bin 7: (0.01469 +/- 0.00047) fb (3 %)\n",
      "15:24 madminer.fisherinfor INFO      Bin 6: (0.14638 +/- 0.00154) fb (1 %)\n",
      "15:24 madminer.fisherinfor INFO      Bin 5: (0.88203 +/- 0.00391) fb (0 %)\n",
      "15:24 madminer.fisherinfor INFO      Bin 4: (6.40072 +/- 0.01197) fb (0 %)\n",
      "15:24 madminer.fisherinfor INFO      Bin 3: (37.14346 +/- 0.02997) fb (0 %)\n"
     ]
    }
   ],
   "source": [
    "fi_stxs_6bins_wmh_mu_mean, fi_stxs_6bins_wmh_mu_covariance = fisher_wmh_mu_wbkgs_met.calculate_fisher_information_hist1d(\n",
    "    theta=[0.,0.,0.,0.],\n",
    "    luminosity=uselumi*1000.,\n",
    "    observable='pt_w',\n",
    "    bins=[0.,75.,150.,250.,400.,600.],\n",
    "    histrange=[0.,600.]\n",
    ")"
   ]
  },
  {
   "cell_type": "code",
   "execution_count": 24,
   "metadata": {},
   "outputs": [
    {
     "name": "stderr",
     "output_type": "stream",
     "text": [
      "15:34 madminer.fisherinfor INFO    Bins with largest statistical uncertainties on rates:\n",
      "15:34 madminer.fisherinfor INFO      Bin 7: (0.01431 +/- 0.00046) fb (3 %)\n",
      "15:34 madminer.fisherinfor INFO      Bin 6: (0.14536 +/- 0.00154) fb (1 %)\n",
      "15:34 madminer.fisherinfor INFO      Bin 5: (0.88362 +/- 0.00392) fb (0 %)\n",
      "15:34 madminer.fisherinfor INFO      Bin 4: (6.39363 +/- 0.01196) fb (0 %)\n",
      "15:34 madminer.fisherinfor INFO      Bin 3: (37.16186 +/- 0.02997) fb (0 %)\n"
     ]
    }
   ],
   "source": [
    "fi_stxs_6bins_wmh_e_mean, fi_stxs_6bins_wmh_e_covariance = fisher_wmh_e_wbkgs_met.calculate_fisher_information_hist1d(\n",
    "    theta=[0.,0.,0.,0.],\n",
    "    luminosity=uselumi*1000.,\n",
    "    observable='pt_w',\n",
    "    bins=[0.,75.,150.,250.,400.,600.],\n",
    "    histrange=[0.,600.]\n",
    ")"
   ]
  },
  {
   "cell_type": "code",
   "execution_count": 25,
   "metadata": {
    "collapsed": true,
    "scrolled": true
   },
   "outputs": [],
   "source": [
    "fi_stxs_6bins_mean = fi_stxs_6bins_wph_mu_mean + fi_stxs_6bins_wph_e_mean + fi_stxs_6bins_wmh_mu_mean + fi_stxs_6bins_wmh_e_mean\n",
    "fi_stxs_6bins_covariance = fi_stxs_6bins_wph_mu_covariance + fi_stxs_6bins_wph_e_covariance + fi_stxs_6bins_wmh_mu_covariance + fi_stxs_6bins_wmh_e_covariance"
   ]
  },
  {
   "cell_type": "markdown",
   "metadata": {},
   "source": [
    "### Save the Arrays for Later"
   ]
  },
  {
   "cell_type": "code",
   "execution_count": 26,
   "metadata": {
    "collapsed": true,
    "scrolled": true
   },
   "outputs": [],
   "source": [
    "fi_hist_stxs_outfile = './fisher_info/fi_hist_stxs.npz'\n",
    "fi_hist_stxs_cov_outfile = './fisher_info/fi_hist_stxs_cov.npz'\n",
    "\n",
    "fi_hist_stxs_list = [\n",
    "    fi_stxs_3bins_wph_mu_mean,\n",
    "    fi_stxs_3bins_wph_e_mean,\n",
    "    fi_stxs_3bins_wmh_mu_mean,\n",
    "    fi_stxs_3bins_wmh_e_mean,\n",
    "    fi_stxs_4bins_wph_mu_mean,\n",
    "    fi_stxs_4bins_wph_e_mean,\n",
    "    fi_stxs_4bins_wmh_mu_mean,\n",
    "    fi_stxs_4bins_wmh_e_mean,\n",
    "    fi_stxs_5bins_wph_mu_mean,\n",
    "    fi_stxs_5bins_wph_e_mean,\n",
    "    fi_stxs_5bins_wmh_mu_mean,\n",
    "    fi_stxs_5bins_wmh_e_mean,\n",
    "    fi_stxs_6bins_wph_mu_mean,\n",
    "    fi_stxs_6bins_wph_e_mean,\n",
    "    fi_stxs_6bins_wmh_mu_mean,\n",
    "    fi_stxs_6bins_wmh_e_mean,\n",
    "]\n",
    "\n",
    "fi_hist_stxs_cov_list = [\n",
    "    fi_stxs_3bins_wph_mu_covariance,\n",
    "    fi_stxs_3bins_wph_e_covariance,\n",
    "    fi_stxs_3bins_wmh_mu_covariance,\n",
    "    fi_stxs_3bins_wmh_e_covariance,\n",
    "    fi_stxs_4bins_wph_mu_covariance,\n",
    "    fi_stxs_4bins_wph_e_covariance,\n",
    "    fi_stxs_4bins_wmh_mu_covariance,\n",
    "    fi_stxs_4bins_wmh_e_covariance,\n",
    "    fi_stxs_5bins_wph_mu_covariance,\n",
    "    fi_stxs_5bins_wph_e_covariance,\n",
    "    fi_stxs_5bins_wmh_mu_covariance,\n",
    "    fi_stxs_5bins_wmh_e_covariance,\n",
    "    fi_stxs_6bins_wph_mu_covariance,\n",
    "    fi_stxs_6bins_wph_e_covariance,\n",
    "    fi_stxs_6bins_wmh_mu_covariance,\n",
    "    fi_stxs_6bins_wmh_e_covariance,\n",
    "]"
   ]
  },
  {
   "cell_type": "code",
   "execution_count": 27,
   "metadata": {
    "collapsed": true,
    "scrolled": true
   },
   "outputs": [],
   "source": [
    "np.savez(fi_hist_stxs_outfile, fi_hist_stxs_list, allow_pickle=False)\n",
    "np.savez(fi_hist_stxs_cov_outfile, fi_hist_stxs_cov_list, allow_pickle=False)"
   ]
  },
  {
   "cell_type": "markdown",
   "metadata": {},
   "source": [
    "## 2D Histograms"
   ]
  },
  {
   "cell_type": "markdown",
   "metadata": {},
   "source": [
    "### Compute FI in 2D Histograms"
   ]
  },
  {
   "cell_type": "markdown",
   "metadata": {},
   "source": [
    "#### With 3 bins in $m_{T,\\mathrm{tot}}$"
   ]
  },
  {
   "cell_type": "code",
   "execution_count": 28,
   "metadata": {
    "scrolled": true
   },
   "outputs": [
    {
     "name": "stderr",
     "output_type": "stream",
     "text": [
      "15:49 madminer.fisherinfor INFO    Bins with largest statistical uncertainties on rates:\n",
      "15:49 madminer.fisherinfor INFO      Bin (2, 1): (0.00449 +/- 0.00038) fb (9 %)\n",
      "15:49 madminer.fisherinfor INFO      Bin (2, 5): (0.01418 +/- 0.00068) fb (5 %)\n",
      "15:49 madminer.fisherinfor INFO      Bin (4, 7): (0.03894 +/- 0.00095) fb (2 %)\n",
      "15:49 madminer.fisherinfor INFO      Bin (3, 2): (0.06982 +/- 0.00147) fb (2 %)\n",
      "15:49 madminer.fisherinfor INFO      Bin (4, 3): (0.31944 +/- 0.00277) fb (1 %)\n"
     ]
    }
   ],
   "source": [
    "fi_imp_stxs_wph_mu_mean, fi_imp_stxs_wph_mu_covariance = fisher_wph_mu_wbkgs_met.calculate_fisher_information_hist2d(\n",
    "    theta=[0.,0.,0.,0.],\n",
    "    luminosity=uselumi*1000.,\n",
    "    observable1='pt_w',\n",
    "    bins1=[0.,75.,150.,250.,400.,600.],\n",
    "    histrange1=[0.,600.],\n",
    "    observable2='mt_tot',\n",
    "    bins2=[0.,400.,800.],\n",
    "    histrange2=[0.,800.],\n",
    ")"
   ]
  },
  {
   "cell_type": "code",
   "execution_count": 29,
   "metadata": {},
   "outputs": [
    {
     "name": "stderr",
     "output_type": "stream",
     "text": [
      "16:03 madminer.fisherinfor INFO    Bins with largest statistical uncertainties on rates:\n",
      "16:03 madminer.fisherinfor INFO      Bin (4, 2): (0.00001 +/- 0.00001) fb (100 %)\n",
      "16:03 madminer.fisherinfor INFO      Bin (2, 1): (0.00447 +/- 0.00038) fb (9 %)\n",
      "16:03 madminer.fisherinfor INFO      Bin (2, 5): (0.01450 +/- 0.00069) fb (5 %)\n",
      "16:03 madminer.fisherinfor INFO      Bin (4, 7): (0.03818 +/- 0.00094) fb (2 %)\n",
      "16:03 madminer.fisherinfor INFO      Bin (3, 2): (0.06938 +/- 0.00147) fb (2 %)\n"
     ]
    }
   ],
   "source": [
    "fi_imp_stxs_wph_e_mean, fi_imp_stxs_wph_e_covariance = fisher_wph_e_wbkgs_met.calculate_fisher_information_hist2d(\n",
    "    theta=[0.,0.,0.,0.],\n",
    "    luminosity=uselumi*1000.,\n",
    "    observable1='pt_w',\n",
    "    bins1=[0.,75.,150.,250.,400.,600.],\n",
    "    histrange1=[0.,600.],\n",
    "    observable2='mt_tot',\n",
    "    bins2=[0.,400.,800.],\n",
    "    histrange2=[0.,800.],\n",
    ")"
   ]
  },
  {
   "cell_type": "code",
   "execution_count": 30,
   "metadata": {},
   "outputs": [
    {
     "name": "stderr",
     "output_type": "stream",
     "text": [
      "16:17 madminer.fisherinfor INFO    Bins with largest statistical uncertainties on rates:\n",
      "16:17 madminer.fisherinfor INFO      Bin (2, 1): (0.00208 +/- 0.00022) fb (10 %)\n",
      "16:17 madminer.fisherinfor INFO      Bin (2, 5): (0.00685 +/- 0.00039) fb (6 %)\n",
      "16:17 madminer.fisherinfor INFO      Bin (4, 7): (0.01469 +/- 0.00047) fb (3 %)\n",
      "16:17 madminer.fisherinfor INFO      Bin (3, 2): (0.03802 +/- 0.00090) fb (2 %)\n",
      "16:17 madminer.fisherinfor INFO      Bin (4, 3): (0.14638 +/- 0.00154) fb (1 %)\n"
     ]
    }
   ],
   "source": [
    "fi_imp_stxs_wmh_mu_mean, fi_imp_stxs_wmh_mu_covariance = fisher_wmh_mu_wbkgs_met.calculate_fisher_information_hist2d(\n",
    "    theta=[0.,0.,0.,0.],\n",
    "    luminosity=uselumi*1000.,\n",
    "    observable1='pt_w',\n",
    "    bins1=[0.,75.,150.,250.,400.,600.],\n",
    "    histrange1=[0.,600.],\n",
    "    observable2='mt_tot',\n",
    "    bins2=[0.,400.,800.],\n",
    "    histrange2=[0.,800.],\n",
    ")"
   ]
  },
  {
   "cell_type": "code",
   "execution_count": 31,
   "metadata": {},
   "outputs": [
    {
     "name": "stderr",
     "output_type": "stream",
     "text": [
      "16:31 madminer.fisherinfor INFO    Bins with largest statistical uncertainties on rates:\n",
      "16:31 madminer.fisherinfor INFO      Bin (4, 2): (0.00002 +/- 0.00002) fb (100 %)\n",
      "16:31 madminer.fisherinfor INFO      Bin (2, 1): (0.00200 +/- 0.00021) fb (11 %)\n",
      "16:31 madminer.fisherinfor INFO      Bin (2, 5): (0.00680 +/- 0.00039) fb (6 %)\n",
      "16:31 madminer.fisherinfor INFO      Bin (4, 7): (0.01431 +/- 0.00046) fb (3 %)\n",
      "16:31 madminer.fisherinfor INFO      Bin (3, 2): (0.03874 +/- 0.00091) fb (2 %)\n"
     ]
    }
   ],
   "source": [
    "fi_imp_stxs_wmh_e_mean, fi_imp_stxs_wmh_e_covariance = fisher_wmh_e_wbkgs_met.calculate_fisher_information_hist2d(\n",
    "    theta=[0.,0.,0.,0.],\n",
    "    luminosity=uselumi*1000.,\n",
    "    observable1='pt_w',\n",
    "    bins1=[0.,75.,150.,250.,400.,600.],\n",
    "    histrange1=[0.,600.],\n",
    "    observable2='mt_tot',\n",
    "    bins2=[0.,400.,800.],\n",
    "    histrange2=[0.,800.],\n",
    ")"
   ]
  },
  {
   "cell_type": "code",
   "execution_count": 32,
   "metadata": {
    "collapsed": true,
    "scrolled": true
   },
   "outputs": [],
   "source": [
    "fi_imp_stxs_mean = fi_imp_stxs_wph_mu_mean + fi_imp_stxs_wph_e_mean + fi_imp_stxs_wmh_mu_mean + fi_imp_stxs_wmh_e_mean\n",
    "fi_imp_stxs_covariance = fi_imp_stxs_wph_mu_covariance + fi_imp_stxs_wph_e_covariance + fi_imp_stxs_wmh_mu_covariance + fi_imp_stxs_wmh_e_covariance"
   ]
  },
  {
   "cell_type": "markdown",
   "metadata": {},
   "source": [
    "### Save the Arrays for Later"
   ]
  },
  {
   "cell_type": "code",
   "execution_count": 33,
   "metadata": {
    "collapsed": true,
    "scrolled": true
   },
   "outputs": [],
   "source": [
    "fi_hist_2d_outfile = './fisher_info/fi_hist_2d.npz'\n",
    "fi_hist_2d_cov_outfile = './fisher_info/fi_hist_2d_cov.npz'\n",
    "\n",
    "fi_hist_2d_list = [\n",
    "    fi_imp_stxs_wph_mu_mean, \n",
    "    fi_imp_stxs_wph_e_mean, \n",
    "    fi_imp_stxs_wmh_mu_mean, \n",
    "    fi_imp_stxs_wmh_e_mean, \n",
    "]\n",
    "\n",
    "fi_hist_2d_cov_list = [\n",
    "    fi_imp_stxs_wph_mu_covariance,\n",
    "    fi_imp_stxs_wph_e_covariance,\n",
    "    fi_imp_stxs_wmh_mu_covariance,\n",
    "    fi_imp_stxs_wmh_e_covariance,\n",
    "]"
   ]
  },
  {
   "cell_type": "code",
   "execution_count": 34,
   "metadata": {
    "collapsed": true,
    "scrolled": true
   },
   "outputs": [],
   "source": [
    "np.savez(fi_hist_2d_outfile, fi_hist_2d_list, allow_pickle=False)\n",
    "np.savez(fi_hist_2d_cov_outfile, fi_hist_2d_cov_list, allow_pickle=False)"
   ]
  }
 ],
 "metadata": {
  "kernelspec": {
   "display_name": "Python 2",
   "language": "python",
   "name": "python2"
  },
  "language_info": {
   "codemirror_mode": {
    "name": "ipython",
    "version": 2
   },
   "file_extension": ".py",
   "mimetype": "text/x-python",
   "name": "python",
   "nbconvert_exporter": "python",
   "pygments_lexer": "ipython2",
   "version": "2.7.14"
  },
  "toc": {
   "base_numbering": 1,
   "nav_menu": {},
   "number_sections": true,
   "sideBar": true,
   "skip_h1_title": false,
   "title_cell": "Table of Contents",
   "title_sidebar": "Contents",
   "toc_cell": false,
   "toc_position": {},
   "toc_section_display": true,
   "toc_window_display": false
  }
 },
 "nbformat": 4,
 "nbformat_minor": 2
}
